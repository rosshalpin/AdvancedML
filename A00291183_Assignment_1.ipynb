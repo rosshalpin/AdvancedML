{
  "nbformat": 4,
  "nbformat_minor": 0,
  "metadata": {
    "colab": {
      "name": "A00291183_Assignment_1.ipynb",
      "provenance": [],
      "collapsed_sections": [],
      "authorship_tag": "ABX9TyO6Kbew1fkNN/PSm/qvRus+",
      "include_colab_link": true
    },
    "kernelspec": {
      "name": "python3",
      "display_name": "Python 3"
    },
    "language_info": {
      "name": "python"
    }
  },
  "cells": [
    {
      "cell_type": "markdown",
      "metadata": {
        "id": "view-in-github",
        "colab_type": "text"
      },
      "source": [
        "<a href=\"https://colab.research.google.com/github/rosshalpin/AdvancedML/blob/main/A00291183_Assignment_1.ipynb\" target=\"_parent\"><img src=\"https://colab.research.google.com/assets/colab-badge.svg\" alt=\"Open In Colab\"/></a>"
      ]
    },
    {
      "cell_type": "markdown",
      "source": [
        "## Student Name: Ross Halpin\n",
        "## Student ID: A00291183\n",
        "\n",
        "### Twitter Data Sentiment Analysis using tweepy to obtain tweets, then cleaning data and building an SVM and DNN with some comparison to Vader model. "
      ],
      "metadata": {
        "id": "Vl55CY7bKPLA"
      }
    },
    {
      "cell_type": "code",
      "execution_count": 1,
      "metadata": {
        "colab": {
          "base_uri": "https://localhost:8080/",
          "height": 0
        },
        "id": "r1F0O5pFNCMb",
        "outputId": "33244281-3f2e-4994-a65f-918f545ed71c"
      },
      "outputs": [
        {
          "output_type": "stream",
          "name": "stdout",
          "text": [
            "/\n",
            "Mounted at /content/gdrive\n",
            "/content/gdrive/My Drive/AdvancedML\n"
          ]
        }
      ],
      "source": [
        "%cd ..\n",
        "from google.colab import drive\n",
        "drive.mount('/content/gdrive')\n",
        "!ln -s /content/gdrive/My\\ Drive/ /mydrive\n",
        "%cd /mydrive/AdvancedML/"
      ]
    },
    {
      "cell_type": "code",
      "source": [
        "!pip install tweepy --upgrade"
      ],
      "metadata": {
        "colab": {
          "base_uri": "https://localhost:8080/"
        },
        "id": "edkQxAnONHUE",
        "outputId": "b5b3ac59-25f8-4a95-c298-79a30a26cfd9"
      },
      "execution_count": null,
      "outputs": [
        {
          "output_type": "stream",
          "name": "stdout",
          "text": [
            "Requirement already satisfied: tweepy in /usr/local/lib/python3.7/dist-packages (4.8.0)\n",
            "Requirement already satisfied: requests<3,>=2.27.0 in /usr/local/lib/python3.7/dist-packages (from tweepy) (2.27.1)\n",
            "Requirement already satisfied: requests-oauthlib<2,>=1.2.0 in /usr/local/lib/python3.7/dist-packages (from tweepy) (1.3.1)\n",
            "Requirement already satisfied: oauthlib<4,>=3.2.0 in /usr/local/lib/python3.7/dist-packages (from tweepy) (3.2.0)\n",
            "Requirement already satisfied: charset-normalizer~=2.0.0 in /usr/local/lib/python3.7/dist-packages (from requests<3,>=2.27.0->tweepy) (2.0.12)\n",
            "Requirement already satisfied: idna<4,>=2.5 in /usr/local/lib/python3.7/dist-packages (from requests<3,>=2.27.0->tweepy) (2.10)\n",
            "Requirement already satisfied: certifi>=2017.4.17 in /usr/local/lib/python3.7/dist-packages (from requests<3,>=2.27.0->tweepy) (2021.10.8)\n",
            "Requirement already satisfied: urllib3<1.27,>=1.21.1 in /usr/local/lib/python3.7/dist-packages (from requests<3,>=2.27.0->tweepy) (1.24.3)\n"
          ]
        }
      ]
    },
    {
      "cell_type": "code",
      "source": [
        "%cd /mydrive/AdvancedML/"
      ],
      "metadata": {
        "colab": {
          "base_uri": "https://localhost:8080/"
        },
        "id": "7bZc_ZKeNffM",
        "outputId": "b1500fab-dafc-41a0-dee1-6fcfb931867d"
      },
      "execution_count": null,
      "outputs": [
        {
          "output_type": "stream",
          "name": "stdout",
          "text": [
            "/content/gdrive/My Drive/AdvancedML\n"
          ]
        }
      ]
    },
    {
      "cell_type": "code",
      "source": [
        "import tweepy\n",
        "import pandas as pd\n",
        "import pickle\n",
        "\n",
        "def pre_process_text(text: str) -> str:\n",
        "    text = text.replace(\"\\n\", \" \").replace(\"\\t\", \" \") # removing newlines and tabs\n",
        "    return text.strip()\n",
        "\n",
        "def obtain_tweets(topic, max=10, limit=10):\n",
        "  with open('bearer.txt', 'r') as file:\n",
        "    BEARER_TOKEN = file.read().rstrip()\n",
        "\n",
        "  client = tweepy.Client(bearer_token=BEARER_TOKEN)\n",
        "\n",
        "  tweet_paginator = tweepy.Paginator(client.search_recent_tweets,\n",
        "                                query=f\"{topic} -is:retweet lang:en\",\n",
        "                                tweet_fields=[\n",
        "                                  \"created_at\", \n",
        "                                  \"possibly_sensitive\", \n",
        "                                  \"public_metrics\",\n",
        "                                ],\n",
        "                                place_fields=[\n",
        "                                  \"full_name\",\n",
        "                                  \"geo\",\n",
        "                                  \"country\",\n",
        "                                  \"country_code\"    \n",
        "                                ],\n",
        "                                expansions=\"geo.place_id\",\n",
        "                                max_results=max,\n",
        "                                limit=limit)\n",
        "\n",
        "  responses = []\n",
        "  for resp in tweet_paginator:\n",
        "    responses.append(resp)\n",
        "\n",
        "  found_places = {}\n",
        "\n",
        "  for resp in responses:\n",
        "    places = resp.includes.get('places')\n",
        "    if places:\n",
        "      for place in places:\n",
        "        found_places[place.id] = place\n",
        "\n",
        "  tweets = []\n",
        "\n",
        "  for resp in responses:\n",
        "    for tweet in resp.data:\n",
        "      if tweet.geo:\n",
        "        place_id = tweet.geo.get('place_id')\n",
        "        coords = found_places[place_id].geo.get('bbox')\n",
        "        lon = (coords[0]+coords[2])/2\n",
        "        lat = (coords[1]+coords[3])/2\n",
        "        new_tweet = [\n",
        "            found_places[place_id].full_name,\n",
        "            f\"{lat:.2f},{lon:.2f}\",\n",
        "            tweet.created_at, \n",
        "            tweet.possibly_sensitive, \n",
        "            tweet.public_metrics.get('retweet_count'), \n",
        "            tweet.public_metrics.get('reply_count'),\n",
        "            tweet.public_metrics.get('like_count'),\n",
        "            tweet.public_metrics.get('quote_count'),\n",
        "            pre_process_text(tweet.text),\n",
        "        ]\n",
        "        tweets.append(new_tweet)\n",
        "\n",
        "\n",
        "  for resp in responses:\n",
        "    for tweet in resp.data:\n",
        "      if not tweet.geo and len(tweets) < (max*limit):\n",
        "        new_tweet = [\n",
        "          None,\n",
        "          None,\n",
        "          tweet.created_at,\n",
        "          tweet.possibly_sensitive,\n",
        "          tweet.public_metrics.get('retweet_count'), \n",
        "          tweet.public_metrics.get('reply_count'),\n",
        "          tweet.public_metrics.get('like_count'),\n",
        "          tweet.public_metrics.get('quote_count'),\n",
        "          pre_process_text(tweet.text),\n",
        "        ]\n",
        "        tweets.append(new_tweet)\n",
        "\n",
        "  columns = [\"place\", \"coords\", \"created_at\", \"possibly_sensitive\", \"retweet_count\", \"reply_count\", \"like_count\", \"quote_count\", \"text\"]\n",
        "  df = pd.DataFrame(tweets, columns=columns)\n",
        "  return df"
      ],
      "metadata": {
        "id": "KT08w2azNgNx"
      },
      "execution_count": null,
      "outputs": []
    },
    {
      "cell_type": "code",
      "source": [
        "# df = obtain_tweets(\"Lewis Hamilton\", 50, 50)"
      ],
      "metadata": {
        "id": "Nn1pcx03Oq3q"
      },
      "execution_count": null,
      "outputs": []
    },
    {
      "cell_type": "code",
      "source": [
        "# %cd /mydrive/AdvancedML/"
      ],
      "metadata": {
        "id": "U3gKDv7MSVeH"
      },
      "execution_count": null,
      "outputs": []
    },
    {
      "cell_type": "code",
      "source": [
        "# import time, csv\n",
        "# epoch_time = int(time.time())\n",
        "\n",
        "# df.to_csv(\"tweets.{}.csv\".format(epoch_time), \n",
        "#           header=list(df.columns), \n",
        "#           index=False, \n",
        "#           escapechar=\"\\\\\", \n",
        "#           encoding='utf-8',\n",
        "#           quoting=csv.QUOTE_ALL)"
      ],
      "metadata": {
        "id": "w_NJKRvrSNi3"
      },
      "execution_count": null,
      "outputs": []
    },
    {
      "cell_type": "code",
      "source": [
        "try:\n",
        "  df = pd.read_csv(\"tweets.1650486802.csv\")\n",
        "except:\n",
        "  df = None"
      ],
      "metadata": {
        "id": "RQPQ9tcaPaLr"
      },
      "execution_count": null,
      "outputs": []
    },
    {
      "cell_type": "code",
      "source": [
        "df.head()"
      ],
      "metadata": {
        "colab": {
          "base_uri": "https://localhost:8080/",
          "height": 206
        },
        "id": "WvkgHUW2PzKM",
        "outputId": "39e22ea1-ccfb-4009-b699-a82772a08cf6"
      },
      "execution_count": null,
      "outputs": [
        {
          "output_type": "execute_result",
          "data": {
            "text/plain": [
              "                                       place         coords  \\\n",
              "0  Port Blandford, Newfoundland and Labrador   48.36,-54.18   \n",
              "1                          Coventry, England    52.41,-1.52   \n",
              "2                          Tamworth, England    52.62,-1.68   \n",
              "3                    Sydney, New South Wales  -33.85,150.93   \n",
              "4                              Potchefstroom   -26.26,28.00   \n",
              "\n",
              "                  created_at  possibly_sensitive  retweet_count  reply_count  \\\n",
              "0  2022-04-20 20:18:29+00:00               False              0            0   \n",
              "1  2022-04-20 17:37:06+00:00               False              4            1   \n",
              "2  2022-04-20 12:51:05+00:00               False              0            2   \n",
              "3  2022-04-20 09:46:10+00:00               False              0            0   \n",
              "4  2022-04-20 04:48:19+00:00               False             51            2   \n",
              "\n",
              "   like_count  quote_count                                               text  \\\n",
              "0           0            0  @lemieuxdavid I’m curious where that Baba O’Re...   \n",
              "1          43            0  Lewis Hamilton Fuji 2007…  Another one of his ...   \n",
              "2           5            0  @MattyWTF1 Fans being openly contemptuous towa...   \n",
              "3           0            0  @MattyWTF1 Carlos Sainz contract negotiations ...   \n",
              "4          51            0  Revamp your Cv  + Cover letter to attract recr...   \n",
              "\n",
              "  sentiment  \n",
              "0  positive  \n",
              "1  positive  \n",
              "2  negative  \n",
              "3   neutral  \n",
              "4   neutral  "
            ],
            "text/html": [
              "\n",
              "  <div id=\"df-ea49e943-d827-40dd-904b-4b72da791f40\">\n",
              "    <div class=\"colab-df-container\">\n",
              "      <div>\n",
              "<style scoped>\n",
              "    .dataframe tbody tr th:only-of-type {\n",
              "        vertical-align: middle;\n",
              "    }\n",
              "\n",
              "    .dataframe tbody tr th {\n",
              "        vertical-align: top;\n",
              "    }\n",
              "\n",
              "    .dataframe thead th {\n",
              "        text-align: right;\n",
              "    }\n",
              "</style>\n",
              "<table border=\"1\" class=\"dataframe\">\n",
              "  <thead>\n",
              "    <tr style=\"text-align: right;\">\n",
              "      <th></th>\n",
              "      <th>place</th>\n",
              "      <th>coords</th>\n",
              "      <th>created_at</th>\n",
              "      <th>possibly_sensitive</th>\n",
              "      <th>retweet_count</th>\n",
              "      <th>reply_count</th>\n",
              "      <th>like_count</th>\n",
              "      <th>quote_count</th>\n",
              "      <th>text</th>\n",
              "      <th>sentiment</th>\n",
              "    </tr>\n",
              "  </thead>\n",
              "  <tbody>\n",
              "    <tr>\n",
              "      <th>0</th>\n",
              "      <td>Port Blandford, Newfoundland and Labrador</td>\n",
              "      <td>48.36,-54.18</td>\n",
              "      <td>2022-04-20 20:18:29+00:00</td>\n",
              "      <td>False</td>\n",
              "      <td>0</td>\n",
              "      <td>0</td>\n",
              "      <td>0</td>\n",
              "      <td>0</td>\n",
              "      <td>@lemieuxdavid I’m curious where that Baba O’Re...</td>\n",
              "      <td>positive</td>\n",
              "    </tr>\n",
              "    <tr>\n",
              "      <th>1</th>\n",
              "      <td>Coventry, England</td>\n",
              "      <td>52.41,-1.52</td>\n",
              "      <td>2022-04-20 17:37:06+00:00</td>\n",
              "      <td>False</td>\n",
              "      <td>4</td>\n",
              "      <td>1</td>\n",
              "      <td>43</td>\n",
              "      <td>0</td>\n",
              "      <td>Lewis Hamilton Fuji 2007…  Another one of his ...</td>\n",
              "      <td>positive</td>\n",
              "    </tr>\n",
              "    <tr>\n",
              "      <th>2</th>\n",
              "      <td>Tamworth, England</td>\n",
              "      <td>52.62,-1.68</td>\n",
              "      <td>2022-04-20 12:51:05+00:00</td>\n",
              "      <td>False</td>\n",
              "      <td>0</td>\n",
              "      <td>2</td>\n",
              "      <td>5</td>\n",
              "      <td>0</td>\n",
              "      <td>@MattyWTF1 Fans being openly contemptuous towa...</td>\n",
              "      <td>negative</td>\n",
              "    </tr>\n",
              "    <tr>\n",
              "      <th>3</th>\n",
              "      <td>Sydney, New South Wales</td>\n",
              "      <td>-33.85,150.93</td>\n",
              "      <td>2022-04-20 09:46:10+00:00</td>\n",
              "      <td>False</td>\n",
              "      <td>0</td>\n",
              "      <td>0</td>\n",
              "      <td>0</td>\n",
              "      <td>0</td>\n",
              "      <td>@MattyWTF1 Carlos Sainz contract negotiations ...</td>\n",
              "      <td>neutral</td>\n",
              "    </tr>\n",
              "    <tr>\n",
              "      <th>4</th>\n",
              "      <td>Potchefstroom</td>\n",
              "      <td>-26.26,28.00</td>\n",
              "      <td>2022-04-20 04:48:19+00:00</td>\n",
              "      <td>False</td>\n",
              "      <td>51</td>\n",
              "      <td>2</td>\n",
              "      <td>51</td>\n",
              "      <td>0</td>\n",
              "      <td>Revamp your Cv  + Cover letter to attract recr...</td>\n",
              "      <td>neutral</td>\n",
              "    </tr>\n",
              "  </tbody>\n",
              "</table>\n",
              "</div>\n",
              "      <button class=\"colab-df-convert\" onclick=\"convertToInteractive('df-ea49e943-d827-40dd-904b-4b72da791f40')\"\n",
              "              title=\"Convert this dataframe to an interactive table.\"\n",
              "              style=\"display:none;\">\n",
              "        \n",
              "  <svg xmlns=\"http://www.w3.org/2000/svg\" height=\"24px\"viewBox=\"0 0 24 24\"\n",
              "       width=\"24px\">\n",
              "    <path d=\"M0 0h24v24H0V0z\" fill=\"none\"/>\n",
              "    <path d=\"M18.56 5.44l.94 2.06.94-2.06 2.06-.94-2.06-.94-.94-2.06-.94 2.06-2.06.94zm-11 1L8.5 8.5l.94-2.06 2.06-.94-2.06-.94L8.5 2.5l-.94 2.06-2.06.94zm10 10l.94 2.06.94-2.06 2.06-.94-2.06-.94-.94-2.06-.94 2.06-2.06.94z\"/><path d=\"M17.41 7.96l-1.37-1.37c-.4-.4-.92-.59-1.43-.59-.52 0-1.04.2-1.43.59L10.3 9.45l-7.72 7.72c-.78.78-.78 2.05 0 2.83L4 21.41c.39.39.9.59 1.41.59.51 0 1.02-.2 1.41-.59l7.78-7.78 2.81-2.81c.8-.78.8-2.07 0-2.86zM5.41 20L4 18.59l7.72-7.72 1.47 1.35L5.41 20z\"/>\n",
              "  </svg>\n",
              "      </button>\n",
              "      \n",
              "  <style>\n",
              "    .colab-df-container {\n",
              "      display:flex;\n",
              "      flex-wrap:wrap;\n",
              "      gap: 12px;\n",
              "    }\n",
              "\n",
              "    .colab-df-convert {\n",
              "      background-color: #E8F0FE;\n",
              "      border: none;\n",
              "      border-radius: 50%;\n",
              "      cursor: pointer;\n",
              "      display: none;\n",
              "      fill: #1967D2;\n",
              "      height: 32px;\n",
              "      padding: 0 0 0 0;\n",
              "      width: 32px;\n",
              "    }\n",
              "\n",
              "    .colab-df-convert:hover {\n",
              "      background-color: #E2EBFA;\n",
              "      box-shadow: 0px 1px 2px rgba(60, 64, 67, 0.3), 0px 1px 3px 1px rgba(60, 64, 67, 0.15);\n",
              "      fill: #174EA6;\n",
              "    }\n",
              "\n",
              "    [theme=dark] .colab-df-convert {\n",
              "      background-color: #3B4455;\n",
              "      fill: #D2E3FC;\n",
              "    }\n",
              "\n",
              "    [theme=dark] .colab-df-convert:hover {\n",
              "      background-color: #434B5C;\n",
              "      box-shadow: 0px 1px 3px 1px rgba(0, 0, 0, 0.15);\n",
              "      filter: drop-shadow(0px 1px 2px rgba(0, 0, 0, 0.3));\n",
              "      fill: #FFFFFF;\n",
              "    }\n",
              "  </style>\n",
              "\n",
              "      <script>\n",
              "        const buttonEl =\n",
              "          document.querySelector('#df-ea49e943-d827-40dd-904b-4b72da791f40 button.colab-df-convert');\n",
              "        buttonEl.style.display =\n",
              "          google.colab.kernel.accessAllowed ? 'block' : 'none';\n",
              "\n",
              "        async function convertToInteractive(key) {\n",
              "          const element = document.querySelector('#df-ea49e943-d827-40dd-904b-4b72da791f40');\n",
              "          const dataTable =\n",
              "            await google.colab.kernel.invokeFunction('convertToInteractive',\n",
              "                                                     [key], {});\n",
              "          if (!dataTable) return;\n",
              "\n",
              "          const docLinkHtml = 'Like what you see? Visit the ' +\n",
              "            '<a target=\"_blank\" href=https://colab.research.google.com/notebooks/data_table.ipynb>data table notebook</a>'\n",
              "            + ' to learn more about interactive tables.';\n",
              "          element.innerHTML = '';\n",
              "          dataTable['output_type'] = 'display_data';\n",
              "          await google.colab.output.renderOutput(dataTable, element);\n",
              "          const docLink = document.createElement('div');\n",
              "          docLink.innerHTML = docLinkHtml;\n",
              "          element.appendChild(docLink);\n",
              "        }\n",
              "      </script>\n",
              "    </div>\n",
              "  </div>\n",
              "  "
            ]
          },
          "metadata": {},
          "execution_count": 9
        }
      ]
    },
    {
      "cell_type": "code",
      "source": [
        "df.shape"
      ],
      "metadata": {
        "colab": {
          "base_uri": "https://localhost:8080/"
        },
        "id": "7PNgN7aeP2Lo",
        "outputId": "f98e5bc9-3759-4e73-d971-2ceca06c4fc7"
      },
      "execution_count": null,
      "outputs": [
        {
          "output_type": "execute_result",
          "data": {
            "text/plain": [
              "(2500, 10)"
            ]
          },
          "metadata": {},
          "execution_count": 10
        }
      ]
    },
    {
      "cell_type": "code",
      "source": [
        "import matplotlib.pyplot as plt\n",
        "\n",
        "def print_sentiment_breakdown(sentiments, title):\n",
        "  label_colors = {\n",
        "      \"neutral\": \"lightgrey\",\n",
        "      \"negative\": \"orangered\",\n",
        "      \"positive\": \"lightgreen\"\n",
        "  }\n",
        "\n",
        "  sent_counts = sentiments.value_counts(normalize=True) * 100\n",
        "  label = sent_counts.keys()\n",
        "  color= [label_colors[l] for l in label]\n",
        "  plt.pie(sent_counts, labels=label, colors = color, autopct='%.0f%%')\n",
        "  plt.title(title)\n",
        "  plt.show()"
      ],
      "metadata": {
        "id": "ZUoxGd4OQOab"
      },
      "execution_count": null,
      "outputs": []
    },
    {
      "cell_type": "code",
      "source": [
        "print_sentiment_breakdown(df.sentiment, \"Normalised Sentiment breakdown of dataset\")"
      ],
      "metadata": {
        "colab": {
          "base_uri": "https://localhost:8080/",
          "height": 264
        },
        "id": "J5Yt_fUMRTcz",
        "outputId": "8d4f981c-b30c-46e3-c6e3-af80eed464b2"
      },
      "execution_count": null,
      "outputs": [
        {
          "output_type": "display_data",
          "data": {
            "text/plain": [
              "<Figure size 432x288 with 1 Axes>"
            ],
            "image/png": "[encoded data removed]"
          },
          "metadata": {}
        }
      ]
    },
    {
      "cell_type": "code",
      "source": [
        "import nltk\n",
        "from nltk.corpus import stopwords\n",
        "from nltk.stem import SnowballStemmer\n",
        "from nltk.tokenize import TweetTokenizer\n",
        "\n",
        "nltk.download('stopwords')\n",
        "\n",
        "tweet_tokenizer = TweetTokenizer()\n",
        "\n",
        "stop_words = set(stopwords.words(\"english\"))"
      ],
      "metadata": {
        "colab": {
          "base_uri": "https://localhost:8080/"
        },
        "id": "g7O-3Q3gPQAn",
        "outputId": "81c5096a-093a-44e9-dc26-8d022a1bb1cf"
      },
      "execution_count": null,
      "outputs": [
        {
          "output_type": "stream",
          "name": "stdout",
          "text": [
            "[nltk_data] Downloading package stopwords to /root/nltk_data...\n",
            "[nltk_data]   Package stopwords is already up-to-date!\n"
          ]
        }
      ]
    },
    {
      "cell_type": "markdown",
      "source": [
        "# Data Cleanup"
      ],
      "metadata": {
        "id": "NgBtc20yG272"
      }
    },
    {
      "cell_type": "code",
      "source": [
        "import re\n",
        "import string\n",
        "\n",
        "def cleanup_data(df):\n",
        "\n",
        "  def remove_usernames(text):\n",
        "    return re.sub(r'@([^\\s]+)', '', text)\n",
        "\n",
        "  def remove_long_whitespace(text):\n",
        "    text = text.strip()\n",
        "    return re.sub(r'\\s{2,}', '', text)\n",
        "\n",
        "  def remove_numbers(text):\n",
        "    return re.sub(r'\\d+', '', text)\n",
        "\n",
        "  def remove_hyperlinks(text):\n",
        "    return re.sub(r'http\\S+|www.\\S+|https', '', text)\n",
        "\n",
        "  def tokenize(input): \n",
        "    return tweet_tokenizer.tokenize(input)\n",
        "\n",
        "  def remove_stop_words(text):\n",
        "    tokens = tokenize(text)\n",
        "    longest_tokens  =[x for x in tokens if len(x)>1]\n",
        "\n",
        "    cleaned = [word for word in longest_tokens if word not in stop_words]\n",
        "    return \" \".join(cleaned)\n",
        "\n",
        "  def remove_punc(text):\n",
        "    return text.translate(str.maketrans('', '', string.punctuation))\n",
        "\n",
        "\n",
        "  df.text = df.text.apply(remove_usernames) # removing usernames\n",
        "  df.text = df.text.apply(remove_hyperlinks) # removing hyperlinks\n",
        "  df = df.drop(df.query('sentiment == \"neutral\"').sample(frac=.64, random_state=109).index) # evening out the number of neutral samples by random removing a percentage\n",
        "  df.replace({r'[^\\x00-\\x7F]+':''}, regex=True, inplace=True) # removing any errant unicode\n",
        "  df = df.drop_duplicates()\n",
        "  df = df.drop_duplicates(subset='text', keep=\"first\")\n",
        "  df.text = df.text.apply(remove_long_whitespace) # removing long whitespace\n",
        "  df.text = df.text.apply(remove_numbers)\n",
        "  df.text = df.text.str.lower()\n",
        "  # df.text = df.text.apply(remove_stop_words)\n",
        "  # df.text = df.text.apply(remove_punc)\n",
        "\n",
        "  return df"
      ],
      "metadata": {
        "id": "Q3svbbq6P6lo"
      },
      "execution_count": null,
      "outputs": []
    },
    {
      "cell_type": "code",
      "source": [
        "df = cleanup_data(df)"
      ],
      "metadata": {
        "id": "DndRqYlLQNW5"
      },
      "execution_count": null,
      "outputs": []
    },
    {
      "cell_type": "code",
      "source": [
        "# import time, csv\n",
        "# epoch_time = int(time.time())\n",
        "# df.to_csv(\"cleaned_tweets.{}.csv\".format(epoch_time), \n",
        "#           header=list(df.columns), \n",
        "#           index=False, \n",
        "#           escapechar=\"\\\\\", \n",
        "#           encoding='utf-8',\n",
        "#           quoting=csv.QUOTE_ALL)"
      ],
      "metadata": {
        "id": "Z2_0ATPgsrxL"
      },
      "execution_count": null,
      "outputs": []
    },
    {
      "cell_type": "code",
      "source": [
        "print_sentiment_breakdown(df.sentiment, \"Normalised Sentiment breakdown of dataset after cleanup\")"
      ],
      "metadata": {
        "colab": {
          "base_uri": "https://localhost:8080/",
          "height": 264
        },
        "id": "Euj-C5HxReVG",
        "outputId": "5484a692-e093-4ed2-df03-10b484e6008d"
      },
      "execution_count": null,
      "outputs": [
        {
          "output_type": "display_data",
          "data": {
            "text/plain": [
              "<Figure size 432x288 with 1 Axes>"
            ],
            "image/png": "[encoded data removed]"
          },
          "metadata": {}
        }
      ]
    },
    {
      "cell_type": "code",
      "source": [
        "df.shape"
      ],
      "metadata": {
        "colab": {
          "base_uri": "https://localhost:8080/"
        },
        "id": "xTviK1T0R5A8",
        "outputId": "a67d82df-0e3b-49a5-cdc2-991130291aac"
      },
      "execution_count": null,
      "outputs": [
        {
          "output_type": "execute_result",
          "data": {
            "text/plain": [
              "(1455, 10)"
            ]
          },
          "metadata": {},
          "execution_count": 18
        }
      ]
    },
    {
      "cell_type": "markdown",
      "source": [
        "# SVM Sentiment Classifier"
      ],
      "metadata": {
        "id": "KzK5hZreVHAn"
      }
    },
    {
      "cell_type": "code",
      "source": [
        "import numpy as np\n",
        "import matplotlib.pyplot as plt\n",
        "from sklearn.datasets import load_digits\n",
        "from sklearn.model_selection import learning_curve\n",
        "\n",
        "\n",
        "def plot_learning_curve(\n",
        "    estimator,\n",
        "    title,\n",
        "    X,\n",
        "    y,\n",
        "    axes=None,\n",
        "    ylim=None,\n",
        "    cv=None,\n",
        "    n_jobs=None,\n",
        "    train_sizes=np.linspace(0.1, 1.0, 5),\n",
        "):\n",
        "    _, (ax) = plt.subplots(1, 1, figsize=(20, 5))\n",
        "    ax.set_ylim(*ylim)\n",
        "    ax.set_title(title)\n",
        "    ax.set_xlabel(\"training sample\")\n",
        "    ax.set_ylabel(\"score\")\n",
        "\n",
        "    train_sizes, train_scores, test_scores, fit_times, _ = learning_curve(\n",
        "        estimator, X, y,\n",
        "        cv=cv,\n",
        "        n_jobs=n_jobs,\n",
        "        train_sizes=train_sizes,\n",
        "        return_times=True,\n",
        "    )\n",
        "    # with open('svm_lc.pickle', 'wb') as handle:\n",
        "    #     pickle.dump([train_sizes, train_scores, test_scores, fit_times], handle, protocol=pickle.HIGHEST_PROTOCOL)\n",
        "    train_scores_mean = np.mean(train_scores, axis=1)\n",
        "    train_scores_std = np.std(train_scores, axis=1)\n",
        "    test_scores_mean = np.mean(test_scores, axis=1)\n",
        "    test_scores_std = np.std(test_scores, axis=1)\n",
        "    fit_times_mean = np.mean(fit_times, axis=1)\n",
        "    fit_times_std = np.std(fit_times, axis=1)\n",
        "\n",
        "    ax.grid()\n",
        "    ax.fill_between(\n",
        "        train_sizes,\n",
        "        train_scores_mean - train_scores_std,\n",
        "        train_scores_mean + train_scores_std,\n",
        "        alpha=0.1,\n",
        "        color=\"r\",\n",
        "    )\n",
        "    ax.fill_between(\n",
        "        train_sizes,\n",
        "        test_scores_mean - test_scores_std,\n",
        "        test_scores_mean + test_scores_std,\n",
        "        alpha=0.1,\n",
        "        color=\"g\",\n",
        "    )\n",
        "    ax.plot(\n",
        "        train_sizes, train_scores_mean, \"o-\", color=\"r\", label=\"Training score\"\n",
        "    )\n",
        "    ax.plot(\n",
        "        train_sizes, test_scores_mean, \"o-\", color=\"g\", label=\"Cross-validation score\"\n",
        "    )\n",
        "    ax.legend(loc=\"best\")"
      ],
      "metadata": {
        "id": "4xHjFXTHVLk_"
      },
      "execution_count": null,
      "outputs": []
    },
    {
      "cell_type": "code",
      "source": [
        "import nltk\n",
        "from nltk.corpus import stopwords\n",
        "from nltk.stem import SnowballStemmer\n",
        "from nltk.tokenize import TweetTokenizer\n",
        "\n",
        "nltk.download('stopwords')\n",
        "\n",
        "tweet_tokenizer = TweetTokenizer()\n",
        "\n",
        "def tokenize(input): \n",
        "    return tweet_tokenizer.tokenize(input)\n",
        "\n",
        "def stemmer(input):\n",
        "  snow_stemmer = SnowballStemmer(\"english\")\n",
        "  return (snow_stemmer.stem(word) for word in input)"
      ],
      "metadata": {
        "colab": {
          "base_uri": "https://localhost:8080/"
        },
        "id": "7n0Lq8DbVRN6",
        "outputId": "fa658f6f-6447-4845-f52b-3bba07674e80"
      },
      "execution_count": null,
      "outputs": [
        {
          "output_type": "stream",
          "name": "stdout",
          "text": [
            "[nltk_data] Downloading package stopwords to /root/nltk_data...\n",
            "[nltk_data]   Package stopwords is already up-to-date!\n"
          ]
        }
      ]
    },
    {
      "cell_type": "code",
      "source": [
        "from sklearn import svm\n",
        "from sklearn.metrics import classification_report\n",
        "from sklearn.feature_extraction.text import TfidfVectorizer\n",
        "from sklearn.model_selection import train_test_split\n",
        "\n",
        "X_train, X_test, y_train, y_test = train_test_split(df.text, df.sentiment, test_size=0.1, random_state=431, shuffle=True)\n",
        "\n",
        "vectorizer = TfidfVectorizer(\n",
        "    lowercase = True,\n",
        "    max_features=500\n",
        ")\n",
        "\n",
        "\n",
        "X_train_vectors = vectorizer.fit_transform(X_train)\n",
        "X_test_vectors = vectorizer.transform(X_test)\n",
        "\n",
        "clf = svm.SVC(\n",
        "    kernel='linear',\n",
        ")\n",
        "clf.fit(X_train_vectors, y_train)\n",
        "y_pred = clf.predict(X_test_vectors)\n",
        "\n",
        "report = classification_report(y_test, y_pred, output_dict=True)\n",
        "print('accuracy: ', report['accuracy'])\n",
        "print('macro avg: ', report['macro avg'])\n",
        "print('positive: ', report['positive'])\n",
        "print('negative: ', report['negative'])\n",
        "print('neutral ', report['neutral'])"
      ],
      "metadata": {
        "colab": {
          "base_uri": "https://localhost:8080/"
        },
        "id": "73sLxe9-VXUg",
        "outputId": "c6fcaba8-946d-41b5-8f44-dce52c894ffd"
      },
      "execution_count": null,
      "outputs": [
        {
          "output_type": "stream",
          "name": "stdout",
          "text": [
            "accuracy:  0.6164383561643836\n",
            "macro avg:  {'precision': 0.6193964765393337, 'recall': 0.6170178216214022, 'f1-score': 0.617932034961738, 'support': 146}\n",
            "positive:  {'precision': 0.6530612244897959, 'recall': 0.6274509803921569, 'f1-score': 0.64, 'support': 51}\n",
            "negative:  {'precision': 0.6666666666666666, 'recall': 0.6521739130434783, 'f1-score': 0.6593406593406593, 'support': 46}\n",
            "neutral  {'precision': 0.5384615384615384, 'recall': 0.5714285714285714, 'f1-score': 0.5544554455445544, 'support': 49}\n"
          ]
        }
      ]
    },
    {
      "cell_type": "code",
      "source": [
        "# with open('svm.pickle', 'wb') as handle:\n",
        "#     pickle.dump([y_test, y_pred], handle, protocol=pickle.HIGHEST_PROTOCOL)"
      ],
      "metadata": {
        "id": "kyxxGC0XUuI9"
      },
      "execution_count": null,
      "outputs": []
    },
    {
      "cell_type": "code",
      "source": [
        "from sklearn.metrics import confusion_matrix, ConfusionMatrixDisplay\n",
        "\n",
        "cm = confusion_matrix(y_test, y_pred)\n",
        "cmd = ConfusionMatrixDisplay(cm, display_labels=[\"negative\", \"neutral\", \"positive\"])\n",
        "cmd.plot()"
      ],
      "metadata": {
        "colab": {
          "base_uri": "https://localhost:8080/",
          "height": 296
        },
        "id": "HBa65FcCVjKg",
        "outputId": "34cbf996-07ca-4b32-fd78-9ba8a8eee998"
      },
      "execution_count": null,
      "outputs": [
        {
          "output_type": "execute_result",
          "data": {
            "text/plain": [
              "<sklearn.metrics._plot.confusion_matrix.ConfusionMatrixDisplay at 0x7f90ec5f8d50>"
            ]
          },
          "metadata": {},
          "execution_count": 23
        },
        {
          "output_type": "display_data",
          "data": {
            "text/plain": [
              "<Figure size 432x288 with 2 Axes>"
            ],
            "image/png": "[encoded data removed]"
          },
          "metadata": {
            "needs_background": "light"
          }
        }
      ]
    },
    {
      "cell_type": "code",
      "source": [
        "pred_df = pd.DataFrame(y_pred)[0]\n",
        "print_sentiment_breakdown(pred_df, \"Normalised Sentiment breakdown of SVM Predicted Sentiment\")"
      ],
      "metadata": {
        "colab": {
          "base_uri": "https://localhost:8080/",
          "height": 264
        },
        "id": "6T053FMTV6Eg",
        "outputId": "e1755679-67ec-4123-9f99-3bd6a15a3407"
      },
      "execution_count": null,
      "outputs": [
        {
          "output_type": "display_data",
          "data": {
            "text/plain": [
              "<Figure size 432x288 with 1 Axes>"
            ],
            "image/png": "[encoded data removed]"
          },
          "metadata": {}
        }
      ]
    },
    {
      "cell_type": "code",
      "source": [
        "from sklearn.model_selection import StratifiedKFold\n",
        "\n",
        "folds = StratifiedKFold(n_splits=6, shuffle=True, random_state=1)\n",
        "\n",
        "plot_learning_curve(\n",
        "    clf, \n",
        "    \"Learning Curve\", \n",
        "    X=vectorizer.fit_transform(df.text), \n",
        "    y=df.sentiment,\n",
        "    ylim=(0.1, 1.01), \n",
        "    cv=folds, \n",
        "    n_jobs=-1,\n",
        "    train_sizes=np.linspace(0.1, 1.0, 8)\n",
        ")\n",
        "\n",
        "plt.show()"
      ],
      "metadata": {
        "colab": {
          "base_uri": "https://localhost:8080/",
          "height": 350
        },
        "id": "8KjItu2xVm8X",
        "outputId": "a5131088-ad83-4778-9633-c6aa63a6e60f"
      },
      "execution_count": null,
      "outputs": [
        {
          "output_type": "display_data",
          "data": {
            "text/plain": [
              "<Figure size 1440x360 with 1 Axes>"
            ],
            "image/png": "[encoded data removed]"
          },
          "metadata": {
            "needs_background": "light"
          }
        }
      ]
    },
    {
      "cell_type": "markdown",
      "source": [
        "# Vader Sentiment Analysis"
      ],
      "metadata": {
        "id": "S67hxWclHAm0"
      }
    },
    {
      "cell_type": "code",
      "source": [
        "!pip install vaderSentiment"
      ],
      "metadata": {
        "colab": {
          "base_uri": "https://localhost:8080/"
        },
        "id": "ZMwZ7OCQVybL",
        "outputId": "796cb914-3c13-46cb-da0e-be8baf9c4032"
      },
      "execution_count": null,
      "outputs": [
        {
          "output_type": "stream",
          "name": "stdout",
          "text": [
            "Requirement already satisfied: vaderSentiment in /usr/local/lib/python3.7/dist-packages (3.3.2)\n",
            "Requirement already satisfied: requests in /usr/local/lib/python3.7/dist-packages (from vaderSentiment) (2.27.1)\n",
            "Requirement already satisfied: urllib3<1.27,>=1.21.1 in /usr/local/lib/python3.7/dist-packages (from requests->vaderSentiment) (1.24.3)\n",
            "Requirement already satisfied: charset-normalizer~=2.0.0 in /usr/local/lib/python3.7/dist-packages (from requests->vaderSentiment) (2.0.12)\n",
            "Requirement already satisfied: certifi>=2017.4.17 in /usr/local/lib/python3.7/dist-packages (from requests->vaderSentiment) (2021.10.8)\n",
            "Requirement already satisfied: idna<4,>=2.5 in /usr/local/lib/python3.7/dist-packages (from requests->vaderSentiment) (2.10)\n"
          ]
        }
      ]
    },
    {
      "cell_type": "code",
      "source": [
        "from vaderSentiment.vaderSentiment import SentimentIntensityAnalyzer\n",
        "\n",
        "analyzer = SentimentIntensityAnalyzer()\n",
        "\n",
        "def get_sentiment(text):\n",
        "  analysis = analyzer.polarity_scores(text)\n",
        "  score = analysis[\"compound\"]\n",
        "  if score >= 0.05:\n",
        "    return \"positive\"\n",
        "  if score > -0.05 and score < 0.05:\n",
        "    return \"neutral\"\n",
        "  if score <= -0.05:\n",
        "    return \"negative\"\n",
        "\n",
        "vader_df = pd.DataFrame(X_test).apply(get_sentiment, axis=1)\n",
        "\n",
        "vader_report = classification_report(vader_df, y_test, output_dict=True)\n",
        "print('accuracy: ', vader_report['accuracy'])\n",
        "print('macro avg: ', vader_report['macro avg'])\n",
        "print('positive: ', vader_report['positive'])\n",
        "print('negative: ', vader_report['negative'])\n",
        "print('neutral ', vader_report['neutral'])"
      ],
      "metadata": {
        "colab": {
          "base_uri": "https://localhost:8080/"
        },
        "id": "yxa_V_QWVr9s",
        "outputId": "e0b533e9-b468-40ed-8cbd-30c35bb2a902"
      },
      "execution_count": null,
      "outputs": [
        {
          "output_type": "stream",
          "name": "stdout",
          "text": [
            "accuracy:  0.636986301369863\n",
            "macro avg:  {'precision': 0.634137713056237, 'recall': 0.6466060842941829, 'f1-score': 0.6299058949422466, 'support': 146}\n",
            "positive:  {'precision': 0.803921568627451, 'recall': 0.6029411764705882, 'f1-score': 0.6890756302521008, 'support': 68}\n",
            "negative:  {'precision': 0.6086956521739131, 'recall': 0.6511627906976745, 'f1-score': 0.6292134831460675, 'support': 43}\n",
            "neutral  {'precision': 0.4897959183673469, 'recall': 0.6857142857142857, 'f1-score': 0.5714285714285715, 'support': 35}\n"
          ]
        }
      ]
    },
    {
      "cell_type": "code",
      "source": [
        "print_sentiment_breakdown(vader_df, \"Normalised Sentiment breakdown of Vader Predicted Sentiment\")"
      ],
      "metadata": {
        "colab": {
          "base_uri": "https://localhost:8080/",
          "height": 264
        },
        "id": "0pXhqj4pWV0V",
        "outputId": "13255111-4f3f-46bf-d62c-ac8240ef2109"
      },
      "execution_count": null,
      "outputs": [
        {
          "output_type": "display_data",
          "data": {
            "text/plain": [
              "<Figure size 432x288 with 1 Axes>"
            ],
            "image/png": "[encoded data removed]"
          },
          "metadata": {}
        }
      ]
    },
    {
      "cell_type": "code",
      "source": [
        "cm = confusion_matrix(y_test, vader_df)\n",
        "cmd = ConfusionMatrixDisplay(cm, display_labels=[\"negative\", \"neutral\", \"positive\"])\n",
        "cmd.plot()"
      ],
      "metadata": {
        "colab": {
          "base_uri": "https://localhost:8080/",
          "height": 296
        },
        "id": "c9LWKfa3Wc6M",
        "outputId": "7cc76ad9-acda-4712-8847-a2fc5f35c622"
      },
      "execution_count": null,
      "outputs": [
        {
          "output_type": "execute_result",
          "data": {
            "text/plain": [
              "<sklearn.metrics._plot.confusion_matrix.ConfusionMatrixDisplay at 0x7f90ec4e9dd0>"
            ]
          },
          "metadata": {},
          "execution_count": 29
        },
        {
          "output_type": "display_data",
          "data": {
            "text/plain": [
              "<Figure size 432x288 with 2 Axes>"
            ],
            "image/png": "[encoded data removed]"
          },
          "metadata": {
            "needs_background": "light"
          }
        }
      ]
    },
    {
      "cell_type": "code",
      "source": [
        "vader_df = vader_df.reset_index(drop=True)\n",
        "vader_df.eq(pred_df).mean() * 100"
      ],
      "metadata": {
        "colab": {
          "base_uri": "https://localhost:8080/"
        },
        "id": "sKdRtAY2WiBD",
        "outputId": "dc081751-d658-40c9-b99a-be49b5806da1"
      },
      "execution_count": null,
      "outputs": [
        {
          "output_type": "execute_result",
          "data": {
            "text/plain": [
              "43.15068493150685"
            ]
          },
          "metadata": {},
          "execution_count": 30
        }
      ]
    },
    {
      "cell_type": "markdown",
      "source": [
        "# Comparing SVM and Vader on a different topic"
      ],
      "metadata": {
        "id": "oEkbrwLXXUwg"
      }
    },
    {
      "cell_type": "code",
      "source": [
        "# pol_df = obtain_tweets(\"Bernie Sanders\", 25, 20)\n",
        "\n",
        "# epoch_time = int(time.time())\n",
        "\n",
        "# df.to_csv(\"pol_tweets.{}.csv\".format(epoch_time), \n",
        "#           header=list(df.columns), \n",
        "#           index=False, \n",
        "#           escapechar=\"\\\\\", \n",
        "#           encoding='utf-8',\n",
        "#           quoting=csv.QUOTE_ALL)"
      ],
      "metadata": {
        "id": "Th-f5Igrai6d"
      },
      "execution_count": null,
      "outputs": []
    },
    {
      "cell_type": "code",
      "source": [
        "pol_df = pd.read_csv(\"pol_tweets.1650715759.csv\")"
      ],
      "metadata": {
        "id": "0jpeXnQNXYU1"
      },
      "execution_count": null,
      "outputs": []
    },
    {
      "cell_type": "code",
      "source": [
        "pol_df = cleanup_data(pol_df)"
      ],
      "metadata": {
        "id": "QEXKQSGEXlk-"
      },
      "execution_count": null,
      "outputs": []
    },
    {
      "cell_type": "code",
      "source": [
        "pol_df.sample(10)"
      ],
      "metadata": {
        "colab": {
          "base_uri": "https://localhost:8080/",
          "height": 363
        },
        "id": "6nJ7B0JZXypl",
        "outputId": "7ad8afc8-4d89-4015-dd6d-779771e9632a"
      },
      "execution_count": null,
      "outputs": [
        {
          "output_type": "execute_result",
          "data": {
            "text/plain": [
              "     place  coords                 created_at  possibly_sensitive  \\\n",
              "433    NaN     NaN  2022-04-22 21:07:32+00:00               False   \n",
              "60     NaN     NaN  2022-04-22 22:18:12+00:00               False   \n",
              "385    NaN     NaN  2022-04-22 21:16:51+00:00               False   \n",
              "3      NaN     NaN  2022-04-22 22:40:13+00:00               False   \n",
              "440    NaN     NaN  2022-04-22 21:05:51+00:00               False   \n",
              "376    NaN     NaN  2022-04-22 21:17:34+00:00               False   \n",
              "439    NaN     NaN  2022-04-22 21:05:59+00:00               False   \n",
              "16     NaN     NaN  2022-04-22 22:33:19+00:00               False   \n",
              "73     NaN     NaN  2022-04-22 22:15:03+00:00               False   \n",
              "51     NaN     NaN  2022-04-22 22:21:14+00:00               False   \n",
              "\n",
              "     retweet_count  reply_count  like_count  quote_count  \\\n",
              "433              0            1           0            0   \n",
              "60               0            0           0            0   \n",
              "385              0            0           0            0   \n",
              "3                0            0           0            0   \n",
              "440              0            0           1            0   \n",
              "376              0            0           0            0   \n",
              "439              0            0           0            0   \n",
              "16               0            0           0            0   \n",
              "73               1            0           0            0   \n",
              "51               0            0           0            0   \n",
              "\n",
              "                                                  text sentiment  \n",
              "433  i do that too, i worked may ass off for bernie...  negative  \n",
              "60   bernie sanders torches congress for considerin...  negative  \n",
              "385  here is bernie sanders' roadmap to victory in ...  positive  \n",
              "3    bernie sanders ran on this and you idiots didn...  negative  \n",
              "440  bernie sanders urges congress to reject bailou...   neutral  \n",
              "376                               it's bernie sanders)   neutral  \n",
              "439  and biden, your party isnt my grandparents dem...  negative  \n",
              "16   bernie sanders urges congress to reject bailou...   neutral  \n",
              "73   . andto hold rally with staten island amazon w...   neutral  \n",
              "51   d,h,m,n keylbj will always rule the pantheon a...   neutral  "
            ],
            "text/html": [
              "\n",
              "  <div id=\"df-f5073196-37fc-42a9-86e8-dc210367a49e\">\n",
              "    <div class=\"colab-df-container\">\n",
              "      <div>\n",
              "<style scoped>\n",
              "    .dataframe tbody tr th:only-of-type {\n",
              "        vertical-align: middle;\n",
              "    }\n",
              "\n",
              "    .dataframe tbody tr th {\n",
              "        vertical-align: top;\n",
              "    }\n",
              "\n",
              "    .dataframe thead th {\n",
              "        text-align: right;\n",
              "    }\n",
              "</style>\n",
              "<table border=\"1\" class=\"dataframe\">\n",
              "  <thead>\n",
              "    <tr style=\"text-align: right;\">\n",
              "      <th></th>\n",
              "      <th>place</th>\n",
              "      <th>coords</th>\n",
              "      <th>created_at</th>\n",
              "      <th>possibly_sensitive</th>\n",
              "      <th>retweet_count</th>\n",
              "      <th>reply_count</th>\n",
              "      <th>like_count</th>\n",
              "      <th>quote_count</th>\n",
              "      <th>text</th>\n",
              "      <th>sentiment</th>\n",
              "    </tr>\n",
              "  </thead>\n",
              "  <tbody>\n",
              "    <tr>\n",
              "      <th>433</th>\n",
              "      <td>NaN</td>\n",
              "      <td>NaN</td>\n",
              "      <td>2022-04-22 21:07:32+00:00</td>\n",
              "      <td>False</td>\n",
              "      <td>0</td>\n",
              "      <td>1</td>\n",
              "      <td>0</td>\n",
              "      <td>0</td>\n",
              "      <td>i do that too, i worked may ass off for bernie...</td>\n",
              "      <td>negative</td>\n",
              "    </tr>\n",
              "    <tr>\n",
              "      <th>60</th>\n",
              "      <td>NaN</td>\n",
              "      <td>NaN</td>\n",
              "      <td>2022-04-22 22:18:12+00:00</td>\n",
              "      <td>False</td>\n",
              "      <td>0</td>\n",
              "      <td>0</td>\n",
              "      <td>0</td>\n",
              "      <td>0</td>\n",
              "      <td>bernie sanders torches congress for considerin...</td>\n",
              "      <td>negative</td>\n",
              "    </tr>\n",
              "    <tr>\n",
              "      <th>385</th>\n",
              "      <td>NaN</td>\n",
              "      <td>NaN</td>\n",
              "      <td>2022-04-22 21:16:51+00:00</td>\n",
              "      <td>False</td>\n",
              "      <td>0</td>\n",
              "      <td>0</td>\n",
              "      <td>0</td>\n",
              "      <td>0</td>\n",
              "      <td>here is bernie sanders' roadmap to victory in ...</td>\n",
              "      <td>positive</td>\n",
              "    </tr>\n",
              "    <tr>\n",
              "      <th>3</th>\n",
              "      <td>NaN</td>\n",
              "      <td>NaN</td>\n",
              "      <td>2022-04-22 22:40:13+00:00</td>\n",
              "      <td>False</td>\n",
              "      <td>0</td>\n",
              "      <td>0</td>\n",
              "      <td>0</td>\n",
              "      <td>0</td>\n",
              "      <td>bernie sanders ran on this and you idiots didn...</td>\n",
              "      <td>negative</td>\n",
              "    </tr>\n",
              "    <tr>\n",
              "      <th>440</th>\n",
              "      <td>NaN</td>\n",
              "      <td>NaN</td>\n",
              "      <td>2022-04-22 21:05:51+00:00</td>\n",
              "      <td>False</td>\n",
              "      <td>0</td>\n",
              "      <td>0</td>\n",
              "      <td>1</td>\n",
              "      <td>0</td>\n",
              "      <td>bernie sanders urges congress to reject bailou...</td>\n",
              "      <td>neutral</td>\n",
              "    </tr>\n",
              "    <tr>\n",
              "      <th>376</th>\n",
              "      <td>NaN</td>\n",
              "      <td>NaN</td>\n",
              "      <td>2022-04-22 21:17:34+00:00</td>\n",
              "      <td>False</td>\n",
              "      <td>0</td>\n",
              "      <td>0</td>\n",
              "      <td>0</td>\n",
              "      <td>0</td>\n",
              "      <td>it's bernie sanders)</td>\n",
              "      <td>neutral</td>\n",
              "    </tr>\n",
              "    <tr>\n",
              "      <th>439</th>\n",
              "      <td>NaN</td>\n",
              "      <td>NaN</td>\n",
              "      <td>2022-04-22 21:05:59+00:00</td>\n",
              "      <td>False</td>\n",
              "      <td>0</td>\n",
              "      <td>0</td>\n",
              "      <td>0</td>\n",
              "      <td>0</td>\n",
              "      <td>and biden, your party isnt my grandparents dem...</td>\n",
              "      <td>negative</td>\n",
              "    </tr>\n",
              "    <tr>\n",
              "      <th>16</th>\n",
              "      <td>NaN</td>\n",
              "      <td>NaN</td>\n",
              "      <td>2022-04-22 22:33:19+00:00</td>\n",
              "      <td>False</td>\n",
              "      <td>0</td>\n",
              "      <td>0</td>\n",
              "      <td>0</td>\n",
              "      <td>0</td>\n",
              "      <td>bernie sanders urges congress to reject bailou...</td>\n",
              "      <td>neutral</td>\n",
              "    </tr>\n",
              "    <tr>\n",
              "      <th>73</th>\n",
              "      <td>NaN</td>\n",
              "      <td>NaN</td>\n",
              "      <td>2022-04-22 22:15:03+00:00</td>\n",
              "      <td>False</td>\n",
              "      <td>1</td>\n",
              "      <td>0</td>\n",
              "      <td>0</td>\n",
              "      <td>0</td>\n",
              "      <td>. andto hold rally with staten island amazon w...</td>\n",
              "      <td>neutral</td>\n",
              "    </tr>\n",
              "    <tr>\n",
              "      <th>51</th>\n",
              "      <td>NaN</td>\n",
              "      <td>NaN</td>\n",
              "      <td>2022-04-22 22:21:14+00:00</td>\n",
              "      <td>False</td>\n",
              "      <td>0</td>\n",
              "      <td>0</td>\n",
              "      <td>0</td>\n",
              "      <td>0</td>\n",
              "      <td>d,h,m,n keylbj will always rule the pantheon a...</td>\n",
              "      <td>neutral</td>\n",
              "    </tr>\n",
              "  </tbody>\n",
              "</table>\n",
              "</div>\n",
              "      <button class=\"colab-df-convert\" onclick=\"convertToInteractive('df-f5073196-37fc-42a9-86e8-dc210367a49e')\"\n",
              "              title=\"Convert this dataframe to an interactive table.\"\n",
              "              style=\"display:none;\">\n",
              "        \n",
              "  <svg xmlns=\"http://www.w3.org/2000/svg\" height=\"24px\"viewBox=\"0 0 24 24\"\n",
              "       width=\"24px\">\n",
              "    <path d=\"M0 0h24v24H0V0z\" fill=\"none\"/>\n",
              "    <path d=\"M18.56 5.44l.94 2.06.94-2.06 2.06-.94-2.06-.94-.94-2.06-.94 2.06-2.06.94zm-11 1L8.5 8.5l.94-2.06 2.06-.94-2.06-.94L8.5 2.5l-.94 2.06-2.06.94zm10 10l.94 2.06.94-2.06 2.06-.94-2.06-.94-.94-2.06-.94 2.06-2.06.94z\"/><path d=\"M17.41 7.96l-1.37-1.37c-.4-.4-.92-.59-1.43-.59-.52 0-1.04.2-1.43.59L10.3 9.45l-7.72 7.72c-.78.78-.78 2.05 0 2.83L4 21.41c.39.39.9.59 1.41.59.51 0 1.02-.2 1.41-.59l7.78-7.78 2.81-2.81c.8-.78.8-2.07 0-2.86zM5.41 20L4 18.59l7.72-7.72 1.47 1.35L5.41 20z\"/>\n",
              "  </svg>\n",
              "      </button>\n",
              "      \n",
              "  <style>\n",
              "    .colab-df-container {\n",
              "      display:flex;\n",
              "      flex-wrap:wrap;\n",
              "      gap: 12px;\n",
              "    }\n",
              "\n",
              "    .colab-df-convert {\n",
              "      background-color: #E8F0FE;\n",
              "      border: none;\n",
              "      border-radius: 50%;\n",
              "      cursor: pointer;\n",
              "      display: none;\n",
              "      fill: #1967D2;\n",
              "      height: 32px;\n",
              "      padding: 0 0 0 0;\n",
              "      width: 32px;\n",
              "    }\n",
              "\n",
              "    .colab-df-convert:hover {\n",
              "      background-color: #E2EBFA;\n",
              "      box-shadow: 0px 1px 2px rgba(60, 64, 67, 0.3), 0px 1px 3px 1px rgba(60, 64, 67, 0.15);\n",
              "      fill: #174EA6;\n",
              "    }\n",
              "\n",
              "    [theme=dark] .colab-df-convert {\n",
              "      background-color: #3B4455;\n",
              "      fill: #D2E3FC;\n",
              "    }\n",
              "\n",
              "    [theme=dark] .colab-df-convert:hover {\n",
              "      background-color: #434B5C;\n",
              "      box-shadow: 0px 1px 3px 1px rgba(0, 0, 0, 0.15);\n",
              "      filter: drop-shadow(0px 1px 2px rgba(0, 0, 0, 0.3));\n",
              "      fill: #FFFFFF;\n",
              "    }\n",
              "  </style>\n",
              "\n",
              "      <script>\n",
              "        const buttonEl =\n",
              "          document.querySelector('#df-f5073196-37fc-42a9-86e8-dc210367a49e button.colab-df-convert');\n",
              "        buttonEl.style.display =\n",
              "          google.colab.kernel.accessAllowed ? 'block' : 'none';\n",
              "\n",
              "        async function convertToInteractive(key) {\n",
              "          const element = document.querySelector('#df-f5073196-37fc-42a9-86e8-dc210367a49e');\n",
              "          const dataTable =\n",
              "            await google.colab.kernel.invokeFunction('convertToInteractive',\n",
              "                                                     [key], {});\n",
              "          if (!dataTable) return;\n",
              "\n",
              "          const docLinkHtml = 'Like what you see? Visit the ' +\n",
              "            '<a target=\"_blank\" href=https://colab.research.google.com/notebooks/data_table.ipynb>data table notebook</a>'\n",
              "            + ' to learn more about interactive tables.';\n",
              "          element.innerHTML = '';\n",
              "          dataTable['output_type'] = 'display_data';\n",
              "          await google.colab.output.renderOutput(dataTable, element);\n",
              "          const docLink = document.createElement('div');\n",
              "          docLink.innerHTML = docLinkHtml;\n",
              "          element.appendChild(docLink);\n",
              "        }\n",
              "      </script>\n",
              "    </div>\n",
              "  </div>\n",
              "  "
            ]
          },
          "metadata": {},
          "execution_count": 34
        }
      ]
    },
    {
      "cell_type": "code",
      "source": [
        "print_sentiment_breakdown(pol_df.sentiment, \"Normalised Sentiment breakdown of Political tweets Sentiment\")"
      ],
      "metadata": {
        "colab": {
          "base_uri": "https://localhost:8080/",
          "height": 264
        },
        "id": "XSrU9QIrX1sU",
        "outputId": "517c9e7d-bdc3-42be-9e4b-2ded70a980d7"
      },
      "execution_count": null,
      "outputs": [
        {
          "output_type": "display_data",
          "data": {
            "text/plain": [
              "<Figure size 432x288 with 1 Axes>"
            ],
            "image/png": "[encoded data removed]"
          },
          "metadata": {}
        }
      ]
    },
    {
      "cell_type": "code",
      "source": [
        "pol_df.shape"
      ],
      "metadata": {
        "colab": {
          "base_uri": "https://localhost:8080/"
        },
        "id": "6UyRuUtJYB06",
        "outputId": "ca8f6637-01c9-4fb9-cb76-6ec3abc787fe"
      },
      "execution_count": null,
      "outputs": [
        {
          "output_type": "execute_result",
          "data": {
            "text/plain": [
              "(124, 10)"
            ]
          },
          "metadata": {},
          "execution_count": 36
        }
      ]
    },
    {
      "cell_type": "markdown",
      "source": [
        "### Vader Sentiment Analysis on Political topic"
      ],
      "metadata": {
        "id": "KI3xT6nyZV52"
      }
    },
    {
      "cell_type": "code",
      "source": [
        "def get_sentiment(text):\n",
        "  analysis = analyzer.polarity_scores(text)\n",
        "  score = analysis[\"compound\"]\n",
        "  if score >= 0.05:\n",
        "    return \"positive\"\n",
        "  if score > -0.05 and score < 0.05:\n",
        "    return \"neutral\"\n",
        "  if score <= -0.05:\n",
        "    return \"negative\"\n",
        "\n",
        "vader_pol_df = pd.DataFrame(pol_df.text).apply(get_sentiment, axis=1)\n",
        "\n",
        "vader_pol_report = classification_report(vader_pol_df, pol_df.sentiment, output_dict=True)\n",
        "print('accuracy: ', vader_pol_report['accuracy'])\n",
        "print('macro avg: ', vader_pol_report['macro avg'])\n",
        "print('positive: ', vader_pol_report['positive'])\n",
        "print('negative: ', vader_pol_report['negative'])\n",
        "print('neutral ', vader_pol_report['neutral'])\n",
        "\n",
        "cm = confusion_matrix(pol_df.sentiment, vader_pol_df)\n",
        "cmd = ConfusionMatrixDisplay(cm, display_labels=[\"negative\", \"neutral\", \"positive\"])\n",
        "cmd.plot()"
      ],
      "metadata": {
        "colab": {
          "base_uri": "https://localhost:8080/",
          "height": 383
        },
        "id": "tqwL8JopYfo7",
        "outputId": "0bdb3801-e3af-4860-a44f-6e62c02eedfb"
      },
      "execution_count": null,
      "outputs": [
        {
          "output_type": "stream",
          "name": "stdout",
          "text": [
            "accuracy:  0.5403225806451613\n",
            "macro avg:  {'precision': 0.527972027972028, 'recall': 0.5617050298380222, 'f1-score': 0.5263696876600102, 'support': 124}\n",
            "positive:  {'precision': 0.5454545454545454, 'recall': 0.35294117647058826, 'f1-score': 0.42857142857142855, 'support': 51}\n",
            "negative:  {'precision': 0.38461538461538464, 'recall': 0.6521739130434783, 'f1-score': 0.4838709677419355, 'support': 23}\n",
            "neutral  {'precision': 0.6538461538461539, 'recall': 0.68, 'f1-score': 0.6666666666666666, 'support': 50}\n"
          ]
        },
        {
          "output_type": "execute_result",
          "data": {
            "text/plain": [
              "<sklearn.metrics._plot.confusion_matrix.ConfusionMatrixDisplay at 0x7f90ebb54f90>"
            ]
          },
          "metadata": {},
          "execution_count": 37
        },
        {
          "output_type": "display_data",
          "data": {
            "text/plain": [
              "<Figure size 432x288 with 2 Axes>"
            ],
            "image/png": "[encoded data removed]"
          },
          "metadata": {
            "needs_background": "light"
          }
        }
      ]
    },
    {
      "cell_type": "code",
      "source": [
        "print_sentiment_breakdown(vader_pol_df, \"Normalised Vader Predicted Sentiment breakdown of Political tweets\")"
      ],
      "metadata": {
        "colab": {
          "base_uri": "https://localhost:8080/",
          "height": 264
        },
        "id": "iN-miWROZQ-s",
        "outputId": "d2c64923-ae2b-4d12-9bb4-9c2e4a4843ea"
      },
      "execution_count": null,
      "outputs": [
        {
          "output_type": "display_data",
          "data": {
            "text/plain": [
              "<Figure size 432x288 with 1 Axes>"
            ],
            "image/png": "[encoded data removed]"
          },
          "metadata": {}
        }
      ]
    },
    {
      "cell_type": "markdown",
      "source": [
        "### SVM Sentiment Analysis on Political Topic"
      ],
      "metadata": {
        "id": "lqDEuvZtZaAO"
      }
    },
    {
      "cell_type": "code",
      "source": [
        "pol_vectors = vectorizer.transform(pol_df.text)"
      ],
      "metadata": {
        "id": "TLQ9scSlY5re"
      },
      "execution_count": null,
      "outputs": []
    },
    {
      "cell_type": "code",
      "source": [
        "pol_vectors.shape"
      ],
      "metadata": {
        "colab": {
          "base_uri": "https://localhost:8080/"
        },
        "id": "q6ptrUfrdn0Q",
        "outputId": "7ad6e2b3-a620-4060-8b3c-4aae58445fbc"
      },
      "execution_count": null,
      "outputs": [
        {
          "output_type": "execute_result",
          "data": {
            "text/plain": [
              "(124, 500)"
            ]
          },
          "metadata": {},
          "execution_count": 40
        }
      ]
    },
    {
      "cell_type": "code",
      "source": [
        "svm_pol_pred = clf.predict(pol_vectors)\n",
        "\n",
        "svm_pol_report = classification_report(pol_df.sentiment, svm_pol_pred, output_dict=True)\n",
        "print('accuracy: ', svm_pol_report['accuracy'])\n",
        "print('macro avg: ', svm_pol_report['macro avg'])\n",
        "print('positive: ', svm_pol_report['positive'])\n",
        "print('negative: ', svm_pol_report['negative'])\n",
        "print('neutral ', svm_pol_report['neutral'])\n",
        "\n",
        "cm = confusion_matrix(pol_df.sentiment, svm_pol_pred)\n",
        "cmd = ConfusionMatrixDisplay(cm, display_labels=[\"negative\", \"neutral\", \"positive\"])\n",
        "cmd.plot()"
      ],
      "metadata": {
        "colab": {
          "base_uri": "https://localhost:8080/",
          "height": 383
        },
        "id": "k1Bpd8yNZhMC",
        "outputId": "88c84396-36de-4233-e860-3d29f080f290"
      },
      "execution_count": null,
      "outputs": [
        {
          "output_type": "stream",
          "name": "stdout",
          "text": [
            "accuracy:  0.49193548387096775\n",
            "macro avg:  {'precision': 0.4485169610316793, 'recall': 0.4601787101787102, 'f1-score': 0.4522988505747126, 'support': 124}\n",
            "positive:  {'precision': 0.24, 'recall': 0.18181818181818182, 'f1-score': 0.20689655172413793, 'support': 33}\n",
            "negative:  {'precision': 0.5365853658536586, 'recall': 0.5641025641025641, 'f1-score': 0.55, 'support': 39}\n",
            "neutral  {'precision': 0.5689655172413793, 'recall': 0.6346153846153846, 'f1-score': 0.6, 'support': 52}\n"
          ]
        },
        {
          "output_type": "execute_result",
          "data": {
            "text/plain": [
              "<sklearn.metrics._plot.confusion_matrix.ConfusionMatrixDisplay at 0x7f90eb8a6c10>"
            ]
          },
          "metadata": {},
          "execution_count": 41
        },
        {
          "output_type": "display_data",
          "data": {
            "text/plain": [
              "<Figure size 432x288 with 2 Axes>"
            ],
            "image/png": "[encoded data removed]"
          },
          "metadata": {
            "needs_background": "light"
          }
        }
      ]
    },
    {
      "cell_type": "code",
      "source": [
        "svm_pol_df = pd.DataFrame(svm_pol_pred)[0]\n",
        "\n",
        "print_sentiment_breakdown(svm_pol_df, \"Normalised SVM Predicted Sentiment breakdown of Political tweets\")"
      ],
      "metadata": {
        "colab": {
          "base_uri": "https://localhost:8080/",
          "height": 264
        },
        "id": "_tIWbMlSZ9ni",
        "outputId": "608d0833-7c97-4dc3-a9b1-191f865dddfc"
      },
      "execution_count": null,
      "outputs": [
        {
          "output_type": "display_data",
          "data": {
            "text/plain": [
              "<Figure size 432x288 with 1 Axes>"
            ],
            "image/png": "[encoded data removed]"
          },
          "metadata": {}
        }
      ]
    },
    {
      "cell_type": "markdown",
      "source": [
        "For the first topic, Vader and the SVM only agrred 43% of the time. \n",
        "\n",
        "Its clear that my SVM model does not generalise well to unseen data of a different topic, in particular it struggles to identify `positive` sentiment.\n",
        "\n",
        "Vader is able to generalise better but only performs marginally better accuracy wise in the political topic, with `0.54` accuracy against `0.49` accuracy of the SVM. \n",
        "\n",
        "The SVM yields a `positive` sentiment f1-score of only `0.20` whereas Vader is much better at `0.42`. Both models are performing poorly here but Vader is triumphant. \n",
        "\n",
        "Both models perform quiet well at identifying `neutral` sentiment.\n",
        "\n"
      ],
      "metadata": {
        "id": "totSo1vpHNEb"
      }
    },
    {
      "cell_type": "markdown",
      "source": [
        "# Deep Neural Network Sentiment Analysis"
      ],
      "metadata": {
        "id": "RMeE0XRIa-he"
      }
    },
    {
      "cell_type": "code",
      "source": [
        "df = pd.read_csv(\"tweets.1650486802.csv\")\n",
        "df = cleanup_data(df)"
      ],
      "metadata": {
        "id": "H4JGABuxa1y9"
      },
      "execution_count": null,
      "outputs": []
    },
    {
      "cell_type": "code",
      "source": [
        "from nltk.tokenize import word_tokenize\n",
        "nltk.download('punkt')"
      ],
      "metadata": {
        "colab": {
          "base_uri": "https://localhost:8080/"
        },
        "id": "HGtzNrbPbQGU",
        "outputId": "dd2ed7ef-10e3-4d02-c704-9de599f04893"
      },
      "execution_count": null,
      "outputs": [
        {
          "output_type": "stream",
          "name": "stdout",
          "text": [
            "[nltk_data] Downloading package punkt to /root/nltk_data...\n",
            "[nltk_data]   Package punkt is already up-to-date!\n"
          ]
        },
        {
          "output_type": "execute_result",
          "data": {
            "text/plain": [
              "True"
            ]
          },
          "metadata": {},
          "execution_count": 44
        }
      ]
    },
    {
      "cell_type": "code",
      "source": [
        "from numpy.random import seed\n",
        "seed(1)\n",
        "\n",
        "from keras.preprocessing.text import Tokenizer\n",
        "from keras.preprocessing.sequence import pad_sequences\n",
        "from sklearn.model_selection import train_test_split\n",
        "\n",
        "\n",
        "Y = pd.get_dummies(df.sentiment).values\n",
        "\n",
        "max_features = 90\n",
        "\n",
        "tokenizer = Tokenizer(num_words=max_features, split=' ')\n",
        "tokenizer.fit_on_texts(df.text)\n",
        "\n",
        "X = pad_sequences(tokenizer.texts_to_sequences(df.text))\n",
        "\n",
        "X_train, X_test, y_train, y_test = train_test_split(X, Y, test_size=0.1, random_state=613, shuffle=True)"
      ],
      "metadata": {
        "id": "NYQMRJbXbV_X"
      },
      "execution_count": null,
      "outputs": []
    },
    {
      "cell_type": "code",
      "source": [
        "import torch\n",
        "torch.cuda.is_available()"
      ],
      "metadata": {
        "colab": {
          "base_uri": "https://localhost:8080/"
        },
        "id": "s67C9aKAbXlM",
        "outputId": "e240124d-8ea5-4069-dbb7-55f15d09cc48"
      },
      "execution_count": null,
      "outputs": [
        {
          "output_type": "execute_result",
          "data": {
            "text/plain": [
              "True"
            ]
          },
          "metadata": {},
          "execution_count": 46
        }
      ]
    },
    {
      "cell_type": "code",
      "source": [
        "from keras.models import Sequential\n",
        "from keras.layers import Dense, Embedding, LSTM, SpatialDropout1D\n",
        "from keras.utils.np_utils import to_categorical\n",
        "\n",
        "from keras.callbacks import History \n",
        "history = History()\n",
        "\n",
        "embed_dim = 15\n",
        "lstm_out = 5\n",
        "\n",
        "\n",
        "model = Sequential()\n",
        "model.add(Embedding(max_features, embed_dim,input_length = X.shape[1]))\n",
        "model.add(LSTM(lstm_out, dropout=0.4, recurrent_dropout=0.4))\n",
        "model.add(Dense(3,activation='sigmoid'))\n",
        "model.compile(loss = 'categorical_crossentropy', optimizer='adam', metrics = ['accuracy'])\n",
        "print(model.summary())"
      ],
      "metadata": {
        "colab": {
          "base_uri": "https://localhost:8080/"
        },
        "id": "sJPBWIdBbZXe",
        "outputId": "43a1341d-c099-4b02-a87b-83fc2fd94995"
      },
      "execution_count": null,
      "outputs": [
        {
          "output_type": "stream",
          "name": "stdout",
          "text": [
            "WARNING:tensorflow:Layer lstm will not use cuDNN kernels since it doesn't meet the criteria. It will use a generic GPU kernel as fallback when running on GPU.\n",
            "Model: \"sequential\"\n",
            "_________________________________________________________________\n",
            " Layer (type)                Output Shape              Param #   \n",
            "=================================================================\n",
            " embedding (Embedding)       (None, 40, 15)            1350      \n",
            "                                                                 \n",
            " lstm (LSTM)                 (None, 5)                 420       \n",
            "                                                                 \n",
            " dense (Dense)               (None, 3)                 18        \n",
            "                                                                 \n",
            "=================================================================\n",
            "Total params: 1,788\n",
            "Trainable params: 1,788\n",
            "Non-trainable params: 0\n",
            "_________________________________________________________________\n",
            "None\n"
          ]
        }
      ]
    },
    {
      "cell_type": "code",
      "source": [
        "from keras.callbacks import ModelCheckpoint\n",
        "\n",
        "checkpoint_filepath = '/tmp/checkpoint'\n",
        "model_checkpoint_callback = ModelCheckpoint(\n",
        "    filepath=checkpoint_filepath,\n",
        "    save_weights_only=True,\n",
        "    monitor='val_accuracy',\n",
        "    mode='max',\n",
        "    save_best_only=True)"
      ],
      "metadata": {
        "id": "etENZMBkg27O"
      },
      "execution_count": null,
      "outputs": []
    },
    {
      "cell_type": "code",
      "source": [
        "# try:\n",
        "#   with open('history.pickle', 'rb') as handle:\n",
        "#     history2 = pickle.load(handle)\n",
        "# except:\n",
        "#   history2 = None\n",
        "\n",
        "history2 = None"
      ],
      "metadata": {
        "id": "Ki59L8J3tzcF"
      },
      "execution_count": null,
      "outputs": []
    },
    {
      "cell_type": "code",
      "source": [
        "if not history2:\n",
        "  history2 = model.fit(X_train, y_train, validation_data=(X_test, y_test), epochs = 40, verbose = 2, callbacks=[history, model_checkpoint_callback])"
      ],
      "metadata": {
        "colab": {
          "base_uri": "https://localhost:8080/"
        },
        "id": "wkY0dnzFbbSW",
        "outputId": "c1af4a3c-aa27-4143-bca2-eb79a5ce888c"
      },
      "execution_count": null,
      "outputs": [
        {
          "output_type": "stream",
          "name": "stdout",
          "text": [
            "Epoch 1/40\n",
            "41/41 - 32s - loss: 1.0929 - accuracy: 0.3873 - val_loss: 1.0890 - val_accuracy: 0.4315 - 32s/epoch - 790ms/step\n",
            "Epoch 2/40\n",
            "41/41 - 17s - loss: 1.0737 - accuracy: 0.4423 - val_loss: 1.0720 - val_accuracy: 0.4795 - 17s/epoch - 409ms/step\n",
            "Epoch 3/40\n",
            "41/41 - 10s - loss: 1.0430 - accuracy: 0.4752 - val_loss: 1.0493 - val_accuracy: 0.3904 - 10s/epoch - 248ms/step\n",
            "Epoch 4/40\n",
            "41/41 - 10s - loss: 1.0204 - accuracy: 0.4927 - val_loss: 1.0405 - val_accuracy: 0.3973 - 10s/epoch - 254ms/step\n",
            "Epoch 5/40\n",
            "41/41 - 10s - loss: 1.0116 - accuracy: 0.4866 - val_loss: 1.0176 - val_accuracy: 0.4658 - 10s/epoch - 247ms/step\n",
            "Epoch 6/40\n",
            "41/41 - 10s - loss: 0.9981 - accuracy: 0.4996 - val_loss: 1.0191 - val_accuracy: 0.4247 - 10s/epoch - 245ms/step\n",
            "Epoch 7/40\n",
            "41/41 - 10s - loss: 0.9897 - accuracy: 0.5118 - val_loss: 1.0048 - val_accuracy: 0.4795 - 10s/epoch - 244ms/step\n",
            "Epoch 8/40\n",
            "41/41 - 10s - loss: 0.9818 - accuracy: 0.5164 - val_loss: 0.9939 - val_accuracy: 0.4795 - 10s/epoch - 242ms/step\n",
            "Epoch 9/40\n",
            "41/41 - 10s - loss: 0.9740 - accuracy: 0.5202 - val_loss: 0.9906 - val_accuracy: 0.4658 - 10s/epoch - 246ms/step\n",
            "Epoch 10/40\n",
            "41/41 - 11s - loss: 0.9696 - accuracy: 0.5317 - val_loss: 0.9810 - val_accuracy: 0.4863 - 11s/epoch - 271ms/step\n",
            "Epoch 11/40\n",
            "41/41 - 12s - loss: 0.9721 - accuracy: 0.5325 - val_loss: 0.9752 - val_accuracy: 0.5068 - 12s/epoch - 295ms/step\n",
            "Epoch 12/40\n",
            "41/41 - 10s - loss: 0.9620 - accuracy: 0.5470 - val_loss: 0.9697 - val_accuracy: 0.5274 - 10s/epoch - 239ms/step\n",
            "Epoch 13/40\n",
            "41/41 - 10s - loss: 0.9560 - accuracy: 0.5523 - val_loss: 0.9623 - val_accuracy: 0.5342 - 10s/epoch - 236ms/step\n",
            "Epoch 14/40\n",
            "41/41 - 10s - loss: 0.9478 - accuracy: 0.5646 - val_loss: 0.9542 - val_accuracy: 0.5411 - 10s/epoch - 241ms/step\n",
            "Epoch 15/40\n",
            "41/41 - 10s - loss: 0.9406 - accuracy: 0.5668 - val_loss: 0.9439 - val_accuracy: 0.5548 - 10s/epoch - 240ms/step\n",
            "Epoch 16/40\n",
            "41/41 - 10s - loss: 0.9319 - accuracy: 0.5699 - val_loss: 0.9365 - val_accuracy: 0.5685 - 10s/epoch - 248ms/step\n",
            "Epoch 17/40\n",
            "41/41 - 10s - loss: 0.9288 - accuracy: 0.5691 - val_loss: 0.9238 - val_accuracy: 0.5890 - 10s/epoch - 244ms/step\n",
            "Epoch 18/40\n",
            "41/41 - 10s - loss: 0.9184 - accuracy: 0.5951 - val_loss: 0.9148 - val_accuracy: 0.6027 - 10s/epoch - 247ms/step\n",
            "Epoch 19/40\n",
            "41/41 - 10s - loss: 0.9029 - accuracy: 0.6005 - val_loss: 0.8967 - val_accuracy: 0.6438 - 10s/epoch - 241ms/step\n",
            "Epoch 20/40\n",
            "41/41 - 10s - loss: 0.8980 - accuracy: 0.6066 - val_loss: 0.8911 - val_accuracy: 0.6507 - 10s/epoch - 248ms/step\n",
            "Epoch 21/40\n",
            "41/41 - 10s - loss: 0.8841 - accuracy: 0.6142 - val_loss: 0.8847 - val_accuracy: 0.6301 - 10s/epoch - 245ms/step\n",
            "Epoch 22/40\n",
            "41/41 - 10s - loss: 0.8737 - accuracy: 0.6157 - val_loss: 0.8958 - val_accuracy: 0.5822 - 10s/epoch - 246ms/step\n",
            "Epoch 23/40\n",
            "41/41 - 10s - loss: 0.8834 - accuracy: 0.6173 - val_loss: 0.8696 - val_accuracy: 0.6301 - 10s/epoch - 243ms/step\n",
            "Epoch 24/40\n",
            "41/41 - 10s - loss: 0.8679 - accuracy: 0.6157 - val_loss: 0.8789 - val_accuracy: 0.6233 - 10s/epoch - 252ms/step\n",
            "Epoch 25/40\n",
            "41/41 - 10s - loss: 0.8695 - accuracy: 0.6165 - val_loss: 0.8642 - val_accuracy: 0.6370 - 10s/epoch - 252ms/step\n",
            "Epoch 26/40\n",
            "41/41 - 10s - loss: 0.8737 - accuracy: 0.6173 - val_loss: 0.8549 - val_accuracy: 0.6370 - 10s/epoch - 252ms/step\n",
            "Epoch 27/40\n",
            "41/41 - 10s - loss: 0.8686 - accuracy: 0.6203 - val_loss: 0.8663 - val_accuracy: 0.6370 - 10s/epoch - 250ms/step\n",
            "Epoch 28/40\n",
            "41/41 - 10s - loss: 0.8656 - accuracy: 0.6264 - val_loss: 0.8732 - val_accuracy: 0.6438 - 10s/epoch - 249ms/step\n",
            "Epoch 29/40\n",
            "41/41 - 10s - loss: 0.8585 - accuracy: 0.6287 - val_loss: 0.8447 - val_accuracy: 0.6233 - 10s/epoch - 246ms/step\n",
            "Epoch 30/40\n",
            "41/41 - 10s - loss: 0.8568 - accuracy: 0.6134 - val_loss: 0.8648 - val_accuracy: 0.6233 - 10s/epoch - 246ms/step\n",
            "Epoch 31/40\n",
            "41/41 - 10s - loss: 0.8649 - accuracy: 0.6165 - val_loss: 0.8711 - val_accuracy: 0.6233 - 10s/epoch - 244ms/step\n",
            "Epoch 32/40\n",
            "41/41 - 10s - loss: 0.8459 - accuracy: 0.6318 - val_loss: 0.8654 - val_accuracy: 0.6370 - 10s/epoch - 249ms/step\n",
            "Epoch 33/40\n",
            "41/41 - 10s - loss: 0.8525 - accuracy: 0.6325 - val_loss: 0.8593 - val_accuracy: 0.6096 - 10s/epoch - 247ms/step\n",
            "Epoch 34/40\n",
            "41/41 - 10s - loss: 0.8451 - accuracy: 0.6272 - val_loss: 0.9092 - val_accuracy: 0.5959 - 10s/epoch - 245ms/step\n",
            "Epoch 35/40\n",
            "41/41 - 10s - loss: 0.8622 - accuracy: 0.6073 - val_loss: 0.8538 - val_accuracy: 0.6096 - 10s/epoch - 247ms/step\n",
            "Epoch 36/40\n",
            "41/41 - 10s - loss: 0.8616 - accuracy: 0.6142 - val_loss: 0.8803 - val_accuracy: 0.6027 - 10s/epoch - 242ms/step\n",
            "Epoch 37/40\n",
            "41/41 - 10s - loss: 0.8485 - accuracy: 0.6234 - val_loss: 0.8572 - val_accuracy: 0.6301 - 10s/epoch - 246ms/step\n",
            "Epoch 38/40\n",
            "41/41 - 10s - loss: 0.8497 - accuracy: 0.6318 - val_loss: 0.8724 - val_accuracy: 0.6027 - 10s/epoch - 243ms/step\n",
            "Epoch 39/40\n",
            "41/41 - 10s - loss: 0.8407 - accuracy: 0.6333 - val_loss: 0.8554 - val_accuracy: 0.6164 - 10s/epoch - 241ms/step\n",
            "Epoch 40/40\n",
            "41/41 - 10s - loss: 0.8443 - accuracy: 0.6325 - val_loss: 0.8604 - val_accuracy: 0.6233 - 10s/epoch - 242ms/step\n"
          ]
        }
      ]
    },
    {
      "cell_type": "code",
      "source": [
        "# import pickle\n",
        "\n",
        "# with open('history.pickle', 'wb') as handle:\n",
        "#     pickle.dump(history2.history, handle, protocol=pickle.HIGHEST_PROTOCOL)"
      ],
      "metadata": {
        "id": "_yUqTGKetd7t"
      },
      "execution_count": null,
      "outputs": []
    },
    {
      "cell_type": "code",
      "source": [
        "model.load_weights(checkpoint_filepath)"
      ],
      "metadata": {
        "colab": {
          "base_uri": "https://localhost:8080/"
        },
        "id": "hHLuZBDghWGb",
        "outputId": "d2777cde-8db2-4843-ccbe-590585510c50"
      },
      "execution_count": null,
      "outputs": [
        {
          "output_type": "execute_result",
          "data": {
            "text/plain": [
              "<tensorflow.python.training.tracking.util.CheckpointLoadStatus at 0x7f8eec62df90>"
            ]
          },
          "metadata": {},
          "execution_count": 52
        }
      ]
    },
    {
      "cell_type": "code",
      "source": [
        "import matplotlib.pyplot as plt\n",
        "\n",
        "plt.plot(history2.history['loss'])\n",
        "plt.plot(history2.history['val_loss'])\n",
        "plt.title('Loss')\n",
        "plt.ylabel('loss')\n",
        "plt.xlabel('epoch')\n",
        "plt.legend(['train', 'validation'], loc='best')\n",
        "plt.show()\n",
        "\n",
        "plt.plot(history2.history['accuracy'])\n",
        "plt.plot(history2.history['val_accuracy'])\n",
        "plt.title('Accuracy')\n",
        "plt.ylabel('accuracy')\n",
        "plt.xlabel('epoch')\n",
        "plt.legend(['train', 'validation'], loc='best')\n",
        "plt.show()"
      ],
      "metadata": {
        "colab": {
          "base_uri": "https://localhost:8080/",
          "height": 573
        },
        "id": "e40I15RabdUL",
        "outputId": "a262de30-1430-41e5-be86-08e8a4fc468a"
      },
      "execution_count": null,
      "outputs": [
        {
          "output_type": "display_data",
          "data": {
            "text/plain": [
              "<Figure size 432x288 with 1 Axes>"
            ],
            "image/png": "[encoded data removed]"
          },
          "metadata": {
            "needs_background": "light"
          }
        },
        {
          "output_type": "display_data",
          "data": {
            "text/plain": [
              "<Figure size 432x288 with 1 Axes>"
            ],
            "image/png": "[encoded data removed]"
          },
          "metadata": {
            "needs_background": "light"
          }
        }
      ]
    },
    {
      "cell_type": "code",
      "source": [
        "import operator\n",
        "# negative, neutral, positive\n",
        "\n",
        "def get_sentiment(values):\n",
        "  max_index, max_value = max(enumerate(values), key=operator.itemgetter(1))\n",
        "  if max_index == 0:\n",
        "    return \"negative\"\n",
        "  if max_index == 1:\n",
        "    return \"neutral\"\n",
        "  if max_index == 2:\n",
        "    return \"positive\"\n",
        "  return \"mixed\""
      ],
      "metadata": {
        "id": "76Ai-s0qbkdZ"
      },
      "execution_count": null,
      "outputs": []
    },
    {
      "cell_type": "code",
      "source": [
        "y_pred = model.predict(X_test)"
      ],
      "metadata": {
        "id": "_OMu1SLslFFW"
      },
      "execution_count": null,
      "outputs": []
    },
    {
      "cell_type": "code",
      "source": [
        "y_pred_sen = pd.DataFrame([get_sentiment(vals) for vals in y_pred])[0]\n",
        "y_test_sen = pd.DataFrame([get_sentiment(vals) for vals in y_test])[0]"
      ],
      "metadata": {
        "id": "JQCJVvjebmUo"
      },
      "execution_count": null,
      "outputs": []
    },
    {
      "cell_type": "code",
      "source": [
        "# with open('dnn.pickle', 'wb') as handle:\n",
        "#     pickle.dump([y_test_sen, y_pred_sen], handle, protocol=pickle.HIGHEST_PROTOCOL)"
      ],
      "metadata": {
        "id": "HFWspWCBVTrf"
      },
      "execution_count": null,
      "outputs": []
    },
    {
      "cell_type": "code",
      "source": [
        "dnn_report = classification_report(y_test_sen, y_pred_sen, output_dict=True)\n",
        "print('accuracy: ', dnn_report['accuracy'])\n",
        "print('macro avg: ', dnn_report['macro avg'])\n",
        "print('positive: ', dnn_report['positive'])\n",
        "print('negative: ', dnn_report['negative'])\n",
        "print('neutral ', dnn_report['neutral'])"
      ],
      "metadata": {
        "colab": {
          "base_uri": "https://localhost:8080/"
        },
        "id": "SFqG5AV5bwMT",
        "outputId": "cb0870e9-26f5-428f-f734-2525bf990085"
      },
      "execution_count": null,
      "outputs": [
        {
          "output_type": "stream",
          "name": "stdout",
          "text": [
            "accuracy:  0.6506849315068494\n",
            "macro avg:  {'precision': 0.6520376175548589, 'recall': 0.6521606869698234, 'f1-score': 0.6486673868997603, 'support': 146}\n",
            "positive:  {'precision': 0.6379310344827587, 'recall': 0.7708333333333334, 'f1-score': 0.69811320754717, 'support': 48}\n",
            "negative:  {'precision': 0.6590909090909091, 'recall': 0.5686274509803921, 'f1-score': 0.6105263157894737, 'support': 51}\n",
            "neutral  {'precision': 0.6590909090909091, 'recall': 0.6170212765957447, 'f1-score': 0.6373626373626374, 'support': 47}\n"
          ]
        }
      ]
    },
    {
      "cell_type": "code",
      "source": [
        "cm = confusion_matrix(y_test_sen, y_pred_sen)\n",
        "cmd = ConfusionMatrixDisplay(cm, display_labels=[\"negative\", \"neutral\", \"positive\"])\n",
        "cmd.plot()"
      ],
      "metadata": {
        "colab": {
          "base_uri": "https://localhost:8080/",
          "height": 296
        },
        "id": "A7IRxPm8bqVY",
        "outputId": "2e68b636-a8c6-4f17-d550-7f5e61bc8da7"
      },
      "execution_count": null,
      "outputs": [
        {
          "output_type": "execute_result",
          "data": {
            "text/plain": [
              "<sklearn.metrics._plot.confusion_matrix.ConfusionMatrixDisplay at 0x7f8ef0aa2f10>"
            ]
          },
          "metadata": {},
          "execution_count": 59
        },
        {
          "output_type": "display_data",
          "data": {
            "text/plain": [
              "<Figure size 432x288 with 2 Axes>"
            ],
            "image/png": "[encoded data removed]"
          },
          "metadata": {
            "needs_background": "light"
          }
        }
      ]
    },
    {
      "cell_type": "code",
      "source": [
        "print_sentiment_breakdown(y_test_sen, \"Normalised Actual Sentiment breakdown of tweets\")"
      ],
      "metadata": {
        "colab": {
          "base_uri": "https://localhost:8080/",
          "height": 264
        },
        "id": "4x9Q0MieyxHk",
        "outputId": "5cd011ac-e6e9-44e1-a1a5-87ecfaa53046"
      },
      "execution_count": null,
      "outputs": [
        {
          "output_type": "display_data",
          "data": {
            "text/plain": [
              "<Figure size 432x288 with 1 Axes>"
            ],
            "image/png": "[encoded data removed]"
          },
          "metadata": {}
        }
      ]
    },
    {
      "cell_type": "code",
      "source": [
        "print_sentiment_breakdown(y_pred_sen, \"Normalised DNN Predicted Sentiment breakdown of tweets\")"
      ],
      "metadata": {
        "colab": {
          "base_uri": "https://localhost:8080/",
          "height": 264
        },
        "id": "Rjm_6VIvbttv",
        "outputId": "61e18263-04fb-4df5-c916-09b4e2ca9e6b"
      },
      "execution_count": null,
      "outputs": [
        {
          "output_type": "display_data",
          "data": {
            "text/plain": [
              "<Figure size 432x288 with 1 Axes>"
            ],
            "image/png": "[encoded data removed]"
          },
          "metadata": {}
        }
      ]
    },
    {
      "cell_type": "markdown",
      "source": [
        "Performance report on same topic:\n",
        "\n",
        "SVM:\n",
        "\n",
        "```\n",
        "accuracy:  0.6164383561643836\n",
        "macro avg:  {'precision': 0.6193964765393337, 'recall': 0.6170178216214022, 'f1-score': 0.617932034961738, 'support': 146}\n",
        "positive:  {'precision': 0.6530612244897959, 'recall': 0.6274509803921569, 'f1-score': 0.64, 'support': 51}\n",
        "negative:  {'precision': 0.6666666666666666, 'recall': 0.6521739130434783, 'f1-score': 0.6593406593406593, 'support': 46}\n",
        "neutral  {'precision': 0.5384615384615384, 'recall': 0.5714285714285714, 'f1-score': 0.5544554455445544, 'support': 49}\n",
        "```\n",
        "\n",
        "Vader:\n",
        "\n",
        "```\n",
        "accuracy:  0.636986301369863\n",
        "macro avg:  {'precision': 0.634137713056237, 'recall': 0.6466060842941829, 'f1-score': 0.6299058949422466, 'support': 146}\n",
        "positive:  {'precision': 0.803921568627451, 'recall': 0.6029411764705882, 'f1-score': 0.6890756302521008, 'support': 68}\n",
        "negative:  {'precision': 0.6086956521739131, 'recall': 0.6511627906976745, 'f1-score': 0.6292134831460675, 'support': 43}\n",
        "neutral  {'precision': 0.4897959183673469, 'recall': 0.6857142857142857, 'f1-score': 0.5714285714285715, 'support': 35}\n",
        "```\n",
        "\n",
        "DNN:\n",
        "\n",
        "```\n",
        "accuracy:  0.6506849315068494\n",
        "macro avg:  {'precision': 0.6520376175548589, 'recall': 0.6521606869698234, 'f1-score': 0.6486673868997603, 'support': 146}\n",
        "positive:  {'precision': 0.6379310344827587, 'recall': 0.7708333333333334, 'f1-score': 0.69811320754717, 'support': 48}\n",
        "negative:  {'precision': 0.6590909090909091, 'recall': 0.5686274509803921, 'f1-score': 0.6105263157894737, 'support': 51}\n",
        "neutral  {'precision': 0.6590909090909091, 'recall': 0.6170212765957447, 'f1-score': 0.6373626373626374, 'support': 47}\n",
        "```\n",
        "\n",
        "As we can see above the models perform quite similarly. The SVM struggles slightly more with `neutral` sentiment, Vader performs much better with `positive` sentiment but struggles the most with `neutral`, while the DNN appears to perform the best overall. "
      ],
      "metadata": {
        "id": "nb0zrVj-JEsI"
      }
    }
  ]
}