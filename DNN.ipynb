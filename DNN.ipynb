{
  "nbformat": 4,
  "nbformat_minor": 0,
  "metadata": {
    "colab": {
      "name": "DNN.ipynb",
      "provenance": [],
      "collapsed_sections": [],
      "authorship_tag": "ABX9TyNDUeimKOLn0vAOGJC7rmER",
      "include_colab_link": true
    },
    "kernelspec": {
      "name": "python3",
      "display_name": "Python 3"
    },
    "language_info": {
      "name": "python"
    },
    "accelerator": "GPU"
  },
  "cells": [
    {
      "cell_type": "markdown",
      "metadata": {
        "id": "view-in-github",
        "colab_type": "text"
      },
      "source": [
        "<a href=\"https://colab.research.google.com/github/rosshalpin/AdvancedML/blob/main/DNN.ipynb\" target=\"_parent\"><img src=\"https://colab.research.google.com/assets/colab-badge.svg\" alt=\"Open In Colab\"/></a>"
      ]
    },
    {
      "cell_type": "code",
      "execution_count": 1,
      "metadata": {
        "colab": {
          "base_uri": "https://localhost:8080/"
        },
        "id": "Nh9ejyUxw8Aw",
        "outputId": "94982281-f6e8-4bd9-e772-4d10b3e8bc2b"
      },
      "outputs": [
        {
          "output_type": "stream",
          "name": "stdout",
          "text": [
            "/\n",
            "Drive already mounted at /content/gdrive; to attempt to forcibly remount, call drive.mount(\"/content/gdrive\", force_remount=True).\n",
            "ln: failed to create symbolic link '/mydrive/My Drive': File exists\n",
            "/content/gdrive/My Drive/AdvancedML\n"
          ]
        }
      ],
      "source": [
        "%cd ..\n",
        "from google.colab import drive\n",
        "drive.mount('/content/gdrive')\n",
        "!ln -s /content/gdrive/My\\ Drive/ /mydrive\n",
        "%cd /mydrive/AdvancedML/"
      ]
    },
    {
      "cell_type": "code",
      "source": [
        "import pandas as pd\n",
        "\n",
        "df = pd.read_csv(\"tweets.1650486802.csv\")"
      ],
      "metadata": {
        "id": "zJl9PfQKxA2-"
      },
      "execution_count": 2,
      "outputs": []
    },
    {
      "cell_type": "code",
      "source": [
        "import re\n",
        "\n",
        "def remove_usernames(text):\n",
        "  return re.sub(r'@([^\\s]+)', '', text)\n",
        "\n",
        "def remove_hyperlinks(text):\n",
        "  return re.sub(r'http\\S+|www.\\S+|https', '', text)\n",
        "\n",
        "df.text = df.text.apply(remove_usernames)\n",
        "df.text = df.text.apply(remove_hyperlinks)\n",
        "df = df.drop_duplicates()\n",
        "df = df.drop(df.query('sentiment == \"neutral\"').sample(frac=.64, random_state=109).index)\n",
        "df.replace({r'[^\\x00-\\x7F]+':''}, regex=True, inplace=True)"
      ],
      "metadata": {
        "id": "IkbMgipHxC6d"
      },
      "execution_count": 3,
      "outputs": []
    },
    {
      "cell_type": "code",
      "source": [
        "import nltk\n",
        "from nltk.corpus import stopwords\n",
        "from nltk.tokenize import word_tokenize\n",
        "\n",
        "nltk.download('stopwords')\n",
        "nltk.download('punkt')\n",
        "\n",
        "stop_words = stopwords.words('english')"
      ],
      "metadata": {
        "colab": {
          "base_uri": "https://localhost:8080/"
        },
        "id": "9UgBBJ0CysGa",
        "outputId": "77e33fec-b79d-4b7d-9263-4524cbc4f555"
      },
      "execution_count": 4,
      "outputs": [
        {
          "output_type": "stream",
          "name": "stdout",
          "text": [
            "[nltk_data] Downloading package stopwords to /root/nltk_data...\n",
            "[nltk_data]   Package stopwords is already up-to-date!\n",
            "[nltk_data] Downloading package punkt to /root/nltk_data...\n",
            "[nltk_data]   Package punkt is already up-to-date!\n"
          ]
        }
      ]
    },
    {
      "cell_type": "code",
      "source": [
        "# import string\n",
        "\n",
        "# def remove_stopwords(text):\n",
        "#   word_tokens = word_tokenize(text)\n",
        "#   filtered_sentence = [w for w in word_tokens if not w.lower() in stop_words]\n",
        "#   sentence = \" \".join(filtered_sentence)\n",
        "#   return sentence\n",
        "\n",
        "#   df.text = df.text.apply(remove_stopwords)"
      ],
      "metadata": {
        "id": "a3hbDFt5Nr4r"
      },
      "execution_count": 5,
      "outputs": []
    },
    {
      "cell_type": "code",
      "source": [
        "from keras.preprocessing.text import Tokenizer\n",
        "from keras.preprocessing.sequence import pad_sequences\n",
        "from sklearn.model_selection import train_test_split\n",
        "\n",
        "\n",
        "Y = pd.get_dummies(df.sentiment).values\n",
        "\n",
        "max_features = 100\n",
        "\n",
        "tokenizer = Tokenizer(num_words=max_features, split=' ')\n",
        "tokenizer.fit_on_texts(df.text)\n",
        "\n",
        "X = pad_sequences(tokenizer.texts_to_sequences(df.text))\n",
        "\n",
        "X_train, X_test, y_train, y_test = train_test_split(X, Y, test_size=0.3, random_state=409, shuffle=True)"
      ],
      "metadata": {
        "id": "Osu3MFiGxF5o"
      },
      "execution_count": 6,
      "outputs": []
    },
    {
      "cell_type": "code",
      "source": [
        "import torch\n",
        "torch.cuda.is_available()"
      ],
      "metadata": {
        "colab": {
          "base_uri": "https://localhost:8080/"
        },
        "id": "NkhIsPJsxT9l",
        "outputId": "83249957-0f25-4daa-d6ad-97f307eb25ad"
      },
      "execution_count": 7,
      "outputs": [
        {
          "output_type": "execute_result",
          "data": {
            "text/plain": [
              "True"
            ]
          },
          "metadata": {},
          "execution_count": 7
        }
      ]
    },
    {
      "cell_type": "code",
      "source": [
        "from keras.models import Sequential\n",
        "from keras.layers import Dense, Embedding, LSTM, SpatialDropout1D\n",
        "from keras.utils.np_utils import to_categorical\n",
        "\n",
        "from keras.callbacks import History \n",
        "history = History()\n",
        "\n",
        "embed_dim = 20\n",
        "lstm_out = 5\n",
        "\n",
        "\n",
        "model = Sequential()\n",
        "model.add(Embedding(max_features, embed_dim,input_length = X.shape[1]))\n",
        "model.add(LSTM(lstm_out, dropout=0.4, recurrent_dropout=0.4))\n",
        "model.add(Dense(3,activation='softmax'))\n",
        "model.compile(loss = 'categorical_crossentropy', optimizer='adam', metrics = ['accuracy'])\n",
        "print(model.summary())"
      ],
      "metadata": {
        "colab": {
          "base_uri": "https://localhost:8080/"
        },
        "id": "Cmir0OE60FNw",
        "outputId": "e8316759-8042-42b0-a0fe-7df94368e399"
      },
      "execution_count": 8,
      "outputs": [
        {
          "output_type": "stream",
          "name": "stdout",
          "text": [
            "WARNING:tensorflow:Layer lstm will not use cuDNN kernels since it doesn't meet the criteria. It will use a generic GPU kernel as fallback when running on GPU.\n",
            "Model: \"sequential\"\n",
            "_________________________________________________________________\n",
            " Layer (type)                Output Shape              Param #   \n",
            "=================================================================\n",
            " embedding (Embedding)       (None, 42, 20)            2000      \n",
            "                                                                 \n",
            " lstm (LSTM)                 (None, 5)                 520       \n",
            "                                                                 \n",
            " dense (Dense)               (None, 3)                 18        \n",
            "                                                                 \n",
            "=================================================================\n",
            "Total params: 2,538\n",
            "Trainable params: 2,538\n",
            "Non-trainable params: 0\n",
            "_________________________________________________________________\n",
            "None\n"
          ]
        }
      ]
    },
    {
      "cell_type": "code",
      "source": [
        "batch_size = 32\n",
        "history2 = model.fit(X_train, y_train, validation_data=(X_test, y_test), epochs = 40, batch_size=batch_size, verbose = 2, callbacks=[history])"
      ],
      "metadata": {
        "colab": {
          "base_uri": "https://localhost:8080/"
        },
        "id": "NJMhOR2z0nKa",
        "outputId": "d352f269-a7b1-417e-ae74-3408a11d9884"
      },
      "execution_count": 9,
      "outputs": [
        {
          "output_type": "stream",
          "name": "stdout",
          "text": [
            "Epoch 1/40\n",
            "34/34 - 22s - loss: 1.0974 - accuracy: 0.3596 - val_loss: 1.0917 - val_accuracy: 0.4127 - 22s/epoch - 650ms/step\n",
            "Epoch 2/40\n",
            "34/34 - 6s - loss: 1.0887 - accuracy: 0.4054 - val_loss: 1.0781 - val_accuracy: 0.3908 - 6s/epoch - 190ms/step\n",
            "Epoch 3/40\n",
            "34/34 - 6s - loss: 1.0740 - accuracy: 0.4448 - val_loss: 1.0574 - val_accuracy: 0.4454 - 6s/epoch - 181ms/step\n",
            "Epoch 4/40\n",
            "34/34 - 6s - loss: 1.0542 - accuracy: 0.4569 - val_loss: 1.0306 - val_accuracy: 0.4869 - 6s/epoch - 186ms/step\n",
            "Epoch 5/40\n",
            "34/34 - 6s - loss: 1.0348 - accuracy: 0.4850 - val_loss: 1.0074 - val_accuracy: 0.5087 - 6s/epoch - 180ms/step\n",
            "Epoch 6/40\n",
            "34/34 - 6s - loss: 1.0150 - accuracy: 0.5000 - val_loss: 0.9855 - val_accuracy: 0.5218 - 6s/epoch - 180ms/step\n",
            "Epoch 7/40\n",
            "34/34 - 6s - loss: 0.9952 - accuracy: 0.5206 - val_loss: 0.9669 - val_accuracy: 0.5611 - 6s/epoch - 176ms/step\n",
            "Epoch 8/40\n",
            "34/34 - 6s - loss: 0.9760 - accuracy: 0.5637 - val_loss: 0.9444 - val_accuracy: 0.5786 - 6s/epoch - 180ms/step\n",
            "Epoch 9/40\n",
            "34/34 - 6s - loss: 0.9531 - accuracy: 0.5618 - val_loss: 0.9259 - val_accuracy: 0.5742 - 6s/epoch - 181ms/step\n",
            "Epoch 10/40\n",
            "34/34 - 6s - loss: 0.9293 - accuracy: 0.5777 - val_loss: 0.9033 - val_accuracy: 0.5808 - 6s/epoch - 179ms/step\n",
            "Epoch 11/40\n",
            "34/34 - 6s - loss: 0.9067 - accuracy: 0.5852 - val_loss: 0.8902 - val_accuracy: 0.5852 - 6s/epoch - 185ms/step\n",
            "Epoch 12/40\n",
            "34/34 - 6s - loss: 0.9019 - accuracy: 0.5918 - val_loss: 0.8790 - val_accuracy: 0.5983 - 6s/epoch - 182ms/step\n",
            "Epoch 13/40\n",
            "34/34 - 6s - loss: 0.8724 - accuracy: 0.6114 - val_loss: 0.8751 - val_accuracy: 0.5961 - 6s/epoch - 181ms/step\n",
            "Epoch 14/40\n",
            "34/34 - 6s - loss: 0.8600 - accuracy: 0.6142 - val_loss: 0.8685 - val_accuracy: 0.6004 - 6s/epoch - 182ms/step\n",
            "Epoch 15/40\n",
            "34/34 - 6s - loss: 0.8535 - accuracy: 0.6114 - val_loss: 0.8627 - val_accuracy: 0.6223 - 6s/epoch - 177ms/step\n",
            "Epoch 16/40\n",
            "34/34 - 7s - loss: 0.8591 - accuracy: 0.6217 - val_loss: 0.8633 - val_accuracy: 0.6135 - 7s/epoch - 201ms/step\n",
            "Epoch 17/40\n",
            "34/34 - 6s - loss: 0.8377 - accuracy: 0.6395 - val_loss: 0.8612 - val_accuracy: 0.6179 - 6s/epoch - 184ms/step\n",
            "Epoch 18/40\n",
            "34/34 - 6s - loss: 0.8454 - accuracy: 0.6189 - val_loss: 0.8844 - val_accuracy: 0.6135 - 6s/epoch - 185ms/step\n",
            "Epoch 19/40\n",
            "34/34 - 6s - loss: 0.8341 - accuracy: 0.6292 - val_loss: 0.8661 - val_accuracy: 0.6266 - 6s/epoch - 184ms/step\n",
            "Epoch 20/40\n",
            "34/34 - 6s - loss: 0.8255 - accuracy: 0.6386 - val_loss: 0.8634 - val_accuracy: 0.6376 - 6s/epoch - 181ms/step\n",
            "Epoch 21/40\n",
            "34/34 - 6s - loss: 0.8283 - accuracy: 0.6386 - val_loss: 0.8677 - val_accuracy: 0.6245 - 6s/epoch - 187ms/step\n",
            "Epoch 22/40\n",
            "34/34 - 6s - loss: 0.8252 - accuracy: 0.6423 - val_loss: 0.8738 - val_accuracy: 0.6245 - 6s/epoch - 182ms/step\n",
            "Epoch 23/40\n",
            "34/34 - 6s - loss: 0.8098 - accuracy: 0.6601 - val_loss: 0.8706 - val_accuracy: 0.6332 - 6s/epoch - 177ms/step\n",
            "Epoch 24/40\n",
            "34/34 - 6s - loss: 0.8201 - accuracy: 0.6395 - val_loss: 0.8803 - val_accuracy: 0.6376 - 6s/epoch - 186ms/step\n",
            "Epoch 25/40\n",
            "34/34 - 6s - loss: 0.8098 - accuracy: 0.6479 - val_loss: 0.8772 - val_accuracy: 0.6354 - 6s/epoch - 179ms/step\n",
            "Epoch 26/40\n",
            "34/34 - 6s - loss: 0.8169 - accuracy: 0.6414 - val_loss: 0.8791 - val_accuracy: 0.6266 - 6s/epoch - 181ms/step\n",
            "Epoch 27/40\n",
            "34/34 - 6s - loss: 0.8119 - accuracy: 0.6348 - val_loss: 0.8711 - val_accuracy: 0.6245 - 6s/epoch - 181ms/step\n",
            "Epoch 28/40\n",
            "34/34 - 6s - loss: 0.8065 - accuracy: 0.6545 - val_loss: 0.8746 - val_accuracy: 0.6157 - 6s/epoch - 183ms/step\n",
            "Epoch 29/40\n",
            "34/34 - 6s - loss: 0.8084 - accuracy: 0.6414 - val_loss: 0.8811 - val_accuracy: 0.6026 - 6s/epoch - 188ms/step\n",
            "Epoch 30/40\n",
            "34/34 - 6s - loss: 0.8060 - accuracy: 0.6554 - val_loss: 0.8809 - val_accuracy: 0.6223 - 6s/epoch - 175ms/step\n",
            "Epoch 31/40\n",
            "34/34 - 6s - loss: 0.8089 - accuracy: 0.6433 - val_loss: 0.8800 - val_accuracy: 0.6288 - 6s/epoch - 183ms/step\n",
            "Epoch 32/40\n",
            "34/34 - 6s - loss: 0.8130 - accuracy: 0.6339 - val_loss: 0.8887 - val_accuracy: 0.6135 - 6s/epoch - 184ms/step\n",
            "Epoch 33/40\n",
            "34/34 - 7s - loss: 0.8012 - accuracy: 0.6526 - val_loss: 0.8814 - val_accuracy: 0.6332 - 7s/epoch - 201ms/step\n",
            "Epoch 34/40\n",
            "34/34 - 6s - loss: 0.7965 - accuracy: 0.6292 - val_loss: 0.8798 - val_accuracy: 0.6419 - 6s/epoch - 188ms/step\n",
            "Epoch 35/40\n",
            "34/34 - 6s - loss: 0.8106 - accuracy: 0.6489 - val_loss: 0.8787 - val_accuracy: 0.6266 - 6s/epoch - 181ms/step\n",
            "Epoch 36/40\n",
            "34/34 - 6s - loss: 0.7887 - accuracy: 0.6498 - val_loss: 0.8862 - val_accuracy: 0.6223 - 6s/epoch - 181ms/step\n",
            "Epoch 37/40\n",
            "34/34 - 6s - loss: 0.7871 - accuracy: 0.6601 - val_loss: 0.8874 - val_accuracy: 0.6157 - 6s/epoch - 177ms/step\n",
            "Epoch 38/40\n",
            "34/34 - 6s - loss: 0.7953 - accuracy: 0.6507 - val_loss: 0.8877 - val_accuracy: 0.6201 - 6s/epoch - 178ms/step\n",
            "Epoch 39/40\n",
            "34/34 - 6s - loss: 0.7871 - accuracy: 0.6526 - val_loss: 0.8939 - val_accuracy: 0.6092 - 6s/epoch - 184ms/step\n",
            "Epoch 40/40\n",
            "34/34 - 6s - loss: 0.7830 - accuracy: 0.6648 - val_loss: 0.8891 - val_accuracy: 0.6201 - 6s/epoch - 178ms/step\n"
          ]
        }
      ]
    },
    {
      "cell_type": "code",
      "source": [
        "import matplotlib.pyplot as plt\n",
        "\n",
        "plt.plot(history2.history['loss'])\n",
        "plt.plot(history2.history['val_loss'])\n",
        "plt.title('Loss')\n",
        "plt.ylabel('loss')\n",
        "plt.xlabel('epoch')\n",
        "plt.legend(['train', 'validation'], loc='best')\n",
        "plt.show()\n",
        "\n",
        "plt.plot(history2.history['accuracy'])\n",
        "plt.plot(history2.history['val_accuracy'])\n",
        "plt.title('Accuracy')\n",
        "plt.ylabel('accuracy')\n",
        "plt.xlabel('epoch')\n",
        "plt.legend(['train', 'validation'], loc='best')\n",
        "plt.show()"
      ],
      "metadata": {
        "colab": {
          "base_uri": "https://localhost:8080/",
          "height": 573
        },
        "id": "Dci1Ni9c24RO",
        "outputId": "f55e06f9-c123-4aa8-fe17-88885939ea80"
      },
      "execution_count": 19,
      "outputs": [
        {
          "output_type": "display_data",
          "data": {
            "text/plain": [
              "<Figure size 432x288 with 1 Axes>"
            ],
            "image/png": "[encoded data removed]"
          },
          "metadata": {
            "needs_background": "light"
          }
        },
        {
          "output_type": "display_data",
          "data": {
            "text/plain": [
              "<Figure size 432x288 with 1 Axes>"
            ],
            "image/png": "[encoded data removed]"
          },
          "metadata": {
            "needs_background": "light"
          }
        }
      ]
    },
    {
      "cell_type": "code",
      "source": [
        "# model.save('dnn')"
      ],
      "metadata": {
        "id": "Y1BO-YGrFvHs"
      },
      "execution_count": 11,
      "outputs": []
    },
    {
      "cell_type": "code",
      "source": [
        "# from tensorflow import keras\n",
        "\n",
        "# try:\n",
        "#   model = keras.models.load_model('dnn')\n",
        "# except:\n",
        "#   model = None"
      ],
      "metadata": {
        "id": "eZ5KWCzfG_tN"
      },
      "execution_count": 12,
      "outputs": []
    },
    {
      "cell_type": "code",
      "source": [
        "y_pred = model.predict(X_test)"
      ],
      "metadata": {
        "id": "QsZ96tB2HTrB"
      },
      "execution_count": 13,
      "outputs": []
    },
    {
      "cell_type": "code",
      "source": [
        "y_pred"
      ],
      "metadata": {
        "colab": {
          "base_uri": "https://localhost:8080/"
        },
        "id": "uOsq7LbaIVaO",
        "outputId": "28ee0f36-e4af-4f15-ce7d-187a3653c5ca"
      },
      "execution_count": 14,
      "outputs": [
        {
          "output_type": "execute_result",
          "data": {
            "text/plain": [
              "array([[0.45570967, 0.31063747, 0.23365282],\n",
              "       [0.21722607, 0.55184436, 0.23092955],\n",
              "       [0.13705741, 0.6844023 , 0.17854032],\n",
              "       ...,\n",
              "       [0.08743315, 0.61368763, 0.29887918],\n",
              "       [0.02419468, 0.9347129 , 0.04109238],\n",
              "       [0.21257225, 0.5199141 , 0.26751363]], dtype=float32)"
            ]
          },
          "metadata": {},
          "execution_count": 14
        }
      ]
    },
    {
      "cell_type": "code",
      "source": [
        "import operator\n",
        "# negative, neutral, positive\n",
        "\n",
        "def get_sentiment(values):\n",
        "  max_index, max_value = max(enumerate(values), key=operator.itemgetter(1))\n",
        "  if max_index == 0:\n",
        "    return \"negative\"\n",
        "  if max_index == 1:\n",
        "    return \"neutral\"\n",
        "  if max_index == 2:\n",
        "    return \"positive\"\n",
        "  return \"mixed\""
      ],
      "metadata": {
        "id": "fWwrPMQeHap5"
      },
      "execution_count": 15,
      "outputs": []
    },
    {
      "cell_type": "code",
      "source": [
        "y_pred = pd.DataFrame([get_sentiment(vals) for vals in y_pred])[0]\n",
        "y_test = pd.DataFrame([get_sentiment(vals) for vals in y_test])[0]"
      ],
      "metadata": {
        "id": "JuGQDvIEI8go"
      },
      "execution_count": 16,
      "outputs": []
    },
    {
      "cell_type": "code",
      "source": [
        "from sklearn.metrics import confusion_matrix, ConfusionMatrixDisplay\n",
        "\n",
        "cm = confusion_matrix(y_test, y_pred)\n",
        "cmd = ConfusionMatrixDisplay(cm, display_labels=[\"negative\", \"neutral\", \"positive\"])\n",
        "cmd.plot()"
      ],
      "metadata": {
        "colab": {
          "base_uri": "https://localhost:8080/",
          "height": 297
        },
        "id": "3JBMd2CjJVFy",
        "outputId": "2335e82b-e4de-49ab-ecdd-bbc206e03093"
      },
      "execution_count": 17,
      "outputs": [
        {
          "output_type": "execute_result",
          "data": {
            "text/plain": [
              "<sklearn.metrics._plot.confusion_matrix.ConfusionMatrixDisplay at 0x7f5747228950>"
            ]
          },
          "metadata": {},
          "execution_count": 17
        },
        {
          "output_type": "display_data",
          "data": {
            "text/plain": [
              "<Figure size 432x288 with 2 Axes>"
            ],
            "image/png": "[encoded data removed]"
          },
          "metadata": {
            "needs_background": "light"
          }
        }
      ]
    },
    {
      "cell_type": "code",
      "source": [
        "from sklearn.metrics import classification_report\n",
        "\n",
        "dnn_report = classification_report(y_test, y_pred, output_dict=True)\n",
        "print('accuracy: ', dnn_report['accuracy'])\n",
        "print('macro avg: ', dnn_report['macro avg'])\n",
        "print('positive: ', dnn_report['positive'])\n",
        "print('negative: ', dnn_report['negative'])\n",
        "print('neutral ', dnn_report['neutral'])"
      ],
      "metadata": {
        "colab": {
          "base_uri": "https://localhost:8080/"
        },
        "id": "Pa6TiPYkJ57d",
        "outputId": "feb57d30-8cbe-45c0-ae63-799652e8da7f"
      },
      "execution_count": 18,
      "outputs": [
        {
          "output_type": "stream",
          "name": "stdout",
          "text": [
            "accuracy:  0.6200873362445415\n",
            "macro avg:  {'precision': 0.6198094177480429, 'recall': 0.620905379903815, 'f1-score': 0.6190392227747518, 'support': 458}\n",
            "positive:  {'precision': 0.6408450704225352, 'recall': 0.5617283950617284, 'f1-score': 0.5986842105263158, 'support': 162}\n",
            "negative:  {'precision': 0.5761589403973509, 'recall': 0.6126760563380281, 'f1-score': 0.5938566552901023, 'support': 142}\n",
            "neutral  {'precision': 0.6424242424242425, 'recall': 0.6883116883116883, 'f1-score': 0.664576802507837, 'support': 154}\n"
          ]
        }
      ]
    },
    {
      "cell_type": "code",
      "source": [
        "label_colors = {\n",
        "    \"neutral\": \"lightgrey\",\n",
        "    \"negative\": \"orangered\",\n",
        "    \"positive\": \"lightgreen\"\n",
        "}\n",
        "\n",
        "pred_counts = y_pred.value_counts(normalize=True) * 100\n",
        "label = pred_counts.keys()\n",
        "color= [label_colors[l] for l in label]\n",
        "plt.pie(pred_counts, labels=label, colors = color, autopct='%.0f%%')\n",
        "plt.title(\"Predicted value sentiment breakdown\")\n",
        "plt.show()"
      ],
      "metadata": {
        "colab": {
          "base_uri": "https://localhost:8080/",
          "height": 264
        },
        "id": "VpGPu-tlTZOa",
        "outputId": "92fb98db-c37d-4842-9996-f6825ad5a6ab"
      },
      "execution_count": 48,
      "outputs": [
        {
          "output_type": "display_data",
          "data": {
            "text/plain": [
              "<Figure size 432x288 with 1 Axes>"
            ],
            "image/png": "[encoded data removed]"
          },
          "metadata": {}
        }
      ]
    },
    {
      "cell_type": "code",
      "source": [
        "test_counts = y_test.value_counts(normalize=True) * 100\n",
        "label = test_counts.keys()\n",
        "color= [label_colors[l] for l in label]\n",
        "plt.pie(pred_counts, labels=label, colors = color, autopct='%.0f%%')\n",
        "plt.title(\"Actual value sentiment breakdown\")\n",
        "plt.show()"
      ],
      "metadata": {
        "colab": {
          "base_uri": "https://localhost:8080/",
          "height": 264
        },
        "id": "NmvVLdLXTb4d",
        "outputId": "21f01e9f-f095-42e1-a8c1-993392c4143a"
      },
      "execution_count": 49,
      "outputs": [
        {
          "output_type": "display_data",
          "data": {
            "text/plain": [
              "<Figure size 432x288 with 1 Axes>"
            ],
            "image/png": "[encoded data removed]"
          },
          "metadata": {}
        }
      ]
    }
  ]
}