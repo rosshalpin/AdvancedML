{
  "nbformat": 4,
  "nbformat_minor": 0,
  "metadata": {
    "colab": {
      "name": "DNN.ipynb",
      "provenance": [],
      "authorship_tag": "ABX9TyNzQNW4Kymkokh7qBu/9H4I",
      "include_colab_link": true
    },
    "kernelspec": {
      "name": "python3",
      "display_name": "Python 3"
    },
    "language_info": {
      "name": "python"
    },
    "accelerator": "GPU"
  },
  "cells": [
    {
      "cell_type": "markdown",
      "metadata": {
        "id": "view-in-github",
        "colab_type": "text"
      },
      "source": [
        "<a href=\"https://colab.research.google.com/github/rosshalpin/AdvancedML/blob/main/DNN.ipynb\" target=\"_parent\"><img src=\"https://colab.research.google.com/assets/colab-badge.svg\" alt=\"Open In Colab\"/></a>"
      ]
    },
    {
      "cell_type": "code",
      "execution_count": 1,
      "metadata": {
        "colab": {
          "base_uri": "https://localhost:8080/"
        },
        "id": "Nh9ejyUxw8Aw",
        "outputId": "54d559f9-de03-46ff-d8ad-5ab2d3eecb99"
      },
      "outputs": [
        {
          "output_type": "stream",
          "name": "stdout",
          "text": [
            "/\n",
            "Drive already mounted at /content/gdrive; to attempt to forcibly remount, call drive.mount(\"/content/gdrive\", force_remount=True).\n",
            "ln: failed to create symbolic link '/mydrive/My Drive': File exists\n",
            "/content/gdrive/My Drive/AdvancedML\n"
          ]
        }
      ],
      "source": [
        "%cd ..\n",
        "from google.colab import drive\n",
        "drive.mount('/content/gdrive')\n",
        "!ln -s /content/gdrive/My\\ Drive/ /mydrive\n",
        "%cd /mydrive/AdvancedML/"
      ]
    },
    {
      "cell_type": "code",
      "source": [
        "import pandas as pd\n",
        "\n",
        "df = pd.read_csv(\"tweets.1650486802.csv\")"
      ],
      "metadata": {
        "id": "zJl9PfQKxA2-"
      },
      "execution_count": 2,
      "outputs": []
    },
    {
      "cell_type": "code",
      "source": [
        "import re\n",
        "\n",
        "def remove_usernames(text):\n",
        "  return re.sub(r'@([^\\s]+)', '', text)\n",
        "\n",
        "def remove_hyperlinks(text):\n",
        "  return re.sub(r'http\\S+|www.\\S+|https', '', text)\n",
        "\n",
        "df.text = df.text.apply(remove_usernames)\n",
        "df.text = df.text.apply(remove_hyperlinks)\n",
        "df = df.drop_duplicates()\n",
        "df = df.drop(df.query('sentiment == \"neutral\"').sample(frac=.64, random_state=109).index)\n",
        "df.replace({r'[^\\x00-\\x7F]+':''}, regex=True, inplace=True)"
      ],
      "metadata": {
        "id": "IkbMgipHxC6d"
      },
      "execution_count": 3,
      "outputs": []
    },
    {
      "cell_type": "code",
      "source": [
        "import nltk\n",
        "from nltk.corpus import stopwords\n",
        "nltk.download('stopwords')"
      ],
      "metadata": {
        "colab": {
          "base_uri": "https://localhost:8080/"
        },
        "id": "9UgBBJ0CysGa",
        "outputId": "9e370292-283e-463f-ceef-ad12fcbc7450"
      },
      "execution_count": 4,
      "outputs": [
        {
          "output_type": "stream",
          "name": "stdout",
          "text": [
            "[nltk_data] Downloading package stopwords to /root/nltk_data...\n",
            "[nltk_data]   Package stopwords is already up-to-date!\n"
          ]
        },
        {
          "output_type": "execute_result",
          "data": {
            "text/plain": [
              "True"
            ]
          },
          "metadata": {},
          "execution_count": 4
        }
      ]
    },
    {
      "cell_type": "code",
      "source": [
        "from keras.preprocessing.text import Tokenizer\n",
        "from keras.preprocessing.sequence import pad_sequences\n",
        "from sklearn.model_selection import train_test_split\n",
        "\n",
        "\n",
        "Y = pd.get_dummies(df.sentiment).values\n",
        "\n",
        "max_features = 100\n",
        "\n",
        "tokenizer = Tokenizer(num_words=max_features, split=' ')\n",
        "tokenizer.fit_on_texts(df.text)\n",
        "\n",
        "X = pad_sequences(tokenizer.texts_to_sequences(df.text))\n",
        "\n",
        "X_train, X_test, y_train, y_test = train_test_split(X, Y, test_size=0.3, random_state=409, shuffle=True)"
      ],
      "metadata": {
        "id": "Osu3MFiGxF5o"
      },
      "execution_count": 72,
      "outputs": []
    },
    {
      "cell_type": "code",
      "source": [
        "import torch\n",
        "torch.cuda.is_available()"
      ],
      "metadata": {
        "colab": {
          "base_uri": "https://localhost:8080/"
        },
        "id": "NkhIsPJsxT9l",
        "outputId": "b3ebaa42-a478-41ce-9aef-3ddca95e9343"
      },
      "execution_count": 6,
      "outputs": [
        {
          "output_type": "execute_result",
          "data": {
            "text/plain": [
              "True"
            ]
          },
          "metadata": {},
          "execution_count": 6
        }
      ]
    },
    {
      "cell_type": "code",
      "source": [
        "from keras.models import Sequential\n",
        "from keras.layers import Dense, Embedding, LSTM, SpatialDropout1D\n",
        "from keras.utils.np_utils import to_categorical\n",
        "\n",
        "from keras.callbacks import History \n",
        "history = History()\n",
        "\n",
        "embed_dim = 20\n",
        "lstm_out = 5\n",
        "\n",
        "model = Sequential()\n",
        "model.add(Embedding(max_features, embed_dim,input_length = X.shape[1]))\n",
        "model.add(LSTM(lstm_out, dropout=0.4, recurrent_dropout=0.4))\n",
        "model.add(Dense(3,activation='softmax'))\n",
        "model.compile(loss = 'categorical_crossentropy', optimizer='adam', metrics = ['accuracy'])\n",
        "print(model.summary())"
      ],
      "metadata": {
        "colab": {
          "base_uri": "https://localhost:8080/"
        },
        "id": "Cmir0OE60FNw",
        "outputId": "535a2b84-f08d-4c16-8a43-f054585fb4cc"
      },
      "execution_count": 74,
      "outputs": [
        {
          "output_type": "stream",
          "name": "stdout",
          "text": [
            "WARNING:tensorflow:Layer lstm_22 will not use cuDNN kernels since it doesn't meet the criteria. It will use a generic GPU kernel as fallback when running on GPU.\n",
            "Model: \"sequential_22\"\n",
            "_________________________________________________________________\n",
            " Layer (type)                Output Shape              Param #   \n",
            "=================================================================\n",
            " embedding_19 (Embedding)    (None, 42, 20)            2000      \n",
            "                                                                 \n",
            " lstm_22 (LSTM)              (None, 5)                 520       \n",
            "                                                                 \n",
            " dense_22 (Dense)            (None, 3)                 18        \n",
            "                                                                 \n",
            "=================================================================\n",
            "Total params: 2,538\n",
            "Trainable params: 2,538\n",
            "Non-trainable params: 0\n",
            "_________________________________________________________________\n",
            "None\n"
          ]
        }
      ]
    },
    {
      "cell_type": "code",
      "source": [
        "batch_size = 32\n",
        "history2 = model.fit(X_train, y_train, validation_data=(X_test, y_test), epochs = 40, batch_size=batch_size, verbose = 2, callbacks=[history])"
      ],
      "metadata": {
        "colab": {
          "base_uri": "https://localhost:8080/"
        },
        "id": "NJMhOR2z0nKa",
        "outputId": "8d893955-367a-4cad-a678-15d7a94201ac"
      },
      "execution_count": 75,
      "outputs": [
        {
          "output_type": "stream",
          "name": "stdout",
          "text": [
            "Epoch 1/40\n",
            "34/34 - 9s - loss: 1.0961 - accuracy: 0.3764 - val_loss: 1.0893 - val_accuracy: 0.4301 - 9s/epoch - 267ms/step\n",
            "Epoch 2/40\n",
            "34/34 - 6s - loss: 1.0869 - accuracy: 0.4045 - val_loss: 1.0776 - val_accuracy: 0.4127 - 6s/epoch - 187ms/step\n",
            "Epoch 3/40\n",
            "34/34 - 6s - loss: 1.0743 - accuracy: 0.4429 - val_loss: 1.0599 - val_accuracy: 0.4629 - 6s/epoch - 182ms/step\n",
            "Epoch 4/40\n",
            "34/34 - 6s - loss: 1.0580 - accuracy: 0.4757 - val_loss: 1.0398 - val_accuracy: 0.4978 - 6s/epoch - 182ms/step\n",
            "Epoch 5/40\n",
            "34/34 - 6s - loss: 1.0405 - accuracy: 0.5122 - val_loss: 1.0210 - val_accuracy: 0.5044 - 6s/epoch - 187ms/step\n",
            "Epoch 6/40\n",
            "34/34 - 6s - loss: 1.0235 - accuracy: 0.5253 - val_loss: 0.9976 - val_accuracy: 0.5371 - 6s/epoch - 190ms/step\n",
            "Epoch 7/40\n",
            "34/34 - 6s - loss: 1.0038 - accuracy: 0.5309 - val_loss: 0.9726 - val_accuracy: 0.5655 - 6s/epoch - 183ms/step\n",
            "Epoch 8/40\n",
            "34/34 - 6s - loss: 0.9800 - accuracy: 0.5506 - val_loss: 0.9583 - val_accuracy: 0.5764 - 6s/epoch - 181ms/step\n",
            "Epoch 9/40\n",
            "34/34 - 6s - loss: 0.9533 - accuracy: 0.5655 - val_loss: 0.9225 - val_accuracy: 0.5939 - 6s/epoch - 183ms/step\n",
            "Epoch 10/40\n",
            "34/34 - 6s - loss: 0.9291 - accuracy: 0.5824 - val_loss: 0.8970 - val_accuracy: 0.6157 - 6s/epoch - 181ms/step\n",
            "Epoch 11/40\n",
            "34/34 - 6s - loss: 0.9051 - accuracy: 0.5815 - val_loss: 0.8976 - val_accuracy: 0.6092 - 6s/epoch - 183ms/step\n",
            "Epoch 12/40\n",
            "34/34 - 6s - loss: 0.8988 - accuracy: 0.5936 - val_loss: 0.8803 - val_accuracy: 0.6070 - 6s/epoch - 173ms/step\n",
            "Epoch 13/40\n",
            "34/34 - 6s - loss: 0.8836 - accuracy: 0.6002 - val_loss: 0.8738 - val_accuracy: 0.6114 - 6s/epoch - 182ms/step\n",
            "Epoch 14/40\n",
            "34/34 - 6s - loss: 0.8710 - accuracy: 0.6067 - val_loss: 0.8659 - val_accuracy: 0.6288 - 6s/epoch - 172ms/step\n",
            "Epoch 15/40\n",
            "34/34 - 7s - loss: 0.8663 - accuracy: 0.6096 - val_loss: 0.8651 - val_accuracy: 0.6310 - 7s/epoch - 204ms/step\n",
            "Epoch 16/40\n",
            "34/34 - 7s - loss: 0.8590 - accuracy: 0.6114 - val_loss: 0.8789 - val_accuracy: 0.5917 - 7s/epoch - 204ms/step\n",
            "Epoch 17/40\n",
            "34/34 - 7s - loss: 0.8579 - accuracy: 0.6086 - val_loss: 0.8713 - val_accuracy: 0.6048 - 7s/epoch - 217ms/step\n",
            "Epoch 18/40\n",
            "34/34 - 6s - loss: 0.8400 - accuracy: 0.6367 - val_loss: 0.8643 - val_accuracy: 0.6135 - 6s/epoch - 188ms/step\n",
            "Epoch 19/40\n",
            "34/34 - 6s - loss: 0.8399 - accuracy: 0.6208 - val_loss: 0.8626 - val_accuracy: 0.6266 - 6s/epoch - 182ms/step\n",
            "Epoch 20/40\n",
            "34/34 - 6s - loss: 0.8487 - accuracy: 0.6217 - val_loss: 0.8613 - val_accuracy: 0.6376 - 6s/epoch - 179ms/step\n",
            "Epoch 21/40\n",
            "34/34 - 6s - loss: 0.8272 - accuracy: 0.6311 - val_loss: 0.8607 - val_accuracy: 0.6266 - 6s/epoch - 182ms/step\n",
            "Epoch 22/40\n",
            "34/34 - 6s - loss: 0.8291 - accuracy: 0.6273 - val_loss: 0.8678 - val_accuracy: 0.6070 - 6s/epoch - 181ms/step\n",
            "Epoch 23/40\n",
            "34/34 - 6s - loss: 0.8171 - accuracy: 0.6367 - val_loss: 0.8619 - val_accuracy: 0.6310 - 6s/epoch - 188ms/step\n",
            "Epoch 24/40\n",
            "34/34 - 6s - loss: 0.8198 - accuracy: 0.6414 - val_loss: 0.8633 - val_accuracy: 0.6354 - 6s/epoch - 185ms/step\n",
            "Epoch 25/40\n",
            "34/34 - 6s - loss: 0.8122 - accuracy: 0.6461 - val_loss: 0.8738 - val_accuracy: 0.6310 - 6s/epoch - 188ms/step\n",
            "Epoch 26/40\n",
            "34/34 - 6s - loss: 0.8150 - accuracy: 0.6386 - val_loss: 0.8630 - val_accuracy: 0.6376 - 6s/epoch - 188ms/step\n",
            "Epoch 27/40\n",
            "34/34 - 6s - loss: 0.8124 - accuracy: 0.6451 - val_loss: 0.8702 - val_accuracy: 0.6332 - 6s/epoch - 182ms/step\n",
            "Epoch 28/40\n",
            "34/34 - 6s - loss: 0.8071 - accuracy: 0.6433 - val_loss: 0.8634 - val_accuracy: 0.6528 - 6s/epoch - 184ms/step\n",
            "Epoch 29/40\n",
            "34/34 - 6s - loss: 0.8060 - accuracy: 0.6386 - val_loss: 0.8617 - val_accuracy: 0.6288 - 6s/epoch - 184ms/step\n",
            "Epoch 30/40\n",
            "34/34 - 6s - loss: 0.8055 - accuracy: 0.6470 - val_loss: 0.8622 - val_accuracy: 0.6397 - 6s/epoch - 184ms/step\n",
            "Epoch 31/40\n",
            "34/34 - 6s - loss: 0.7957 - accuracy: 0.6545 - val_loss: 0.8676 - val_accuracy: 0.6419 - 6s/epoch - 181ms/step\n",
            "Epoch 32/40\n",
            "34/34 - 6s - loss: 0.8044 - accuracy: 0.6461 - val_loss: 0.8771 - val_accuracy: 0.6245 - 6s/epoch - 180ms/step\n",
            "Epoch 33/40\n",
            "34/34 - 6s - loss: 0.8057 - accuracy: 0.6526 - val_loss: 0.8668 - val_accuracy: 0.6507 - 6s/epoch - 184ms/step\n",
            "Epoch 34/40\n",
            "34/34 - 6s - loss: 0.8019 - accuracy: 0.6376 - val_loss: 0.8696 - val_accuracy: 0.6397 - 6s/epoch - 181ms/step\n",
            "Epoch 35/40\n",
            "34/34 - 6s - loss: 0.8018 - accuracy: 0.6470 - val_loss: 0.8701 - val_accuracy: 0.6485 - 6s/epoch - 182ms/step\n",
            "Epoch 36/40\n",
            "34/34 - 6s - loss: 0.8032 - accuracy: 0.6404 - val_loss: 0.8695 - val_accuracy: 0.6376 - 6s/epoch - 190ms/step\n",
            "Epoch 37/40\n",
            "34/34 - 6s - loss: 0.7885 - accuracy: 0.6573 - val_loss: 0.8684 - val_accuracy: 0.6419 - 6s/epoch - 189ms/step\n",
            "Epoch 38/40\n",
            "34/34 - 6s - loss: 0.8043 - accuracy: 0.6489 - val_loss: 0.8685 - val_accuracy: 0.6463 - 6s/epoch - 186ms/step\n",
            "Epoch 39/40\n",
            "34/34 - 6s - loss: 0.7894 - accuracy: 0.6536 - val_loss: 0.8738 - val_accuracy: 0.6507 - 6s/epoch - 184ms/step\n",
            "Epoch 40/40\n",
            "34/34 - 6s - loss: 0.7806 - accuracy: 0.6629 - val_loss: 0.8744 - val_accuracy: 0.6441 - 6s/epoch - 187ms/step\n"
          ]
        }
      ]
    },
    {
      "cell_type": "code",
      "source": [
        "import matplotlib.pyplot as plt\n",
        "\n",
        "plt.plot(history2.history['loss'])\n",
        "plt.plot(history2.history['val_loss'])\n",
        "plt.title('Loss')\n",
        "plt.ylabel('loss')\n",
        "plt.xlabel('epoch')\n",
        "plt.legend(['train', 'validation'], loc='best')\n",
        "plt.show()\n",
        "\n",
        "plt.plot(history2.history['accuracy'])\n",
        "plt.plot(history2.history['val_accuracy'])\n",
        "plt.title('Accuracy')\n",
        "plt.ylabel('accuracy')\n",
        "plt.xlabel('epoch')\n",
        "plt.legend(['train', 'validation'], loc='best')\n",
        "plt.show()"
      ],
      "metadata": {
        "colab": {
          "base_uri": "https://localhost:8080/",
          "height": 573
        },
        "id": "Dci1Ni9c24RO",
        "outputId": "fdd1e6cd-f752-438d-9397-2b7394a59814"
      },
      "execution_count": 76,
      "outputs": [
        {
          "output_type": "display_data",
          "data": {
            "text/plain": [
              "<Figure size 432x288 with 1 Axes>"
            ],
            "image/png": "[encoded data removed]"
          },
          "metadata": {
            "needs_background": "light"
          }
        },
        {
          "output_type": "display_data",
          "data": {
            "text/plain": [
              "<Figure size 432x288 with 1 Axes>"
            ],
            "image/png": "[encoded data removed]"
          },
          "metadata": {
            "needs_background": "light"
          }
        }
      ]
    },
    {
      "cell_type": "code",
      "source": [
        "model.save('dnn')"
      ],
      "metadata": {
        "colab": {
          "base_uri": "https://localhost:8080/"
        },
        "id": "Y1BO-YGrFvHs",
        "outputId": "659582a6-c630-4121-8067-ac4c439fdae2"
      },
      "execution_count": 77,
      "outputs": [
        {
          "output_type": "stream",
          "name": "stdout",
          "text": [
            "INFO:tensorflow:Assets written to: dnn/assets\n"
          ]
        },
        {
          "output_type": "stream",
          "name": "stderr",
          "text": [
            "WARNING:absl:<keras.layers.recurrent.LSTMCell object at 0x7f5786121790> has the same name 'LSTMCell' as a built-in Keras object. Consider renaming <class 'keras.layers.recurrent.LSTMCell'> to avoid naming conflicts when loading with `tf.keras.models.load_model`. If renaming is not possible, pass the object in the `custom_objects` parameter of the load function.\n"
          ]
        }
      ]
    }
  ]
}