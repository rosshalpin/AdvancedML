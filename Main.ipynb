{
  "nbformat": 4,
  "nbformat_minor": 0,
  "metadata": {
    "colab": {
      "name": "Main.ipynb",
      "provenance": [],
      "collapsed_sections": [],
      "authorship_tag": "ABX9TyPp/w7iP33GymSflZv7v0hq",
      "include_colab_link": true
    },
    "kernelspec": {
      "name": "python3",
      "display_name": "Python 3"
    },
    "language_info": {
      "name": "python"
    },
    "accelerator": "GPU"
  },
  "cells": [
    {
      "cell_type": "markdown",
      "metadata": {
        "id": "view-in-github",
        "colab_type": "text"
      },
      "source": [
        "<a href=\"https://colab.research.google.com/github/rosshalpin/AdvancedML/blob/main/Main.ipynb\" target=\"_parent\"><img src=\"https://colab.research.google.com/assets/colab-badge.svg\" alt=\"Open In Colab\"/></a>"
      ]
    },
    {
      "cell_type": "code",
      "execution_count": 14,
      "metadata": {
        "colab": {
          "base_uri": "https://localhost:8080/"
        },
        "id": "r1F0O5pFNCMb",
        "outputId": "14f373c6-4ec0-4ba6-a033-a7e325b62c3c"
      },
      "outputs": [
        {
          "output_type": "stream",
          "name": "stdout",
          "text": [
            "/content/gdrive/MyDrive\n",
            "Drive already mounted at /content/gdrive; to attempt to forcibly remount, call drive.mount(\"/content/gdrive\", force_remount=True).\n",
            "ln: failed to create symbolic link '/mydrive/My Drive': File exists\n",
            "/content/gdrive/My Drive/AdvancedML\n"
          ]
        }
      ],
      "source": [
        "%cd ..\n",
        "from google.colab import drive\n",
        "drive.mount('/content/gdrive')\n",
        "!ln -s /content/gdrive/My\\ Drive/ /mydrive\n",
        "%cd /mydrive/AdvancedML/"
      ]
    },
    {
      "cell_type": "code",
      "source": [
        "!pip install tweepy --upgrade"
      ],
      "metadata": {
        "colab": {
          "base_uri": "https://localhost:8080/"
        },
        "id": "edkQxAnONHUE",
        "outputId": "995b39aa-85f1-4158-f055-e81844d831b9"
      },
      "execution_count": 15,
      "outputs": [
        {
          "output_type": "stream",
          "name": "stdout",
          "text": [
            "Requirement already satisfied: tweepy in /usr/local/lib/python3.7/dist-packages (4.8.0)\n",
            "Requirement already satisfied: requests<3,>=2.27.0 in /usr/local/lib/python3.7/dist-packages (from tweepy) (2.27.1)\n",
            "Requirement already satisfied: requests-oauthlib<2,>=1.2.0 in /usr/local/lib/python3.7/dist-packages (from tweepy) (1.3.1)\n",
            "Requirement already satisfied: oauthlib<4,>=3.2.0 in /usr/local/lib/python3.7/dist-packages (from tweepy) (3.2.0)\n",
            "Requirement already satisfied: urllib3<1.27,>=1.21.1 in /usr/local/lib/python3.7/dist-packages (from requests<3,>=2.27.0->tweepy) (1.24.3)\n",
            "Requirement already satisfied: charset-normalizer~=2.0.0 in /usr/local/lib/python3.7/dist-packages (from requests<3,>=2.27.0->tweepy) (2.0.12)\n",
            "Requirement already satisfied: idna<4,>=2.5 in /usr/local/lib/python3.7/dist-packages (from requests<3,>=2.27.0->tweepy) (2.10)\n",
            "Requirement already satisfied: certifi>=2017.4.17 in /usr/local/lib/python3.7/dist-packages (from requests<3,>=2.27.0->tweepy) (2021.10.8)\n"
          ]
        }
      ]
    },
    {
      "cell_type": "code",
      "source": [
        "%cd /mydrive/AdvancedML/"
      ],
      "metadata": {
        "colab": {
          "base_uri": "https://localhost:8080/"
        },
        "id": "7bZc_ZKeNffM",
        "outputId": "f2918eb6-5336-4f33-82db-47aed1f0cf06"
      },
      "execution_count": 16,
      "outputs": [
        {
          "output_type": "stream",
          "name": "stdout",
          "text": [
            "/content/gdrive/My Drive/AdvancedML\n"
          ]
        }
      ]
    },
    {
      "cell_type": "code",
      "source": [
        "import tweepy\n",
        "import pandas as pd\n",
        "\n",
        "def pre_process_text(text: str) -> str:\n",
        "    text = text.replace(\"\\n\", \" \").replace(\"\\t\", \" \") # removing newlines and tabs\n",
        "    return text.strip()\n",
        "\n",
        "def obtain_tweets(topic, max=10, limit=10):\n",
        "  with open('bearer.txt', 'r') as file:\n",
        "    BEARER_TOKEN = file.read().rstrip()\n",
        "\n",
        "  client = tweepy.Client(bearer_token=BEARER_TOKEN)\n",
        "\n",
        "  tweet_paginator = tweepy.Paginator(client.search_recent_tweets,\n",
        "                                query=f\"{topic} -is:retweet lang:en\",\n",
        "                                tweet_fields=[\n",
        "                                  \"created_at\", \n",
        "                                  \"possibly_sensitive\", \n",
        "                                  \"public_metrics\",\n",
        "                                ],\n",
        "                                place_fields=[\n",
        "                                  \"full_name\",\n",
        "                                  \"geo\",\n",
        "                                  \"country\",\n",
        "                                  \"country_code\"    \n",
        "                                ],\n",
        "                                expansions=\"geo.place_id\",\n",
        "                                max_results=max,\n",
        "                                limit=limit)\n",
        "\n",
        "  responses = []\n",
        "  for resp in tweet_paginator:\n",
        "    responses.append(resp)\n",
        "\n",
        "  found_places = {}\n",
        "\n",
        "  for resp in responses:\n",
        "    places = resp.includes.get('places')\n",
        "    if places:\n",
        "      for place in places:\n",
        "        found_places[place.id] = place\n",
        "\n",
        "  tweets = []\n",
        "\n",
        "  for resp in responses:\n",
        "    for tweet in resp.data:\n",
        "      if tweet.geo:\n",
        "        place_id = tweet.geo.get('place_id')\n",
        "        coords = found_places[place_id].geo.get('bbox')\n",
        "        lon = (coords[0]+coords[2])/2\n",
        "        lat = (coords[1]+coords[3])/2\n",
        "        new_tweet = [\n",
        "            found_places[place_id].full_name,\n",
        "            f\"{lat:.2f},{lon:.2f}\",\n",
        "            tweet.created_at, \n",
        "            tweet.possibly_sensitive, \n",
        "            tweet.public_metrics.get('retweet_count'), \n",
        "            tweet.public_metrics.get('reply_count'),\n",
        "            tweet.public_metrics.get('like_count'),\n",
        "            tweet.public_metrics.get('quote_count'),\n",
        "            pre_process_text(tweet.text),\n",
        "        ]\n",
        "        tweets.append(new_tweet)\n",
        "\n",
        "\n",
        "  for resp in responses:\n",
        "    for tweet in resp.data:\n",
        "      if not tweet.geo and len(tweets) < (max*limit):\n",
        "        new_tweet = [\n",
        "          None,\n",
        "          None,\n",
        "          tweet.created_at,\n",
        "          tweet.possibly_sensitive,\n",
        "          tweet.public_metrics.get('retweet_count'), \n",
        "          tweet.public_metrics.get('reply_count'),\n",
        "          tweet.public_metrics.get('like_count'),\n",
        "          tweet.public_metrics.get('quote_count'),\n",
        "          pre_process_text(tweet.text),\n",
        "        ]\n",
        "        tweets.append(new_tweet)\n",
        "\n",
        "  columns = [\"place\", \"coords\", \"created_at\", \"possibly_sensitive\", \"retweet_count\", \"reply_count\", \"like_count\", \"quote_count\", \"text\"]\n",
        "  df = pd.DataFrame(tweets, columns=columns)\n",
        "  return df"
      ],
      "metadata": {
        "id": "KT08w2azNgNx"
      },
      "execution_count": 17,
      "outputs": []
    },
    {
      "cell_type": "code",
      "source": [
        "# df = obtain_tweets(\"Lewis Hamilton\", 50, 50)"
      ],
      "metadata": {
        "id": "Nn1pcx03Oq3q"
      },
      "execution_count": 18,
      "outputs": []
    },
    {
      "cell_type": "code",
      "source": [
        "# %cd /mydrive/AdvancedML/"
      ],
      "metadata": {
        "id": "U3gKDv7MSVeH"
      },
      "execution_count": 19,
      "outputs": []
    },
    {
      "cell_type": "code",
      "source": [
        "# import time, csv\n",
        "# epoch_time = int(time.time())\n",
        "\n",
        "# df.to_csv(\"tweets.{}.csv\".format(epoch_time), \n",
        "#           header=list(df.columns), \n",
        "#           index=False, \n",
        "#           escapechar=\"\\\\\", \n",
        "#           encoding='utf-8',\n",
        "#           quoting=csv.QUOTE_ALL)"
      ],
      "metadata": {
        "id": "w_NJKRvrSNi3"
      },
      "execution_count": 20,
      "outputs": []
    },
    {
      "cell_type": "code",
      "source": [
        "try:\n",
        "  df = pd.read_csv(\"tweets.1650486802.csv\")\n",
        "except:\n",
        "  df = None"
      ],
      "metadata": {
        "id": "RQPQ9tcaPaLr"
      },
      "execution_count": 21,
      "outputs": []
    },
    {
      "cell_type": "code",
      "source": [
        "df.head()"
      ],
      "metadata": {
        "colab": {
          "base_uri": "https://localhost:8080/",
          "height": 206
        },
        "id": "WvkgHUW2PzKM",
        "outputId": "41c669b8-299c-4a74-ddb0-0490b5514fff"
      },
      "execution_count": 22,
      "outputs": [
        {
          "output_type": "execute_result",
          "data": {
            "text/plain": [
              "                                       place         coords  \\\n",
              "0  Port Blandford, Newfoundland and Labrador   48.36,-54.18   \n",
              "1                          Coventry, England    52.41,-1.52   \n",
              "2                          Tamworth, England    52.62,-1.68   \n",
              "3                    Sydney, New South Wales  -33.85,150.93   \n",
              "4                              Potchefstroom   -26.26,28.00   \n",
              "\n",
              "                  created_at  possibly_sensitive  retweet_count  reply_count  \\\n",
              "0  2022-04-20 20:18:29+00:00               False              0            0   \n",
              "1  2022-04-20 17:37:06+00:00               False              4            1   \n",
              "2  2022-04-20 12:51:05+00:00               False              0            2   \n",
              "3  2022-04-20 09:46:10+00:00               False              0            0   \n",
              "4  2022-04-20 04:48:19+00:00               False             51            2   \n",
              "\n",
              "   like_count  quote_count                                               text  \\\n",
              "0           0            0  @lemieuxdavid I’m curious where that Baba O’Re...   \n",
              "1          43            0  Lewis Hamilton Fuji 2007…  Another one of his ...   \n",
              "2           5            0  @MattyWTF1 Fans being openly contemptuous towa...   \n",
              "3           0            0  @MattyWTF1 Carlos Sainz contract negotiations ...   \n",
              "4          51            0  Revamp your Cv  + Cover letter to attract recr...   \n",
              "\n",
              "  sentiment  \n",
              "0  positive  \n",
              "1  positive  \n",
              "2  negative  \n",
              "3   neutral  \n",
              "4   neutral  "
            ],
            "text/html": [
              "\n",
              "  <div id=\"df-ce5223a9-b4f7-4537-a9a7-ed0703fa2255\">\n",
              "    <div class=\"colab-df-container\">\n",
              "      <div>\n",
              "<style scoped>\n",
              "    .dataframe tbody tr th:only-of-type {\n",
              "        vertical-align: middle;\n",
              "    }\n",
              "\n",
              "    .dataframe tbody tr th {\n",
              "        vertical-align: top;\n",
              "    }\n",
              "\n",
              "    .dataframe thead th {\n",
              "        text-align: right;\n",
              "    }\n",
              "</style>\n",
              "<table border=\"1\" class=\"dataframe\">\n",
              "  <thead>\n",
              "    <tr style=\"text-align: right;\">\n",
              "      <th></th>\n",
              "      <th>place</th>\n",
              "      <th>coords</th>\n",
              "      <th>created_at</th>\n",
              "      <th>possibly_sensitive</th>\n",
              "      <th>retweet_count</th>\n",
              "      <th>reply_count</th>\n",
              "      <th>like_count</th>\n",
              "      <th>quote_count</th>\n",
              "      <th>text</th>\n",
              "      <th>sentiment</th>\n",
              "    </tr>\n",
              "  </thead>\n",
              "  <tbody>\n",
              "    <tr>\n",
              "      <th>0</th>\n",
              "      <td>Port Blandford, Newfoundland and Labrador</td>\n",
              "      <td>48.36,-54.18</td>\n",
              "      <td>2022-04-20 20:18:29+00:00</td>\n",
              "      <td>False</td>\n",
              "      <td>0</td>\n",
              "      <td>0</td>\n",
              "      <td>0</td>\n",
              "      <td>0</td>\n",
              "      <td>@lemieuxdavid I’m curious where that Baba O’Re...</td>\n",
              "      <td>positive</td>\n",
              "    </tr>\n",
              "    <tr>\n",
              "      <th>1</th>\n",
              "      <td>Coventry, England</td>\n",
              "      <td>52.41,-1.52</td>\n",
              "      <td>2022-04-20 17:37:06+00:00</td>\n",
              "      <td>False</td>\n",
              "      <td>4</td>\n",
              "      <td>1</td>\n",
              "      <td>43</td>\n",
              "      <td>0</td>\n",
              "      <td>Lewis Hamilton Fuji 2007…  Another one of his ...</td>\n",
              "      <td>positive</td>\n",
              "    </tr>\n",
              "    <tr>\n",
              "      <th>2</th>\n",
              "      <td>Tamworth, England</td>\n",
              "      <td>52.62,-1.68</td>\n",
              "      <td>2022-04-20 12:51:05+00:00</td>\n",
              "      <td>False</td>\n",
              "      <td>0</td>\n",
              "      <td>2</td>\n",
              "      <td>5</td>\n",
              "      <td>0</td>\n",
              "      <td>@MattyWTF1 Fans being openly contemptuous towa...</td>\n",
              "      <td>negative</td>\n",
              "    </tr>\n",
              "    <tr>\n",
              "      <th>3</th>\n",
              "      <td>Sydney, New South Wales</td>\n",
              "      <td>-33.85,150.93</td>\n",
              "      <td>2022-04-20 09:46:10+00:00</td>\n",
              "      <td>False</td>\n",
              "      <td>0</td>\n",
              "      <td>0</td>\n",
              "      <td>0</td>\n",
              "      <td>0</td>\n",
              "      <td>@MattyWTF1 Carlos Sainz contract negotiations ...</td>\n",
              "      <td>neutral</td>\n",
              "    </tr>\n",
              "    <tr>\n",
              "      <th>4</th>\n",
              "      <td>Potchefstroom</td>\n",
              "      <td>-26.26,28.00</td>\n",
              "      <td>2022-04-20 04:48:19+00:00</td>\n",
              "      <td>False</td>\n",
              "      <td>51</td>\n",
              "      <td>2</td>\n",
              "      <td>51</td>\n",
              "      <td>0</td>\n",
              "      <td>Revamp your Cv  + Cover letter to attract recr...</td>\n",
              "      <td>neutral</td>\n",
              "    </tr>\n",
              "  </tbody>\n",
              "</table>\n",
              "</div>\n",
              "      <button class=\"colab-df-convert\" onclick=\"convertToInteractive('df-ce5223a9-b4f7-4537-a9a7-ed0703fa2255')\"\n",
              "              title=\"Convert this dataframe to an interactive table.\"\n",
              "              style=\"display:none;\">\n",
              "        \n",
              "  <svg xmlns=\"http://www.w3.org/2000/svg\" height=\"24px\"viewBox=\"0 0 24 24\"\n",
              "       width=\"24px\">\n",
              "    <path d=\"M0 0h24v24H0V0z\" fill=\"none\"/>\n",
              "    <path d=\"M18.56 5.44l.94 2.06.94-2.06 2.06-.94-2.06-.94-.94-2.06-.94 2.06-2.06.94zm-11 1L8.5 8.5l.94-2.06 2.06-.94-2.06-.94L8.5 2.5l-.94 2.06-2.06.94zm10 10l.94 2.06.94-2.06 2.06-.94-2.06-.94-.94-2.06-.94 2.06-2.06.94z\"/><path d=\"M17.41 7.96l-1.37-1.37c-.4-.4-.92-.59-1.43-.59-.52 0-1.04.2-1.43.59L10.3 9.45l-7.72 7.72c-.78.78-.78 2.05 0 2.83L4 21.41c.39.39.9.59 1.41.59.51 0 1.02-.2 1.41-.59l7.78-7.78 2.81-2.81c.8-.78.8-2.07 0-2.86zM5.41 20L4 18.59l7.72-7.72 1.47 1.35L5.41 20z\"/>\n",
              "  </svg>\n",
              "      </button>\n",
              "      \n",
              "  <style>\n",
              "    .colab-df-container {\n",
              "      display:flex;\n",
              "      flex-wrap:wrap;\n",
              "      gap: 12px;\n",
              "    }\n",
              "\n",
              "    .colab-df-convert {\n",
              "      background-color: #E8F0FE;\n",
              "      border: none;\n",
              "      border-radius: 50%;\n",
              "      cursor: pointer;\n",
              "      display: none;\n",
              "      fill: #1967D2;\n",
              "      height: 32px;\n",
              "      padding: 0 0 0 0;\n",
              "      width: 32px;\n",
              "    }\n",
              "\n",
              "    .colab-df-convert:hover {\n",
              "      background-color: #E2EBFA;\n",
              "      box-shadow: 0px 1px 2px rgba(60, 64, 67, 0.3), 0px 1px 3px 1px rgba(60, 64, 67, 0.15);\n",
              "      fill: #174EA6;\n",
              "    }\n",
              "\n",
              "    [theme=dark] .colab-df-convert {\n",
              "      background-color: #3B4455;\n",
              "      fill: #D2E3FC;\n",
              "    }\n",
              "\n",
              "    [theme=dark] .colab-df-convert:hover {\n",
              "      background-color: #434B5C;\n",
              "      box-shadow: 0px 1px 3px 1px rgba(0, 0, 0, 0.15);\n",
              "      filter: drop-shadow(0px 1px 2px rgba(0, 0, 0, 0.3));\n",
              "      fill: #FFFFFF;\n",
              "    }\n",
              "  </style>\n",
              "\n",
              "      <script>\n",
              "        const buttonEl =\n",
              "          document.querySelector('#df-ce5223a9-b4f7-4537-a9a7-ed0703fa2255 button.colab-df-convert');\n",
              "        buttonEl.style.display =\n",
              "          google.colab.kernel.accessAllowed ? 'block' : 'none';\n",
              "\n",
              "        async function convertToInteractive(key) {\n",
              "          const element = document.querySelector('#df-ce5223a9-b4f7-4537-a9a7-ed0703fa2255');\n",
              "          const dataTable =\n",
              "            await google.colab.kernel.invokeFunction('convertToInteractive',\n",
              "                                                     [key], {});\n",
              "          if (!dataTable) return;\n",
              "\n",
              "          const docLinkHtml = 'Like what you see? Visit the ' +\n",
              "            '<a target=\"_blank\" href=https://colab.research.google.com/notebooks/data_table.ipynb>data table notebook</a>'\n",
              "            + ' to learn more about interactive tables.';\n",
              "          element.innerHTML = '';\n",
              "          dataTable['output_type'] = 'display_data';\n",
              "          await google.colab.output.renderOutput(dataTable, element);\n",
              "          const docLink = document.createElement('div');\n",
              "          docLink.innerHTML = docLinkHtml;\n",
              "          element.appendChild(docLink);\n",
              "        }\n",
              "      </script>\n",
              "    </div>\n",
              "  </div>\n",
              "  "
            ]
          },
          "metadata": {},
          "execution_count": 22
        }
      ]
    },
    {
      "cell_type": "code",
      "source": [
        "df.shape"
      ],
      "metadata": {
        "colab": {
          "base_uri": "https://localhost:8080/"
        },
        "id": "7PNgN7aeP2Lo",
        "outputId": "23d5ca92-e7b5-4afe-a02e-a517440747e8"
      },
      "execution_count": 23,
      "outputs": [
        {
          "output_type": "execute_result",
          "data": {
            "text/plain": [
              "(2500, 10)"
            ]
          },
          "metadata": {},
          "execution_count": 23
        }
      ]
    },
    {
      "cell_type": "code",
      "source": [
        "import matplotlib.pyplot as plt\n",
        "\n",
        "def print_sentiment_breakdown(sentiments, title):\n",
        "  label_colors = {\n",
        "      \"neutral\": \"lightgrey\",\n",
        "      \"negative\": \"orangered\",\n",
        "      \"positive\": \"lightgreen\"\n",
        "  }\n",
        "\n",
        "  sent_counts = sentiments.value_counts(normalize=True) * 100\n",
        "  label = sent_counts.keys()\n",
        "  color= [label_colors[l] for l in label]\n",
        "  plt.pie(sent_counts, labels=label, colors = color, autopct='%.0f%%')\n",
        "  plt.title(title)\n",
        "  plt.show()"
      ],
      "metadata": {
        "id": "ZUoxGd4OQOab"
      },
      "execution_count": 24,
      "outputs": []
    },
    {
      "cell_type": "code",
      "source": [
        "print_sentiment_breakdown(df.sentiment, \"Normalised Sentiment breakdown of dataset\")"
      ],
      "metadata": {
        "colab": {
          "base_uri": "https://localhost:8080/",
          "height": 264
        },
        "id": "J5Yt_fUMRTcz",
        "outputId": "78f25b9e-3f98-4b6d-ca13-6d40bb93bca8"
      },
      "execution_count": 25,
      "outputs": [
        {
          "output_type": "display_data",
          "data": {
            "text/plain": [
              "<Figure size 432x288 with 1 Axes>"
            ],
            "image/png": "[encoded data removed]"
          },
          "metadata": {}
        }
      ]
    },
    {
      "cell_type": "code",
      "source": [
        "import re\n",
        "\n",
        "def cleanup_data(df):\n",
        "\n",
        "  def remove_usernames(text):\n",
        "    return re.sub(r'@([^\\s]+)', '', text)\n",
        "\n",
        "  def remove_hyperlinks(text):\n",
        "    return re.sub(r'http\\S+|www.\\S+|https', '', text)\n",
        "\n",
        "  df.text = df.text.apply(remove_usernames) # removing usernames\n",
        "  df.text = df.text.apply(remove_hyperlinks) # removing hyperlinks\n",
        "  df = df.drop(df.query('sentiment == \"neutral\"').sample(frac=.64, random_state=109).index) # evening out the number of neutral samples by random removing a percentage\n",
        "  df.replace({r'[^\\x00-\\x7F]+':''}, regex=True, inplace=True) # removing any errant unicode\n",
        "\n",
        "  return df"
      ],
      "metadata": {
        "id": "Q3svbbq6P6lo"
      },
      "execution_count": 26,
      "outputs": []
    },
    {
      "cell_type": "code",
      "source": [
        "df = cleanup_data(df)"
      ],
      "metadata": {
        "id": "DndRqYlLQNW5"
      },
      "execution_count": 27,
      "outputs": []
    },
    {
      "cell_type": "code",
      "source": [
        "# import time, csv\n",
        "# epoch_time = int(time.time())\n",
        "# df.to_csv(\"cleaned_tweets.{}.csv\".format(epoch_time), \n",
        "#           header=list(df.columns), \n",
        "#           index=False, \n",
        "#           escapechar=\"\\\\\", \n",
        "#           encoding='utf-8',\n",
        "#           quoting=csv.QUOTE_ALL)"
      ],
      "metadata": {
        "id": "Z2_0ATPgsrxL"
      },
      "execution_count": 28,
      "outputs": []
    },
    {
      "cell_type": "code",
      "source": [
        "print_sentiment_breakdown(df.sentiment, \"Normalised Sentiment breakdown of dataset after cleanup\")"
      ],
      "metadata": {
        "colab": {
          "base_uri": "https://localhost:8080/",
          "height": 264
        },
        "id": "Euj-C5HxReVG",
        "outputId": "fad0b5bc-aa62-4e85-b25e-b344a566c67b"
      },
      "execution_count": 29,
      "outputs": [
        {
          "output_type": "display_data",
          "data": {
            "text/plain": [
              "<Figure size 432x288 with 1 Axes>"
            ],
            "image/png": "[encoded data removed]"
          },
          "metadata": {}
        }
      ]
    },
    {
      "cell_type": "code",
      "source": [
        "df.shape"
      ],
      "metadata": {
        "colab": {
          "base_uri": "https://localhost:8080/"
        },
        "id": "xTviK1T0R5A8",
        "outputId": "76991ab2-3938-412e-fb04-60707652b489"
      },
      "execution_count": 30,
      "outputs": [
        {
          "output_type": "execute_result",
          "data": {
            "text/plain": [
              "(1537, 10)"
            ]
          },
          "metadata": {},
          "execution_count": 30
        }
      ]
    },
    {
      "cell_type": "markdown",
      "source": [
        "# SVM Sentiment Classifier"
      ],
      "metadata": {
        "id": "KzK5hZreVHAn"
      }
    },
    {
      "cell_type": "code",
      "source": [
        "import numpy as np\n",
        "import matplotlib.pyplot as plt\n",
        "from sklearn.datasets import load_digits\n",
        "from sklearn.model_selection import learning_curve\n",
        "\n",
        "\n",
        "def plot_learning_curve(\n",
        "    estimator,\n",
        "    title,\n",
        "    X,\n",
        "    y,\n",
        "    axes=None,\n",
        "    ylim=None,\n",
        "    cv=None,\n",
        "    n_jobs=None,\n",
        "    train_sizes=np.linspace(0.1, 1.0, 5),\n",
        "):\n",
        "    _, (ax) = plt.subplots(1, 1, figsize=(20, 5))\n",
        "    ax.set_ylim(*ylim)\n",
        "    ax.set_title(title)\n",
        "    ax.set_xlabel(\"training sample\")\n",
        "    ax.set_ylabel(\"score\")\n",
        "\n",
        "    train_sizes, train_scores, test_scores, fit_times, _ = learning_curve(\n",
        "        estimator, X, y,\n",
        "        cv=cv,\n",
        "        n_jobs=n_jobs,\n",
        "        train_sizes=train_sizes,\n",
        "        return_times=True,\n",
        "    )\n",
        "    train_scores_mean = np.mean(train_scores, axis=1)\n",
        "    train_scores_std = np.std(train_scores, axis=1)\n",
        "    test_scores_mean = np.mean(test_scores, axis=1)\n",
        "    test_scores_std = np.std(test_scores, axis=1)\n",
        "    fit_times_mean = np.mean(fit_times, axis=1)\n",
        "    fit_times_std = np.std(fit_times, axis=1)\n",
        "\n",
        "    ax.grid()\n",
        "    ax.fill_between(\n",
        "        train_sizes,\n",
        "        train_scores_mean - train_scores_std,\n",
        "        train_scores_mean + train_scores_std,\n",
        "        alpha=0.1,\n",
        "        color=\"r\",\n",
        "    )\n",
        "    ax.fill_between(\n",
        "        train_sizes,\n",
        "        test_scores_mean - test_scores_std,\n",
        "        test_scores_mean + test_scores_std,\n",
        "        alpha=0.1,\n",
        "        color=\"g\",\n",
        "    )\n",
        "    ax.plot(\n",
        "        train_sizes, train_scores_mean, \"o-\", color=\"r\", label=\"Training score\"\n",
        "    )\n",
        "    ax.plot(\n",
        "        train_sizes, test_scores_mean, \"o-\", color=\"g\", label=\"Cross-validation score\"\n",
        "    )\n",
        "    ax.legend(loc=\"best\")"
      ],
      "metadata": {
        "id": "4xHjFXTHVLk_"
      },
      "execution_count": 31,
      "outputs": []
    },
    {
      "cell_type": "code",
      "source": [
        "import nltk\n",
        "from nltk.corpus import stopwords\n",
        "from nltk.stem import SnowballStemmer\n",
        "from nltk.tokenize import TweetTokenizer\n",
        "\n",
        "nltk.download('stopwords')\n",
        "\n",
        "tweet_tokenizer = TweetTokenizer()\n",
        "\n",
        "def tokenize(input): \n",
        "    return tweet_tokenizer.tokenize(input)\n",
        "\n",
        "def stemmer(input):\n",
        "  snow_stemmer = SnowballStemmer(\"english\")\n",
        "  return (snow_stemmer.stem(word) for word in input)"
      ],
      "metadata": {
        "colab": {
          "base_uri": "https://localhost:8080/"
        },
        "id": "7n0Lq8DbVRN6",
        "outputId": "25e3cf78-e187-47cd-8e6b-b50925330551"
      },
      "execution_count": 32,
      "outputs": [
        {
          "output_type": "stream",
          "name": "stdout",
          "text": [
            "[nltk_data] Downloading package stopwords to /root/nltk_data...\n",
            "[nltk_data]   Package stopwords is already up-to-date!\n"
          ]
        }
      ]
    },
    {
      "cell_type": "code",
      "source": [
        "from sklearn import svm\n",
        "from sklearn.metrics import classification_report\n",
        "from sklearn.feature_extraction.text import TfidfVectorizer\n",
        "from sklearn.model_selection import train_test_split\n",
        "\n",
        "X_train, X_test, y_train, y_test = train_test_split(df.text, df.sentiment, test_size=0.1, random_state=431, shuffle=True)\n",
        "\n",
        "vectorizer = TfidfVectorizer(\n",
        "    strip_accents = 'unicode',\n",
        "    lowercase = True,\n",
        "    stop_words = set(stopwords.words(\"english\")),\n",
        "    max_features=150\n",
        ")\n",
        "\n",
        "\n",
        "X_train_vectors = vectorizer.fit_transform(X_train)\n",
        "X_test_vectors = vectorizer.transform(X_test)\n",
        "\n",
        "clf = svm.SVC(\n",
        "    kernel='linear',\n",
        ")\n",
        "clf.fit(X_train_vectors, y_train)\n",
        "y_pred = clf.predict(X_test_vectors)\n",
        "\n",
        "report = classification_report(y_test, y_pred, output_dict=True)\n",
        "print('accuracy: ', report['accuracy'])\n",
        "print('macro avg: ', report['macro avg'])\n",
        "print('positive: ', report['positive'])\n",
        "print('negative: ', report['negative'])\n",
        "print('neutral ', report['neutral'])"
      ],
      "metadata": {
        "colab": {
          "base_uri": "https://localhost:8080/"
        },
        "id": "73sLxe9-VXUg",
        "outputId": "85102831-2b9e-4b68-ff73-5bd64cab5861"
      },
      "execution_count": 33,
      "outputs": [
        {
          "output_type": "stream",
          "name": "stdout",
          "text": [
            "accuracy:  0.564935064935065\n",
            "macro avg:  {'precision': 0.5666666666666668, 'recall': 0.5651515151515151, 'f1-score': 0.5616161616161616, 'support': 154}\n",
            "positive:  {'precision': 0.5909090909090909, 'recall': 0.4727272727272727, 'f1-score': 0.5252525252525252, 'support': 55}\n",
            "negative:  {'precision': 0.45454545454545453, 'recall': 0.5681818181818182, 'f1-score': 0.5050505050505051, 'support': 44}\n",
            "neutral  {'precision': 0.6545454545454545, 'recall': 0.6545454545454545, 'f1-score': 0.6545454545454545, 'support': 55}\n"
          ]
        }
      ]
    },
    {
      "cell_type": "code",
      "source": [
        "from sklearn.metrics import confusion_matrix, ConfusionMatrixDisplay\n",
        "\n",
        "cm = confusion_matrix(y_test, y_pred)\n",
        "cmd = ConfusionMatrixDisplay(cm, display_labels=[\"negative\", \"neutral\", \"positive\"])\n",
        "cmd.plot()"
      ],
      "metadata": {
        "colab": {
          "base_uri": "https://localhost:8080/",
          "height": 296
        },
        "id": "HBa65FcCVjKg",
        "outputId": "57aba04c-8082-49ef-ec32-7fd0e8ac8562"
      },
      "execution_count": 34,
      "outputs": [
        {
          "output_type": "execute_result",
          "data": {
            "text/plain": [
              "<sklearn.metrics._plot.confusion_matrix.ConfusionMatrixDisplay at 0x7f434d249c50>"
            ]
          },
          "metadata": {},
          "execution_count": 34
        },
        {
          "output_type": "display_data",
          "data": {
            "text/plain": [
              "<Figure size 432x288 with 2 Axes>"
            ],
            "image/png": "[encoded data removed]"
          },
          "metadata": {
            "needs_background": "light"
          }
        }
      ]
    },
    {
      "cell_type": "code",
      "source": [
        "pred_df = pd.DataFrame(y_pred)[0]\n",
        "print_sentiment_breakdown(pred_df, \"Normalised Sentiment breakdown of SVM Predicted Sentiment\")"
      ],
      "metadata": {
        "colab": {
          "base_uri": "https://localhost:8080/",
          "height": 264
        },
        "id": "6T053FMTV6Eg",
        "outputId": "7a0de71f-964c-4096-c1a8-f6248588c241"
      },
      "execution_count": 35,
      "outputs": [
        {
          "output_type": "display_data",
          "data": {
            "text/plain": [
              "<Figure size 432x288 with 1 Axes>"
            ],
            "image/png": "[encoded data removed]"
          },
          "metadata": {}
        }
      ]
    },
    {
      "cell_type": "code",
      "source": [
        "from sklearn.model_selection import StratifiedKFold\n",
        "\n",
        "folds = StratifiedKFold(n_splits=6, shuffle=True, random_state=1)\n",
        "\n",
        "plot_learning_curve(\n",
        "    clf, \n",
        "    \"Learning Curve\", \n",
        "    X=vectorizer.fit_transform(df.text), \n",
        "    y=df.sentiment,\n",
        "    ylim=(0.1, 1.01), \n",
        "    cv=folds, \n",
        "    n_jobs=-1,\n",
        "    train_sizes=np.linspace(0.1, 1.0, 8)\n",
        ")\n",
        "\n",
        "plt.show()"
      ],
      "metadata": {
        "colab": {
          "base_uri": "https://localhost:8080/",
          "height": 350
        },
        "id": "8KjItu2xVm8X",
        "outputId": "73d73224-1b20-4c8b-aeef-fd04bb6fc8af"
      },
      "execution_count": 36,
      "outputs": [
        {
          "output_type": "display_data",
          "data": {
            "text/plain": [
              "<Figure size 1440x360 with 1 Axes>"
            ],
            "image/png": "[encoded data removed]"
          },
          "metadata": {
            "needs_background": "light"
          }
        }
      ]
    },
    {
      "cell_type": "code",
      "source": [
        "!pip install vaderSentiment"
      ],
      "metadata": {
        "colab": {
          "base_uri": "https://localhost:8080/"
        },
        "id": "ZMwZ7OCQVybL",
        "outputId": "b18cee35-91c2-4ee8-a8ee-37d122bfaec9"
      },
      "execution_count": 37,
      "outputs": [
        {
          "output_type": "stream",
          "name": "stdout",
          "text": [
            "Requirement already satisfied: vaderSentiment in /usr/local/lib/python3.7/dist-packages (3.3.2)\n",
            "Requirement already satisfied: requests in /usr/local/lib/python3.7/dist-packages (from vaderSentiment) (2.27.1)\n",
            "Requirement already satisfied: idna<4,>=2.5 in /usr/local/lib/python3.7/dist-packages (from requests->vaderSentiment) (2.10)\n",
            "Requirement already satisfied: charset-normalizer~=2.0.0 in /usr/local/lib/python3.7/dist-packages (from requests->vaderSentiment) (2.0.12)\n",
            "Requirement already satisfied: certifi>=2017.4.17 in /usr/local/lib/python3.7/dist-packages (from requests->vaderSentiment) (2021.10.8)\n",
            "Requirement already satisfied: urllib3<1.27,>=1.21.1 in /usr/local/lib/python3.7/dist-packages (from requests->vaderSentiment) (1.24.3)\n"
          ]
        }
      ]
    },
    {
      "cell_type": "code",
      "source": [
        "from vaderSentiment.vaderSentiment import SentimentIntensityAnalyzer\n",
        "\n",
        "analyzer = SentimentIntensityAnalyzer()\n",
        "\n",
        "def get_sentiment(text):\n",
        "  analysis = analyzer.polarity_scores(text)\n",
        "  score = analysis[\"compound\"]\n",
        "  if score >= 0.05:\n",
        "    return \"positive\"\n",
        "  if score > -0.05 and score < 0.05:\n",
        "    return \"neutral\"\n",
        "  if score <= -0.05:\n",
        "    return \"negative\"\n",
        "\n",
        "vader_df = pd.DataFrame(X_test).apply(get_sentiment, axis=1)\n",
        "\n",
        "vader_report = classification_report(vader_df, y_test, output_dict=True)\n",
        "print('accuracy: ', vader_report['accuracy'])\n",
        "print('macro avg: ', vader_report['macro avg'])\n",
        "print('positive: ', vader_report['positive'])\n",
        "print('negative: ', vader_report['negative'])\n",
        "print('neutral ', vader_report['neutral'])"
      ],
      "metadata": {
        "colab": {
          "base_uri": "https://localhost:8080/"
        },
        "id": "yxa_V_QWVr9s",
        "outputId": "6115a3f7-b93a-44b0-9744-be4f8eecba5f"
      },
      "execution_count": 38,
      "outputs": [
        {
          "output_type": "stream",
          "name": "stdout",
          "text": [
            "accuracy:  0.6493506493506493\n",
            "macro avg:  {'precision': 0.6454545454545454, 'recall': 0.6819192014313966, 'f1-score': 0.6437719189005701, 'support': 154}\n",
            "positive:  {'precision': 0.8545454545454545, 'recall': 0.573170731707317, 'f1-score': 0.6861313868613138, 'support': 82}\n",
            "negative:  {'precision': 0.5909090909090909, 'recall': 0.7428571428571429, 'f1-score': 0.6582278481012659, 'support': 35}\n",
            "neutral  {'precision': 0.4909090909090909, 'recall': 0.7297297297297297, 'f1-score': 0.5869565217391305, 'support': 37}\n"
          ]
        }
      ]
    },
    {
      "cell_type": "code",
      "source": [
        "print_sentiment_breakdown(vader_df, \"Normalised Sentiment breakdown of Vader Predicted Sentiment\")"
      ],
      "metadata": {
        "colab": {
          "base_uri": "https://localhost:8080/",
          "height": 264
        },
        "id": "0pXhqj4pWV0V",
        "outputId": "0958800a-246b-4686-a7e7-474bd1ba207c"
      },
      "execution_count": 39,
      "outputs": [
        {
          "output_type": "display_data",
          "data": {
            "text/plain": [
              "<Figure size 432x288 with 1 Axes>"
            ],
            "image/png": "[encoded data removed]"
          },
          "metadata": {}
        }
      ]
    },
    {
      "cell_type": "code",
      "source": [
        "cm = confusion_matrix(y_test, vader_df)\n",
        "cmd = ConfusionMatrixDisplay(cm, display_labels=[\"negative\", \"neutral\", \"positive\"])\n",
        "cmd.plot()"
      ],
      "metadata": {
        "colab": {
          "base_uri": "https://localhost:8080/",
          "height": 296
        },
        "id": "c9LWKfa3Wc6M",
        "outputId": "3020fa51-044d-4616-a5c6-298d4aa28365"
      },
      "execution_count": 40,
      "outputs": [
        {
          "output_type": "execute_result",
          "data": {
            "text/plain": [
              "<sklearn.metrics._plot.confusion_matrix.ConfusionMatrixDisplay at 0x7f434c60b990>"
            ]
          },
          "metadata": {},
          "execution_count": 40
        },
        {
          "output_type": "display_data",
          "data": {
            "text/plain": [
              "<Figure size 432x288 with 2 Axes>"
            ],
            "image/png": "[encoded data removed]"
          },
          "metadata": {
            "needs_background": "light"
          }
        }
      ]
    },
    {
      "cell_type": "code",
      "source": [
        "vader_df = vader_df.reset_index(drop=True)\n",
        "vader_df.eq(pred_df).mean() * 100"
      ],
      "metadata": {
        "colab": {
          "base_uri": "https://localhost:8080/"
        },
        "id": "sKdRtAY2WiBD",
        "outputId": "da55c911-cf97-4981-a0e2-368635436ace"
      },
      "execution_count": 41,
      "outputs": [
        {
          "output_type": "execute_result",
          "data": {
            "text/plain": [
              "42.857142857142854"
            ]
          },
          "metadata": {},
          "execution_count": 41
        }
      ]
    },
    {
      "cell_type": "markdown",
      "source": [
        "# Comparing SVM and Vader on a different topic"
      ],
      "metadata": {
        "id": "oEkbrwLXXUwg"
      }
    },
    {
      "cell_type": "code",
      "source": [
        "# pol_df = obtain_tweets(\"Bernie Sanders\", 25, 20)\n",
        "\n",
        "# epoch_time = int(time.time())\n",
        "\n",
        "# df.to_csv(\"pol_tweets.{}.csv\".format(epoch_time), \n",
        "#           header=list(df.columns), \n",
        "#           index=False, \n",
        "#           escapechar=\"\\\\\", \n",
        "#           encoding='utf-8',\n",
        "#           quoting=csv.QUOTE_ALL)"
      ],
      "metadata": {
        "id": "Th-f5Igrai6d"
      },
      "execution_count": 42,
      "outputs": []
    },
    {
      "cell_type": "code",
      "source": [
        "pol_df = pd.read_csv(\"pol_tweets.1650715759.csv\")"
      ],
      "metadata": {
        "id": "0jpeXnQNXYU1"
      },
      "execution_count": 43,
      "outputs": []
    },
    {
      "cell_type": "code",
      "source": [
        "pol_df = cleanup_data(pol_df)"
      ],
      "metadata": {
        "id": "QEXKQSGEXlk-"
      },
      "execution_count": 44,
      "outputs": []
    },
    {
      "cell_type": "code",
      "source": [
        "pol_df.sample(10)"
      ],
      "metadata": {
        "colab": {
          "base_uri": "https://localhost:8080/",
          "height": 363
        },
        "id": "6nJ7B0JZXypl",
        "outputId": "00293ca9-c2f5-4a7b-9efc-47c0f688f3ac"
      },
      "execution_count": 45,
      "outputs": [
        {
          "output_type": "execute_result",
          "data": {
            "text/plain": [
              "     place  coords                 created_at  possibly_sensitive  \\\n",
              "460    NaN     NaN  2022-04-22 21:03:52+00:00               False   \n",
              "293    NaN     NaN  2022-04-22 21:23:46+00:00               False   \n",
              "497    NaN     NaN  2022-04-22 20:57:05+00:00               False   \n",
              "482    NaN     NaN  2022-04-22 21:00:07+00:00               False   \n",
              "352    NaN     NaN  2022-04-22 21:19:18+00:00               False   \n",
              "147    NaN     NaN  2022-04-22 21:53:01+00:00               False   \n",
              "455    NaN     NaN  2022-04-22 21:04:27+00:00               False   \n",
              "126    NaN     NaN  2022-04-22 21:57:58+00:00               False   \n",
              "233    NaN     NaN  2022-04-22 21:36:18+00:00               False   \n",
              "410    NaN     NaN  2022-04-22 21:11:52+00:00               False   \n",
              "\n",
              "     retweet_count  reply_count  like_count  quote_count  \\\n",
              "460              0            0           0            0   \n",
              "293              0            0           0            0   \n",
              "497              0            0           0            0   \n",
              "482              3            2          10            0   \n",
              "352              0            0           0            0   \n",
              "147              0            0           0            0   \n",
              "455              0            0           0            0   \n",
              "126              0            0           0            0   \n",
              "233              0            0           0            0   \n",
              "410              0            0           0            0   \n",
              "\n",
              "                                                  text sentiment  \n",
              "460                                  3. Bernie Sanders   neutral  \n",
              "293   Bernie Sanders I presume? God you people are ...  negative  \n",
              "497                                  3- Bernie Sanders   neutral  \n",
              "482  Bernie Sanders torches Congress for considerin...  negative  \n",
              "352                                  3. Bernie Sanders   neutral  \n",
              "147                 Great project   3)  Bernie Sanders  positive  \n",
              "455    \"Bread lines are a good thing\" - Bernie Sanders  positive  \n",
              "126   Tells Bernie that without Elon, NASA would no...   neutral  \n",
              "233   It's not your place...!!!  Never owned a busi...  negative  \n",
              "410                                     Bernie Sanders   neutral  "
            ],
            "text/html": [
              "\n",
              "  <div id=\"df-a66552b6-9255-4fdf-9d20-1e9101e1777b\">\n",
              "    <div class=\"colab-df-container\">\n",
              "      <div>\n",
              "<style scoped>\n",
              "    .dataframe tbody tr th:only-of-type {\n",
              "        vertical-align: middle;\n",
              "    }\n",
              "\n",
              "    .dataframe tbody tr th {\n",
              "        vertical-align: top;\n",
              "    }\n",
              "\n",
              "    .dataframe thead th {\n",
              "        text-align: right;\n",
              "    }\n",
              "</style>\n",
              "<table border=\"1\" class=\"dataframe\">\n",
              "  <thead>\n",
              "    <tr style=\"text-align: right;\">\n",
              "      <th></th>\n",
              "      <th>place</th>\n",
              "      <th>coords</th>\n",
              "      <th>created_at</th>\n",
              "      <th>possibly_sensitive</th>\n",
              "      <th>retweet_count</th>\n",
              "      <th>reply_count</th>\n",
              "      <th>like_count</th>\n",
              "      <th>quote_count</th>\n",
              "      <th>text</th>\n",
              "      <th>sentiment</th>\n",
              "    </tr>\n",
              "  </thead>\n",
              "  <tbody>\n",
              "    <tr>\n",
              "      <th>460</th>\n",
              "      <td>NaN</td>\n",
              "      <td>NaN</td>\n",
              "      <td>2022-04-22 21:03:52+00:00</td>\n",
              "      <td>False</td>\n",
              "      <td>0</td>\n",
              "      <td>0</td>\n",
              "      <td>0</td>\n",
              "      <td>0</td>\n",
              "      <td>3. Bernie Sanders</td>\n",
              "      <td>neutral</td>\n",
              "    </tr>\n",
              "    <tr>\n",
              "      <th>293</th>\n",
              "      <td>NaN</td>\n",
              "      <td>NaN</td>\n",
              "      <td>2022-04-22 21:23:46+00:00</td>\n",
              "      <td>False</td>\n",
              "      <td>0</td>\n",
              "      <td>0</td>\n",
              "      <td>0</td>\n",
              "      <td>0</td>\n",
              "      <td>Bernie Sanders I presume? God you people are ...</td>\n",
              "      <td>negative</td>\n",
              "    </tr>\n",
              "    <tr>\n",
              "      <th>497</th>\n",
              "      <td>NaN</td>\n",
              "      <td>NaN</td>\n",
              "      <td>2022-04-22 20:57:05+00:00</td>\n",
              "      <td>False</td>\n",
              "      <td>0</td>\n",
              "      <td>0</td>\n",
              "      <td>0</td>\n",
              "      <td>0</td>\n",
              "      <td>3- Bernie Sanders</td>\n",
              "      <td>neutral</td>\n",
              "    </tr>\n",
              "    <tr>\n",
              "      <th>482</th>\n",
              "      <td>NaN</td>\n",
              "      <td>NaN</td>\n",
              "      <td>2022-04-22 21:00:07+00:00</td>\n",
              "      <td>False</td>\n",
              "      <td>3</td>\n",
              "      <td>2</td>\n",
              "      <td>10</td>\n",
              "      <td>0</td>\n",
              "      <td>Bernie Sanders torches Congress for considerin...</td>\n",
              "      <td>negative</td>\n",
              "    </tr>\n",
              "    <tr>\n",
              "      <th>352</th>\n",
              "      <td>NaN</td>\n",
              "      <td>NaN</td>\n",
              "      <td>2022-04-22 21:19:18+00:00</td>\n",
              "      <td>False</td>\n",
              "      <td>0</td>\n",
              "      <td>0</td>\n",
              "      <td>0</td>\n",
              "      <td>0</td>\n",
              "      <td>3. Bernie Sanders</td>\n",
              "      <td>neutral</td>\n",
              "    </tr>\n",
              "    <tr>\n",
              "      <th>147</th>\n",
              "      <td>NaN</td>\n",
              "      <td>NaN</td>\n",
              "      <td>2022-04-22 21:53:01+00:00</td>\n",
              "      <td>False</td>\n",
              "      <td>0</td>\n",
              "      <td>0</td>\n",
              "      <td>0</td>\n",
              "      <td>0</td>\n",
              "      <td>Great project   3)  Bernie Sanders</td>\n",
              "      <td>positive</td>\n",
              "    </tr>\n",
              "    <tr>\n",
              "      <th>455</th>\n",
              "      <td>NaN</td>\n",
              "      <td>NaN</td>\n",
              "      <td>2022-04-22 21:04:27+00:00</td>\n",
              "      <td>False</td>\n",
              "      <td>0</td>\n",
              "      <td>0</td>\n",
              "      <td>0</td>\n",
              "      <td>0</td>\n",
              "      <td>\"Bread lines are a good thing\" - Bernie Sanders</td>\n",
              "      <td>positive</td>\n",
              "    </tr>\n",
              "    <tr>\n",
              "      <th>126</th>\n",
              "      <td>NaN</td>\n",
              "      <td>NaN</td>\n",
              "      <td>2022-04-22 21:57:58+00:00</td>\n",
              "      <td>False</td>\n",
              "      <td>0</td>\n",
              "      <td>0</td>\n",
              "      <td>0</td>\n",
              "      <td>0</td>\n",
              "      <td>Tells Bernie that without Elon, NASA would no...</td>\n",
              "      <td>neutral</td>\n",
              "    </tr>\n",
              "    <tr>\n",
              "      <th>233</th>\n",
              "      <td>NaN</td>\n",
              "      <td>NaN</td>\n",
              "      <td>2022-04-22 21:36:18+00:00</td>\n",
              "      <td>False</td>\n",
              "      <td>0</td>\n",
              "      <td>0</td>\n",
              "      <td>0</td>\n",
              "      <td>0</td>\n",
              "      <td>It's not your place...!!!  Never owned a busi...</td>\n",
              "      <td>negative</td>\n",
              "    </tr>\n",
              "    <tr>\n",
              "      <th>410</th>\n",
              "      <td>NaN</td>\n",
              "      <td>NaN</td>\n",
              "      <td>2022-04-22 21:11:52+00:00</td>\n",
              "      <td>False</td>\n",
              "      <td>0</td>\n",
              "      <td>0</td>\n",
              "      <td>0</td>\n",
              "      <td>0</td>\n",
              "      <td>Bernie Sanders</td>\n",
              "      <td>neutral</td>\n",
              "    </tr>\n",
              "  </tbody>\n",
              "</table>\n",
              "</div>\n",
              "      <button class=\"colab-df-convert\" onclick=\"convertToInteractive('df-a66552b6-9255-4fdf-9d20-1e9101e1777b')\"\n",
              "              title=\"Convert this dataframe to an interactive table.\"\n",
              "              style=\"display:none;\">\n",
              "        \n",
              "  <svg xmlns=\"http://www.w3.org/2000/svg\" height=\"24px\"viewBox=\"0 0 24 24\"\n",
              "       width=\"24px\">\n",
              "    <path d=\"M0 0h24v24H0V0z\" fill=\"none\"/>\n",
              "    <path d=\"M18.56 5.44l.94 2.06.94-2.06 2.06-.94-2.06-.94-.94-2.06-.94 2.06-2.06.94zm-11 1L8.5 8.5l.94-2.06 2.06-.94-2.06-.94L8.5 2.5l-.94 2.06-2.06.94zm10 10l.94 2.06.94-2.06 2.06-.94-2.06-.94-.94-2.06-.94 2.06-2.06.94z\"/><path d=\"M17.41 7.96l-1.37-1.37c-.4-.4-.92-.59-1.43-.59-.52 0-1.04.2-1.43.59L10.3 9.45l-7.72 7.72c-.78.78-.78 2.05 0 2.83L4 21.41c.39.39.9.59 1.41.59.51 0 1.02-.2 1.41-.59l7.78-7.78 2.81-2.81c.8-.78.8-2.07 0-2.86zM5.41 20L4 18.59l7.72-7.72 1.47 1.35L5.41 20z\"/>\n",
              "  </svg>\n",
              "      </button>\n",
              "      \n",
              "  <style>\n",
              "    .colab-df-container {\n",
              "      display:flex;\n",
              "      flex-wrap:wrap;\n",
              "      gap: 12px;\n",
              "    }\n",
              "\n",
              "    .colab-df-convert {\n",
              "      background-color: #E8F0FE;\n",
              "      border: none;\n",
              "      border-radius: 50%;\n",
              "      cursor: pointer;\n",
              "      display: none;\n",
              "      fill: #1967D2;\n",
              "      height: 32px;\n",
              "      padding: 0 0 0 0;\n",
              "      width: 32px;\n",
              "    }\n",
              "\n",
              "    .colab-df-convert:hover {\n",
              "      background-color: #E2EBFA;\n",
              "      box-shadow: 0px 1px 2px rgba(60, 64, 67, 0.3), 0px 1px 3px 1px rgba(60, 64, 67, 0.15);\n",
              "      fill: #174EA6;\n",
              "    }\n",
              "\n",
              "    [theme=dark] .colab-df-convert {\n",
              "      background-color: #3B4455;\n",
              "      fill: #D2E3FC;\n",
              "    }\n",
              "\n",
              "    [theme=dark] .colab-df-convert:hover {\n",
              "      background-color: #434B5C;\n",
              "      box-shadow: 0px 1px 3px 1px rgba(0, 0, 0, 0.15);\n",
              "      filter: drop-shadow(0px 1px 2px rgba(0, 0, 0, 0.3));\n",
              "      fill: #FFFFFF;\n",
              "    }\n",
              "  </style>\n",
              "\n",
              "      <script>\n",
              "        const buttonEl =\n",
              "          document.querySelector('#df-a66552b6-9255-4fdf-9d20-1e9101e1777b button.colab-df-convert');\n",
              "        buttonEl.style.display =\n",
              "          google.colab.kernel.accessAllowed ? 'block' : 'none';\n",
              "\n",
              "        async function convertToInteractive(key) {\n",
              "          const element = document.querySelector('#df-a66552b6-9255-4fdf-9d20-1e9101e1777b');\n",
              "          const dataTable =\n",
              "            await google.colab.kernel.invokeFunction('convertToInteractive',\n",
              "                                                     [key], {});\n",
              "          if (!dataTable) return;\n",
              "\n",
              "          const docLinkHtml = 'Like what you see? Visit the ' +\n",
              "            '<a target=\"_blank\" href=https://colab.research.google.com/notebooks/data_table.ipynb>data table notebook</a>'\n",
              "            + ' to learn more about interactive tables.';\n",
              "          element.innerHTML = '';\n",
              "          dataTable['output_type'] = 'display_data';\n",
              "          await google.colab.output.renderOutput(dataTable, element);\n",
              "          const docLink = document.createElement('div');\n",
              "          docLink.innerHTML = docLinkHtml;\n",
              "          element.appendChild(docLink);\n",
              "        }\n",
              "      </script>\n",
              "    </div>\n",
              "  </div>\n",
              "  "
            ]
          },
          "metadata": {},
          "execution_count": 45
        }
      ]
    },
    {
      "cell_type": "code",
      "source": [
        "print_sentiment_breakdown(pol_df.sentiment, \"Normalised Sentiment breakdown of Political tweets Sentiment\")"
      ],
      "metadata": {
        "colab": {
          "base_uri": "https://localhost:8080/",
          "height": 264
        },
        "id": "XSrU9QIrX1sU",
        "outputId": "ee566e09-8209-4e6c-cb14-3e2adb7a1cab"
      },
      "execution_count": 46,
      "outputs": [
        {
          "output_type": "display_data",
          "data": {
            "text/plain": [
              "<Figure size 432x288 with 1 Axes>"
            ],
            "image/png": "[encoded data removed]"
          },
          "metadata": {}
        }
      ]
    },
    {
      "cell_type": "code",
      "source": [
        "pol_df.shape"
      ],
      "metadata": {
        "colab": {
          "base_uri": "https://localhost:8080/"
        },
        "id": "6UyRuUtJYB06",
        "outputId": "a4521a64-e3f1-4d62-980c-6a97ae048b50"
      },
      "execution_count": 47,
      "outputs": [
        {
          "output_type": "execute_result",
          "data": {
            "text/plain": [
              "(232, 10)"
            ]
          },
          "metadata": {},
          "execution_count": 47
        }
      ]
    },
    {
      "cell_type": "markdown",
      "source": [
        "### Vader Sentiment Analysis"
      ],
      "metadata": {
        "id": "KI3xT6nyZV52"
      }
    },
    {
      "cell_type": "code",
      "source": [
        "def get_sentiment(text):\n",
        "  analysis = analyzer.polarity_scores(text)\n",
        "  score = analysis[\"compound\"]\n",
        "  if score >= 0.05:\n",
        "    return \"positive\"\n",
        "  if score > -0.05 and score < 0.05:\n",
        "    return \"neutral\"\n",
        "  if score <= -0.05:\n",
        "    return \"negative\"\n",
        "\n",
        "vader_pol_df = pd.DataFrame(pol_df.text).apply(get_sentiment, axis=1)\n",
        "\n",
        "vader_pol_report = classification_report(vader_pol_df, pol_df.sentiment, output_dict=True)\n",
        "print('accuracy: ', vader_pol_report['accuracy'])\n",
        "print('macro avg: ', vader_pol_report['macro avg'])\n",
        "print('positive: ', vader_pol_report['positive'])\n",
        "print('negative: ', vader_pol_report['negative'])\n",
        "print('neutral ', vader_pol_report['neutral'])\n",
        "\n",
        "cm = confusion_matrix(y_test, vader_df)\n",
        "cmd = ConfusionMatrixDisplay(cm, display_labels=[\"negative\", \"neutral\", \"positive\"])\n",
        "cmd.plot()"
      ],
      "metadata": {
        "colab": {
          "base_uri": "https://localhost:8080/",
          "height": 383
        },
        "id": "tqwL8JopYfo7",
        "outputId": "77388a9b-85fe-417d-9e55-15067290c935"
      },
      "execution_count": 48,
      "outputs": [
        {
          "output_type": "stream",
          "name": "stdout",
          "text": [
            "accuracy:  0.7370689655172413\n",
            "macro avg:  {'precision': 0.6341632891003379, 'recall': 0.6512865726227796, 'f1-score': 0.6269554649230371, 'support': 232}\n",
            "positive:  {'precision': 0.5588235294117647, 'recall': 0.34545454545454546, 'f1-score': 0.42696629213483145, 'support': 55}\n",
            "negative:  {'precision': 0.48936170212765956, 'recall': 0.71875, 'f1-score': 0.5822784810126582, 'support': 32}\n",
            "neutral  {'precision': 0.8543046357615894, 'recall': 0.8896551724137931, 'f1-score': 0.8716216216216217, 'support': 145}\n"
          ]
        },
        {
          "output_type": "execute_result",
          "data": {
            "text/plain": [
              "<sklearn.metrics._plot.confusion_matrix.ConfusionMatrixDisplay at 0x7f434c59bf50>"
            ]
          },
          "metadata": {},
          "execution_count": 48
        },
        {
          "output_type": "display_data",
          "data": {
            "text/plain": [
              "<Figure size 432x288 with 2 Axes>"
            ],
            "image/png": "[encoded data removed]"
          },
          "metadata": {
            "needs_background": "light"
          }
        }
      ]
    },
    {
      "cell_type": "code",
      "source": [
        "print_sentiment_breakdown(vader_pol_df, \"Normalised Vader Predicted Sentiment breakdown of Political tweets\")"
      ],
      "metadata": {
        "colab": {
          "base_uri": "https://localhost:8080/",
          "height": 264
        },
        "id": "iN-miWROZQ-s",
        "outputId": "393d5c91-f17f-4bdd-b6f6-4b90a11d52f3"
      },
      "execution_count": 49,
      "outputs": [
        {
          "output_type": "display_data",
          "data": {
            "text/plain": [
              "<Figure size 432x288 with 1 Axes>"
            ],
            "image/png": "[encoded data removed]"
          },
          "metadata": {}
        }
      ]
    },
    {
      "cell_type": "markdown",
      "source": [
        "### SVM Sentiment Analysis"
      ],
      "metadata": {
        "id": "lqDEuvZtZaAO"
      }
    },
    {
      "cell_type": "code",
      "source": [
        "pol_vectors = vectorizer.transform(pol_df.text)"
      ],
      "metadata": {
        "id": "TLQ9scSlY5re"
      },
      "execution_count": 50,
      "outputs": []
    },
    {
      "cell_type": "code",
      "source": [
        "pol_vectors.shape"
      ],
      "metadata": {
        "colab": {
          "base_uri": "https://localhost:8080/"
        },
        "id": "q6ptrUfrdn0Q",
        "outputId": "929b8691-c73f-4a25-b07f-95770c532f28"
      },
      "execution_count": 51,
      "outputs": [
        {
          "output_type": "execute_result",
          "data": {
            "text/plain": [
              "(232, 150)"
            ]
          },
          "metadata": {},
          "execution_count": 51
        }
      ]
    },
    {
      "cell_type": "code",
      "source": [
        "svm_pol_pred = clf.predict(pol_vectors)\n",
        "\n",
        "svm_pol_report = classification_report(pol_df.sentiment, svm_pol_pred, output_dict=True)\n",
        "print('accuracy: ', svm_pol_report['accuracy'])\n",
        "print('macro avg: ', svm_pol_report['macro avg'])\n",
        "print('positive: ', svm_pol_report['positive'])\n",
        "print('negative: ', svm_pol_report['negative'])\n",
        "print('neutral ', svm_pol_report['neutral'])\n",
        "\n",
        "cm = confusion_matrix(y_test, vader_df)\n",
        "cmd = ConfusionMatrixDisplay(cm, display_labels=[\"negative\", \"neutral\", \"positive\"])\n",
        "cmd.plot()"
      ],
      "metadata": {
        "colab": {
          "base_uri": "https://localhost:8080/",
          "height": 383
        },
        "id": "k1Bpd8yNZhMC",
        "outputId": "2e1f198a-1a9f-4232-ae8d-aabedf752d8e"
      },
      "execution_count": 52,
      "outputs": [
        {
          "output_type": "stream",
          "name": "stdout",
          "text": [
            "accuracy:  0.16810344827586207\n",
            "macro avg:  {'precision': 0.2155614112135851, 'recall': 0.27550028042779745, 'f1-score': 0.155178952672687, 'support': 232}\n",
            "positive:  {'precision': 0.21739130434782608, 'recall': 0.14705882352941177, 'f1-score': 0.1754385964912281, 'support': 34}\n",
            "negative:  {'precision': 0.15656565656565657, 'recall': 0.6595744680851063, 'f1-score': 0.2530612244897959, 'support': 47}\n",
            "neutral  {'precision': 0.2727272727272727, 'recall': 0.019867549668874173, 'f1-score': 0.03703703703703704, 'support': 151}\n"
          ]
        },
        {
          "output_type": "execute_result",
          "data": {
            "text/plain": [
              "<sklearn.metrics._plot.confusion_matrix.ConfusionMatrixDisplay at 0x7f434c3a8350>"
            ]
          },
          "metadata": {},
          "execution_count": 52
        },
        {
          "output_type": "display_data",
          "data": {
            "text/plain": [
              "<Figure size 432x288 with 2 Axes>"
            ],
            "image/png": "[encoded data removed]"
          },
          "metadata": {
            "needs_background": "light"
          }
        }
      ]
    },
    {
      "cell_type": "code",
      "source": [
        "svm_pol_df = pd.DataFrame(svm_pol_pred)[0]\n",
        "\n",
        "print_sentiment_breakdown(svm_pol_df, \"Normalised SVM Predicted Sentiment breakdown of Political tweets\")"
      ],
      "metadata": {
        "colab": {
          "base_uri": "https://localhost:8080/",
          "height": 264
        },
        "id": "_tIWbMlSZ9ni",
        "outputId": "93664d94-69db-4478-8b62-db95fccb1212"
      },
      "execution_count": 53,
      "outputs": [
        {
          "output_type": "display_data",
          "data": {
            "text/plain": [
              "<Figure size 432x288 with 1 Axes>"
            ],
            "image/png": "[encoded data removed]"
          },
          "metadata": {}
        }
      ]
    },
    {
      "cell_type": "markdown",
      "source": [
        "# Deep Neural Network Sentiment Analysis"
      ],
      "metadata": {
        "id": "RMeE0XRIa-he"
      }
    },
    {
      "cell_type": "code",
      "source": [
        "df = pd.read_csv(\"tweets.1650486802.csv\")\n",
        "df = cleanup_data(df)"
      ],
      "metadata": {
        "id": "H4JGABuxa1y9"
      },
      "execution_count": 54,
      "outputs": []
    },
    {
      "cell_type": "code",
      "source": [
        "from nltk.tokenize import word_tokenize\n",
        "nltk.download('punkt')"
      ],
      "metadata": {
        "colab": {
          "base_uri": "https://localhost:8080/"
        },
        "id": "HGtzNrbPbQGU",
        "outputId": "0360ff33-d721-41c0-a729-054148c79585"
      },
      "execution_count": 55,
      "outputs": [
        {
          "output_type": "stream",
          "name": "stdout",
          "text": [
            "[nltk_data] Downloading package punkt to /root/nltk_data...\n",
            "[nltk_data]   Package punkt is already up-to-date!\n"
          ]
        },
        {
          "output_type": "execute_result",
          "data": {
            "text/plain": [
              "True"
            ]
          },
          "metadata": {},
          "execution_count": 55
        }
      ]
    },
    {
      "cell_type": "code",
      "source": [
        "from numpy.random import seed\n",
        "seed(1)\n",
        "\n",
        "from keras.preprocessing.text import Tokenizer\n",
        "from keras.preprocessing.sequence import pad_sequences\n",
        "from sklearn.model_selection import train_test_split\n",
        "\n",
        "\n",
        "Y = pd.get_dummies(df.sentiment).values\n",
        "\n",
        "max_features = 115\n",
        "\n",
        "tokenizer = Tokenizer(num_words=max_features, split=' ')\n",
        "tokenizer.fit_on_texts(df.text)\n",
        "\n",
        "X = pad_sequences(tokenizer.texts_to_sequences(df.text))\n",
        "\n",
        "X_train, X_test, y_train, y_test = train_test_split(X, Y, test_size=0.3, random_state=613, shuffle=True)"
      ],
      "metadata": {
        "id": "NYQMRJbXbV_X"
      },
      "execution_count": 65,
      "outputs": []
    },
    {
      "cell_type": "code",
      "source": [
        "import torch\n",
        "torch.cuda.is_available()"
      ],
      "metadata": {
        "colab": {
          "base_uri": "https://localhost:8080/"
        },
        "id": "s67C9aKAbXlM",
        "outputId": "50913260-894d-494e-d305-bc40085c74fe"
      },
      "execution_count": 57,
      "outputs": [
        {
          "output_type": "execute_result",
          "data": {
            "text/plain": [
              "True"
            ]
          },
          "metadata": {},
          "execution_count": 57
        }
      ]
    },
    {
      "cell_type": "code",
      "source": [
        "from keras.models import Sequential\n",
        "from keras.layers import Dense, Embedding, LSTM, SpatialDropout1D\n",
        "from keras.utils.np_utils import to_categorical\n",
        "\n",
        "from keras.callbacks import History \n",
        "history = History()\n",
        "\n",
        "embed_dim = 18\n",
        "lstm_out = 4\n",
        "\n",
        "\n",
        "model = Sequential()\n",
        "model.add(Embedding(max_features, embed_dim,input_length = X.shape[1]))\n",
        "model.add(LSTM(lstm_out, dropout=0.4, recurrent_dropout=0.4))\n",
        "model.add(Dense(3,activation='softmax'))\n",
        "model.compile(loss = 'categorical_crossentropy', optimizer='adam', metrics = ['accuracy'])\n",
        "print(model.summary())"
      ],
      "metadata": {
        "colab": {
          "base_uri": "https://localhost:8080/"
        },
        "id": "sJPBWIdBbZXe",
        "outputId": "be73e93e-72fa-4634-8ef1-149c04fe6892"
      },
      "execution_count": 67,
      "outputs": [
        {
          "output_type": "stream",
          "name": "stdout",
          "text": [
            "WARNING:tensorflow:Layer lstm_2 will not use cuDNN kernels since it doesn't meet the criteria. It will use a generic GPU kernel as fallback when running on GPU.\n",
            "Model: \"sequential_2\"\n",
            "_________________________________________________________________\n",
            " Layer (type)                Output Shape              Param #   \n",
            "=================================================================\n",
            " embedding_2 (Embedding)     (None, 42, 18)            2070      \n",
            "                                                                 \n",
            " lstm_2 (LSTM)               (None, 4)                 368       \n",
            "                                                                 \n",
            " dense_2 (Dense)             (None, 3)                 15        \n",
            "                                                                 \n",
            "=================================================================\n",
            "Total params: 2,453\n",
            "Trainable params: 2,453\n",
            "Non-trainable params: 0\n",
            "_________________________________________________________________\n",
            "None\n"
          ]
        }
      ]
    },
    {
      "cell_type": "code",
      "source": [
        "from keras.callbacks import ModelCheckpoint\n",
        "\n",
        "checkpoint_filepath = '/tmp/checkpoint'\n",
        "model_checkpoint_callback = ModelCheckpoint(\n",
        "    filepath=checkpoint_filepath,\n",
        "    save_weights_only=True,\n",
        "    monitor='val_accuracy',\n",
        "    mode='max',\n",
        "    save_best_only=True)"
      ],
      "metadata": {
        "id": "etENZMBkg27O"
      },
      "execution_count": 68,
      "outputs": []
    },
    {
      "cell_type": "code",
      "source": [
        "try:\n",
        "  with open('history.pickle', 'rb') as handle:\n",
        "    history2 = pickle.load(handle)\n",
        "except:\n",
        "  history2 = None"
      ],
      "metadata": {
        "id": "Ki59L8J3tzcF"
      },
      "execution_count": 69,
      "outputs": []
    },
    {
      "cell_type": "code",
      "source": [
        "batch_size = 32\n",
        "if not history2:\n",
        "  history2 = model.fit(X_train, y_train, validation_data=(X_test, y_test), epochs = 40, batch_size=batch_size, verbose = 2, callbacks=[history, model_checkpoint_callback])"
      ],
      "metadata": {
        "colab": {
          "base_uri": "https://localhost:8080/"
        },
        "id": "wkY0dnzFbbSW",
        "outputId": "2d8f4949-3cde-4070-d36a-e406245dd7ba"
      },
      "execution_count": 70,
      "outputs": [
        {
          "output_type": "stream",
          "name": "stdout",
          "text": [
            "Epoch 1/40\n",
            "34/34 - 30s - loss: 1.0971 - accuracy: 0.3386 - val_loss: 1.0916 - val_accuracy: 0.3788 - 30s/epoch - 868ms/step\n",
            "Epoch 2/40\n",
            "34/34 - 6s - loss: 1.0852 - accuracy: 0.4372 - val_loss: 1.0793 - val_accuracy: 0.4437 - 6s/epoch - 182ms/step\n",
            "Epoch 3/40\n",
            "34/34 - 6s - loss: 1.0659 - accuracy: 0.4605 - val_loss: 1.0579 - val_accuracy: 0.4264 - 6s/epoch - 173ms/step\n",
            "Epoch 4/40\n",
            "34/34 - 6s - loss: 1.0413 - accuracy: 0.4567 - val_loss: 1.0304 - val_accuracy: 0.4827 - 6s/epoch - 173ms/step\n",
            "Epoch 5/40\n",
            "34/34 - 6s - loss: 1.0122 - accuracy: 0.5051 - val_loss: 1.0075 - val_accuracy: 0.4978 - 6s/epoch - 181ms/step\n",
            "Epoch 6/40\n",
            "34/34 - 6s - loss: 0.9846 - accuracy: 0.5405 - val_loss: 0.9870 - val_accuracy: 0.5238 - 6s/epoch - 179ms/step\n",
            "Epoch 7/40\n",
            "34/34 - 6s - loss: 0.9564 - accuracy: 0.5693 - val_loss: 0.9627 - val_accuracy: 0.5346 - 6s/epoch - 177ms/step\n",
            "Epoch 8/40\n",
            "34/34 - 7s - loss: 0.9348 - accuracy: 0.5563 - val_loss: 0.9455 - val_accuracy: 0.5541 - 7s/epoch - 195ms/step\n",
            "Epoch 9/40\n",
            "34/34 - 6s - loss: 0.9157 - accuracy: 0.5981 - val_loss: 0.9375 - val_accuracy: 0.5476 - 6s/epoch - 182ms/step\n",
            "Epoch 10/40\n",
            "34/34 - 6s - loss: 0.8934 - accuracy: 0.6037 - val_loss: 0.9276 - val_accuracy: 0.5584 - 6s/epoch - 171ms/step\n",
            "Epoch 11/40\n",
            "34/34 - 6s - loss: 0.8734 - accuracy: 0.6158 - val_loss: 0.9226 - val_accuracy: 0.5606 - 6s/epoch - 176ms/step\n",
            "Epoch 12/40\n",
            "34/34 - 6s - loss: 0.8576 - accuracy: 0.6242 - val_loss: 0.9252 - val_accuracy: 0.5563 - 6s/epoch - 177ms/step\n",
            "Epoch 13/40\n",
            "34/34 - 6s - loss: 0.8660 - accuracy: 0.6233 - val_loss: 0.9154 - val_accuracy: 0.5801 - 6s/epoch - 171ms/step\n",
            "Epoch 14/40\n",
            "34/34 - 7s - loss: 0.8428 - accuracy: 0.6195 - val_loss: 0.9080 - val_accuracy: 0.5887 - 7s/epoch - 204ms/step\n",
            "Epoch 15/40\n",
            "34/34 - 6s - loss: 0.8381 - accuracy: 0.6279 - val_loss: 0.9085 - val_accuracy: 0.5909 - 6s/epoch - 174ms/step\n",
            "Epoch 16/40\n",
            "34/34 - 6s - loss: 0.8240 - accuracy: 0.6409 - val_loss: 0.9046 - val_accuracy: 0.5931 - 6s/epoch - 175ms/step\n",
            "Epoch 17/40\n",
            "34/34 - 6s - loss: 0.8327 - accuracy: 0.6251 - val_loss: 0.9159 - val_accuracy: 0.5823 - 6s/epoch - 177ms/step\n",
            "Epoch 18/40\n",
            "34/34 - 6s - loss: 0.8178 - accuracy: 0.6456 - val_loss: 0.9143 - val_accuracy: 0.5779 - 6s/epoch - 176ms/step\n",
            "Epoch 19/40\n",
            "34/34 - 6s - loss: 0.8223 - accuracy: 0.6465 - val_loss: 0.9064 - val_accuracy: 0.6039 - 6s/epoch - 173ms/step\n",
            "Epoch 20/40\n",
            "34/34 - 6s - loss: 0.8126 - accuracy: 0.6335 - val_loss: 0.9089 - val_accuracy: 0.6104 - 6s/epoch - 180ms/step\n",
            "Epoch 21/40\n",
            "34/34 - 6s - loss: 0.8065 - accuracy: 0.6540 - val_loss: 0.9101 - val_accuracy: 0.6039 - 6s/epoch - 181ms/step\n",
            "Epoch 22/40\n",
            "34/34 - 6s - loss: 0.7987 - accuracy: 0.6465 - val_loss: 0.9227 - val_accuracy: 0.5801 - 6s/epoch - 179ms/step\n",
            "Epoch 23/40\n",
            "34/34 - 6s - loss: 0.7995 - accuracy: 0.6605 - val_loss: 0.9285 - val_accuracy: 0.5779 - 6s/epoch - 175ms/step\n",
            "Epoch 24/40\n",
            "34/34 - 6s - loss: 0.7987 - accuracy: 0.6577 - val_loss: 0.9230 - val_accuracy: 0.5866 - 6s/epoch - 178ms/step\n",
            "Epoch 25/40\n",
            "34/34 - 6s - loss: 0.7923 - accuracy: 0.6577 - val_loss: 0.9280 - val_accuracy: 0.5909 - 6s/epoch - 173ms/step\n",
            "Epoch 26/40\n",
            "34/34 - 6s - loss: 0.7852 - accuracy: 0.6633 - val_loss: 0.9219 - val_accuracy: 0.5887 - 6s/epoch - 179ms/step\n",
            "Epoch 27/40\n",
            "34/34 - 6s - loss: 0.7949 - accuracy: 0.6595 - val_loss: 0.9247 - val_accuracy: 0.5931 - 6s/epoch - 175ms/step\n",
            "Epoch 28/40\n",
            "34/34 - 6s - loss: 0.7837 - accuracy: 0.6651 - val_loss: 0.9233 - val_accuracy: 0.6017 - 6s/epoch - 177ms/step\n",
            "Epoch 29/40\n",
            "34/34 - 6s - loss: 0.7833 - accuracy: 0.6474 - val_loss: 0.9383 - val_accuracy: 0.5844 - 6s/epoch - 172ms/step\n",
            "Epoch 30/40\n",
            "34/34 - 6s - loss: 0.7826 - accuracy: 0.6540 - val_loss: 0.9263 - val_accuracy: 0.5996 - 6s/epoch - 173ms/step\n",
            "Epoch 31/40\n",
            "34/34 - 6s - loss: 0.7692 - accuracy: 0.6688 - val_loss: 0.9302 - val_accuracy: 0.5996 - 6s/epoch - 171ms/step\n",
            "Epoch 32/40\n",
            "34/34 - 6s - loss: 0.7663 - accuracy: 0.6698 - val_loss: 0.9400 - val_accuracy: 0.5909 - 6s/epoch - 179ms/step\n",
            "Epoch 33/40\n",
            "34/34 - 6s - loss: 0.7704 - accuracy: 0.6605 - val_loss: 0.9346 - val_accuracy: 0.5931 - 6s/epoch - 176ms/step\n",
            "Epoch 34/40\n",
            "34/34 - 6s - loss: 0.7763 - accuracy: 0.6614 - val_loss: 0.9329 - val_accuracy: 0.5779 - 6s/epoch - 171ms/step\n",
            "Epoch 35/40\n",
            "34/34 - 6s - loss: 0.7793 - accuracy: 0.6521 - val_loss: 0.9403 - val_accuracy: 0.5823 - 6s/epoch - 173ms/step\n",
            "Epoch 36/40\n",
            "34/34 - 6s - loss: 0.7634 - accuracy: 0.6800 - val_loss: 0.9386 - val_accuracy: 0.5779 - 6s/epoch - 172ms/step\n",
            "Epoch 37/40\n",
            "34/34 - 6s - loss: 0.7690 - accuracy: 0.6474 - val_loss: 0.9334 - val_accuracy: 0.5952 - 6s/epoch - 180ms/step\n",
            "Epoch 38/40\n",
            "34/34 - 6s - loss: 0.7702 - accuracy: 0.6688 - val_loss: 0.9330 - val_accuracy: 0.5844 - 6s/epoch - 188ms/step\n",
            "Epoch 39/40\n",
            "34/34 - 6s - loss: 0.7692 - accuracy: 0.6753 - val_loss: 0.9502 - val_accuracy: 0.5909 - 6s/epoch - 175ms/step\n",
            "Epoch 40/40\n",
            "34/34 - 6s - loss: 0.7736 - accuracy: 0.6605 - val_loss: 0.9397 - val_accuracy: 0.5823 - 6s/epoch - 180ms/step\n"
          ]
        }
      ]
    },
    {
      "cell_type": "code",
      "source": [
        "import pickle\n",
        "\n",
        "with open('history.pickle', 'wb') as handle:\n",
        "    pickle.dump(history2, handle, protocol=pickle.HIGHEST_PROTOCOL)"
      ],
      "metadata": {
        "colab": {
          "base_uri": "https://localhost:8080/"
        },
        "id": "_yUqTGKetd7t",
        "outputId": "3548c61a-42ff-490d-e0b5-60598f265ec5"
      },
      "execution_count": 71,
      "outputs": [
        {
          "output_type": "stream",
          "name": "stdout",
          "text": [
            "INFO:tensorflow:Assets written to: ram://fada1083-afba-4107-897a-15a4611e5a10/assets\n"
          ]
        },
        {
          "output_type": "stream",
          "name": "stderr",
          "text": [
            "WARNING:absl:<keras.layers.recurrent.LSTMCell object at 0x7f414c6bd8d0> has the same name 'LSTMCell' as a built-in Keras object. Consider renaming <class 'keras.layers.recurrent.LSTMCell'> to avoid naming conflicts when loading with `tf.keras.models.load_model`. If renaming is not possible, pass the object in the `custom_objects` parameter of the load function.\n"
          ]
        }
      ]
    },
    {
      "cell_type": "code",
      "source": [
        "model.load_weights(checkpoint_filepath)"
      ],
      "metadata": {
        "colab": {
          "base_uri": "https://localhost:8080/"
        },
        "id": "hHLuZBDghWGb",
        "outputId": "f7ae7030-05e3-4b0f-9986-ab317bc3b712"
      },
      "execution_count": 72,
      "outputs": [
        {
          "output_type": "execute_result",
          "data": {
            "text/plain": [
              "<tensorflow.python.training.tracking.util.CheckpointLoadStatus at 0x7f434ccb5310>"
            ]
          },
          "metadata": {},
          "execution_count": 72
        }
      ]
    },
    {
      "cell_type": "code",
      "source": [
        "import matplotlib.pyplot as plt\n",
        "\n",
        "plt.plot(history2.history['loss'])\n",
        "plt.plot(history2.history['val_loss'])\n",
        "plt.title('Loss')\n",
        "plt.ylabel('loss')\n",
        "plt.xlabel('epoch')\n",
        "plt.legend(['train', 'validation'], loc='best')\n",
        "plt.show()\n",
        "\n",
        "plt.plot(history2.history['accuracy'])\n",
        "plt.plot(history2.history['val_accuracy'])\n",
        "plt.title('Accuracy')\n",
        "plt.ylabel('accuracy')\n",
        "plt.xlabel('epoch')\n",
        "plt.legend(['train', 'validation'], loc='best')\n",
        "plt.show()"
      ],
      "metadata": {
        "colab": {
          "base_uri": "https://localhost:8080/",
          "height": 573
        },
        "id": "e40I15RabdUL",
        "outputId": "8dfbf2b4-ca53-485f-bd36-a10f594dde35"
      },
      "execution_count": 73,
      "outputs": [
        {
          "output_type": "display_data",
          "data": {
            "text/plain": [
              "<Figure size 432x288 with 1 Axes>"
            ],
            "image/png": "[encoded data removed]"
          },
          "metadata": {
            "needs_background": "light"
          }
        },
        {
          "output_type": "display_data",
          "data": {
            "text/plain": [
              "<Figure size 432x288 with 1 Axes>"
            ],
            "image/png": "[encoded data removed]"
          },
          "metadata": {
            "needs_background": "light"
          }
        }
      ]
    },
    {
      "cell_type": "code",
      "source": [
        "import operator\n",
        "# negative, neutral, positive\n",
        "\n",
        "def get_sentiment(values):\n",
        "  max_index, max_value = max(enumerate(values), key=operator.itemgetter(1))\n",
        "  if max_index == 0:\n",
        "    return \"negative\"\n",
        "  if max_index == 1:\n",
        "    return \"neutral\"\n",
        "  if max_index == 2:\n",
        "    return \"positive\"\n",
        "  return \"mixed\""
      ],
      "metadata": {
        "id": "76Ai-s0qbkdZ"
      },
      "execution_count": 75,
      "outputs": []
    },
    {
      "cell_type": "code",
      "source": [
        "y_pred = model.predict(X_test)"
      ],
      "metadata": {
        "id": "_OMu1SLslFFW"
      },
      "execution_count": 76,
      "outputs": []
    },
    {
      "cell_type": "code",
      "source": [
        "y_pred = pd.DataFrame([get_sentiment(vals) for vals in y_pred])[0]\n",
        "y_test = pd.DataFrame([get_sentiment(vals) for vals in y_test])[0]"
      ],
      "metadata": {
        "id": "JQCJVvjebmUo"
      },
      "execution_count": 77,
      "outputs": []
    },
    {
      "cell_type": "code",
      "source": [
        "dnn_report = classification_report(y_test, y_pred, output_dict=True)\n",
        "print('accuracy: ', dnn_report['accuracy'])\n",
        "print('macro avg: ', dnn_report['macro avg'])\n",
        "print('positive: ', dnn_report['positive'])\n",
        "print('negative: ', dnn_report['negative'])\n",
        "print('neutral ', dnn_report['neutral'])"
      ],
      "metadata": {
        "colab": {
          "base_uri": "https://localhost:8080/"
        },
        "id": "SFqG5AV5bwMT",
        "outputId": "67990965-598b-4a3e-b993-8e9fdc35192d"
      },
      "execution_count": 78,
      "outputs": [
        {
          "output_type": "stream",
          "name": "stdout",
          "text": [
            "accuracy:  0.6103896103896104\n",
            "macro avg:  {'precision': 0.6096825520697848, 'recall': 0.6083671011242526, 'f1-score': 0.6068465618108485, 'support': 462}\n",
            "positive:  {'precision': 0.5838926174496645, 'recall': 0.5612903225806452, 'f1-score': 0.5723684210526315, 'support': 155}\n",
            "negative:  {'precision': 0.6201550387596899, 'recall': 0.5405405405405406, 'f1-score': 0.5776173285198556, 'support': 148}\n",
            "neutral  {'precision': 0.625, 'recall': 0.7232704402515723, 'f1-score': 0.6705539358600583, 'support': 159}\n"
          ]
        }
      ]
    },
    {
      "cell_type": "code",
      "source": [
        "cm = confusion_matrix(y_test, y_pred)\n",
        "cmd = ConfusionMatrixDisplay(cm, display_labels=[\"negative\", \"neutral\", \"positive\"])\n",
        "cmd.plot()"
      ],
      "metadata": {
        "colab": {
          "base_uri": "https://localhost:8080/",
          "height": 296
        },
        "id": "A7IRxPm8bqVY",
        "outputId": "75f06e87-44b1-438e-b4b0-750c2d0a5cf8"
      },
      "execution_count": 79,
      "outputs": [
        {
          "output_type": "execute_result",
          "data": {
            "text/plain": [
              "<sklearn.metrics._plot.confusion_matrix.ConfusionMatrixDisplay at 0x7f415165efd0>"
            ]
          },
          "metadata": {},
          "execution_count": 79
        },
        {
          "output_type": "display_data",
          "data": {
            "text/plain": [
              "<Figure size 432x288 with 2 Axes>"
            ],
            "image/png": "[encoded data removed]"
          },
          "metadata": {
            "needs_background": "light"
          }
        }
      ]
    },
    {
      "cell_type": "code",
      "source": [
        "print_sentiment_breakdown(y_pred, \"Normalised DNN Predicted Sentiment breakdown of tweets\")"
      ],
      "metadata": {
        "colab": {
          "base_uri": "https://localhost:8080/",
          "height": 264
        },
        "id": "Rjm_6VIvbttv",
        "outputId": "046f7cde-1508-4368-ab33-24066786eefa"
      },
      "execution_count": 80,
      "outputs": [
        {
          "output_type": "display_data",
          "data": {
            "text/plain": [
              "<Figure size 432x288 with 1 Axes>"
            ],
            "image/png": "[encoded data removed]"
          },
          "metadata": {}
        }
      ]
    },
    {
      "cell_type": "code",
      "source": [
        ""
      ],
      "metadata": {
        "id": "z-U17iMmvk2d"
      },
      "execution_count": null,
      "outputs": []
    }
  ]
}