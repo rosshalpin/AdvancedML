{
  "nbformat": 4,
  "nbformat_minor": 0,
  "metadata": {
    "colab": {
      "name": "Main.ipynb",
      "provenance": [],
      "collapsed_sections": [],
      "authorship_tag": "ABX9TyPGK2zYjvjyXKVklk9kn+B1",
      "include_colab_link": true
    },
    "kernelspec": {
      "name": "python3",
      "display_name": "Python 3"
    },
    "language_info": {
      "name": "python"
    },
    "accelerator": "GPU"
  },
  "cells": [
    {
      "cell_type": "markdown",
      "metadata": {
        "id": "view-in-github",
        "colab_type": "text"
      },
      "source": [
        "<a href=\"https://colab.research.google.com/github/rosshalpin/AdvancedML/blob/main/Main.ipynb\" target=\"_parent\"><img src=\"https://colab.research.google.com/assets/colab-badge.svg\" alt=\"Open In Colab\"/></a>"
      ]
    },
    {
      "cell_type": "code",
      "execution_count": 1,
      "metadata": {
        "colab": {
          "base_uri": "https://localhost:8080/"
        },
        "id": "r1F0O5pFNCMb",
        "outputId": "fb7aa881-a8d3-4eab-ee2a-87dff11f2518"
      },
      "outputs": [
        {
          "output_type": "stream",
          "name": "stdout",
          "text": [
            "/\n",
            "Drive already mounted at /content/gdrive; to attempt to forcibly remount, call drive.mount(\"/content/gdrive\", force_remount=True).\n",
            "ln: failed to create symbolic link '/mydrive/My Drive': File exists\n",
            "/content/gdrive/My Drive/AdvancedML\n"
          ]
        }
      ],
      "source": [
        "%cd ..\n",
        "from google.colab import drive\n",
        "drive.mount('/content/gdrive')\n",
        "!ln -s /content/gdrive/My\\ Drive/ /mydrive\n",
        "%cd /mydrive/AdvancedML/"
      ]
    },
    {
      "cell_type": "code",
      "source": [
        "!pip install tweepy --upgrade"
      ],
      "metadata": {
        "colab": {
          "base_uri": "https://localhost:8080/"
        },
        "id": "edkQxAnONHUE",
        "outputId": "d98c37e3-bb9d-4b6d-f1c4-5558f8b50288"
      },
      "execution_count": 2,
      "outputs": [
        {
          "output_type": "stream",
          "name": "stdout",
          "text": [
            "Requirement already satisfied: tweepy in /usr/local/lib/python3.7/dist-packages (4.8.0)\n",
            "Requirement already satisfied: oauthlib<4,>=3.2.0 in /usr/local/lib/python3.7/dist-packages (from tweepy) (3.2.0)\n",
            "Requirement already satisfied: requests-oauthlib<2,>=1.2.0 in /usr/local/lib/python3.7/dist-packages (from tweepy) (1.3.1)\n",
            "Requirement already satisfied: requests<3,>=2.27.0 in /usr/local/lib/python3.7/dist-packages (from tweepy) (2.27.1)\n",
            "Requirement already satisfied: charset-normalizer~=2.0.0 in /usr/local/lib/python3.7/dist-packages (from requests<3,>=2.27.0->tweepy) (2.0.12)\n",
            "Requirement already satisfied: certifi>=2017.4.17 in /usr/local/lib/python3.7/dist-packages (from requests<3,>=2.27.0->tweepy) (2021.10.8)\n",
            "Requirement already satisfied: idna<4,>=2.5 in /usr/local/lib/python3.7/dist-packages (from requests<3,>=2.27.0->tweepy) (2.10)\n",
            "Requirement already satisfied: urllib3<1.27,>=1.21.1 in /usr/local/lib/python3.7/dist-packages (from requests<3,>=2.27.0->tweepy) (1.24.3)\n"
          ]
        }
      ]
    },
    {
      "cell_type": "code",
      "source": [
        "%cd /mydrive/AdvancedML/"
      ],
      "metadata": {
        "colab": {
          "base_uri": "https://localhost:8080/"
        },
        "id": "7bZc_ZKeNffM",
        "outputId": "72e9e132-9113-4bed-bd77-4b94ce7b21e3"
      },
      "execution_count": 3,
      "outputs": [
        {
          "output_type": "stream",
          "name": "stdout",
          "text": [
            "/content/gdrive/My Drive/AdvancedML\n"
          ]
        }
      ]
    },
    {
      "cell_type": "code",
      "source": [
        "import tweepy\n",
        "import pandas as pd\n",
        "\n",
        "def pre_process_text(text: str) -> str:\n",
        "    text = text.replace(\"\\n\", \" \").replace(\"\\t\", \" \") # removing newlines and tabs\n",
        "    return text.strip()\n",
        "\n",
        "def obtain_tweets(topic, max=10, limit=10):\n",
        "  with open('bearer.txt', 'r') as file:\n",
        "    BEARER_TOKEN = file.read().rstrip()\n",
        "\n",
        "  client = tweepy.Client(bearer_token=BEARER_TOKEN)\n",
        "\n",
        "  tweet_paginator = tweepy.Paginator(client.search_recent_tweets,\n",
        "                                query=f\"{topic} -is:retweet lang:en\",\n",
        "                                tweet_fields=[\n",
        "                                  \"created_at\", \n",
        "                                  \"possibly_sensitive\", \n",
        "                                  \"public_metrics\",\n",
        "                                ],\n",
        "                                place_fields=[\n",
        "                                  \"full_name\",\n",
        "                                  \"geo\",\n",
        "                                  \"country\",\n",
        "                                  \"country_code\"    \n",
        "                                ],\n",
        "                                expansions=\"geo.place_id\",\n",
        "                                max_results=max,\n",
        "                                limit=limit)\n",
        "\n",
        "  responses = []\n",
        "  for resp in tweet_paginator:\n",
        "    responses.append(resp)\n",
        "\n",
        "  found_places = {}\n",
        "\n",
        "  for resp in responses:\n",
        "    places = resp.includes.get('places')\n",
        "    if places:\n",
        "      for place in places:\n",
        "        found_places[place.id] = place\n",
        "\n",
        "  tweets = []\n",
        "\n",
        "  for resp in responses:\n",
        "    for tweet in resp.data:\n",
        "      if tweet.geo:\n",
        "        place_id = tweet.geo.get('place_id')\n",
        "        coords = found_places[place_id].geo.get('bbox')\n",
        "        lon = (coords[0]+coords[2])/2\n",
        "        lat = (coords[1]+coords[3])/2\n",
        "        new_tweet = [\n",
        "            found_places[place_id].full_name,\n",
        "            f\"{lat:.2f},{lon:.2f}\",\n",
        "            tweet.created_at, \n",
        "            tweet.possibly_sensitive, \n",
        "            tweet.public_metrics.get('retweet_count'), \n",
        "            tweet.public_metrics.get('reply_count'),\n",
        "            tweet.public_metrics.get('like_count'),\n",
        "            tweet.public_metrics.get('quote_count'),\n",
        "            pre_process_text(tweet.text),\n",
        "        ]\n",
        "        tweets.append(new_tweet)\n",
        "\n",
        "\n",
        "  for resp in responses:\n",
        "    for tweet in resp.data:\n",
        "      if not tweet.geo and len(tweets) < (max*limit):\n",
        "        new_tweet = [\n",
        "          None,\n",
        "          None,\n",
        "          tweet.created_at,\n",
        "          tweet.possibly_sensitive,\n",
        "          tweet.public_metrics.get('retweet_count'), \n",
        "          tweet.public_metrics.get('reply_count'),\n",
        "          tweet.public_metrics.get('like_count'),\n",
        "          tweet.public_metrics.get('quote_count'),\n",
        "          pre_process_text(tweet.text),\n",
        "        ]\n",
        "        tweets.append(new_tweet)\n",
        "\n",
        "  columns = [\"place\", \"coords\", \"created_at\", \"possibly_sensitive\", \"retweet_count\", \"reply_count\", \"like_count\", \"quote_count\", \"text\"]\n",
        "  df = pd.DataFrame(tweets, columns=columns)\n",
        "  return df"
      ],
      "metadata": {
        "id": "KT08w2azNgNx"
      },
      "execution_count": 4,
      "outputs": []
    },
    {
      "cell_type": "code",
      "source": [
        "# df = obtain_tweets(\"Lewis Hamilton\", 50, 50)"
      ],
      "metadata": {
        "id": "Nn1pcx03Oq3q"
      },
      "execution_count": 5,
      "outputs": []
    },
    {
      "cell_type": "code",
      "source": [
        "# %cd /mydrive/AdvancedML/"
      ],
      "metadata": {
        "id": "U3gKDv7MSVeH"
      },
      "execution_count": 6,
      "outputs": []
    },
    {
      "cell_type": "code",
      "source": [
        "# import time, csv\n",
        "# epoch_time = int(time.time())\n",
        "\n",
        "# df.to_csv(\"tweets.{}.csv\".format(epoch_time), \n",
        "#           header=list(df.columns), \n",
        "#           index=False, \n",
        "#           escapechar=\"\\\\\", \n",
        "#           encoding='utf-8',\n",
        "#           quoting=csv.QUOTE_ALL)"
      ],
      "metadata": {
        "id": "w_NJKRvrSNi3"
      },
      "execution_count": 7,
      "outputs": []
    },
    {
      "cell_type": "code",
      "source": [
        "try:\n",
        "  df = pd.read_csv(\"tweets.1650486802.csv\")\n",
        "except:\n",
        "  df = None"
      ],
      "metadata": {
        "id": "RQPQ9tcaPaLr"
      },
      "execution_count": 8,
      "outputs": []
    },
    {
      "cell_type": "code",
      "source": [
        "df.head()"
      ],
      "metadata": {
        "colab": {
          "base_uri": "https://localhost:8080/",
          "height": 206
        },
        "id": "WvkgHUW2PzKM",
        "outputId": "1ef33311-23a3-4d6b-b8fc-aa1810867022"
      },
      "execution_count": 9,
      "outputs": [
        {
          "output_type": "execute_result",
          "data": {
            "text/plain": [
              "                                       place         coords  \\\n",
              "0  Port Blandford, Newfoundland and Labrador   48.36,-54.18   \n",
              "1                          Coventry, England    52.41,-1.52   \n",
              "2                          Tamworth, England    52.62,-1.68   \n",
              "3                    Sydney, New South Wales  -33.85,150.93   \n",
              "4                              Potchefstroom   -26.26,28.00   \n",
              "\n",
              "                  created_at  possibly_sensitive  retweet_count  reply_count  \\\n",
              "0  2022-04-20 20:18:29+00:00               False              0            0   \n",
              "1  2022-04-20 17:37:06+00:00               False              4            1   \n",
              "2  2022-04-20 12:51:05+00:00               False              0            2   \n",
              "3  2022-04-20 09:46:10+00:00               False              0            0   \n",
              "4  2022-04-20 04:48:19+00:00               False             51            2   \n",
              "\n",
              "   like_count  quote_count                                               text  \\\n",
              "0           0            0  @lemieuxdavid I’m curious where that Baba O’Re...   \n",
              "1          43            0  Lewis Hamilton Fuji 2007…  Another one of his ...   \n",
              "2           5            0  @MattyWTF1 Fans being openly contemptuous towa...   \n",
              "3           0            0  @MattyWTF1 Carlos Sainz contract negotiations ...   \n",
              "4          51            0  Revamp your Cv  + Cover letter to attract recr...   \n",
              "\n",
              "  sentiment  \n",
              "0  positive  \n",
              "1  positive  \n",
              "2  negative  \n",
              "3   neutral  \n",
              "4   neutral  "
            ],
            "text/html": [
              "\n",
              "  <div id=\"df-90287591-6cb9-4694-8a32-7c4b689b14df\">\n",
              "    <div class=\"colab-df-container\">\n",
              "      <div>\n",
              "<style scoped>\n",
              "    .dataframe tbody tr th:only-of-type {\n",
              "        vertical-align: middle;\n",
              "    }\n",
              "\n",
              "    .dataframe tbody tr th {\n",
              "        vertical-align: top;\n",
              "    }\n",
              "\n",
              "    .dataframe thead th {\n",
              "        text-align: right;\n",
              "    }\n",
              "</style>\n",
              "<table border=\"1\" class=\"dataframe\">\n",
              "  <thead>\n",
              "    <tr style=\"text-align: right;\">\n",
              "      <th></th>\n",
              "      <th>place</th>\n",
              "      <th>coords</th>\n",
              "      <th>created_at</th>\n",
              "      <th>possibly_sensitive</th>\n",
              "      <th>retweet_count</th>\n",
              "      <th>reply_count</th>\n",
              "      <th>like_count</th>\n",
              "      <th>quote_count</th>\n",
              "      <th>text</th>\n",
              "      <th>sentiment</th>\n",
              "    </tr>\n",
              "  </thead>\n",
              "  <tbody>\n",
              "    <tr>\n",
              "      <th>0</th>\n",
              "      <td>Port Blandford, Newfoundland and Labrador</td>\n",
              "      <td>48.36,-54.18</td>\n",
              "      <td>2022-04-20 20:18:29+00:00</td>\n",
              "      <td>False</td>\n",
              "      <td>0</td>\n",
              "      <td>0</td>\n",
              "      <td>0</td>\n",
              "      <td>0</td>\n",
              "      <td>@lemieuxdavid I’m curious where that Baba O’Re...</td>\n",
              "      <td>positive</td>\n",
              "    </tr>\n",
              "    <tr>\n",
              "      <th>1</th>\n",
              "      <td>Coventry, England</td>\n",
              "      <td>52.41,-1.52</td>\n",
              "      <td>2022-04-20 17:37:06+00:00</td>\n",
              "      <td>False</td>\n",
              "      <td>4</td>\n",
              "      <td>1</td>\n",
              "      <td>43</td>\n",
              "      <td>0</td>\n",
              "      <td>Lewis Hamilton Fuji 2007…  Another one of his ...</td>\n",
              "      <td>positive</td>\n",
              "    </tr>\n",
              "    <tr>\n",
              "      <th>2</th>\n",
              "      <td>Tamworth, England</td>\n",
              "      <td>52.62,-1.68</td>\n",
              "      <td>2022-04-20 12:51:05+00:00</td>\n",
              "      <td>False</td>\n",
              "      <td>0</td>\n",
              "      <td>2</td>\n",
              "      <td>5</td>\n",
              "      <td>0</td>\n",
              "      <td>@MattyWTF1 Fans being openly contemptuous towa...</td>\n",
              "      <td>negative</td>\n",
              "    </tr>\n",
              "    <tr>\n",
              "      <th>3</th>\n",
              "      <td>Sydney, New South Wales</td>\n",
              "      <td>-33.85,150.93</td>\n",
              "      <td>2022-04-20 09:46:10+00:00</td>\n",
              "      <td>False</td>\n",
              "      <td>0</td>\n",
              "      <td>0</td>\n",
              "      <td>0</td>\n",
              "      <td>0</td>\n",
              "      <td>@MattyWTF1 Carlos Sainz contract negotiations ...</td>\n",
              "      <td>neutral</td>\n",
              "    </tr>\n",
              "    <tr>\n",
              "      <th>4</th>\n",
              "      <td>Potchefstroom</td>\n",
              "      <td>-26.26,28.00</td>\n",
              "      <td>2022-04-20 04:48:19+00:00</td>\n",
              "      <td>False</td>\n",
              "      <td>51</td>\n",
              "      <td>2</td>\n",
              "      <td>51</td>\n",
              "      <td>0</td>\n",
              "      <td>Revamp your Cv  + Cover letter to attract recr...</td>\n",
              "      <td>neutral</td>\n",
              "    </tr>\n",
              "  </tbody>\n",
              "</table>\n",
              "</div>\n",
              "      <button class=\"colab-df-convert\" onclick=\"convertToInteractive('df-90287591-6cb9-4694-8a32-7c4b689b14df')\"\n",
              "              title=\"Convert this dataframe to an interactive table.\"\n",
              "              style=\"display:none;\">\n",
              "        \n",
              "  <svg xmlns=\"http://www.w3.org/2000/svg\" height=\"24px\"viewBox=\"0 0 24 24\"\n",
              "       width=\"24px\">\n",
              "    <path d=\"M0 0h24v24H0V0z\" fill=\"none\"/>\n",
              "    <path d=\"M18.56 5.44l.94 2.06.94-2.06 2.06-.94-2.06-.94-.94-2.06-.94 2.06-2.06.94zm-11 1L8.5 8.5l.94-2.06 2.06-.94-2.06-.94L8.5 2.5l-.94 2.06-2.06.94zm10 10l.94 2.06.94-2.06 2.06-.94-2.06-.94-.94-2.06-.94 2.06-2.06.94z\"/><path d=\"M17.41 7.96l-1.37-1.37c-.4-.4-.92-.59-1.43-.59-.52 0-1.04.2-1.43.59L10.3 9.45l-7.72 7.72c-.78.78-.78 2.05 0 2.83L4 21.41c.39.39.9.59 1.41.59.51 0 1.02-.2 1.41-.59l7.78-7.78 2.81-2.81c.8-.78.8-2.07 0-2.86zM5.41 20L4 18.59l7.72-7.72 1.47 1.35L5.41 20z\"/>\n",
              "  </svg>\n",
              "      </button>\n",
              "      \n",
              "  <style>\n",
              "    .colab-df-container {\n",
              "      display:flex;\n",
              "      flex-wrap:wrap;\n",
              "      gap: 12px;\n",
              "    }\n",
              "\n",
              "    .colab-df-convert {\n",
              "      background-color: #E8F0FE;\n",
              "      border: none;\n",
              "      border-radius: 50%;\n",
              "      cursor: pointer;\n",
              "      display: none;\n",
              "      fill: #1967D2;\n",
              "      height: 32px;\n",
              "      padding: 0 0 0 0;\n",
              "      width: 32px;\n",
              "    }\n",
              "\n",
              "    .colab-df-convert:hover {\n",
              "      background-color: #E2EBFA;\n",
              "      box-shadow: 0px 1px 2px rgba(60, 64, 67, 0.3), 0px 1px 3px 1px rgba(60, 64, 67, 0.15);\n",
              "      fill: #174EA6;\n",
              "    }\n",
              "\n",
              "    [theme=dark] .colab-df-convert {\n",
              "      background-color: #3B4455;\n",
              "      fill: #D2E3FC;\n",
              "    }\n",
              "\n",
              "    [theme=dark] .colab-df-convert:hover {\n",
              "      background-color: #434B5C;\n",
              "      box-shadow: 0px 1px 3px 1px rgba(0, 0, 0, 0.15);\n",
              "      filter: drop-shadow(0px 1px 2px rgba(0, 0, 0, 0.3));\n",
              "      fill: #FFFFFF;\n",
              "    }\n",
              "  </style>\n",
              "\n",
              "      <script>\n",
              "        const buttonEl =\n",
              "          document.querySelector('#df-90287591-6cb9-4694-8a32-7c4b689b14df button.colab-df-convert');\n",
              "        buttonEl.style.display =\n",
              "          google.colab.kernel.accessAllowed ? 'block' : 'none';\n",
              "\n",
              "        async function convertToInteractive(key) {\n",
              "          const element = document.querySelector('#df-90287591-6cb9-4694-8a32-7c4b689b14df');\n",
              "          const dataTable =\n",
              "            await google.colab.kernel.invokeFunction('convertToInteractive',\n",
              "                                                     [key], {});\n",
              "          if (!dataTable) return;\n",
              "\n",
              "          const docLinkHtml = 'Like what you see? Visit the ' +\n",
              "            '<a target=\"_blank\" href=https://colab.research.google.com/notebooks/data_table.ipynb>data table notebook</a>'\n",
              "            + ' to learn more about interactive tables.';\n",
              "          element.innerHTML = '';\n",
              "          dataTable['output_type'] = 'display_data';\n",
              "          await google.colab.output.renderOutput(dataTable, element);\n",
              "          const docLink = document.createElement('div');\n",
              "          docLink.innerHTML = docLinkHtml;\n",
              "          element.appendChild(docLink);\n",
              "        }\n",
              "      </script>\n",
              "    </div>\n",
              "  </div>\n",
              "  "
            ]
          },
          "metadata": {},
          "execution_count": 9
        }
      ]
    },
    {
      "cell_type": "code",
      "source": [
        "df.shape"
      ],
      "metadata": {
        "colab": {
          "base_uri": "https://localhost:8080/"
        },
        "id": "7PNgN7aeP2Lo",
        "outputId": "2d70f7bf-f2cf-47a2-a27b-f71d313f3a80"
      },
      "execution_count": 10,
      "outputs": [
        {
          "output_type": "execute_result",
          "data": {
            "text/plain": [
              "(2500, 10)"
            ]
          },
          "metadata": {},
          "execution_count": 10
        }
      ]
    },
    {
      "cell_type": "code",
      "source": [
        "import matplotlib.pyplot as plt\n",
        "\n",
        "def print_sentiment_breakdown(sentiments, title):\n",
        "  label_colors = {\n",
        "      \"neutral\": \"lightgrey\",\n",
        "      \"negative\": \"orangered\",\n",
        "      \"positive\": \"lightgreen\"\n",
        "  }\n",
        "\n",
        "  sent_counts = sentiments.value_counts(normalize=True) * 100\n",
        "  label = sent_counts.keys()\n",
        "  color= [label_colors[l] for l in label]\n",
        "  plt.pie(sent_counts, labels=label, colors = color, autopct='%.0f%%')\n",
        "  plt.title(title)\n",
        "  plt.show()"
      ],
      "metadata": {
        "id": "ZUoxGd4OQOab"
      },
      "execution_count": 11,
      "outputs": []
    },
    {
      "cell_type": "code",
      "source": [
        "print_sentiment_breakdown(df.sentiment, \"Normalised Sentiment breakdown of dataset\")"
      ],
      "metadata": {
        "colab": {
          "base_uri": "https://localhost:8080/",
          "height": 264
        },
        "id": "J5Yt_fUMRTcz",
        "outputId": "40fdf32e-6107-4a64-f570-1b44d7d6e7a2"
      },
      "execution_count": 12,
      "outputs": [
        {
          "output_type": "display_data",
          "data": {
            "text/plain": [
              "<Figure size 432x288 with 1 Axes>"
            ],
            "image/png": "[encoded data removed]"
          },
          "metadata": {}
        }
      ]
    },
    {
      "cell_type": "code",
      "source": [
        "import re\n",
        "\n",
        "def cleanup_data(df):\n",
        "\n",
        "  def remove_usernames(text):\n",
        "    return re.sub(r'@([^\\s]+)', '', text)\n",
        "\n",
        "  def remove_long_whitespace(text):\n",
        "    text = text.strip()\n",
        "    return re.sub(r'\\s{2,}', '', text)\n",
        "\n",
        "  def remove_numbers(text):\n",
        "    return re.sub(r'\\d+', '', text)\n",
        "\n",
        "  def remove_hyperlinks(text):\n",
        "    return re.sub(r'http\\S+|www.\\S+|https', '', text)\n",
        "\n",
        "  df.text = df.text.apply(remove_usernames) # removing usernames\n",
        "  df.text = df.text.apply(remove_hyperlinks) # removing hyperlinks\n",
        "  df = df.drop(df.query('sentiment == \"neutral\"').sample(frac=.64, random_state=109).index) # evening out the number of neutral samples by random removing a percentage\n",
        "  df.replace({r'[^\\x00-\\x7F]+':''}, regex=True, inplace=True) # removing any errant unicode\n",
        "  df = df.drop_duplicates()\n",
        "  df = df.drop_duplicates(subset='text', keep=\"first\")\n",
        "  df.text = df.text.apply(remove_long_whitespace) # removing long whitespace\n",
        "  df.text = df.text.apply(remove_numbers)\n",
        "  return df"
      ],
      "metadata": {
        "id": "Q3svbbq6P6lo"
      },
      "execution_count": 13,
      "outputs": []
    },
    {
      "cell_type": "code",
      "source": [
        "df = cleanup_data(df)"
      ],
      "metadata": {
        "id": "DndRqYlLQNW5"
      },
      "execution_count": 14,
      "outputs": []
    },
    {
      "cell_type": "code",
      "source": [
        "# import time, csv\n",
        "# epoch_time = int(time.time())\n",
        "# df.to_csv(\"cleaned_tweets.{}.csv\".format(epoch_time), \n",
        "#           header=list(df.columns), \n",
        "#           index=False, \n",
        "#           escapechar=\"\\\\\", \n",
        "#           encoding='utf-8',\n",
        "#           quoting=csv.QUOTE_ALL)"
      ],
      "metadata": {
        "id": "Z2_0ATPgsrxL"
      },
      "execution_count": 15,
      "outputs": []
    },
    {
      "cell_type": "code",
      "source": [
        "print_sentiment_breakdown(df.sentiment, \"Normalised Sentiment breakdown of dataset after cleanup\")"
      ],
      "metadata": {
        "colab": {
          "base_uri": "https://localhost:8080/",
          "height": 264
        },
        "id": "Euj-C5HxReVG",
        "outputId": "0e8845b4-0589-4895-e205-988d65e5dded"
      },
      "execution_count": 16,
      "outputs": [
        {
          "output_type": "display_data",
          "data": {
            "text/plain": [
              "<Figure size 432x288 with 1 Axes>"
            ],
            "image/png": "[encoded data removed]"
          },
          "metadata": {}
        }
      ]
    },
    {
      "cell_type": "code",
      "source": [
        "df.shape"
      ],
      "metadata": {
        "colab": {
          "base_uri": "https://localhost:8080/"
        },
        "id": "xTviK1T0R5A8",
        "outputId": "bbb67b55-a37e-4b4a-8bed-5a82e3e67916"
      },
      "execution_count": 17,
      "outputs": [
        {
          "output_type": "execute_result",
          "data": {
            "text/plain": [
              "(1455, 10)"
            ]
          },
          "metadata": {},
          "execution_count": 17
        }
      ]
    },
    {
      "cell_type": "markdown",
      "source": [
        "# SVM Sentiment Classifier"
      ],
      "metadata": {
        "id": "KzK5hZreVHAn"
      }
    },
    {
      "cell_type": "code",
      "source": [
        "import numpy as np\n",
        "import matplotlib.pyplot as plt\n",
        "from sklearn.datasets import load_digits\n",
        "from sklearn.model_selection import learning_curve\n",
        "\n",
        "\n",
        "def plot_learning_curve(\n",
        "    estimator,\n",
        "    title,\n",
        "    X,\n",
        "    y,\n",
        "    axes=None,\n",
        "    ylim=None,\n",
        "    cv=None,\n",
        "    n_jobs=None,\n",
        "    train_sizes=np.linspace(0.1, 1.0, 5),\n",
        "):\n",
        "    _, (ax) = plt.subplots(1, 1, figsize=(20, 5))\n",
        "    ax.set_ylim(*ylim)\n",
        "    ax.set_title(title)\n",
        "    ax.set_xlabel(\"training sample\")\n",
        "    ax.set_ylabel(\"score\")\n",
        "\n",
        "    train_sizes, train_scores, test_scores, fit_times, _ = learning_curve(\n",
        "        estimator, X, y,\n",
        "        cv=cv,\n",
        "        n_jobs=n_jobs,\n",
        "        train_sizes=train_sizes,\n",
        "        return_times=True,\n",
        "    )\n",
        "    train_scores_mean = np.mean(train_scores, axis=1)\n",
        "    train_scores_std = np.std(train_scores, axis=1)\n",
        "    test_scores_mean = np.mean(test_scores, axis=1)\n",
        "    test_scores_std = np.std(test_scores, axis=1)\n",
        "    fit_times_mean = np.mean(fit_times, axis=1)\n",
        "    fit_times_std = np.std(fit_times, axis=1)\n",
        "\n",
        "    ax.grid()\n",
        "    ax.fill_between(\n",
        "        train_sizes,\n",
        "        train_scores_mean - train_scores_std,\n",
        "        train_scores_mean + train_scores_std,\n",
        "        alpha=0.1,\n",
        "        color=\"r\",\n",
        "    )\n",
        "    ax.fill_between(\n",
        "        train_sizes,\n",
        "        test_scores_mean - test_scores_std,\n",
        "        test_scores_mean + test_scores_std,\n",
        "        alpha=0.1,\n",
        "        color=\"g\",\n",
        "    )\n",
        "    ax.plot(\n",
        "        train_sizes, train_scores_mean, \"o-\", color=\"r\", label=\"Training score\"\n",
        "    )\n",
        "    ax.plot(\n",
        "        train_sizes, test_scores_mean, \"o-\", color=\"g\", label=\"Cross-validation score\"\n",
        "    )\n",
        "    ax.legend(loc=\"best\")"
      ],
      "metadata": {
        "id": "4xHjFXTHVLk_"
      },
      "execution_count": 18,
      "outputs": []
    },
    {
      "cell_type": "code",
      "source": [
        "import nltk\n",
        "from nltk.corpus import stopwords\n",
        "from nltk.stem import SnowballStemmer\n",
        "from nltk.tokenize import TweetTokenizer\n",
        "\n",
        "nltk.download('stopwords')\n",
        "\n",
        "tweet_tokenizer = TweetTokenizer()\n",
        "\n",
        "def tokenize(input): \n",
        "    return tweet_tokenizer.tokenize(input)\n",
        "\n",
        "def stemmer(input):\n",
        "  snow_stemmer = SnowballStemmer(\"english\")\n",
        "  return (snow_stemmer.stem(word) for word in input)"
      ],
      "metadata": {
        "colab": {
          "base_uri": "https://localhost:8080/"
        },
        "id": "7n0Lq8DbVRN6",
        "outputId": "50276c55-55c9-4c83-e55a-b6c9582f4229"
      },
      "execution_count": 19,
      "outputs": [
        {
          "output_type": "stream",
          "name": "stdout",
          "text": [
            "[nltk_data] Downloading package stopwords to /root/nltk_data...\n",
            "[nltk_data]   Package stopwords is already up-to-date!\n"
          ]
        }
      ]
    },
    {
      "cell_type": "code",
      "source": [
        "from sklearn import svm\n",
        "from sklearn.metrics import classification_report\n",
        "from sklearn.feature_extraction.text import TfidfVectorizer\n",
        "from sklearn.model_selection import train_test_split\n",
        "\n",
        "X_train, X_test, y_train, y_test = train_test_split(df.text, df.sentiment, test_size=0.1, random_state=431, shuffle=True)\n",
        "\n",
        "vectorizer = TfidfVectorizer(\n",
        "    strip_accents = 'unicode',\n",
        "    lowercase = True,\n",
        "    stop_words = set(stopwords.words(\"english\")),\n",
        "    max_features=150\n",
        ")\n",
        "\n",
        "\n",
        "X_train_vectors = vectorizer.fit_transform(X_train)\n",
        "X_test_vectors = vectorizer.transform(X_test)\n",
        "\n",
        "clf = svm.SVC(\n",
        "    kernel='linear',\n",
        ")\n",
        "clf.fit(X_train_vectors, y_train)\n",
        "y_pred = clf.predict(X_test_vectors)\n",
        "\n",
        "report = classification_report(y_test, y_pred, output_dict=True)\n",
        "print('accuracy: ', report['accuracy'])\n",
        "print('macro avg: ', report['macro avg'])\n",
        "print('positive: ', report['positive'])\n",
        "print('negative: ', report['negative'])\n",
        "print('neutral ', report['neutral'])"
      ],
      "metadata": {
        "colab": {
          "base_uri": "https://localhost:8080/"
        },
        "id": "73sLxe9-VXUg",
        "outputId": "7304fad5-e589-42de-f8cc-c451d4d0e70a"
      },
      "execution_count": 20,
      "outputs": [
        {
          "output_type": "stream",
          "name": "stdout",
          "text": [
            "accuracy:  0.5205479452054794\n",
            "macro avg:  {'precision': 0.531289818487799, 'recall': 0.5207184323004564, 'f1-score': 0.5234110870877206, 'support': 146}\n",
            "positive:  {'precision': 0.5531914893617021, 'recall': 0.5098039215686274, 'f1-score': 0.5306122448979591, 'support': 51}\n",
            "negative:  {'precision': 0.6, 'recall': 0.5217391304347826, 'f1-score': 0.5581395348837209, 'support': 46}\n",
            "neutral  {'precision': 0.4406779661016949, 'recall': 0.5306122448979592, 'f1-score': 0.4814814814814815, 'support': 49}\n"
          ]
        }
      ]
    },
    {
      "cell_type": "code",
      "source": [
        "from sklearn.metrics import confusion_matrix, ConfusionMatrixDisplay\n",
        "\n",
        "cm = confusion_matrix(y_test, y_pred)\n",
        "cmd = ConfusionMatrixDisplay(cm, display_labels=[\"negative\", \"neutral\", \"positive\"])\n",
        "cmd.plot()"
      ],
      "metadata": {
        "colab": {
          "base_uri": "https://localhost:8080/",
          "height": 296
        },
        "id": "HBa65FcCVjKg",
        "outputId": "ea64f8ef-3f39-4add-a7a2-44c4b15d82ab"
      },
      "execution_count": 21,
      "outputs": [
        {
          "output_type": "execute_result",
          "data": {
            "text/plain": [
              "<sklearn.metrics._plot.confusion_matrix.ConfusionMatrixDisplay at 0x7feb2df63050>"
            ]
          },
          "metadata": {},
          "execution_count": 21
        },
        {
          "output_type": "display_data",
          "data": {
            "text/plain": [
              "<Figure size 432x288 with 2 Axes>"
            ],
            "image/png": "[encoded data removed]"
          },
          "metadata": {
            "needs_background": "light"
          }
        }
      ]
    },
    {
      "cell_type": "code",
      "source": [
        "pred_df = pd.DataFrame(y_pred)[0]\n",
        "print_sentiment_breakdown(pred_df, \"Normalised Sentiment breakdown of SVM Predicted Sentiment\")"
      ],
      "metadata": {
        "colab": {
          "base_uri": "https://localhost:8080/",
          "height": 264
        },
        "id": "6T053FMTV6Eg",
        "outputId": "ffbfc651-6955-4039-dbd7-7701a9d91a45"
      },
      "execution_count": 22,
      "outputs": [
        {
          "output_type": "display_data",
          "data": {
            "text/plain": [
              "<Figure size 432x288 with 1 Axes>"
            ],
            "image/png": "[encoded data removed]"
          },
          "metadata": {}
        }
      ]
    },
    {
      "cell_type": "code",
      "source": [
        "from sklearn.model_selection import StratifiedKFold\n",
        "\n",
        "folds = StratifiedKFold(n_splits=6, shuffle=True, random_state=1)\n",
        "\n",
        "plot_learning_curve(\n",
        "    clf, \n",
        "    \"Learning Curve\", \n",
        "    X=vectorizer.fit_transform(df.text), \n",
        "    y=df.sentiment,\n",
        "    ylim=(0.1, 1.01), \n",
        "    cv=folds, \n",
        "    n_jobs=-1,\n",
        "    train_sizes=np.linspace(0.1, 1.0, 8)\n",
        ")\n",
        "\n",
        "plt.show()"
      ],
      "metadata": {
        "colab": {
          "base_uri": "https://localhost:8080/",
          "height": 350
        },
        "id": "8KjItu2xVm8X",
        "outputId": "f3d85211-19db-42d5-f891-9cdb6c31711c"
      },
      "execution_count": 23,
      "outputs": [
        {
          "output_type": "display_data",
          "data": {
            "text/plain": [
              "<Figure size 1440x360 with 1 Axes>"
            ],
            "image/png": "[encoded data removed]"
          },
          "metadata": {
            "needs_background": "light"
          }
        }
      ]
    },
    {
      "cell_type": "code",
      "source": [
        "!pip install vaderSentiment"
      ],
      "metadata": {
        "colab": {
          "base_uri": "https://localhost:8080/"
        },
        "id": "ZMwZ7OCQVybL",
        "outputId": "dae1b21d-1072-4909-a396-8e526db2e326"
      },
      "execution_count": 24,
      "outputs": [
        {
          "output_type": "stream",
          "name": "stdout",
          "text": [
            "Requirement already satisfied: vaderSentiment in /usr/local/lib/python3.7/dist-packages (3.3.2)\n",
            "Requirement already satisfied: requests in /usr/local/lib/python3.7/dist-packages (from vaderSentiment) (2.27.1)\n",
            "Requirement already satisfied: certifi>=2017.4.17 in /usr/local/lib/python3.7/dist-packages (from requests->vaderSentiment) (2021.10.8)\n",
            "Requirement already satisfied: idna<4,>=2.5 in /usr/local/lib/python3.7/dist-packages (from requests->vaderSentiment) (2.10)\n",
            "Requirement already satisfied: charset-normalizer~=2.0.0 in /usr/local/lib/python3.7/dist-packages (from requests->vaderSentiment) (2.0.12)\n",
            "Requirement already satisfied: urllib3<1.27,>=1.21.1 in /usr/local/lib/python3.7/dist-packages (from requests->vaderSentiment) (1.24.3)\n"
          ]
        }
      ]
    },
    {
      "cell_type": "code",
      "source": [
        "from vaderSentiment.vaderSentiment import SentimentIntensityAnalyzer\n",
        "\n",
        "analyzer = SentimentIntensityAnalyzer()\n",
        "\n",
        "def get_sentiment(text):\n",
        "  analysis = analyzer.polarity_scores(text)\n",
        "  score = analysis[\"compound\"]\n",
        "  if score >= 0.05:\n",
        "    return \"positive\"\n",
        "  if score > -0.05 and score < 0.05:\n",
        "    return \"neutral\"\n",
        "  if score <= -0.05:\n",
        "    return \"negative\"\n",
        "\n",
        "vader_df = pd.DataFrame(X_test).apply(get_sentiment, axis=1)\n",
        "\n",
        "vader_report = classification_report(vader_df, y_test, output_dict=True)\n",
        "print('accuracy: ', vader_report['accuracy'])\n",
        "print('macro avg: ', vader_report['macro avg'])\n",
        "print('positive: ', vader_report['positive'])\n",
        "print('negative: ', vader_report['negative'])\n",
        "print('neutral ', vader_report['neutral'])"
      ],
      "metadata": {
        "colab": {
          "base_uri": "https://localhost:8080/"
        },
        "id": "yxa_V_QWVr9s",
        "outputId": "896bf76b-ae51-44ee-d34f-d34fdc879249"
      },
      "execution_count": 25,
      "outputs": [
        {
          "output_type": "stream",
          "name": "stdout",
          "text": [
            "accuracy:  0.636986301369863\n",
            "macro avg:  {'precision': 0.634137713056237, 'recall': 0.6466060842941829, 'f1-score': 0.6299058949422466, 'support': 146}\n",
            "positive:  {'precision': 0.803921568627451, 'recall': 0.6029411764705882, 'f1-score': 0.6890756302521008, 'support': 68}\n",
            "negative:  {'precision': 0.6086956521739131, 'recall': 0.6511627906976745, 'f1-score': 0.6292134831460675, 'support': 43}\n",
            "neutral  {'precision': 0.4897959183673469, 'recall': 0.6857142857142857, 'f1-score': 0.5714285714285715, 'support': 35}\n"
          ]
        }
      ]
    },
    {
      "cell_type": "code",
      "source": [
        "print_sentiment_breakdown(vader_df, \"Normalised Sentiment breakdown of Vader Predicted Sentiment\")"
      ],
      "metadata": {
        "colab": {
          "base_uri": "https://localhost:8080/",
          "height": 264
        },
        "id": "0pXhqj4pWV0V",
        "outputId": "cc9f18cb-99a7-48b0-d342-a8867d17f0d1"
      },
      "execution_count": 26,
      "outputs": [
        {
          "output_type": "display_data",
          "data": {
            "text/plain": [
              "<Figure size 432x288 with 1 Axes>"
            ],
            "image/png": "[encoded data removed]"
          },
          "metadata": {}
        }
      ]
    },
    {
      "cell_type": "code",
      "source": [
        "cm = confusion_matrix(y_test, vader_df)\n",
        "cmd = ConfusionMatrixDisplay(cm, display_labels=[\"negative\", \"neutral\", \"positive\"])\n",
        "cmd.plot()"
      ],
      "metadata": {
        "colab": {
          "base_uri": "https://localhost:8080/",
          "height": 296
        },
        "id": "c9LWKfa3Wc6M",
        "outputId": "97e7f716-1080-43d3-a3c3-37dc8a111ca8"
      },
      "execution_count": 27,
      "outputs": [
        {
          "output_type": "execute_result",
          "data": {
            "text/plain": [
              "<sklearn.metrics._plot.confusion_matrix.ConfusionMatrixDisplay at 0x7feb2cd39750>"
            ]
          },
          "metadata": {},
          "execution_count": 27
        },
        {
          "output_type": "display_data",
          "data": {
            "text/plain": [
              "<Figure size 432x288 with 2 Axes>"
            ],
            "image/png": "[encoded data removed]"
          },
          "metadata": {
            "needs_background": "light"
          }
        }
      ]
    },
    {
      "cell_type": "code",
      "source": [
        "vader_df = vader_df.reset_index(drop=True)\n",
        "vader_df.eq(pred_df).mean() * 100"
      ],
      "metadata": {
        "colab": {
          "base_uri": "https://localhost:8080/"
        },
        "id": "sKdRtAY2WiBD",
        "outputId": "1b0e824d-49a4-401f-dfe8-30488f0a23cc"
      },
      "execution_count": 28,
      "outputs": [
        {
          "output_type": "execute_result",
          "data": {
            "text/plain": [
              "47.26027397260274"
            ]
          },
          "metadata": {},
          "execution_count": 28
        }
      ]
    },
    {
      "cell_type": "markdown",
      "source": [
        "# Comparing SVM and Vader on a different topic"
      ],
      "metadata": {
        "id": "oEkbrwLXXUwg"
      }
    },
    {
      "cell_type": "code",
      "source": [
        "# pol_df = obtain_tweets(\"Bernie Sanders\", 25, 20)\n",
        "\n",
        "# epoch_time = int(time.time())\n",
        "\n",
        "# df.to_csv(\"pol_tweets.{}.csv\".format(epoch_time), \n",
        "#           header=list(df.columns), \n",
        "#           index=False, \n",
        "#           escapechar=\"\\\\\", \n",
        "#           encoding='utf-8',\n",
        "#           quoting=csv.QUOTE_ALL)"
      ],
      "metadata": {
        "id": "Th-f5Igrai6d"
      },
      "execution_count": 29,
      "outputs": []
    },
    {
      "cell_type": "code",
      "source": [
        "pol_df = pd.read_csv(\"pol_tweets.1650715759.csv\")"
      ],
      "metadata": {
        "id": "0jpeXnQNXYU1"
      },
      "execution_count": 30,
      "outputs": []
    },
    {
      "cell_type": "code",
      "source": [
        "pol_df = cleanup_data(pol_df)"
      ],
      "metadata": {
        "id": "QEXKQSGEXlk-"
      },
      "execution_count": 31,
      "outputs": []
    },
    {
      "cell_type": "code",
      "source": [
        "pol_df.sample(10)"
      ],
      "metadata": {
        "colab": {
          "base_uri": "https://localhost:8080/",
          "height": 363
        },
        "id": "6nJ7B0JZXypl",
        "outputId": "9cffb8bc-09d1-453c-fcc6-2f3f85d32b11"
      },
      "execution_count": 32,
      "outputs": [
        {
          "output_type": "execute_result",
          "data": {
            "text/plain": [
              "     place  coords                 created_at  possibly_sensitive  \\\n",
              "24     NaN     NaN  2022-04-22 22:31:11+00:00               False   \n",
              "194    NaN     NaN  2022-04-22 21:44:04+00:00               False   \n",
              "29     NaN     NaN  2022-04-22 22:29:13+00:00               False   \n",
              "442    NaN     NaN  2022-04-22 21:05:49+00:00               False   \n",
              "3      NaN     NaN  2022-04-22 22:40:13+00:00               False   \n",
              "5      NaN     NaN  2022-04-22 22:39:14+00:00               False   \n",
              "110    NaN     NaN  2022-04-22 22:03:16+00:00               False   \n",
              "350    NaN     NaN  2022-04-22 21:19:24+00:00               False   \n",
              "254    NaN     NaN  2022-04-22 21:31:54+00:00               False   \n",
              "204    NaN     NaN  2022-04-22 21:42:02+00:00               False   \n",
              "\n",
              "     retweet_count  reply_count  like_count  quote_count  \\\n",
              "24               0            0           0            0   \n",
              "194              0            0           0            0   \n",
              "29               0            1           0            0   \n",
              "442              1            0           0            0   \n",
              "3                0            0           0            0   \n",
              "5                0            0           0            0   \n",
              "110             11            5          67            0   \n",
              "350              0            0           0            0   \n",
              "254              0            0           0            0   \n",
              "204              0            0           0            0   \n",
              "\n",
              "                                                  text sentiment  \n",
              "24   Tell any registered Dems you know to vote for ...   neutral  \n",
              "194                                   . Bernie Sanders   neutral  \n",
              "29   U better not use tax money to bail out a faili...  negative  \n",
              "442  Sanders has warned for weeksincluding in remar...  negative  \n",
              "3    Bernie Sanders ran on this and you idiots didn...  negative  \n",
              "5                                     . Bernie Sanders  positive  \n",
              "110  If every country had a Jeremy Corbyn or a Bern...  positive  \n",
              "350  Massive numbers of death threatsA crazy Bernie...  negative  \n",
              "254                          Try again. Bernie Sanders   neutral  \n",
              "204  Especially Burned out Bernie Sanders and his s...   neutral  "
            ],
            "text/html": [
              "\n",
              "  <div id=\"df-38e51a62-4ff3-4662-80d0-eaf86503d6ac\">\n",
              "    <div class=\"colab-df-container\">\n",
              "      <div>\n",
              "<style scoped>\n",
              "    .dataframe tbody tr th:only-of-type {\n",
              "        vertical-align: middle;\n",
              "    }\n",
              "\n",
              "    .dataframe tbody tr th {\n",
              "        vertical-align: top;\n",
              "    }\n",
              "\n",
              "    .dataframe thead th {\n",
              "        text-align: right;\n",
              "    }\n",
              "</style>\n",
              "<table border=\"1\" class=\"dataframe\">\n",
              "  <thead>\n",
              "    <tr style=\"text-align: right;\">\n",
              "      <th></th>\n",
              "      <th>place</th>\n",
              "      <th>coords</th>\n",
              "      <th>created_at</th>\n",
              "      <th>possibly_sensitive</th>\n",
              "      <th>retweet_count</th>\n",
              "      <th>reply_count</th>\n",
              "      <th>like_count</th>\n",
              "      <th>quote_count</th>\n",
              "      <th>text</th>\n",
              "      <th>sentiment</th>\n",
              "    </tr>\n",
              "  </thead>\n",
              "  <tbody>\n",
              "    <tr>\n",
              "      <th>24</th>\n",
              "      <td>NaN</td>\n",
              "      <td>NaN</td>\n",
              "      <td>2022-04-22 22:31:11+00:00</td>\n",
              "      <td>False</td>\n",
              "      <td>0</td>\n",
              "      <td>0</td>\n",
              "      <td>0</td>\n",
              "      <td>0</td>\n",
              "      <td>Tell any registered Dems you know to vote for ...</td>\n",
              "      <td>neutral</td>\n",
              "    </tr>\n",
              "    <tr>\n",
              "      <th>194</th>\n",
              "      <td>NaN</td>\n",
              "      <td>NaN</td>\n",
              "      <td>2022-04-22 21:44:04+00:00</td>\n",
              "      <td>False</td>\n",
              "      <td>0</td>\n",
              "      <td>0</td>\n",
              "      <td>0</td>\n",
              "      <td>0</td>\n",
              "      <td>. Bernie Sanders</td>\n",
              "      <td>neutral</td>\n",
              "    </tr>\n",
              "    <tr>\n",
              "      <th>29</th>\n",
              "      <td>NaN</td>\n",
              "      <td>NaN</td>\n",
              "      <td>2022-04-22 22:29:13+00:00</td>\n",
              "      <td>False</td>\n",
              "      <td>0</td>\n",
              "      <td>1</td>\n",
              "      <td>0</td>\n",
              "      <td>0</td>\n",
              "      <td>U better not use tax money to bail out a faili...</td>\n",
              "      <td>negative</td>\n",
              "    </tr>\n",
              "    <tr>\n",
              "      <th>442</th>\n",
              "      <td>NaN</td>\n",
              "      <td>NaN</td>\n",
              "      <td>2022-04-22 21:05:49+00:00</td>\n",
              "      <td>False</td>\n",
              "      <td>1</td>\n",
              "      <td>0</td>\n",
              "      <td>0</td>\n",
              "      <td>0</td>\n",
              "      <td>Sanders has warned for weeksincluding in remar...</td>\n",
              "      <td>negative</td>\n",
              "    </tr>\n",
              "    <tr>\n",
              "      <th>3</th>\n",
              "      <td>NaN</td>\n",
              "      <td>NaN</td>\n",
              "      <td>2022-04-22 22:40:13+00:00</td>\n",
              "      <td>False</td>\n",
              "      <td>0</td>\n",
              "      <td>0</td>\n",
              "      <td>0</td>\n",
              "      <td>0</td>\n",
              "      <td>Bernie Sanders ran on this and you idiots didn...</td>\n",
              "      <td>negative</td>\n",
              "    </tr>\n",
              "    <tr>\n",
              "      <th>5</th>\n",
              "      <td>NaN</td>\n",
              "      <td>NaN</td>\n",
              "      <td>2022-04-22 22:39:14+00:00</td>\n",
              "      <td>False</td>\n",
              "      <td>0</td>\n",
              "      <td>0</td>\n",
              "      <td>0</td>\n",
              "      <td>0</td>\n",
              "      <td>. Bernie Sanders</td>\n",
              "      <td>positive</td>\n",
              "    </tr>\n",
              "    <tr>\n",
              "      <th>110</th>\n",
              "      <td>NaN</td>\n",
              "      <td>NaN</td>\n",
              "      <td>2022-04-22 22:03:16+00:00</td>\n",
              "      <td>False</td>\n",
              "      <td>11</td>\n",
              "      <td>5</td>\n",
              "      <td>67</td>\n",
              "      <td>0</td>\n",
              "      <td>If every country had a Jeremy Corbyn or a Bern...</td>\n",
              "      <td>positive</td>\n",
              "    </tr>\n",
              "    <tr>\n",
              "      <th>350</th>\n",
              "      <td>NaN</td>\n",
              "      <td>NaN</td>\n",
              "      <td>2022-04-22 21:19:24+00:00</td>\n",
              "      <td>False</td>\n",
              "      <td>0</td>\n",
              "      <td>0</td>\n",
              "      <td>0</td>\n",
              "      <td>0</td>\n",
              "      <td>Massive numbers of death threatsA crazy Bernie...</td>\n",
              "      <td>negative</td>\n",
              "    </tr>\n",
              "    <tr>\n",
              "      <th>254</th>\n",
              "      <td>NaN</td>\n",
              "      <td>NaN</td>\n",
              "      <td>2022-04-22 21:31:54+00:00</td>\n",
              "      <td>False</td>\n",
              "      <td>0</td>\n",
              "      <td>0</td>\n",
              "      <td>0</td>\n",
              "      <td>0</td>\n",
              "      <td>Try again. Bernie Sanders</td>\n",
              "      <td>neutral</td>\n",
              "    </tr>\n",
              "    <tr>\n",
              "      <th>204</th>\n",
              "      <td>NaN</td>\n",
              "      <td>NaN</td>\n",
              "      <td>2022-04-22 21:42:02+00:00</td>\n",
              "      <td>False</td>\n",
              "      <td>0</td>\n",
              "      <td>0</td>\n",
              "      <td>0</td>\n",
              "      <td>0</td>\n",
              "      <td>Especially Burned out Bernie Sanders and his s...</td>\n",
              "      <td>neutral</td>\n",
              "    </tr>\n",
              "  </tbody>\n",
              "</table>\n",
              "</div>\n",
              "      <button class=\"colab-df-convert\" onclick=\"convertToInteractive('df-38e51a62-4ff3-4662-80d0-eaf86503d6ac')\"\n",
              "              title=\"Convert this dataframe to an interactive table.\"\n",
              "              style=\"display:none;\">\n",
              "        \n",
              "  <svg xmlns=\"http://www.w3.org/2000/svg\" height=\"24px\"viewBox=\"0 0 24 24\"\n",
              "       width=\"24px\">\n",
              "    <path d=\"M0 0h24v24H0V0z\" fill=\"none\"/>\n",
              "    <path d=\"M18.56 5.44l.94 2.06.94-2.06 2.06-.94-2.06-.94-.94-2.06-.94 2.06-2.06.94zm-11 1L8.5 8.5l.94-2.06 2.06-.94-2.06-.94L8.5 2.5l-.94 2.06-2.06.94zm10 10l.94 2.06.94-2.06 2.06-.94-2.06-.94-.94-2.06-.94 2.06-2.06.94z\"/><path d=\"M17.41 7.96l-1.37-1.37c-.4-.4-.92-.59-1.43-.59-.52 0-1.04.2-1.43.59L10.3 9.45l-7.72 7.72c-.78.78-.78 2.05 0 2.83L4 21.41c.39.39.9.59 1.41.59.51 0 1.02-.2 1.41-.59l7.78-7.78 2.81-2.81c.8-.78.8-2.07 0-2.86zM5.41 20L4 18.59l7.72-7.72 1.47 1.35L5.41 20z\"/>\n",
              "  </svg>\n",
              "      </button>\n",
              "      \n",
              "  <style>\n",
              "    .colab-df-container {\n",
              "      display:flex;\n",
              "      flex-wrap:wrap;\n",
              "      gap: 12px;\n",
              "    }\n",
              "\n",
              "    .colab-df-convert {\n",
              "      background-color: #E8F0FE;\n",
              "      border: none;\n",
              "      border-radius: 50%;\n",
              "      cursor: pointer;\n",
              "      display: none;\n",
              "      fill: #1967D2;\n",
              "      height: 32px;\n",
              "      padding: 0 0 0 0;\n",
              "      width: 32px;\n",
              "    }\n",
              "\n",
              "    .colab-df-convert:hover {\n",
              "      background-color: #E2EBFA;\n",
              "      box-shadow: 0px 1px 2px rgba(60, 64, 67, 0.3), 0px 1px 3px 1px rgba(60, 64, 67, 0.15);\n",
              "      fill: #174EA6;\n",
              "    }\n",
              "\n",
              "    [theme=dark] .colab-df-convert {\n",
              "      background-color: #3B4455;\n",
              "      fill: #D2E3FC;\n",
              "    }\n",
              "\n",
              "    [theme=dark] .colab-df-convert:hover {\n",
              "      background-color: #434B5C;\n",
              "      box-shadow: 0px 1px 3px 1px rgba(0, 0, 0, 0.15);\n",
              "      filter: drop-shadow(0px 1px 2px rgba(0, 0, 0, 0.3));\n",
              "      fill: #FFFFFF;\n",
              "    }\n",
              "  </style>\n",
              "\n",
              "      <script>\n",
              "        const buttonEl =\n",
              "          document.querySelector('#df-38e51a62-4ff3-4662-80d0-eaf86503d6ac button.colab-df-convert');\n",
              "        buttonEl.style.display =\n",
              "          google.colab.kernel.accessAllowed ? 'block' : 'none';\n",
              "\n",
              "        async function convertToInteractive(key) {\n",
              "          const element = document.querySelector('#df-38e51a62-4ff3-4662-80d0-eaf86503d6ac');\n",
              "          const dataTable =\n",
              "            await google.colab.kernel.invokeFunction('convertToInteractive',\n",
              "                                                     [key], {});\n",
              "          if (!dataTable) return;\n",
              "\n",
              "          const docLinkHtml = 'Like what you see? Visit the ' +\n",
              "            '<a target=\"_blank\" href=https://colab.research.google.com/notebooks/data_table.ipynb>data table notebook</a>'\n",
              "            + ' to learn more about interactive tables.';\n",
              "          element.innerHTML = '';\n",
              "          dataTable['output_type'] = 'display_data';\n",
              "          await google.colab.output.renderOutput(dataTable, element);\n",
              "          const docLink = document.createElement('div');\n",
              "          docLink.innerHTML = docLinkHtml;\n",
              "          element.appendChild(docLink);\n",
              "        }\n",
              "      </script>\n",
              "    </div>\n",
              "  </div>\n",
              "  "
            ]
          },
          "metadata": {},
          "execution_count": 32
        }
      ]
    },
    {
      "cell_type": "code",
      "source": [
        "print_sentiment_breakdown(pol_df.sentiment, \"Normalised Sentiment breakdown of Political tweets Sentiment\")"
      ],
      "metadata": {
        "colab": {
          "base_uri": "https://localhost:8080/",
          "height": 264
        },
        "id": "XSrU9QIrX1sU",
        "outputId": "231f07ea-7a94-4b55-aa2f-eb9e228d3a17"
      },
      "execution_count": 33,
      "outputs": [
        {
          "output_type": "display_data",
          "data": {
            "text/plain": [
              "<Figure size 432x288 with 1 Axes>"
            ],
            "image/png": "[encoded data removed]"
          },
          "metadata": {}
        }
      ]
    },
    {
      "cell_type": "code",
      "source": [
        "pol_df.shape"
      ],
      "metadata": {
        "colab": {
          "base_uri": "https://localhost:8080/"
        },
        "id": "6UyRuUtJYB06",
        "outputId": "ddd26738-925c-430a-8f86-3eb3c8ea106a"
      },
      "execution_count": 34,
      "outputs": [
        {
          "output_type": "execute_result",
          "data": {
            "text/plain": [
              "(124, 10)"
            ]
          },
          "metadata": {},
          "execution_count": 34
        }
      ]
    },
    {
      "cell_type": "markdown",
      "source": [
        "### Vader Sentiment Analysis on Political topic"
      ],
      "metadata": {
        "id": "KI3xT6nyZV52"
      }
    },
    {
      "cell_type": "code",
      "source": [
        "def get_sentiment(text):\n",
        "  analysis = analyzer.polarity_scores(text)\n",
        "  score = analysis[\"compound\"]\n",
        "  if score >= 0.05:\n",
        "    return \"positive\"\n",
        "  if score > -0.05 and score < 0.05:\n",
        "    return \"neutral\"\n",
        "  if score <= -0.05:\n",
        "    return \"negative\"\n",
        "\n",
        "vader_pol_df = pd.DataFrame(pol_df.text).apply(get_sentiment, axis=1)\n",
        "\n",
        "vader_pol_report = classification_report(vader_pol_df, pol_df.sentiment, output_dict=True)\n",
        "print('accuracy: ', vader_pol_report['accuracy'])\n",
        "print('macro avg: ', vader_pol_report['macro avg'])\n",
        "print('positive: ', vader_pol_report['positive'])\n",
        "print('negative: ', vader_pol_report['negative'])\n",
        "print('neutral ', vader_pol_report['neutral'])\n",
        "\n",
        "cm = confusion_matrix(pol_df.sentiment, vader_pol_df)\n",
        "cmd = ConfusionMatrixDisplay(cm, display_labels=[\"negative\", \"neutral\", \"positive\"])\n",
        "cmd.plot()"
      ],
      "metadata": {
        "colab": {
          "base_uri": "https://localhost:8080/",
          "height": 383
        },
        "id": "tqwL8JopYfo7",
        "outputId": "183c70f0-3d0a-4285-e0e9-896cef5a3abd"
      },
      "execution_count": 36,
      "outputs": [
        {
          "output_type": "stream",
          "name": "stdout",
          "text": [
            "accuracy:  0.5403225806451613\n",
            "macro avg:  {'precision': 0.527972027972028, 'recall': 0.555, 'f1-score': 0.525530694205393, 'support': 124}\n",
            "positive:  {'precision': 0.5454545454545454, 'recall': 0.36, 'f1-score': 0.43373493975903615, 'support': 50}\n",
            "negative:  {'precision': 0.38461538461538464, 'recall': 0.625, 'f1-score': 0.4761904761904762, 'support': 24}\n",
            "neutral  {'precision': 0.6538461538461539, 'recall': 0.68, 'f1-score': 0.6666666666666666, 'support': 50}\n"
          ]
        },
        {
          "output_type": "execute_result",
          "data": {
            "text/plain": [
              "<sklearn.metrics._plot.confusion_matrix.ConfusionMatrixDisplay at 0x7feb2c249e50>"
            ]
          },
          "metadata": {},
          "execution_count": 36
        },
        {
          "output_type": "display_data",
          "data": {
            "text/plain": [
              "<Figure size 432x288 with 2 Axes>"
            ],
            "image/png": "[encoded data removed]"
          },
          "metadata": {
            "needs_background": "light"
          }
        }
      ]
    },
    {
      "cell_type": "code",
      "source": [
        "print_sentiment_breakdown(vader_pol_df, \"Normalised Vader Predicted Sentiment breakdown of Political tweets\")"
      ],
      "metadata": {
        "colab": {
          "base_uri": "https://localhost:8080/",
          "height": 264
        },
        "id": "iN-miWROZQ-s",
        "outputId": "a1609ea6-5d2a-49c8-806f-4bdd0c00ce48"
      },
      "execution_count": 37,
      "outputs": [
        {
          "output_type": "display_data",
          "data": {
            "text/plain": [
              "<Figure size 432x288 with 1 Axes>"
            ],
            "image/png": "[encoded data removed]"
          },
          "metadata": {}
        }
      ]
    },
    {
      "cell_type": "markdown",
      "source": [
        "### SVM Sentiment Analysis on Political Topic"
      ],
      "metadata": {
        "id": "lqDEuvZtZaAO"
      }
    },
    {
      "cell_type": "code",
      "source": [
        "pol_vectors = vectorizer.transform(pol_df.text)"
      ],
      "metadata": {
        "id": "TLQ9scSlY5re"
      },
      "execution_count": 38,
      "outputs": []
    },
    {
      "cell_type": "code",
      "source": [
        "pol_vectors.shape"
      ],
      "metadata": {
        "colab": {
          "base_uri": "https://localhost:8080/"
        },
        "id": "q6ptrUfrdn0Q",
        "outputId": "e79ec500-7aca-4a79-b650-9992fb4a4209"
      },
      "execution_count": 39,
      "outputs": [
        {
          "output_type": "execute_result",
          "data": {
            "text/plain": [
              "(124, 150)"
            ]
          },
          "metadata": {},
          "execution_count": 39
        }
      ]
    },
    {
      "cell_type": "code",
      "source": [
        "svm_pol_pred = clf.predict(pol_vectors)\n",
        "\n",
        "svm_pol_report = classification_report(pol_df.sentiment, svm_pol_pred, output_dict=True)\n",
        "print('accuracy: ', svm_pol_report['accuracy'])\n",
        "print('macro avg: ', svm_pol_report['macro avg'])\n",
        "print('positive: ', svm_pol_report['positive'])\n",
        "print('negative: ', svm_pol_report['negative'])\n",
        "print('neutral ', svm_pol_report['neutral'])\n",
        "\n",
        "cm = confusion_matrix(pol_df.sentiment, svm_pol_pred)\n",
        "cmd = ConfusionMatrixDisplay(cm, display_labels=[\"negative\", \"neutral\", \"positive\"])\n",
        "cmd.plot()"
      ],
      "metadata": {
        "colab": {
          "base_uri": "https://localhost:8080/",
          "height": 387
        },
        "id": "k1Bpd8yNZhMC",
        "outputId": "9f29d3da-bb0b-48bb-931c-592c24cb4e68"
      },
      "execution_count": 41,
      "outputs": [
        {
          "output_type": "stream",
          "name": "stdout",
          "text": [
            "accuracy:  0.5\n",
            "macro avg:  {'precision': 0.4452532992762878, 'recall': 0.43842268842268844, 'f1-score': 0.4037531074506146, 'support': 124}\n",
            "positive:  {'precision': 0.3, 'recall': 0.09090909090909091, 'f1-score': 0.13953488372093023, 'support': 33}\n",
            "negative:  {'precision': 0.5185185185185185, 'recall': 0.358974358974359, 'f1-score': 0.42424242424242425, 'support': 39}\n",
            "neutral  {'precision': 0.5172413793103449, 'recall': 0.8653846153846154, 'f1-score': 0.6474820143884893, 'support': 52}\n"
          ]
        },
        {
          "output_type": "execute_result",
          "data": {
            "text/plain": [
              "<sklearn.metrics._plot.confusion_matrix.ConfusionMatrixDisplay at 0x7feb2bfd4d10>"
            ]
          },
          "metadata": {},
          "execution_count": 41
        },
        {
          "output_type": "display_data",
          "data": {
            "text/plain": [
              "<Figure size 432x288 with 2 Axes>"
            ],
            "image/png": "[encoded data removed]"
          },
          "metadata": {
            "needs_background": "light"
          }
        }
      ]
    },
    {
      "cell_type": "code",
      "source": [
        "svm_pol_df = pd.DataFrame(svm_pol_pred)[0]\n",
        "\n",
        "print_sentiment_breakdown(svm_pol_df, \"Normalised SVM Predicted Sentiment breakdown of Political tweets\")"
      ],
      "metadata": {
        "colab": {
          "base_uri": "https://localhost:8080/",
          "height": 264
        },
        "id": "_tIWbMlSZ9ni",
        "outputId": "f4cb7648-3c78-49d3-c6cf-c48b0307b7c0"
      },
      "execution_count": 42,
      "outputs": [
        {
          "output_type": "display_data",
          "data": {
            "text/plain": [
              "<Figure size 432x288 with 1 Axes>"
            ],
            "image/png": "[encoded data removed]"
          },
          "metadata": {}
        }
      ]
    },
    {
      "cell_type": "markdown",
      "source": [
        "# Deep Neural Network Sentiment Analysis"
      ],
      "metadata": {
        "id": "RMeE0XRIa-he"
      }
    },
    {
      "cell_type": "code",
      "source": [
        "df = pd.read_csv(\"tweets.1650486802.csv\")\n",
        "df = cleanup_data(df)"
      ],
      "metadata": {
        "id": "H4JGABuxa1y9"
      },
      "execution_count": 43,
      "outputs": []
    },
    {
      "cell_type": "code",
      "source": [
        "from nltk.tokenize import word_tokenize\n",
        "nltk.download('punkt')"
      ],
      "metadata": {
        "colab": {
          "base_uri": "https://localhost:8080/"
        },
        "id": "HGtzNrbPbQGU",
        "outputId": "6ff36a2c-3b91-453e-c375-64396f948cc1"
      },
      "execution_count": 44,
      "outputs": [
        {
          "output_type": "stream",
          "name": "stdout",
          "text": [
            "[nltk_data] Downloading package punkt to /root/nltk_data...\n",
            "[nltk_data]   Package punkt is already up-to-date!\n"
          ]
        },
        {
          "output_type": "execute_result",
          "data": {
            "text/plain": [
              "True"
            ]
          },
          "metadata": {},
          "execution_count": 44
        }
      ]
    },
    {
      "cell_type": "code",
      "source": [
        "from numpy.random import seed\n",
        "seed(1)\n",
        "\n",
        "from keras.preprocessing.text import Tokenizer\n",
        "from keras.preprocessing.sequence import pad_sequences\n",
        "from sklearn.model_selection import train_test_split\n",
        "\n",
        "\n",
        "Y = pd.get_dummies(df.sentiment).values\n",
        "\n",
        "max_features = 95\n",
        "\n",
        "tokenizer = Tokenizer(num_words=max_features, split=' ')\n",
        "tokenizer.fit_on_texts(df.text)\n",
        "\n",
        "X = pad_sequences(tokenizer.texts_to_sequences(df.text))\n",
        "\n",
        "X_train, X_test, y_train, y_test = train_test_split(X, Y, test_size=0.3, random_state=613, shuffle=True)"
      ],
      "metadata": {
        "id": "NYQMRJbXbV_X"
      },
      "execution_count": 55,
      "outputs": []
    },
    {
      "cell_type": "code",
      "source": [
        "import torch\n",
        "torch.cuda.is_available()"
      ],
      "metadata": {
        "colab": {
          "base_uri": "https://localhost:8080/"
        },
        "id": "s67C9aKAbXlM",
        "outputId": "7ff6e817-6b40-47ea-ce59-c95ae58d0463"
      },
      "execution_count": 46,
      "outputs": [
        {
          "output_type": "execute_result",
          "data": {
            "text/plain": [
              "True"
            ]
          },
          "metadata": {},
          "execution_count": 46
        }
      ]
    },
    {
      "cell_type": "code",
      "source": [
        "from keras.models import Sequential\n",
        "from keras.layers import Dense, Embedding, LSTM, SpatialDropout1D\n",
        "from keras.utils.np_utils import to_categorical\n",
        "\n",
        "from keras.callbacks import History \n",
        "history = History()\n",
        "\n",
        "embed_dim = 15\n",
        "lstm_out = 5\n",
        "\n",
        "\n",
        "model = Sequential()\n",
        "model.add(Embedding(max_features, embed_dim,input_length = X.shape[1]))\n",
        "model.add(LSTM(lstm_out, dropout=0.4, recurrent_dropout=0.4))\n",
        "model.add(Dense(3,activation='softmax'))\n",
        "model.compile(loss = 'categorical_crossentropy', optimizer='adam', metrics = ['accuracy'])\n",
        "print(model.summary())"
      ],
      "metadata": {
        "colab": {
          "base_uri": "https://localhost:8080/"
        },
        "id": "sJPBWIdBbZXe",
        "outputId": "2f40b0b1-9dc6-4e6b-a97c-cc7fb11c6b7a"
      },
      "execution_count": 56,
      "outputs": [
        {
          "output_type": "stream",
          "name": "stdout",
          "text": [
            "WARNING:tensorflow:Layer lstm_2 will not use cuDNN kernels since it doesn't meet the criteria. It will use a generic GPU kernel as fallback when running on GPU.\n",
            "Model: \"sequential_2\"\n",
            "_________________________________________________________________\n",
            " Layer (type)                Output Shape              Param #   \n",
            "=================================================================\n",
            " embedding_2 (Embedding)     (None, 40, 15)            1425      \n",
            "                                                                 \n",
            " lstm_2 (LSTM)               (None, 5)                 420       \n",
            "                                                                 \n",
            " dense_2 (Dense)             (None, 3)                 18        \n",
            "                                                                 \n",
            "=================================================================\n",
            "Total params: 1,863\n",
            "Trainable params: 1,863\n",
            "Non-trainable params: 0\n",
            "_________________________________________________________________\n",
            "None\n"
          ]
        }
      ]
    },
    {
      "cell_type": "code",
      "source": [
        "from keras.callbacks import ModelCheckpoint\n",
        "\n",
        "checkpoint_filepath = '/tmp/checkpoint'\n",
        "model_checkpoint_callback = ModelCheckpoint(\n",
        "    filepath=checkpoint_filepath,\n",
        "    save_weights_only=True,\n",
        "    monitor='val_accuracy',\n",
        "    mode='max',\n",
        "    save_best_only=True)"
      ],
      "metadata": {
        "id": "etENZMBkg27O"
      },
      "execution_count": 57,
      "outputs": []
    },
    {
      "cell_type": "code",
      "source": [
        "# try:\n",
        "#   with open('history.pickle', 'rb') as handle:\n",
        "#     history2 = pickle.load(handle)\n",
        "# except:\n",
        "#   history2 = None\n",
        "\n",
        "history2 = None"
      ],
      "metadata": {
        "id": "Ki59L8J3tzcF"
      },
      "execution_count": 49,
      "outputs": []
    },
    {
      "cell_type": "code",
      "source": [
        "if not history2:\n",
        "  history2 = model.fit(X_train, y_train, validation_data=(X_test, y_test), epochs = 40, verbose = 2, callbacks=[history, model_checkpoint_callback])"
      ],
      "metadata": {
        "colab": {
          "base_uri": "https://localhost:8080/"
        },
        "id": "wkY0dnzFbbSW",
        "outputId": "6b78b766-f9b5-48c1-fc96-c090b2492ba1"
      },
      "execution_count": 58,
      "outputs": [
        {
          "output_type": "stream",
          "name": "stdout",
          "text": [
            "Epoch 1/40\n",
            "32/32 - 8s - loss: 1.0969 - accuracy: 0.3566 - val_loss: 1.0953 - val_accuracy: 0.3021 - 8s/epoch - 254ms/step\n",
            "Epoch 2/40\n",
            "32/32 - 5s - loss: 1.0905 - accuracy: 0.3929 - val_loss: 1.0909 - val_accuracy: 0.3364 - 5s/epoch - 169ms/step\n",
            "Epoch 3/40\n",
            "32/32 - 6s - loss: 1.0837 - accuracy: 0.4361 - val_loss: 1.0839 - val_accuracy: 0.3776 - 6s/epoch - 176ms/step\n",
            "Epoch 4/40\n",
            "32/32 - 6s - loss: 1.0716 - accuracy: 0.4745 - val_loss: 1.0761 - val_accuracy: 0.4027 - 6s/epoch - 178ms/step\n",
            "Epoch 5/40\n",
            "32/32 - 6s - loss: 1.0566 - accuracy: 0.4961 - val_loss: 1.0655 - val_accuracy: 0.4256 - 6s/epoch - 177ms/step\n",
            "Epoch 6/40\n",
            "32/32 - 5s - loss: 1.0416 - accuracy: 0.5029 - val_loss: 1.0514 - val_accuracy: 0.4416 - 5s/epoch - 172ms/step\n",
            "Epoch 7/40\n",
            "32/32 - 6s - loss: 1.0202 - accuracy: 0.5265 - val_loss: 1.0402 - val_accuracy: 0.4805 - 6s/epoch - 180ms/step\n",
            "Epoch 8/40\n",
            "32/32 - 6s - loss: 0.9985 - accuracy: 0.5550 - val_loss: 1.0227 - val_accuracy: 0.4966 - 6s/epoch - 181ms/step\n",
            "Epoch 9/40\n",
            "32/32 - 6s - loss: 0.9817 - accuracy: 0.5540 - val_loss: 1.0093 - val_accuracy: 0.5103 - 6s/epoch - 177ms/step\n",
            "Epoch 10/40\n",
            "32/32 - 5s - loss: 0.9675 - accuracy: 0.5589 - val_loss: 0.9990 - val_accuracy: 0.5263 - 5s/epoch - 168ms/step\n",
            "Epoch 11/40\n",
            "32/32 - 5s - loss: 0.9485 - accuracy: 0.5776 - val_loss: 0.9841 - val_accuracy: 0.5446 - 5s/epoch - 172ms/step\n",
            "Epoch 12/40\n",
            "32/32 - 6s - loss: 0.9371 - accuracy: 0.5972 - val_loss: 0.9748 - val_accuracy: 0.5423 - 6s/epoch - 183ms/step\n",
            "Epoch 13/40\n",
            "32/32 - 6s - loss: 0.9296 - accuracy: 0.5717 - val_loss: 0.9715 - val_accuracy: 0.5584 - 6s/epoch - 177ms/step\n",
            "Epoch 14/40\n",
            "32/32 - 6s - loss: 0.9172 - accuracy: 0.5963 - val_loss: 0.9602 - val_accuracy: 0.5652 - 6s/epoch - 173ms/step\n",
            "Epoch 15/40\n",
            "32/32 - 6s - loss: 0.9106 - accuracy: 0.5874 - val_loss: 0.9557 - val_accuracy: 0.5698 - 6s/epoch - 180ms/step\n",
            "Epoch 16/40\n",
            "32/32 - 6s - loss: 0.9062 - accuracy: 0.5963 - val_loss: 0.9484 - val_accuracy: 0.5812 - 6s/epoch - 176ms/step\n",
            "Epoch 17/40\n",
            "32/32 - 6s - loss: 0.8877 - accuracy: 0.5992 - val_loss: 0.9455 - val_accuracy: 0.5835 - 6s/epoch - 177ms/step\n",
            "Epoch 18/40\n",
            "32/32 - 6s - loss: 0.8839 - accuracy: 0.6051 - val_loss: 0.9405 - val_accuracy: 0.5789 - 6s/epoch - 172ms/step\n",
            "Epoch 19/40\n",
            "32/32 - 6s - loss: 0.8822 - accuracy: 0.6012 - val_loss: 0.9432 - val_accuracy: 0.5652 - 6s/epoch - 176ms/step\n",
            "Epoch 20/40\n",
            "32/32 - 6s - loss: 0.8836 - accuracy: 0.5943 - val_loss: 0.9377 - val_accuracy: 0.5812 - 6s/epoch - 173ms/step\n",
            "Epoch 21/40\n",
            "32/32 - 6s - loss: 0.8690 - accuracy: 0.6031 - val_loss: 0.9368 - val_accuracy: 0.5789 - 6s/epoch - 179ms/step\n",
            "Epoch 22/40\n",
            "32/32 - 5s - loss: 0.8667 - accuracy: 0.6110 - val_loss: 0.9303 - val_accuracy: 0.5927 - 5s/epoch - 170ms/step\n",
            "Epoch 23/40\n",
            "32/32 - 6s - loss: 0.8545 - accuracy: 0.6208 - val_loss: 0.9359 - val_accuracy: 0.5812 - 6s/epoch - 177ms/step\n",
            "Epoch 24/40\n",
            "32/32 - 6s - loss: 0.8635 - accuracy: 0.6159 - val_loss: 0.9323 - val_accuracy: 0.5858 - 6s/epoch - 173ms/step\n",
            "Epoch 25/40\n",
            "32/32 - 6s - loss: 0.8543 - accuracy: 0.6189 - val_loss: 0.9322 - val_accuracy: 0.5858 - 6s/epoch - 173ms/step\n",
            "Epoch 26/40\n",
            "32/32 - 6s - loss: 0.8510 - accuracy: 0.6287 - val_loss: 0.9300 - val_accuracy: 0.5950 - 6s/epoch - 177ms/step\n",
            "Epoch 27/40\n",
            "32/32 - 5s - loss: 0.8425 - accuracy: 0.6257 - val_loss: 0.9337 - val_accuracy: 0.5950 - 5s/epoch - 169ms/step\n",
            "Epoch 28/40\n",
            "32/32 - 6s - loss: 0.8448 - accuracy: 0.6179 - val_loss: 0.9327 - val_accuracy: 0.5904 - 6s/epoch - 176ms/step\n",
            "Epoch 29/40\n",
            "32/32 - 5s - loss: 0.8434 - accuracy: 0.6149 - val_loss: 0.9363 - val_accuracy: 0.5904 - 5s/epoch - 169ms/step\n",
            "Epoch 30/40\n",
            "32/32 - 5s - loss: 0.8304 - accuracy: 0.6248 - val_loss: 0.9302 - val_accuracy: 0.5835 - 5s/epoch - 169ms/step\n",
            "Epoch 31/40\n",
            "32/32 - 5s - loss: 0.8227 - accuracy: 0.6316 - val_loss: 0.9380 - val_accuracy: 0.5812 - 5s/epoch - 167ms/step\n",
            "Epoch 32/40\n",
            "32/32 - 5s - loss: 0.8230 - accuracy: 0.6375 - val_loss: 0.9394 - val_accuracy: 0.5812 - 5s/epoch - 171ms/step\n",
            "Epoch 33/40\n",
            "32/32 - 6s - loss: 0.8172 - accuracy: 0.6415 - val_loss: 0.9405 - val_accuracy: 0.5744 - 6s/epoch - 175ms/step\n",
            "Epoch 34/40\n",
            "32/32 - 6s - loss: 0.8166 - accuracy: 0.6405 - val_loss: 0.9512 - val_accuracy: 0.5835 - 6s/epoch - 178ms/step\n",
            "Epoch 35/40\n",
            "32/32 - 6s - loss: 0.8178 - accuracy: 0.6346 - val_loss: 0.9416 - val_accuracy: 0.5858 - 6s/epoch - 181ms/step\n",
            "Epoch 36/40\n",
            "32/32 - 5s - loss: 0.8249 - accuracy: 0.6415 - val_loss: 0.9392 - val_accuracy: 0.5789 - 5s/epoch - 168ms/step\n",
            "Epoch 37/40\n",
            "32/32 - 6s - loss: 0.8170 - accuracy: 0.6375 - val_loss: 0.9450 - val_accuracy: 0.5789 - 6s/epoch - 173ms/step\n",
            "Epoch 38/40\n",
            "32/32 - 5s - loss: 0.8286 - accuracy: 0.6365 - val_loss: 0.9364 - val_accuracy: 0.5767 - 5s/epoch - 168ms/step\n",
            "Epoch 39/40\n",
            "32/32 - 6s - loss: 0.8238 - accuracy: 0.6257 - val_loss: 0.9398 - val_accuracy: 0.5767 - 6s/epoch - 178ms/step\n",
            "Epoch 40/40\n",
            "32/32 - 5s - loss: 0.8211 - accuracy: 0.6336 - val_loss: 0.9442 - val_accuracy: 0.5835 - 5s/epoch - 170ms/step\n"
          ]
        }
      ]
    },
    {
      "cell_type": "code",
      "source": [
        "import pickle\n",
        "\n",
        "with open('history.pickle', 'wb') as handle:\n",
        "    pickle.dump(history2, handle, protocol=pickle.HIGHEST_PROTOCOL)"
      ],
      "metadata": {
        "colab": {
          "base_uri": "https://localhost:8080/"
        },
        "id": "_yUqTGKetd7t",
        "outputId": "e2f38c98-6020-48ed-b7d5-a018b5935df9"
      },
      "execution_count": 59,
      "outputs": [
        {
          "output_type": "stream",
          "name": "stdout",
          "text": [
            "INFO:tensorflow:Assets written to: ram://44da9162-e650-435c-b5f2-1be334ad1dc6/assets\n"
          ]
        },
        {
          "output_type": "stream",
          "name": "stderr",
          "text": [
            "WARNING:absl:<keras.layers.recurrent.LSTMCell object at 0x7feac24714d0> has the same name 'LSTMCell' as a built-in Keras object. Consider renaming <class 'keras.layers.recurrent.LSTMCell'> to avoid naming conflicts when loading with `tf.keras.models.load_model`. If renaming is not possible, pass the object in the `custom_objects` parameter of the load function.\n"
          ]
        }
      ]
    },
    {
      "cell_type": "code",
      "source": [
        "model.load_weights(checkpoint_filepath)"
      ],
      "metadata": {
        "colab": {
          "base_uri": "https://localhost:8080/"
        },
        "id": "hHLuZBDghWGb",
        "outputId": "9c95c220-afec-443f-f15a-0527a7aa3160"
      },
      "execution_count": 60,
      "outputs": [
        {
          "output_type": "execute_result",
          "data": {
            "text/plain": [
              "<tensorflow.python.training.tracking.util.CheckpointLoadStatus at 0x7fe92814ff50>"
            ]
          },
          "metadata": {},
          "execution_count": 60
        }
      ]
    },
    {
      "cell_type": "code",
      "source": [
        "import matplotlib.pyplot as plt\n",
        "\n",
        "plt.plot(history2.history['loss'])\n",
        "plt.plot(history2.history['val_loss'])\n",
        "plt.title('Loss')\n",
        "plt.ylabel('loss')\n",
        "plt.xlabel('epoch')\n",
        "plt.legend(['train', 'validation'], loc='best')\n",
        "plt.show()\n",
        "\n",
        "plt.plot(history2.history['accuracy'])\n",
        "plt.plot(history2.history['val_accuracy'])\n",
        "plt.title('Accuracy')\n",
        "plt.ylabel('accuracy')\n",
        "plt.xlabel('epoch')\n",
        "plt.legend(['train', 'validation'], loc='best')\n",
        "plt.show()"
      ],
      "metadata": {
        "colab": {
          "base_uri": "https://localhost:8080/",
          "height": 573
        },
        "id": "e40I15RabdUL",
        "outputId": "99f091c5-397f-4088-90dc-c5fc6411b39f"
      },
      "execution_count": 61,
      "outputs": [
        {
          "output_type": "display_data",
          "data": {
            "text/plain": [
              "<Figure size 432x288 with 1 Axes>"
            ],
            "image/png": "[encoded data removed]"
          },
          "metadata": {
            "needs_background": "light"
          }
        },
        {
          "output_type": "display_data",
          "data": {
            "text/plain": [
              "<Figure size 432x288 with 1 Axes>"
            ],
            "image/png": "[encoded data removed]"
          },
          "metadata": {
            "needs_background": "light"
          }
        }
      ]
    },
    {
      "cell_type": "code",
      "source": [
        "import operator\n",
        "# negative, neutral, positive\n",
        "\n",
        "def get_sentiment(values):\n",
        "  max_index, max_value = max(enumerate(values), key=operator.itemgetter(1))\n",
        "  if max_index == 0:\n",
        "    return \"negative\"\n",
        "  if max_index == 1:\n",
        "    return \"neutral\"\n",
        "  if max_index == 2:\n",
        "    return \"positive\"\n",
        "  return \"mixed\""
      ],
      "metadata": {
        "id": "76Ai-s0qbkdZ"
      },
      "execution_count": 63,
      "outputs": []
    },
    {
      "cell_type": "code",
      "source": [
        "y_pred = model.predict(X_test)"
      ],
      "metadata": {
        "id": "_OMu1SLslFFW"
      },
      "execution_count": 64,
      "outputs": []
    },
    {
      "cell_type": "code",
      "source": [
        "y_pred_sen = pd.DataFrame([get_sentiment(vals) for vals in y_pred])[0]\n",
        "y_test_sen = pd.DataFrame([get_sentiment(vals) for vals in y_test])[0]"
      ],
      "metadata": {
        "id": "JQCJVvjebmUo"
      },
      "execution_count": 65,
      "outputs": []
    },
    {
      "cell_type": "code",
      "source": [
        "dnn_report = classification_report(y_test_sen, y_pred_sen, output_dict=True)\n",
        "print('accuracy: ', dnn_report['accuracy'])\n",
        "print('macro avg: ', dnn_report['macro avg'])\n",
        "print('positive: ', dnn_report['positive'])\n",
        "print('negative: ', dnn_report['negative'])\n",
        "print('neutral ', dnn_report['neutral'])"
      ],
      "metadata": {
        "colab": {
          "base_uri": "https://localhost:8080/"
        },
        "id": "SFqG5AV5bwMT",
        "outputId": "e1279527-77c1-4bed-b359-3d1c461a23d4"
      },
      "execution_count": 66,
      "outputs": [
        {
          "output_type": "stream",
          "name": "stdout",
          "text": [
            "accuracy:  0.5949656750572082\n",
            "macro avg:  {'precision': 0.592708961554114, 'recall': 0.5940511448952971, 'f1-score': 0.5916259959584234, 'support': 437}\n",
            "positive:  {'precision': 0.6709677419354839, 'recall': 0.6153846153846154, 'f1-score': 0.6419753086419754, 'support': 169}\n",
            "negative:  {'precision': 0.5581395348837209, 'recall': 0.5255474452554745, 'f1-score': 0.5413533834586467, 'support': 137}\n",
            "neutral  {'precision': 0.5490196078431373, 'recall': 0.6412213740458015, 'f1-score': 0.5915492957746479, 'support': 131}\n"
          ]
        }
      ]
    },
    {
      "cell_type": "code",
      "source": [
        "cm = confusion_matrix(y_test_sen, y_pred_sen)\n",
        "cmd = ConfusionMatrixDisplay(cm, display_labels=[\"negative\", \"neutral\", \"positive\"])\n",
        "cmd.plot()"
      ],
      "metadata": {
        "colab": {
          "base_uri": "https://localhost:8080/",
          "height": 296
        },
        "id": "A7IRxPm8bqVY",
        "outputId": "242302e2-f17c-43a3-a9bd-e42a416b8f23"
      },
      "execution_count": 67,
      "outputs": [
        {
          "output_type": "execute_result",
          "data": {
            "text/plain": [
              "<sklearn.metrics._plot.confusion_matrix.ConfusionMatrixDisplay at 0x7fe926ac6290>"
            ]
          },
          "metadata": {},
          "execution_count": 67
        },
        {
          "output_type": "display_data",
          "data": {
            "text/plain": [
              "<Figure size 432x288 with 2 Axes>"
            ],
            "image/png": "[encoded data removed]"
          },
          "metadata": {
            "needs_background": "light"
          }
        }
      ]
    },
    {
      "cell_type": "code",
      "source": [
        "print_sentiment_breakdown(y_test_sen, \"Normalised Actual Sentiment breakdown of tweets\")"
      ],
      "metadata": {
        "colab": {
          "base_uri": "https://localhost:8080/",
          "height": 264
        },
        "id": "4x9Q0MieyxHk",
        "outputId": "e8807ae8-8a94-45a5-9b7b-653ba8c5016a"
      },
      "execution_count": 68,
      "outputs": [
        {
          "output_type": "display_data",
          "data": {
            "text/plain": [
              "<Figure size 432x288 with 1 Axes>"
            ],
            "image/png": "[encoded data removed]"
          },
          "metadata": {}
        }
      ]
    },
    {
      "cell_type": "code",
      "source": [
        "print_sentiment_breakdown(y_pred_sen, \"Normalised DNN Predicted Sentiment breakdown of tweets\")"
      ],
      "metadata": {
        "colab": {
          "base_uri": "https://localhost:8080/",
          "height": 264
        },
        "id": "Rjm_6VIvbttv",
        "outputId": "7e1eb398-b9f2-467f-9efe-1cb2f16499df"
      },
      "execution_count": 69,
      "outputs": [
        {
          "output_type": "display_data",
          "data": {
            "text/plain": [
              "<Figure size 432x288 with 1 Axes>"
            ],
            "image/png": "[encoded data removed]"
          },
          "metadata": {}
        }
      ]
    }
  ]
}