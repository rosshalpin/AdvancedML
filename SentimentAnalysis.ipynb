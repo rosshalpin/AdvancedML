{
  "nbformat": 4,
  "nbformat_minor": 0,
  "metadata": {
    "colab": {
      "name": "SentimentAnalysis.ipynb",
      "provenance": [],
      "collapsed_sections": [],
      "authorship_tag": "ABX9TyNH84rEXnYQLtSdAK/y6FhI",
      "include_colab_link": true
    },
    "kernelspec": {
      "name": "python3",
      "display_name": "Python 3"
    },
    "language_info": {
      "name": "python"
    }
  },
  "cells": [
    {
      "cell_type": "markdown",
      "metadata": {
        "id": "view-in-github",
        "colab_type": "text"
      },
      "source": [
        "<a href=\"https://colab.research.google.com/github/rosshalpin/AdvancedML/blob/main/SentimentAnalysis.ipynb\" target=\"_parent\"><img src=\"https://colab.research.google.com/assets/colab-badge.svg\" alt=\"Open In Colab\"/></a>"
      ]
    },
    {
      "cell_type": "code",
      "execution_count": 1,
      "metadata": {
        "colab": {
          "base_uri": "https://localhost:8080/"
        },
        "id": "n2D1Y2gBau_U",
        "outputId": "1bca2ebb-bcc3-44b5-fa38-4976a88b9383"
      },
      "outputs": [
        {
          "output_type": "stream",
          "name": "stdout",
          "text": [
            "/\n",
            "Mounted at /content/gdrive\n",
            "/content/gdrive/My Drive/AdvancedML\n"
          ]
        }
      ],
      "source": [
        "%cd ..\n",
        "from google.colab import drive\n",
        "drive.mount('/content/gdrive')\n",
        "!ln -s /content/gdrive/My\\ Drive/ /mydrive\n",
        "%cd /mydrive/AdvancedML/"
      ]
    },
    {
      "cell_type": "code",
      "source": [
        "import pandas as pd\n",
        "\n",
        "df = pd.read_csv(\"tweets.1650486802.csv\")"
      ],
      "metadata": {
        "id": "zrdPRoZ7bAO5"
      },
      "execution_count": 2,
      "outputs": []
    },
    {
      "cell_type": "code",
      "source": [
        "df.head()"
      ],
      "metadata": {
        "colab": {
          "base_uri": "https://localhost:8080/",
          "height": 337
        },
        "id": "V-g9tcT4bFzY",
        "outputId": "0a7d6ee5-19e4-474f-ff71-ee751bbe93ab"
      },
      "execution_count": 3,
      "outputs": [
        {
          "output_type": "execute_result",
          "data": {
            "text/plain": [
              "                                       place         coords  \\\n",
              "0  Port Blandford, Newfoundland and Labrador   48.36,-54.18   \n",
              "1                          Coventry, England    52.41,-1.52   \n",
              "2                          Tamworth, England    52.62,-1.68   \n",
              "3                    Sydney, New South Wales  -33.85,150.93   \n",
              "4                              Potchefstroom   -26.26,28.00   \n",
              "\n",
              "                  created_at  possibly_sensitive  retweet_count  reply_count  \\\n",
              "0  2022-04-20 20:18:29+00:00               False              0            0   \n",
              "1  2022-04-20 17:37:06+00:00               False              4            1   \n",
              "2  2022-04-20 12:51:05+00:00               False              0            2   \n",
              "3  2022-04-20 09:46:10+00:00               False              0            0   \n",
              "4  2022-04-20 04:48:19+00:00               False             51            2   \n",
              "\n",
              "   like_count  quote_count                                               text  \\\n",
              "0           0            0  @lemieuxdavid I’m curious where that Baba O’Re...   \n",
              "1          43            0  Lewis Hamilton Fuji 2007…  Another one of his ...   \n",
              "2           5            0  @MattyWTF1 Fans being openly contemptuous towa...   \n",
              "3           0            0  @MattyWTF1 Carlos Sainz contract negotiations ...   \n",
              "4          51            0  Revamp your Cv  + Cover letter to attract recr...   \n",
              "\n",
              "  sentiment  \n",
              "0  positive  \n",
              "1  positive  \n",
              "2  negative  \n",
              "3   neutral  \n",
              "4   neutral  "
            ],
            "text/html": [
              "\n",
              "  <div id=\"df-412b98f1-8e14-42d4-96e5-e8a87d20e2ac\">\n",
              "    <div class=\"colab-df-container\">\n",
              "      <div>\n",
              "<style scoped>\n",
              "    .dataframe tbody tr th:only-of-type {\n",
              "        vertical-align: middle;\n",
              "    }\n",
              "\n",
              "    .dataframe tbody tr th {\n",
              "        vertical-align: top;\n",
              "    }\n",
              "\n",
              "    .dataframe thead th {\n",
              "        text-align: right;\n",
              "    }\n",
              "</style>\n",
              "<table border=\"1\" class=\"dataframe\">\n",
              "  <thead>\n",
              "    <tr style=\"text-align: right;\">\n",
              "      <th></th>\n",
              "      <th>place</th>\n",
              "      <th>coords</th>\n",
              "      <th>created_at</th>\n",
              "      <th>possibly_sensitive</th>\n",
              "      <th>retweet_count</th>\n",
              "      <th>reply_count</th>\n",
              "      <th>like_count</th>\n",
              "      <th>quote_count</th>\n",
              "      <th>text</th>\n",
              "      <th>sentiment</th>\n",
              "    </tr>\n",
              "  </thead>\n",
              "  <tbody>\n",
              "    <tr>\n",
              "      <th>0</th>\n",
              "      <td>Port Blandford, Newfoundland and Labrador</td>\n",
              "      <td>48.36,-54.18</td>\n",
              "      <td>2022-04-20 20:18:29+00:00</td>\n",
              "      <td>False</td>\n",
              "      <td>0</td>\n",
              "      <td>0</td>\n",
              "      <td>0</td>\n",
              "      <td>0</td>\n",
              "      <td>@lemieuxdavid I’m curious where that Baba O’Re...</td>\n",
              "      <td>positive</td>\n",
              "    </tr>\n",
              "    <tr>\n",
              "      <th>1</th>\n",
              "      <td>Coventry, England</td>\n",
              "      <td>52.41,-1.52</td>\n",
              "      <td>2022-04-20 17:37:06+00:00</td>\n",
              "      <td>False</td>\n",
              "      <td>4</td>\n",
              "      <td>1</td>\n",
              "      <td>43</td>\n",
              "      <td>0</td>\n",
              "      <td>Lewis Hamilton Fuji 2007…  Another one of his ...</td>\n",
              "      <td>positive</td>\n",
              "    </tr>\n",
              "    <tr>\n",
              "      <th>2</th>\n",
              "      <td>Tamworth, England</td>\n",
              "      <td>52.62,-1.68</td>\n",
              "      <td>2022-04-20 12:51:05+00:00</td>\n",
              "      <td>False</td>\n",
              "      <td>0</td>\n",
              "      <td>2</td>\n",
              "      <td>5</td>\n",
              "      <td>0</td>\n",
              "      <td>@MattyWTF1 Fans being openly contemptuous towa...</td>\n",
              "      <td>negative</td>\n",
              "    </tr>\n",
              "    <tr>\n",
              "      <th>3</th>\n",
              "      <td>Sydney, New South Wales</td>\n",
              "      <td>-33.85,150.93</td>\n",
              "      <td>2022-04-20 09:46:10+00:00</td>\n",
              "      <td>False</td>\n",
              "      <td>0</td>\n",
              "      <td>0</td>\n",
              "      <td>0</td>\n",
              "      <td>0</td>\n",
              "      <td>@MattyWTF1 Carlos Sainz contract negotiations ...</td>\n",
              "      <td>neutral</td>\n",
              "    </tr>\n",
              "    <tr>\n",
              "      <th>4</th>\n",
              "      <td>Potchefstroom</td>\n",
              "      <td>-26.26,28.00</td>\n",
              "      <td>2022-04-20 04:48:19+00:00</td>\n",
              "      <td>False</td>\n",
              "      <td>51</td>\n",
              "      <td>2</td>\n",
              "      <td>51</td>\n",
              "      <td>0</td>\n",
              "      <td>Revamp your Cv  + Cover letter to attract recr...</td>\n",
              "      <td>neutral</td>\n",
              "    </tr>\n",
              "  </tbody>\n",
              "</table>\n",
              "</div>\n",
              "      <button class=\"colab-df-convert\" onclick=\"convertToInteractive('df-412b98f1-8e14-42d4-96e5-e8a87d20e2ac')\"\n",
              "              title=\"Convert this dataframe to an interactive table.\"\n",
              "              style=\"display:none;\">\n",
              "        \n",
              "  <svg xmlns=\"http://www.w3.org/2000/svg\" height=\"24px\"viewBox=\"0 0 24 24\"\n",
              "       width=\"24px\">\n",
              "    <path d=\"M0 0h24v24H0V0z\" fill=\"none\"/>\n",
              "    <path d=\"M18.56 5.44l.94 2.06.94-2.06 2.06-.94-2.06-.94-.94-2.06-.94 2.06-2.06.94zm-11 1L8.5 8.5l.94-2.06 2.06-.94-2.06-.94L8.5 2.5l-.94 2.06-2.06.94zm10 10l.94 2.06.94-2.06 2.06-.94-2.06-.94-.94-2.06-.94 2.06-2.06.94z\"/><path d=\"M17.41 7.96l-1.37-1.37c-.4-.4-.92-.59-1.43-.59-.52 0-1.04.2-1.43.59L10.3 9.45l-7.72 7.72c-.78.78-.78 2.05 0 2.83L4 21.41c.39.39.9.59 1.41.59.51 0 1.02-.2 1.41-.59l7.78-7.78 2.81-2.81c.8-.78.8-2.07 0-2.86zM5.41 20L4 18.59l7.72-7.72 1.47 1.35L5.41 20z\"/>\n",
              "  </svg>\n",
              "      </button>\n",
              "      \n",
              "  <style>\n",
              "    .colab-df-container {\n",
              "      display:flex;\n",
              "      flex-wrap:wrap;\n",
              "      gap: 12px;\n",
              "    }\n",
              "\n",
              "    .colab-df-convert {\n",
              "      background-color: #E8F0FE;\n",
              "      border: none;\n",
              "      border-radius: 50%;\n",
              "      cursor: pointer;\n",
              "      display: none;\n",
              "      fill: #1967D2;\n",
              "      height: 32px;\n",
              "      padding: 0 0 0 0;\n",
              "      width: 32px;\n",
              "    }\n",
              "\n",
              "    .colab-df-convert:hover {\n",
              "      background-color: #E2EBFA;\n",
              "      box-shadow: 0px 1px 2px rgba(60, 64, 67, 0.3), 0px 1px 3px 1px rgba(60, 64, 67, 0.15);\n",
              "      fill: #174EA6;\n",
              "    }\n",
              "\n",
              "    [theme=dark] .colab-df-convert {\n",
              "      background-color: #3B4455;\n",
              "      fill: #D2E3FC;\n",
              "    }\n",
              "\n",
              "    [theme=dark] .colab-df-convert:hover {\n",
              "      background-color: #434B5C;\n",
              "      box-shadow: 0px 1px 3px 1px rgba(0, 0, 0, 0.15);\n",
              "      filter: drop-shadow(0px 1px 2px rgba(0, 0, 0, 0.3));\n",
              "      fill: #FFFFFF;\n",
              "    }\n",
              "  </style>\n",
              "\n",
              "      <script>\n",
              "        const buttonEl =\n",
              "          document.querySelector('#df-412b98f1-8e14-42d4-96e5-e8a87d20e2ac button.colab-df-convert');\n",
              "        buttonEl.style.display =\n",
              "          google.colab.kernel.accessAllowed ? 'block' : 'none';\n",
              "\n",
              "        async function convertToInteractive(key) {\n",
              "          const element = document.querySelector('#df-412b98f1-8e14-42d4-96e5-e8a87d20e2ac');\n",
              "          const dataTable =\n",
              "            await google.colab.kernel.invokeFunction('convertToInteractive',\n",
              "                                                     [key], {});\n",
              "          if (!dataTable) return;\n",
              "\n",
              "          const docLinkHtml = 'Like what you see? Visit the ' +\n",
              "            '<a target=\"_blank\" href=https://colab.research.google.com/notebooks/data_table.ipynb>data table notebook</a>'\n",
              "            + ' to learn more about interactive tables.';\n",
              "          element.innerHTML = '';\n",
              "          dataTable['output_type'] = 'display_data';\n",
              "          await google.colab.output.renderOutput(dataTable, element);\n",
              "          const docLink = document.createElement('div');\n",
              "          docLink.innerHTML = docLinkHtml;\n",
              "          element.appendChild(docLink);\n",
              "        }\n",
              "      </script>\n",
              "    </div>\n",
              "  </div>\n",
              "  "
            ]
          },
          "metadata": {},
          "execution_count": 3
        }
      ]
    },
    {
      "cell_type": "code",
      "source": [
        "df.shape"
      ],
      "metadata": {
        "colab": {
          "base_uri": "https://localhost:8080/"
        },
        "id": "p6_VDQT38hPX",
        "outputId": "eb932c2f-40f9-4f62-d359-42a38aa98618"
      },
      "execution_count": 4,
      "outputs": [
        {
          "output_type": "execute_result",
          "data": {
            "text/plain": [
              "(2500, 10)"
            ]
          },
          "metadata": {},
          "execution_count": 4
        }
      ]
    },
    {
      "cell_type": "markdown",
      "source": [
        "Lets remove usernames and hyperlinks as these will not be relevant to the sentiment of the textual elements of the tweet. "
      ],
      "metadata": {
        "id": "GigB5kOcwfXh"
      }
    },
    {
      "cell_type": "code",
      "source": [
        "import re\n",
        "\n",
        "def remove_usernames(text):\n",
        "  return re.sub(r'@([^\\s]+)', '', text)\n",
        "\n",
        "def remove_hyperlinks(text):\n",
        "  return re.sub(r'http\\S+|www.\\S+|https', '', text)\n",
        "\n",
        "df.text = df.text.apply(remove_usernames)\n",
        "df.text = df.text.apply(remove_hyperlinks)"
      ],
      "metadata": {
        "id": "AQ_OvndjrCWW"
      },
      "execution_count": 5,
      "outputs": []
    },
    {
      "cell_type": "markdown",
      "source": [
        "Below we also removed duplicates"
      ],
      "metadata": {
        "id": "wRmxE3vCwnaZ"
      }
    },
    {
      "cell_type": "code",
      "source": [
        "df = df.drop_duplicates()"
      ],
      "metadata": {
        "id": "NLN7Mtb4oICy"
      },
      "execution_count": 6,
      "outputs": []
    },
    {
      "cell_type": "code",
      "source": [
        "df.shape"
      ],
      "metadata": {
        "colab": {
          "base_uri": "https://localhost:8080/"
        },
        "id": "2ejegfinoKMF",
        "outputId": "824a9582-a118-4e26-ecab-a72712bfe091"
      },
      "execution_count": 7,
      "outputs": [
        {
          "output_type": "execute_result",
          "data": {
            "text/plain": [
              "(2469, 10)"
            ]
          },
          "metadata": {},
          "execution_count": 7
        }
      ]
    },
    {
      "cell_type": "code",
      "source": [
        "df.sentiment.value_counts(normalize=True) * 100"
      ],
      "metadata": {
        "colab": {
          "base_uri": "https://localhost:8080/"
        },
        "id": "la_soE4h9vhH",
        "outputId": "bda0a325-1e62-4f54-84fa-d8dc3e974c0e"
      },
      "execution_count": 8,
      "outputs": [
        {
          "output_type": "execute_result",
          "data": {
            "text/plain": [
              "neutral     59.700284\n",
              "positive    20.939652\n",
              "negative    19.360065\n",
              "Name: sentiment, dtype: float64"
            ]
          },
          "metadata": {},
          "execution_count": 8
        }
      ]
    },
    {
      "cell_type": "code",
      "source": [
        "df = df.drop(df.query('sentiment == \"neutral\"').sample(frac=.64, random_state=109).index)"
      ],
      "metadata": {
        "id": "8aV9K3hZu5lO"
      },
      "execution_count": 9,
      "outputs": []
    },
    {
      "cell_type": "code",
      "source": [
        "df.sentiment.value_counts(normalize=True) * 100"
      ],
      "metadata": {
        "colab": {
          "base_uri": "https://localhost:8080/"
        },
        "id": "hMDxCLpnvY8E",
        "outputId": "194b54e1-a777-49f9-dfab-472ef1b0f362"
      },
      "execution_count": 10,
      "outputs": [
        {
          "output_type": "execute_result",
          "data": {
            "text/plain": [
              "neutral     34.796855\n",
              "positive    33.879423\n",
              "negative    31.323722\n",
              "Name: sentiment, dtype: float64"
            ]
          },
          "metadata": {},
          "execution_count": 10
        }
      ]
    },
    {
      "cell_type": "code",
      "source": [
        "df.place.value_counts()"
      ],
      "metadata": {
        "colab": {
          "base_uri": "https://localhost:8080/"
        },
        "id": "RK4xWUflJ1Pw",
        "outputId": "c7facc6b-9b17-4a89-a209-b6f383e1d8cb"
      },
      "execution_count": 11,
      "outputs": [
        {
          "output_type": "execute_result",
          "data": {
            "text/plain": [
              "Genua, Ligurië                               9\n",
              "Kaduna, Nigeria                              2\n",
              "Nairobi, Kenya                               2\n",
              "Port Blandford, Newfoundland and Labrador    1\n",
              "Sungai Buloh, Selangor                       1\n",
              "Central, Kenya                               1\n",
              "Kampala, Uganda                              1\n",
              "Montréal, Québec                             1\n",
              "Johannesburg, South Africa                   1\n",
              "Keyser, WV                                   1\n",
              "Dar es Salaam, Tanzania                      1\n",
              "Boksburg, South Africa                       1\n",
              "Winterthur, Schweiz                          1\n",
              "Salisbury, England                           1\n",
              "Wales, United Kingdom                        1\n",
              "Austin, TX                                   1\n",
              "Biggleswade, England                         1\n",
              "South Africa                                 1\n",
              "Middlesbrough, England                       1\n",
              "Coventry, England                            1\n",
              "Ramsbottom, England                          1\n",
              "Hamilton, Scotland                           1\n",
              "Chicago, IL                                  1\n",
              "Auckland, New Zealand                        1\n",
              "Inverness, Scotland                          1\n",
              "Aberdeen, Scotland                           1\n",
              "Wandsworth, London                           1\n",
              "Soweto, South Africa                         1\n",
              "Staines-upon-Thames, South East              1\n",
              "Botswana                                     1\n",
              "Sydney, New South Wales                      1\n",
              "Tamworth, England                            1\n",
              "Wallasey, England                            1\n",
              "Name: place, dtype: int64"
            ]
          },
          "metadata": {},
          "execution_count": 11
        }
      ]
    },
    {
      "cell_type": "code",
      "source": [
        "df.replace({r'[^\\x00-\\x7F]+':''}, regex=True, inplace=True)"
      ],
      "metadata": {
        "id": "zB9GGMZrRVcZ"
      },
      "execution_count": 12,
      "outputs": []
    },
    {
      "cell_type": "code",
      "source": [
        "df.head()"
      ],
      "metadata": {
        "colab": {
          "base_uri": "https://localhost:8080/",
          "height": 337
        },
        "id": "URXGC6KTRySc",
        "outputId": "24e0c991-3461-4153-8b2d-3a665ce4b7ff"
      },
      "execution_count": 13,
      "outputs": [
        {
          "output_type": "execute_result",
          "data": {
            "text/plain": [
              "                                       place         coords  \\\n",
              "0  Port Blandford, Newfoundland and Labrador   48.36,-54.18   \n",
              "1                          Coventry, England    52.41,-1.52   \n",
              "2                          Tamworth, England    52.62,-1.68   \n",
              "3                    Sydney, New South Wales  -33.85,150.93   \n",
              "7                             Nairobi, Kenya    -1.27,36.86   \n",
              "\n",
              "                  created_at  possibly_sensitive  retweet_count  reply_count  \\\n",
              "0  2022-04-20 20:18:29+00:00               False              0            0   \n",
              "1  2022-04-20 17:37:06+00:00               False              4            1   \n",
              "2  2022-04-20 12:51:05+00:00               False              0            2   \n",
              "3  2022-04-20 09:46:10+00:00               False              0            0   \n",
              "7  2022-04-19 07:33:49+00:00               False              1            2   \n",
              "\n",
              "   like_count  quote_count                                               text  \\\n",
              "0           0            0   Im curious where that Baba OReilly tune may h...   \n",
              "1          43            0  Lewis Hamilton Fuji 2007  Another one of his b...   \n",
              "2           5            0   Fans being openly contemptuous towards Lewis ...   \n",
              "3           0            0   Carlos Sainz contract negotiations have stall...   \n",
              "7          10            0  Lewis Hamilton posts a Thirst Trap and my Husb...   \n",
              "\n",
              "  sentiment  \n",
              "0  positive  \n",
              "1  positive  \n",
              "2  negative  \n",
              "3   neutral  \n",
              "7  positive  "
            ],
            "text/html": [
              "\n",
              "  <div id=\"df-67c41e4d-3a1a-4b14-8d18-2afa769a0bb7\">\n",
              "    <div class=\"colab-df-container\">\n",
              "      <div>\n",
              "<style scoped>\n",
              "    .dataframe tbody tr th:only-of-type {\n",
              "        vertical-align: middle;\n",
              "    }\n",
              "\n",
              "    .dataframe tbody tr th {\n",
              "        vertical-align: top;\n",
              "    }\n",
              "\n",
              "    .dataframe thead th {\n",
              "        text-align: right;\n",
              "    }\n",
              "</style>\n",
              "<table border=\"1\" class=\"dataframe\">\n",
              "  <thead>\n",
              "    <tr style=\"text-align: right;\">\n",
              "      <th></th>\n",
              "      <th>place</th>\n",
              "      <th>coords</th>\n",
              "      <th>created_at</th>\n",
              "      <th>possibly_sensitive</th>\n",
              "      <th>retweet_count</th>\n",
              "      <th>reply_count</th>\n",
              "      <th>like_count</th>\n",
              "      <th>quote_count</th>\n",
              "      <th>text</th>\n",
              "      <th>sentiment</th>\n",
              "    </tr>\n",
              "  </thead>\n",
              "  <tbody>\n",
              "    <tr>\n",
              "      <th>0</th>\n",
              "      <td>Port Blandford, Newfoundland and Labrador</td>\n",
              "      <td>48.36,-54.18</td>\n",
              "      <td>2022-04-20 20:18:29+00:00</td>\n",
              "      <td>False</td>\n",
              "      <td>0</td>\n",
              "      <td>0</td>\n",
              "      <td>0</td>\n",
              "      <td>0</td>\n",
              "      <td>Im curious where that Baba OReilly tune may h...</td>\n",
              "      <td>positive</td>\n",
              "    </tr>\n",
              "    <tr>\n",
              "      <th>1</th>\n",
              "      <td>Coventry, England</td>\n",
              "      <td>52.41,-1.52</td>\n",
              "      <td>2022-04-20 17:37:06+00:00</td>\n",
              "      <td>False</td>\n",
              "      <td>4</td>\n",
              "      <td>1</td>\n",
              "      <td>43</td>\n",
              "      <td>0</td>\n",
              "      <td>Lewis Hamilton Fuji 2007  Another one of his b...</td>\n",
              "      <td>positive</td>\n",
              "    </tr>\n",
              "    <tr>\n",
              "      <th>2</th>\n",
              "      <td>Tamworth, England</td>\n",
              "      <td>52.62,-1.68</td>\n",
              "      <td>2022-04-20 12:51:05+00:00</td>\n",
              "      <td>False</td>\n",
              "      <td>0</td>\n",
              "      <td>2</td>\n",
              "      <td>5</td>\n",
              "      <td>0</td>\n",
              "      <td>Fans being openly contemptuous towards Lewis ...</td>\n",
              "      <td>negative</td>\n",
              "    </tr>\n",
              "    <tr>\n",
              "      <th>3</th>\n",
              "      <td>Sydney, New South Wales</td>\n",
              "      <td>-33.85,150.93</td>\n",
              "      <td>2022-04-20 09:46:10+00:00</td>\n",
              "      <td>False</td>\n",
              "      <td>0</td>\n",
              "      <td>0</td>\n",
              "      <td>0</td>\n",
              "      <td>0</td>\n",
              "      <td>Carlos Sainz contract negotiations have stall...</td>\n",
              "      <td>neutral</td>\n",
              "    </tr>\n",
              "    <tr>\n",
              "      <th>7</th>\n",
              "      <td>Nairobi, Kenya</td>\n",
              "      <td>-1.27,36.86</td>\n",
              "      <td>2022-04-19 07:33:49+00:00</td>\n",
              "      <td>False</td>\n",
              "      <td>1</td>\n",
              "      <td>2</td>\n",
              "      <td>10</td>\n",
              "      <td>0</td>\n",
              "      <td>Lewis Hamilton posts a Thirst Trap and my Husb...</td>\n",
              "      <td>positive</td>\n",
              "    </tr>\n",
              "  </tbody>\n",
              "</table>\n",
              "</div>\n",
              "      <button class=\"colab-df-convert\" onclick=\"convertToInteractive('df-67c41e4d-3a1a-4b14-8d18-2afa769a0bb7')\"\n",
              "              title=\"Convert this dataframe to an interactive table.\"\n",
              "              style=\"display:none;\">\n",
              "        \n",
              "  <svg xmlns=\"http://www.w3.org/2000/svg\" height=\"24px\"viewBox=\"0 0 24 24\"\n",
              "       width=\"24px\">\n",
              "    <path d=\"M0 0h24v24H0V0z\" fill=\"none\"/>\n",
              "    <path d=\"M18.56 5.44l.94 2.06.94-2.06 2.06-.94-2.06-.94-.94-2.06-.94 2.06-2.06.94zm-11 1L8.5 8.5l.94-2.06 2.06-.94-2.06-.94L8.5 2.5l-.94 2.06-2.06.94zm10 10l.94 2.06.94-2.06 2.06-.94-2.06-.94-.94-2.06-.94 2.06-2.06.94z\"/><path d=\"M17.41 7.96l-1.37-1.37c-.4-.4-.92-.59-1.43-.59-.52 0-1.04.2-1.43.59L10.3 9.45l-7.72 7.72c-.78.78-.78 2.05 0 2.83L4 21.41c.39.39.9.59 1.41.59.51 0 1.02-.2 1.41-.59l7.78-7.78 2.81-2.81c.8-.78.8-2.07 0-2.86zM5.41 20L4 18.59l7.72-7.72 1.47 1.35L5.41 20z\"/>\n",
              "  </svg>\n",
              "      </button>\n",
              "      \n",
              "  <style>\n",
              "    .colab-df-container {\n",
              "      display:flex;\n",
              "      flex-wrap:wrap;\n",
              "      gap: 12px;\n",
              "    }\n",
              "\n",
              "    .colab-df-convert {\n",
              "      background-color: #E8F0FE;\n",
              "      border: none;\n",
              "      border-radius: 50%;\n",
              "      cursor: pointer;\n",
              "      display: none;\n",
              "      fill: #1967D2;\n",
              "      height: 32px;\n",
              "      padding: 0 0 0 0;\n",
              "      width: 32px;\n",
              "    }\n",
              "\n",
              "    .colab-df-convert:hover {\n",
              "      background-color: #E2EBFA;\n",
              "      box-shadow: 0px 1px 2px rgba(60, 64, 67, 0.3), 0px 1px 3px 1px rgba(60, 64, 67, 0.15);\n",
              "      fill: #174EA6;\n",
              "    }\n",
              "\n",
              "    [theme=dark] .colab-df-convert {\n",
              "      background-color: #3B4455;\n",
              "      fill: #D2E3FC;\n",
              "    }\n",
              "\n",
              "    [theme=dark] .colab-df-convert:hover {\n",
              "      background-color: #434B5C;\n",
              "      box-shadow: 0px 1px 3px 1px rgba(0, 0, 0, 0.15);\n",
              "      filter: drop-shadow(0px 1px 2px rgba(0, 0, 0, 0.3));\n",
              "      fill: #FFFFFF;\n",
              "    }\n",
              "  </style>\n",
              "\n",
              "      <script>\n",
              "        const buttonEl =\n",
              "          document.querySelector('#df-67c41e4d-3a1a-4b14-8d18-2afa769a0bb7 button.colab-df-convert');\n",
              "        buttonEl.style.display =\n",
              "          google.colab.kernel.accessAllowed ? 'block' : 'none';\n",
              "\n",
              "        async function convertToInteractive(key) {\n",
              "          const element = document.querySelector('#df-67c41e4d-3a1a-4b14-8d18-2afa769a0bb7');\n",
              "          const dataTable =\n",
              "            await google.colab.kernel.invokeFunction('convertToInteractive',\n",
              "                                                     [key], {});\n",
              "          if (!dataTable) return;\n",
              "\n",
              "          const docLinkHtml = 'Like what you see? Visit the ' +\n",
              "            '<a target=\"_blank\" href=https://colab.research.google.com/notebooks/data_table.ipynb>data table notebook</a>'\n",
              "            + ' to learn more about interactive tables.';\n",
              "          element.innerHTML = '';\n",
              "          dataTable['output_type'] = 'display_data';\n",
              "          await google.colab.output.renderOutput(dataTable, element);\n",
              "          const docLink = document.createElement('div');\n",
              "          docLink.innerHTML = docLinkHtml;\n",
              "          element.appendChild(docLink);\n",
              "        }\n",
              "      </script>\n",
              "    </div>\n",
              "  </div>\n",
              "  "
            ]
          },
          "metadata": {},
          "execution_count": 13
        }
      ]
    },
    {
      "cell_type": "code",
      "source": [
        "df.text.sample(10)"
      ],
      "metadata": {
        "colab": {
          "base_uri": "https://localhost:8080/"
        },
        "id": "g7NRtpAaRnfX",
        "outputId": "1fb07482-ed51-4f90-87a8-044939258cda"
      },
      "execution_count": 31,
      "outputs": [
        {
          "output_type": "execute_result",
          "data": {
            "text/plain": [
              "1155    got some Lewis Hamilton monster energy at the ...\n",
              "754      Lewis Hamilton is ugly. There I said it. Anyw...\n",
              "2002           How is Lewis Hamilton real ??? Like fr ?? \n",
              "2289    No more \"Spiderman Boxer's\" allowed for our F1...\n",
              "1539    The Dental Health Bus will be closed from Wedn...\n",
              "1659    Lewis Hamilton suffering more than Mercedes pa...\n",
              "2214    Despite some people trying to make it seem lik...\n",
              "2454    #f1 : Hi my name is Erkan, im not new to f1 &a...\n",
              "1185     This better be some sick joke ?? Lewis ? HAMI...\n",
              "977     Hey I'm new to f1twt I like Lewis Hamilton so ...\n",
              "Name: text, dtype: object"
            ]
          },
          "metadata": {},
          "execution_count": 31
        }
      ]
    },
    {
      "cell_type": "code",
      "source": [
        "df_sentiment = df.sentiment\n",
        "df_text = df.text"
      ],
      "metadata": {
        "id": "K-FhaIybLPeG"
      },
      "execution_count": 15,
      "outputs": []
    },
    {
      "cell_type": "code",
      "source": [
        "df_sentiment.sample(10)"
      ],
      "metadata": {
        "colab": {
          "base_uri": "https://localhost:8080/"
        },
        "id": "zgu5JUPXUH98",
        "outputId": "e6df77b1-2d63-464d-8002-4bb2d62d333d"
      },
      "execution_count": 30,
      "outputs": [
        {
          "output_type": "execute_result",
          "data": {
            "text/plain": [
              "239      neutral\n",
              "1108     neutral\n",
              "1214     neutral\n",
              "929      neutral\n",
              "2037    negative\n",
              "533     negative\n",
              "148      neutral\n",
              "1052     neutral\n",
              "1325    negative\n",
              "1331    negative\n",
              "Name: sentiment, dtype: object"
            ]
          },
          "metadata": {},
          "execution_count": 30
        }
      ]
    },
    {
      "cell_type": "code",
      "source": [
        "import numpy as np\n",
        "import matplotlib.pyplot as plt\n",
        "from sklearn.datasets import load_digits\n",
        "from sklearn.model_selection import learning_curve\n",
        "\n",
        "\n",
        "def plot_learning_curve(\n",
        "    estimator,\n",
        "    title,\n",
        "    X,\n",
        "    y,\n",
        "    axes=None,\n",
        "    ylim=None,\n",
        "    cv=None,\n",
        "    n_jobs=None,\n",
        "    train_sizes=np.linspace(0.1, 1.0, 5),\n",
        "):\n",
        "    _, (ax) = plt.subplots(1, 1, figsize=(20, 5))\n",
        "    ax.set_ylim(*ylim)\n",
        "    ax.set_title(title)\n",
        "    ax.set_xlabel(\"training sample\")\n",
        "    ax.set_ylabel(\"score\")\n",
        "\n",
        "    train_sizes, train_scores, test_scores, fit_times, _ = learning_curve(\n",
        "        estimator, X, y,\n",
        "        cv=cv,\n",
        "        n_jobs=n_jobs,\n",
        "        train_sizes=train_sizes,\n",
        "        return_times=True,\n",
        "    )\n",
        "    train_scores_mean = np.mean(train_scores, axis=1)\n",
        "    train_scores_std = np.std(train_scores, axis=1)\n",
        "    test_scores_mean = np.mean(test_scores, axis=1)\n",
        "    test_scores_std = np.std(test_scores, axis=1)\n",
        "    fit_times_mean = np.mean(fit_times, axis=1)\n",
        "    fit_times_std = np.std(fit_times, axis=1)\n",
        "\n",
        "    ax.grid()\n",
        "    ax.fill_between(\n",
        "        train_sizes,\n",
        "        train_scores_mean - train_scores_std,\n",
        "        train_scores_mean + train_scores_std,\n",
        "        alpha=0.1,\n",
        "        color=\"r\",\n",
        "    )\n",
        "    ax.fill_between(\n",
        "        train_sizes,\n",
        "        test_scores_mean - test_scores_std,\n",
        "        test_scores_mean + test_scores_std,\n",
        "        alpha=0.1,\n",
        "        color=\"g\",\n",
        "    )\n",
        "    ax.plot(\n",
        "        train_sizes, train_scores_mean, \"o-\", color=\"r\", label=\"Training score\"\n",
        "    )\n",
        "    ax.plot(\n",
        "        train_sizes, test_scores_mean, \"o-\", color=\"g\", label=\"Cross-validation score\"\n",
        "    )\n",
        "    ax.legend(loc=\"best\")"
      ],
      "metadata": {
        "id": "mkADmBJj2xuz"
      },
      "execution_count": 17,
      "outputs": []
    },
    {
      "cell_type": "code",
      "source": [
        "import nltk\n",
        "from nltk.corpus import stopwords\n",
        "from nltk.stem import SnowballStemmer\n",
        "from nltk.tokenize import TweetTokenizer\n",
        "\n",
        "nltk.download('stopwords')\n",
        "\n",
        "tweet_tokenizer = TweetTokenizer()\n",
        "\n",
        "def tokenize(input): \n",
        "    return tweet_tokenizer.tokenize(input)\n",
        "\n",
        "def stemmer(input):\n",
        "  snow_stemmer = SnowballStemmer(\"english\")\n",
        "  return (snow_stemmer.stem(word) for word in input)"
      ],
      "metadata": {
        "colab": {
          "base_uri": "https://localhost:8080/"
        },
        "id": "RZwGjnJBdobc",
        "outputId": "8a37869b-6f0b-443f-c357-eb3d4c89388f"
      },
      "execution_count": 18,
      "outputs": [
        {
          "output_type": "stream",
          "name": "stdout",
          "text": [
            "[nltk_data] Downloading package stopwords to /root/nltk_data...\n",
            "[nltk_data]   Unzipping corpora/stopwords.zip.\n"
          ]
        }
      ]
    },
    {
      "cell_type": "code",
      "source": [
        "import time\n",
        "from sklearn import svm\n",
        "from sklearn.metrics import classification_report\n",
        "from sklearn.feature_extraction.text import TfidfVectorizer\n",
        "from sklearn.model_selection import train_test_split\n",
        "\n",
        "X_train, X_test, y_train, y_test = train_test_split(df.text, df.sentiment, test_size=0.1, random_state=409, shuffle=True)\n",
        "\n",
        "vectorizer = TfidfVectorizer(\n",
        "    strip_accents = 'unicode',\n",
        "    lowercase = True,\n",
        "    stop_words = set(stopwords.words(\"english\")),\n",
        ")\n",
        "\n",
        "\n",
        "X_train_vectors = vectorizer.fit_transform(X_train)\n",
        "X_test_vectors = vectorizer.transform(X_test)\n",
        "\n",
        "clf = svm.SVC(\n",
        "    kernel='linear',\n",
        ")\n",
        "clf.fit(X_train_vectors, y_train)\n",
        "y_pred = clf.predict(X_test_vectors)\n",
        "\n",
        "report = classification_report(y_test, y_pred, output_dict=True)\n",
        "print('accuracy: ', report['accuracy'])\n",
        "print('macro avg: ', report['macro avg'])\n",
        "print('positive: ', report['positive'])\n",
        "print('negative: ', report['negative'])\n",
        "print('neutral ', report['neutral'])"
      ],
      "metadata": {
        "colab": {
          "base_uri": "https://localhost:8080/"
        },
        "id": "I9fhZJkdLi6I",
        "outputId": "a7c0bc0b-47f7-4d88-b1c5-5e3e7897aea9"
      },
      "execution_count": 19,
      "outputs": [
        {
          "output_type": "stream",
          "name": "stdout",
          "text": [
            "accuracy:  0.6470588235294118\n",
            "macro avg:  {'precision': 0.6473133790119004, 'recall': 0.6445708650965222, 'f1-score': 0.6452935784242775, 'support': 153}\n",
            "positive:  {'precision': 0.6440677966101694, 'recall': 0.6909090909090909, 'f1-score': 0.6666666666666665, 'support': 55}\n",
            "negative:  {'precision': 0.5957446808510638, 'recall': 0.5957446808510638, 'f1-score': 0.5957446808510638, 'support': 47}\n",
            "neutral  {'precision': 0.7021276595744681, 'recall': 0.6470588235294118, 'f1-score': 0.673469387755102, 'support': 51}\n"
          ]
        }
      ]
    },
    {
      "cell_type": "code",
      "source": [
        "from sklearn.metrics import confusion_matrix, ConfusionMatrixDisplay\n",
        "\n",
        "cm = confusion_matrix(y_test, y_pred)\n",
        "cmd = ConfusionMatrixDisplay(cm, display_labels=[\"negative\", \"neutral\", \"positive\"])\n",
        "cmd.plot()"
      ],
      "metadata": {
        "colab": {
          "base_uri": "https://localhost:8080/",
          "height": 297
        },
        "id": "sNH56jQLiDyE",
        "outputId": "2c1d787b-2af4-45e3-dae3-de876976c749"
      },
      "execution_count": 20,
      "outputs": [
        {
          "output_type": "execute_result",
          "data": {
            "text/plain": [
              "<sklearn.metrics._plot.confusion_matrix.ConfusionMatrixDisplay at 0x7f1679bfd450>"
            ]
          },
          "metadata": {},
          "execution_count": 20
        },
        {
          "output_type": "display_data",
          "data": {
            "text/plain": [
              "<Figure size 432x288 with 2 Axes>"
            ],
            "image/png": "[encoded data removed]"
          },
          "metadata": {
            "needs_background": "light"
          }
        }
      ]
    },
    {
      "cell_type": "code",
      "source": [
        "from sklearn.model_selection import StratifiedKFold\n",
        "\n",
        "folds = StratifiedKFold(n_splits=6, shuffle=True, random_state=1)\n",
        "\n",
        "plot_learning_curve(\n",
        "    clf, \n",
        "    \"Learning Curve\", \n",
        "    X=vectorizer.fit_transform(df.text), \n",
        "    y=df.sentiment,\n",
        "    ylim=(0.1, 1.01), \n",
        "    cv=folds, \n",
        "    n_jobs=-1,\n",
        "    train_sizes=np.linspace(0.1, 1.0, 8)\n",
        ")\n",
        "\n",
        "plt.show()"
      ],
      "metadata": {
        "colab": {
          "base_uri": "https://localhost:8080/",
          "height": 350
        },
        "id": "lZLf9GrS27Xu",
        "outputId": "902ab0e7-a35e-4813-edae-fad9dedf52ab"
      },
      "execution_count": 32,
      "outputs": [
        {
          "output_type": "display_data",
          "data": {
            "text/plain": [
              "<Figure size 1440x360 with 1 Axes>"
            ],
            "image/png": "[encoded data removed]"
          },
          "metadata": {
            "needs_background": "light"
          }
        }
      ]
    },
    {
      "cell_type": "markdown",
      "source": [
        "As we can see with cross validation and plotting the learning curve, we still are overfitting by quite a bit. This is likely due to the lower amount of data. We can see that the cross validation test score is rising rapidly, while training seems to be dropping more gradually. Another issue is that vectorising text creates a large feature set. With a lower amount of data and a large feature set we are likely to overfit. "
      ],
      "metadata": {
        "id": "rU22CxJChPex"
      }
    },
    {
      "cell_type": "code",
      "source": [
        "!pip install vaderSentiment"
      ],
      "metadata": {
        "colab": {
          "base_uri": "https://localhost:8080/"
        },
        "id": "zYuMXIbCiGB3",
        "outputId": "922bc6c3-8fb8-4aab-8724-64969977913d"
      },
      "execution_count": 22,
      "outputs": [
        {
          "output_type": "stream",
          "name": "stdout",
          "text": [
            "Collecting vaderSentiment\n",
            "  Downloading vaderSentiment-3.3.2-py2.py3-none-any.whl (125 kB)\n",
            "\u001b[?25l\r\u001b[K     |██▋                             | 10 kB 24.9 MB/s eta 0:00:01\r\u001b[K     |█████▏                          | 20 kB 30.2 MB/s eta 0:00:01\r\u001b[K     |███████▉                        | 30 kB 19.1 MB/s eta 0:00:01\r\u001b[K     |██████████▍                     | 40 kB 7.3 MB/s eta 0:00:01\r\u001b[K     |█████████████                   | 51 kB 5.9 MB/s eta 0:00:01\r\u001b[K     |███████████████▋                | 61 kB 7.0 MB/s eta 0:00:01\r\u001b[K     |██████████████████▏             | 71 kB 7.4 MB/s eta 0:00:01\r\u001b[K     |████████████████████▉           | 81 kB 6.4 MB/s eta 0:00:01\r\u001b[K     |███████████████████████▍        | 92 kB 7.1 MB/s eta 0:00:01\r\u001b[K     |██████████████████████████      | 102 kB 7.8 MB/s eta 0:00:01\r\u001b[K     |████████████████████████████▋   | 112 kB 7.8 MB/s eta 0:00:01\r\u001b[K     |███████████████████████████████▏| 122 kB 7.8 MB/s eta 0:00:01\r\u001b[K     |████████████████████████████████| 125 kB 7.8 MB/s \n",
            "\u001b[?25hRequirement already satisfied: requests in /usr/local/lib/python3.7/dist-packages (from vaderSentiment) (2.23.0)\n",
            "Requirement already satisfied: chardet<4,>=3.0.2 in /usr/local/lib/python3.7/dist-packages (from requests->vaderSentiment) (3.0.4)\n",
            "Requirement already satisfied: certifi>=2017.4.17 in /usr/local/lib/python3.7/dist-packages (from requests->vaderSentiment) (2021.10.8)\n",
            "Requirement already satisfied: idna<3,>=2.5 in /usr/local/lib/python3.7/dist-packages (from requests->vaderSentiment) (2.10)\n",
            "Requirement already satisfied: urllib3!=1.25.0,!=1.25.1,<1.26,>=1.21.1 in /usr/local/lib/python3.7/dist-packages (from requests->vaderSentiment) (1.24.3)\n",
            "Installing collected packages: vaderSentiment\n",
            "Successfully installed vaderSentiment-3.3.2\n"
          ]
        }
      ]
    },
    {
      "cell_type": "code",
      "source": [
        "from vaderSentiment.vaderSentiment import SentimentIntensityAnalyzer\n",
        "\n",
        "analyzer = SentimentIntensityAnalyzer()\n",
        "\n",
        "def get_sentiment(text):\n",
        "  analysis = analyzer.polarity_scores(text)\n",
        "  score = analysis[\"compound\"]\n",
        "  if score >= 0.05:\n",
        "    return \"positive\"\n",
        "  if score > -0.05 and score < 0.05:\n",
        "    return \"neutral\"\n",
        "  if score <= -0.05:\n",
        "    return \"negative\"\n",
        "\n",
        "vader_df = pd.DataFrame(X_test).apply(get_sentiment, axis=1)"
      ],
      "metadata": {
        "id": "86ErZTw5wZ09"
      },
      "execution_count": 23,
      "outputs": []
    },
    {
      "cell_type": "markdown",
      "source": [
        "As we can see the accuracy and f1-score is ~5% worse with Vader than our own model. This is possibly due to the overfitting of our model, but we must take vaders behaviour into account also. "
      ],
      "metadata": {
        "id": "7nfucV7rvu9g"
      }
    },
    {
      "cell_type": "code",
      "source": [
        "vader_report = classification_report(vader_df, y_test, output_dict=True)\n",
        "print('accuracy: ', vader_report['accuracy'])\n",
        "print('macro avg: ', vader_report['macro avg'])\n",
        "print('positive: ', vader_report['positive'])\n",
        "print('negative: ', vader_report['negative'])\n",
        "print('neutral ', vader_report['neutral'])"
      ],
      "metadata": {
        "colab": {
          "base_uri": "https://localhost:8080/"
        },
        "id": "AP5nR9yPtcRi",
        "outputId": "63dc962b-a35c-4421-c150-44920c142d0d"
      },
      "execution_count": 24,
      "outputs": [
        {
          "output_type": "stream",
          "name": "stdout",
          "text": [
            "accuracy:  0.6078431372549019\n",
            "macro avg:  {'precision': 0.6003590346519007, 'recall': 0.6135834165359197, 'f1-score': 0.5946467837096949, 'support': 153}\n",
            "positive:  {'precision': 0.8181818181818182, 'recall': 0.5921052631578947, 'f1-score': 0.6870229007633587, 'support': 76}\n",
            "negative:  {'precision': 0.5319148936170213, 'recall': 0.6097560975609756, 'f1-score': 0.5681818181818181, 'support': 41}\n",
            "neutral  {'precision': 0.45098039215686275, 'recall': 0.6388888888888888, 'f1-score': 0.5287356321839081, 'support': 36}\n"
          ]
        }
      ]
    },
    {
      "cell_type": "markdown",
      "source": [
        "Lets take a look at the normalised percentages of sentiments by Vader and our sentiment analyser. It appears that Vader seems to predict there is a lot more positive sentiment in the dataset. "
      ],
      "metadata": {
        "id": "xy94vcUCpkm-"
      }
    },
    {
      "cell_type": "code",
      "source": [
        "vader_df.value_counts(normalize=True) * 100"
      ],
      "metadata": {
        "colab": {
          "base_uri": "https://localhost:8080/"
        },
        "id": "cwFbJtZMmetj",
        "outputId": "dd421d4f-41e3-40db-92e3-1d3b22434ed7"
      },
      "execution_count": 25,
      "outputs": [
        {
          "output_type": "execute_result",
          "data": {
            "text/plain": [
              "positive    49.673203\n",
              "negative    26.797386\n",
              "neutral     23.529412\n",
              "dtype: float64"
            ]
          },
          "metadata": {},
          "execution_count": 25
        }
      ]
    },
    {
      "cell_type": "markdown",
      "source": [
        "This compared to the performance of our own model and the normalised percentages of sentiments."
      ],
      "metadata": {
        "id": "u0dTPhHKwPHd"
      }
    },
    {
      "cell_type": "code",
      "source": [
        "pred_df = pd.DataFrame(y_pred)\n",
        "pred_df.value_counts(normalize=True) * 100"
      ],
      "metadata": {
        "colab": {
          "base_uri": "https://localhost:8080/"
        },
        "id": "M8_IS2sbnwrt",
        "outputId": "80f10dbe-f0ee-4d4f-91da-25f3001f7fc5"
      },
      "execution_count": 26,
      "outputs": [
        {
          "output_type": "execute_result",
          "data": {
            "text/plain": [
              "positive    38.562092\n",
              "negative    30.718954\n",
              "neutral     30.718954\n",
              "dtype: float64"
            ]
          },
          "metadata": {},
          "execution_count": 26
        }
      ]
    },
    {
      "cell_type": "markdown",
      "source": [
        "We see further evidence of vader leaning positive in the confusion matrix where all sentiments have inflated positive labeling. "
      ],
      "metadata": {
        "id": "l-ui5luBpzGx"
      }
    },
    {
      "cell_type": "code",
      "source": [
        "cm = confusion_matrix(y_test, vader_df)\n",
        "cmd = ConfusionMatrixDisplay(cm, display_labels=[\"negative\", \"neutral\", \"positive\"])\n",
        "cmd.plot()"
      ],
      "metadata": {
        "colab": {
          "base_uri": "https://localhost:8080/",
          "height": 301
        },
        "id": "ckWDFmeGnQIa",
        "outputId": "bc3bd0bc-0eaa-48a3-e059-4e9fb1ef3fd7"
      },
      "execution_count": 27,
      "outputs": [
        {
          "output_type": "execute_result",
          "data": {
            "text/plain": [
              "<sklearn.metrics._plot.confusion_matrix.ConfusionMatrixDisplay at 0x7f1678b1d3d0>"
            ]
          },
          "metadata": {},
          "execution_count": 27
        },
        {
          "output_type": "display_data",
          "data": {
            "text/plain": [
              "<Figure size 432x288 with 2 Axes>"
            ],
            "image/png": "[encoded data removed]"
          },
          "metadata": {
            "needs_background": "light"
          }
        }
      ]
    },
    {
      "cell_type": "markdown",
      "source": [
        "Below we see that my classifier and Vader only agree about 56% of the time on average. "
      ],
      "metadata": {
        "id": "_rFjDIs6qA6W"
      }
    },
    {
      "cell_type": "code",
      "source": [
        "vader_df = vader_df.reset_index(drop=True)\n",
        "vader_df.eq(pred_df[0].values).mean()"
      ],
      "metadata": {
        "colab": {
          "base_uri": "https://localhost:8080/"
        },
        "id": "QObXJ7UfmuWu",
        "outputId": "6438db2e-f220-48b9-dbed-1892f26aa5de"
      },
      "execution_count": 29,
      "outputs": [
        {
          "output_type": "execute_result",
          "data": {
            "text/plain": [
              "0.5620915032679739"
            ]
          },
          "metadata": {},
          "execution_count": 29
        }
      ]
    },
    {
      "cell_type": "code",
      "source": [
        ""
      ],
      "metadata": {
        "id": "eOyVEcx4wVP5"
      },
      "execution_count": null,
      "outputs": []
    }
  ]
}