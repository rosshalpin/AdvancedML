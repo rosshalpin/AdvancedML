{
  "nbformat": 4,
  "nbformat_minor": 0,
  "metadata": {
    "colab": {
      "name": "SentimentAnalysis.ipynb",
      "provenance": [],
      "collapsed_sections": [],
      "authorship_tag": "ABX9TyOstEjQKf+KWYeDSrWj73xl",
      "include_colab_link": true
    },
    "kernelspec": {
      "name": "python3",
      "display_name": "Python 3"
    },
    "language_info": {
      "name": "python"
    }
  },
  "cells": [
    {
      "cell_type": "markdown",
      "metadata": {
        "id": "view-in-github",
        "colab_type": "text"
      },
      "source": [
        "<a href=\"https://colab.research.google.com/github/rosshalpin/AdvancedML/blob/main/SentimentAnalysis.ipynb\" target=\"_parent\"><img src=\"https://colab.research.google.com/assets/colab-badge.svg\" alt=\"Open In Colab\"/></a>"
      ]
    },
    {
      "cell_type": "code",
      "execution_count": 1,
      "metadata": {
        "colab": {
          "base_uri": "https://localhost:8080/"
        },
        "id": "n2D1Y2gBau_U",
        "outputId": "a0387780-28dc-41a2-a013-a4ca0a00e3ca"
      },
      "outputs": [
        {
          "output_type": "stream",
          "name": "stdout",
          "text": [
            "/\n",
            "Drive already mounted at /content/gdrive; to attempt to forcibly remount, call drive.mount(\"/content/gdrive\", force_remount=True).\n",
            "ln: failed to create symbolic link '/mydrive/My Drive': File exists\n",
            "/content/gdrive/My Drive/AdvancedML\n"
          ]
        }
      ],
      "source": [
        "%cd ..\n",
        "from google.colab import drive\n",
        "drive.mount('/content/gdrive')\n",
        "!ln -s /content/gdrive/My\\ Drive/ /mydrive\n",
        "%cd /mydrive/AdvancedML/"
      ]
    },
    {
      "cell_type": "code",
      "source": [
        "import pandas as pd\n",
        "\n",
        "df = pd.read_csv(\"tweets.1650309993.csv\")"
      ],
      "metadata": {
        "id": "zrdPRoZ7bAO5"
      },
      "execution_count": 2,
      "outputs": []
    },
    {
      "cell_type": "code",
      "source": [
        "df.head()"
      ],
      "metadata": {
        "colab": {
          "base_uri": "https://localhost:8080/",
          "height": 337
        },
        "id": "V-g9tcT4bFzY",
        "outputId": "55a852e2-1827-4862-d7c9-f5c1cc86fae0"
      },
      "execution_count": 3,
      "outputs": [
        {
          "output_type": "execute_result",
          "data": {
            "text/plain": [
              "                             place        coords                 created_at  \\\n",
              "0  Staines-upon-Thames, South East   51.42,-0.45  2022-04-18 19:13:49+00:00   \n",
              "1             Soweto, South Africa  -26.26,27.88  2022-04-18 18:13:59+00:00   \n",
              "2               Wandsworth, London   51.45,-0.19  2022-04-18 17:29:09+00:00   \n",
              "3               Aberdeen, Scotland   57.16,-2.13  2022-04-18 16:52:20+00:00   \n",
              "4              North East, England   55.13,-1.74  2022-04-18 12:49:12+00:00   \n",
              "\n",
              "   possibly_sensitive  retweet_count  reply_count  like_count  quote_count  \\\n",
              "0               False              0            0           0            0   \n",
              "1               False              0            0           0            0   \n",
              "2               False              0            0           1            0   \n",
              "3               False              1            5           3            0   \n",
              "4               False              0            0           0            0   \n",
              "\n",
              "                                                text sentiment  \n",
              "0  16 and sexualising Lewis Hamilton on Twitter? ...  negative  \n",
              "1     @MbalulaFikile Oh Lewis Hamilton just Fuck off  negative  \n",
              "2  @GeorgeRobbo_14 @thewallbank @JackBarber32 Lol...   neutral  \n",
              "3  It's strange that @F1MikaHakkinen is never bor...  negative  \n",
              "4  #ctp_video #autoplay_video #Mercedes #LewisHam...   neutral  "
            ],
            "text/html": [
              "\n",
              "  <div id=\"df-2d4d888d-4a5f-457c-a0c6-490b6f17961e\">\n",
              "    <div class=\"colab-df-container\">\n",
              "      <div>\n",
              "<style scoped>\n",
              "    .dataframe tbody tr th:only-of-type {\n",
              "        vertical-align: middle;\n",
              "    }\n",
              "\n",
              "    .dataframe tbody tr th {\n",
              "        vertical-align: top;\n",
              "    }\n",
              "\n",
              "    .dataframe thead th {\n",
              "        text-align: right;\n",
              "    }\n",
              "</style>\n",
              "<table border=\"1\" class=\"dataframe\">\n",
              "  <thead>\n",
              "    <tr style=\"text-align: right;\">\n",
              "      <th></th>\n",
              "      <th>place</th>\n",
              "      <th>coords</th>\n",
              "      <th>created_at</th>\n",
              "      <th>possibly_sensitive</th>\n",
              "      <th>retweet_count</th>\n",
              "      <th>reply_count</th>\n",
              "      <th>like_count</th>\n",
              "      <th>quote_count</th>\n",
              "      <th>text</th>\n",
              "      <th>sentiment</th>\n",
              "    </tr>\n",
              "  </thead>\n",
              "  <tbody>\n",
              "    <tr>\n",
              "      <th>0</th>\n",
              "      <td>Staines-upon-Thames, South East</td>\n",
              "      <td>51.42,-0.45</td>\n",
              "      <td>2022-04-18 19:13:49+00:00</td>\n",
              "      <td>False</td>\n",
              "      <td>0</td>\n",
              "      <td>0</td>\n",
              "      <td>0</td>\n",
              "      <td>0</td>\n",
              "      <td>16 and sexualising Lewis Hamilton on Twitter? ...</td>\n",
              "      <td>negative</td>\n",
              "    </tr>\n",
              "    <tr>\n",
              "      <th>1</th>\n",
              "      <td>Soweto, South Africa</td>\n",
              "      <td>-26.26,27.88</td>\n",
              "      <td>2022-04-18 18:13:59+00:00</td>\n",
              "      <td>False</td>\n",
              "      <td>0</td>\n",
              "      <td>0</td>\n",
              "      <td>0</td>\n",
              "      <td>0</td>\n",
              "      <td>@MbalulaFikile Oh Lewis Hamilton just Fuck off</td>\n",
              "      <td>negative</td>\n",
              "    </tr>\n",
              "    <tr>\n",
              "      <th>2</th>\n",
              "      <td>Wandsworth, London</td>\n",
              "      <td>51.45,-0.19</td>\n",
              "      <td>2022-04-18 17:29:09+00:00</td>\n",
              "      <td>False</td>\n",
              "      <td>0</td>\n",
              "      <td>0</td>\n",
              "      <td>1</td>\n",
              "      <td>0</td>\n",
              "      <td>@GeorgeRobbo_14 @thewallbank @JackBarber32 Lol...</td>\n",
              "      <td>neutral</td>\n",
              "    </tr>\n",
              "    <tr>\n",
              "      <th>3</th>\n",
              "      <td>Aberdeen, Scotland</td>\n",
              "      <td>57.16,-2.13</td>\n",
              "      <td>2022-04-18 16:52:20+00:00</td>\n",
              "      <td>False</td>\n",
              "      <td>1</td>\n",
              "      <td>5</td>\n",
              "      <td>3</td>\n",
              "      <td>0</td>\n",
              "      <td>It's strange that @F1MikaHakkinen is never bor...</td>\n",
              "      <td>negative</td>\n",
              "    </tr>\n",
              "    <tr>\n",
              "      <th>4</th>\n",
              "      <td>North East, England</td>\n",
              "      <td>55.13,-1.74</td>\n",
              "      <td>2022-04-18 12:49:12+00:00</td>\n",
              "      <td>False</td>\n",
              "      <td>0</td>\n",
              "      <td>0</td>\n",
              "      <td>0</td>\n",
              "      <td>0</td>\n",
              "      <td>#ctp_video #autoplay_video #Mercedes #LewisHam...</td>\n",
              "      <td>neutral</td>\n",
              "    </tr>\n",
              "  </tbody>\n",
              "</table>\n",
              "</div>\n",
              "      <button class=\"colab-df-convert\" onclick=\"convertToInteractive('df-2d4d888d-4a5f-457c-a0c6-490b6f17961e')\"\n",
              "              title=\"Convert this dataframe to an interactive table.\"\n",
              "              style=\"display:none;\">\n",
              "        \n",
              "  <svg xmlns=\"http://www.w3.org/2000/svg\" height=\"24px\"viewBox=\"0 0 24 24\"\n",
              "       width=\"24px\">\n",
              "    <path d=\"M0 0h24v24H0V0z\" fill=\"none\"/>\n",
              "    <path d=\"M18.56 5.44l.94 2.06.94-2.06 2.06-.94-2.06-.94-.94-2.06-.94 2.06-2.06.94zm-11 1L8.5 8.5l.94-2.06 2.06-.94-2.06-.94L8.5 2.5l-.94 2.06-2.06.94zm10 10l.94 2.06.94-2.06 2.06-.94-2.06-.94-.94-2.06-.94 2.06-2.06.94z\"/><path d=\"M17.41 7.96l-1.37-1.37c-.4-.4-.92-.59-1.43-.59-.52 0-1.04.2-1.43.59L10.3 9.45l-7.72 7.72c-.78.78-.78 2.05 0 2.83L4 21.41c.39.39.9.59 1.41.59.51 0 1.02-.2 1.41-.59l7.78-7.78 2.81-2.81c.8-.78.8-2.07 0-2.86zM5.41 20L4 18.59l7.72-7.72 1.47 1.35L5.41 20z\"/>\n",
              "  </svg>\n",
              "      </button>\n",
              "      \n",
              "  <style>\n",
              "    .colab-df-container {\n",
              "      display:flex;\n",
              "      flex-wrap:wrap;\n",
              "      gap: 12px;\n",
              "    }\n",
              "\n",
              "    .colab-df-convert {\n",
              "      background-color: #E8F0FE;\n",
              "      border: none;\n",
              "      border-radius: 50%;\n",
              "      cursor: pointer;\n",
              "      display: none;\n",
              "      fill: #1967D2;\n",
              "      height: 32px;\n",
              "      padding: 0 0 0 0;\n",
              "      width: 32px;\n",
              "    }\n",
              "\n",
              "    .colab-df-convert:hover {\n",
              "      background-color: #E2EBFA;\n",
              "      box-shadow: 0px 1px 2px rgba(60, 64, 67, 0.3), 0px 1px 3px 1px rgba(60, 64, 67, 0.15);\n",
              "      fill: #174EA6;\n",
              "    }\n",
              "\n",
              "    [theme=dark] .colab-df-convert {\n",
              "      background-color: #3B4455;\n",
              "      fill: #D2E3FC;\n",
              "    }\n",
              "\n",
              "    [theme=dark] .colab-df-convert:hover {\n",
              "      background-color: #434B5C;\n",
              "      box-shadow: 0px 1px 3px 1px rgba(0, 0, 0, 0.15);\n",
              "      filter: drop-shadow(0px 1px 2px rgba(0, 0, 0, 0.3));\n",
              "      fill: #FFFFFF;\n",
              "    }\n",
              "  </style>\n",
              "\n",
              "      <script>\n",
              "        const buttonEl =\n",
              "          document.querySelector('#df-2d4d888d-4a5f-457c-a0c6-490b6f17961e button.colab-df-convert');\n",
              "        buttonEl.style.display =\n",
              "          google.colab.kernel.accessAllowed ? 'block' : 'none';\n",
              "\n",
              "        async function convertToInteractive(key) {\n",
              "          const element = document.querySelector('#df-2d4d888d-4a5f-457c-a0c6-490b6f17961e');\n",
              "          const dataTable =\n",
              "            await google.colab.kernel.invokeFunction('convertToInteractive',\n",
              "                                                     [key], {});\n",
              "          if (!dataTable) return;\n",
              "\n",
              "          const docLinkHtml = 'Like what you see? Visit the ' +\n",
              "            '<a target=\"_blank\" href=https://colab.research.google.com/notebooks/data_table.ipynb>data table notebook</a>'\n",
              "            + ' to learn more about interactive tables.';\n",
              "          element.innerHTML = '';\n",
              "          dataTable['output_type'] = 'display_data';\n",
              "          await google.colab.output.renderOutput(dataTable, element);\n",
              "          const docLink = document.createElement('div');\n",
              "          docLink.innerHTML = docLinkHtml;\n",
              "          element.appendChild(docLink);\n",
              "        }\n",
              "      </script>\n",
              "    </div>\n",
              "  </div>\n",
              "  "
            ]
          },
          "metadata": {},
          "execution_count": 3
        }
      ]
    },
    {
      "cell_type": "code",
      "source": [
        "df.shape"
      ],
      "metadata": {
        "colab": {
          "base_uri": "https://localhost:8080/"
        },
        "id": "p6_VDQT38hPX",
        "outputId": "2e60557f-ce77-4b0e-e2b8-ba3feeb4a4b1"
      },
      "execution_count": 15,
      "outputs": [
        {
          "output_type": "execute_result",
          "data": {
            "text/plain": [
              "(1500, 10)"
            ]
          },
          "metadata": {},
          "execution_count": 15
        }
      ]
    },
    {
      "cell_type": "code",
      "source": [
        "pd.to_datetime(df.created_at)"
      ],
      "metadata": {
        "colab": {
          "base_uri": "https://localhost:8080/"
        },
        "id": "CS0EwZVm9gAW",
        "outputId": "476517cd-aebc-4c85-8593-8d24b1535e19"
      },
      "execution_count": 16,
      "outputs": [
        {
          "output_type": "execute_result",
          "data": {
            "text/plain": [
              "0      2022-04-18 19:13:49+00:00\n",
              "1      2022-04-18 18:13:59+00:00\n",
              "2      2022-04-18 17:29:09+00:00\n",
              "3      2022-04-18 16:52:20+00:00\n",
              "4      2022-04-18 12:49:12+00:00\n",
              "                  ...           \n",
              "1495   2022-04-16 15:30:10+00:00\n",
              "1496   2022-04-16 15:28:26+00:00\n",
              "1497   2022-04-16 15:26:18+00:00\n",
              "1498   2022-04-16 15:25:25+00:00\n",
              "1499   2022-04-16 15:17:55+00:00\n",
              "Name: created_at, Length: 1500, dtype: datetime64[ns, UTC]"
            ]
          },
          "metadata": {},
          "execution_count": 16
        }
      ]
    },
    {
      "cell_type": "code",
      "source": [
        "df.sentiment.value_counts(normalize=True) * 100"
      ],
      "metadata": {
        "colab": {
          "base_uri": "https://localhost:8080/"
        },
        "id": "la_soE4h9vhH",
        "outputId": "0e396fd7-c7e1-49f2-93a1-2e43aaa14904"
      },
      "execution_count": 17,
      "outputs": [
        {
          "output_type": "execute_result",
          "data": {
            "text/plain": [
              "neutral     57.066667\n",
              "positive    21.933333\n",
              "negative    21.000000\n",
              "Name: sentiment, dtype: float64"
            ]
          },
          "metadata": {},
          "execution_count": 17
        }
      ]
    },
    {
      "cell_type": "code",
      "source": [
        "df.place.value_counts()"
      ],
      "metadata": {
        "colab": {
          "base_uri": "https://localhost:8080/"
        },
        "id": "RK4xWUflJ1Pw",
        "outputId": "35969b97-2f0b-476a-e17a-9d15eda53fd7"
      },
      "execution_count": 21,
      "outputs": [
        {
          "output_type": "execute_result",
          "data": {
            "text/plain": [
              "Gênes, Ligurie                     11\n",
              "Wallasey, England                   5\n",
              "Passo Fundo, Brasil                 4\n",
              "Johannesburg, South Africa          3\n",
              "Kaduna, Nigeria                     2\n",
              "Staines-upon-Thames, South East     1\n",
              "Catane, Sicile                      1\n",
              "South Shields, England              1\n",
              "Austin, TX                          1\n",
              "Melbourne, Victoria                 1\n",
              "Brésil                              1\n",
              "Nova Iguaçu, Brasil                 1\n",
              "São Paulo, Brésil                   1\n",
              "Jamaïque                            1\n",
              "East Ham, London                    1\n",
              "Stockholm, Suède                    1\n",
              "Jacareí, Brasil                     1\n",
              "Bari, Pouilles                      1\n",
              "Budapest, Hongrie                   1\n",
              "Latarnia                            1\n",
              "Florida, USA                        1\n",
              "मुंबई, भारत                         1\n",
              "Pretoria, South Africa              1\n",
              "Cairns, Queensland                  1\n",
              "Northampton, England                1\n",
              "Wales, United Kingdom               1\n",
              "Kensington, London                  1\n",
              "Salisbury, England                  1\n",
              "Soweto, South Africa                1\n",
              "Wandsworth, London                  1\n",
              "Aberdeen, Scotland                  1\n",
              "North East, England                 1\n",
              "Inverness, Scotland                 1\n",
              "Auckland, New Zealand               1\n",
              "Chicago, IL                         1\n",
              "Hamilton, Scotland                  1\n",
              "Ramsbottom, England                 1\n",
              "South Africa                        1\n",
              "Middlesbrough, England              1\n",
              "Winterthour, Suisse                 1\n",
              "Biggleswade, England                1\n",
              "Province centrale, Kenya            1\n",
              "Kampala, Ouganda                    1\n",
              "Montréal, Québec                    1\n",
              "Keyser, WV                          1\n",
              "Sungai Buloh, Selangor              1\n",
              "High Wycombe, England               1\n",
              "Boksburg, South Africa              1\n",
              "Dar es Salaam, Tanzanie             1\n",
              "Nairobi, Kenya                      1\n",
              "Dubaï, Emirats Arabes Unis          1\n",
              "Name: place, dtype: int64"
            ]
          },
          "metadata": {},
          "execution_count": 21
        }
      ]
    },
    {
      "cell_type": "code",
      "source": [
        "df.replace({r'[^\\x00-\\x7F]+':''}, regex=True, inplace=True)"
      ],
      "metadata": {
        "id": "zB9GGMZrRVcZ"
      },
      "execution_count": 4,
      "outputs": []
    },
    {
      "cell_type": "code",
      "source": [
        "df.head()"
      ],
      "metadata": {
        "colab": {
          "base_uri": "https://localhost:8080/",
          "height": 337
        },
        "id": "URXGC6KTRySc",
        "outputId": "9561e0e9-1dcf-4d4c-a2f4-4cd22ac67390"
      },
      "execution_count": 74,
      "outputs": [
        {
          "output_type": "execute_result",
          "data": {
            "text/plain": [
              "                             place        coords                 created_at  \\\n",
              "0  Staines-upon-Thames, South East   51.42,-0.45  2022-04-18 19:13:49+00:00   \n",
              "1             Soweto, South Africa  -26.26,27.88  2022-04-18 18:13:59+00:00   \n",
              "2               Wandsworth, London   51.45,-0.19  2022-04-18 17:29:09+00:00   \n",
              "3               Aberdeen, Scotland   57.16,-2.13  2022-04-18 16:52:20+00:00   \n",
              "4              North East, England   55.13,-1.74  2022-04-18 12:49:12+00:00   \n",
              "\n",
              "   possibly_sensitive  retweet_count  reply_count  like_count  quote_count  \\\n",
              "0               False              0            0           0            0   \n",
              "1               False              0            0           0            0   \n",
              "2               False              0            0           1            0   \n",
              "3               False              1            5           3            0   \n",
              "4               False              0            0           0            0   \n",
              "\n",
              "                                                text sentiment  \n",
              "0  16 and sexualising Lewis Hamilton on Twitter? ...  negative  \n",
              "1     @MbalulaFikile Oh Lewis Hamilton just Fuck off  negative  \n",
              "2  @GeorgeRobbo_14 @thewallbank @JackBarber32 Lol...   neutral  \n",
              "3  It's strange that @F1MikaHakkinen is never bor...  negative  \n",
              "4  #ctp_video #autoplay_video #Mercedes #LewisHam...   neutral  "
            ],
            "text/html": [
              "\n",
              "  <div id=\"df-78984760-333a-4c44-a1d5-0cacda7f241a\">\n",
              "    <div class=\"colab-df-container\">\n",
              "      <div>\n",
              "<style scoped>\n",
              "    .dataframe tbody tr th:only-of-type {\n",
              "        vertical-align: middle;\n",
              "    }\n",
              "\n",
              "    .dataframe tbody tr th {\n",
              "        vertical-align: top;\n",
              "    }\n",
              "\n",
              "    .dataframe thead th {\n",
              "        text-align: right;\n",
              "    }\n",
              "</style>\n",
              "<table border=\"1\" class=\"dataframe\">\n",
              "  <thead>\n",
              "    <tr style=\"text-align: right;\">\n",
              "      <th></th>\n",
              "      <th>place</th>\n",
              "      <th>coords</th>\n",
              "      <th>created_at</th>\n",
              "      <th>possibly_sensitive</th>\n",
              "      <th>retweet_count</th>\n",
              "      <th>reply_count</th>\n",
              "      <th>like_count</th>\n",
              "      <th>quote_count</th>\n",
              "      <th>text</th>\n",
              "      <th>sentiment</th>\n",
              "    </tr>\n",
              "  </thead>\n",
              "  <tbody>\n",
              "    <tr>\n",
              "      <th>0</th>\n",
              "      <td>Staines-upon-Thames, South East</td>\n",
              "      <td>51.42,-0.45</td>\n",
              "      <td>2022-04-18 19:13:49+00:00</td>\n",
              "      <td>False</td>\n",
              "      <td>0</td>\n",
              "      <td>0</td>\n",
              "      <td>0</td>\n",
              "      <td>0</td>\n",
              "      <td>16 and sexualising Lewis Hamilton on Twitter? ...</td>\n",
              "      <td>negative</td>\n",
              "    </tr>\n",
              "    <tr>\n",
              "      <th>1</th>\n",
              "      <td>Soweto, South Africa</td>\n",
              "      <td>-26.26,27.88</td>\n",
              "      <td>2022-04-18 18:13:59+00:00</td>\n",
              "      <td>False</td>\n",
              "      <td>0</td>\n",
              "      <td>0</td>\n",
              "      <td>0</td>\n",
              "      <td>0</td>\n",
              "      <td>@MbalulaFikile Oh Lewis Hamilton just Fuck off</td>\n",
              "      <td>negative</td>\n",
              "    </tr>\n",
              "    <tr>\n",
              "      <th>2</th>\n",
              "      <td>Wandsworth, London</td>\n",
              "      <td>51.45,-0.19</td>\n",
              "      <td>2022-04-18 17:29:09+00:00</td>\n",
              "      <td>False</td>\n",
              "      <td>0</td>\n",
              "      <td>0</td>\n",
              "      <td>1</td>\n",
              "      <td>0</td>\n",
              "      <td>@GeorgeRobbo_14 @thewallbank @JackBarber32 Lol...</td>\n",
              "      <td>neutral</td>\n",
              "    </tr>\n",
              "    <tr>\n",
              "      <th>3</th>\n",
              "      <td>Aberdeen, Scotland</td>\n",
              "      <td>57.16,-2.13</td>\n",
              "      <td>2022-04-18 16:52:20+00:00</td>\n",
              "      <td>False</td>\n",
              "      <td>1</td>\n",
              "      <td>5</td>\n",
              "      <td>3</td>\n",
              "      <td>0</td>\n",
              "      <td>It's strange that @F1MikaHakkinen is never bor...</td>\n",
              "      <td>negative</td>\n",
              "    </tr>\n",
              "    <tr>\n",
              "      <th>4</th>\n",
              "      <td>North East, England</td>\n",
              "      <td>55.13,-1.74</td>\n",
              "      <td>2022-04-18 12:49:12+00:00</td>\n",
              "      <td>False</td>\n",
              "      <td>0</td>\n",
              "      <td>0</td>\n",
              "      <td>0</td>\n",
              "      <td>0</td>\n",
              "      <td>#ctp_video #autoplay_video #Mercedes #LewisHam...</td>\n",
              "      <td>neutral</td>\n",
              "    </tr>\n",
              "  </tbody>\n",
              "</table>\n",
              "</div>\n",
              "      <button class=\"colab-df-convert\" onclick=\"convertToInteractive('df-78984760-333a-4c44-a1d5-0cacda7f241a')\"\n",
              "              title=\"Convert this dataframe to an interactive table.\"\n",
              "              style=\"display:none;\">\n",
              "        \n",
              "  <svg xmlns=\"http://www.w3.org/2000/svg\" height=\"24px\"viewBox=\"0 0 24 24\"\n",
              "       width=\"24px\">\n",
              "    <path d=\"M0 0h24v24H0V0z\" fill=\"none\"/>\n",
              "    <path d=\"M18.56 5.44l.94 2.06.94-2.06 2.06-.94-2.06-.94-.94-2.06-.94 2.06-2.06.94zm-11 1L8.5 8.5l.94-2.06 2.06-.94-2.06-.94L8.5 2.5l-.94 2.06-2.06.94zm10 10l.94 2.06.94-2.06 2.06-.94-2.06-.94-.94-2.06-.94 2.06-2.06.94z\"/><path d=\"M17.41 7.96l-1.37-1.37c-.4-.4-.92-.59-1.43-.59-.52 0-1.04.2-1.43.59L10.3 9.45l-7.72 7.72c-.78.78-.78 2.05 0 2.83L4 21.41c.39.39.9.59 1.41.59.51 0 1.02-.2 1.41-.59l7.78-7.78 2.81-2.81c.8-.78.8-2.07 0-2.86zM5.41 20L4 18.59l7.72-7.72 1.47 1.35L5.41 20z\"/>\n",
              "  </svg>\n",
              "      </button>\n",
              "      \n",
              "  <style>\n",
              "    .colab-df-container {\n",
              "      display:flex;\n",
              "      flex-wrap:wrap;\n",
              "      gap: 12px;\n",
              "    }\n",
              "\n",
              "    .colab-df-convert {\n",
              "      background-color: #E8F0FE;\n",
              "      border: none;\n",
              "      border-radius: 50%;\n",
              "      cursor: pointer;\n",
              "      display: none;\n",
              "      fill: #1967D2;\n",
              "      height: 32px;\n",
              "      padding: 0 0 0 0;\n",
              "      width: 32px;\n",
              "    }\n",
              "\n",
              "    .colab-df-convert:hover {\n",
              "      background-color: #E2EBFA;\n",
              "      box-shadow: 0px 1px 2px rgba(60, 64, 67, 0.3), 0px 1px 3px 1px rgba(60, 64, 67, 0.15);\n",
              "      fill: #174EA6;\n",
              "    }\n",
              "\n",
              "    [theme=dark] .colab-df-convert {\n",
              "      background-color: #3B4455;\n",
              "      fill: #D2E3FC;\n",
              "    }\n",
              "\n",
              "    [theme=dark] .colab-df-convert:hover {\n",
              "      background-color: #434B5C;\n",
              "      box-shadow: 0px 1px 3px 1px rgba(0, 0, 0, 0.15);\n",
              "      filter: drop-shadow(0px 1px 2px rgba(0, 0, 0, 0.3));\n",
              "      fill: #FFFFFF;\n",
              "    }\n",
              "  </style>\n",
              "\n",
              "      <script>\n",
              "        const buttonEl =\n",
              "          document.querySelector('#df-78984760-333a-4c44-a1d5-0cacda7f241a button.colab-df-convert');\n",
              "        buttonEl.style.display =\n",
              "          google.colab.kernel.accessAllowed ? 'block' : 'none';\n",
              "\n",
              "        async function convertToInteractive(key) {\n",
              "          const element = document.querySelector('#df-78984760-333a-4c44-a1d5-0cacda7f241a');\n",
              "          const dataTable =\n",
              "            await google.colab.kernel.invokeFunction('convertToInteractive',\n",
              "                                                     [key], {});\n",
              "          if (!dataTable) return;\n",
              "\n",
              "          const docLinkHtml = 'Like what you see? Visit the ' +\n",
              "            '<a target=\"_blank\" href=https://colab.research.google.com/notebooks/data_table.ipynb>data table notebook</a>'\n",
              "            + ' to learn more about interactive tables.';\n",
              "          element.innerHTML = '';\n",
              "          dataTable['output_type'] = 'display_data';\n",
              "          await google.colab.output.renderOutput(dataTable, element);\n",
              "          const docLink = document.createElement('div');\n",
              "          docLink.innerHTML = docLinkHtml;\n",
              "          element.appendChild(docLink);\n",
              "        }\n",
              "      </script>\n",
              "    </div>\n",
              "  </div>\n",
              "  "
            ]
          },
          "metadata": {},
          "execution_count": 74
        }
      ]
    },
    {
      "cell_type": "code",
      "source": [
        "df.text.sample(150)"
      ],
      "metadata": {
        "colab": {
          "base_uri": "https://localhost:8080/"
        },
        "id": "g7NRtpAaRnfX",
        "outputId": "cc5bd65c-de24-4056-e4e1-c829690f8608"
      },
      "execution_count": 5,
      "outputs": [
        {
          "output_type": "execute_result",
          "data": {
            "text/plain": [
              "1416    @formularacers_ Lewis Hamilton is literally a ...\n",
              "615     2020 Topps Chrome F1 Lewis Hami #whodoyoucolle...\n",
              "716     #Sports Lewis Hamilton backs Porsche despite M...\n",
              "1168    Check out the comments on this post. You will ...\n",
              "136     Yet my main priority is supporting Hamilton an...\n",
              "                              ...                        \n",
              "404     Former F1 driver Marc Surer acknowledges the t...\n",
              "1247    #f1 : Hi my name is Erkan, im not new to f1 &a...\n",
              "883            Lewis Hamilton &gt; Max Verstappen in 2021\n",
              "344     If Leclerc wins the world championship will we...\n",
              "1469    Lewis Hamilton is better than any other driver...\n",
              "Name: text, Length: 150, dtype: object"
            ]
          },
          "metadata": {},
          "execution_count": 5
        }
      ]
    },
    {
      "cell_type": "code",
      "source": [
        "df_sentiment = df.sentiment\n",
        "df_text = df.text"
      ],
      "metadata": {
        "id": "K-FhaIybLPeG"
      },
      "execution_count": 136,
      "outputs": []
    },
    {
      "cell_type": "code",
      "source": [
        "df_sentiment"
      ],
      "metadata": {
        "colab": {
          "base_uri": "https://localhost:8080/"
        },
        "id": "zgu5JUPXUH98",
        "outputId": "e3fef672-903d-4e24-f483-a276bc7fa183"
      },
      "execution_count": 23,
      "outputs": [
        {
          "output_type": "execute_result",
          "data": {
            "text/plain": [
              "0       negative\n",
              "1       negative\n",
              "2        neutral\n",
              "3       negative\n",
              "4        neutral\n",
              "          ...   \n",
              "1495    positive\n",
              "1496     neutral\n",
              "1497     neutral\n",
              "1498     neutral\n",
              "1499    positive\n",
              "Name: sentiment, Length: 1500, dtype: object"
            ]
          },
          "metadata": {},
          "execution_count": 23
        }
      ]
    },
    {
      "cell_type": "code",
      "source": [
        "# from sklearn.feature_extraction.text import TfidfVectorizer\n",
        "\n",
        "# # Create feature vectors\n",
        "# vectorizer = TfidfVectorizer(min_df = 5,\n",
        "#                              max_df = 0.8,\n",
        "#                              sublinear_tf = True,\n",
        "#                              use_idf = True)\n",
        "# train_vectors = vectorizer.fit_transform(X_train)\n",
        "# test_vectors = vectorizer.transform(X_test)"
      ],
      "metadata": {
        "id": "I9fhZJkdLi6I"
      },
      "execution_count": 32,
      "outputs": []
    },
    {
      "cell_type": "code",
      "source": [
        "# import time\n",
        "# from sklearn import svm\n",
        "# from sklearn.metrics import classification_report\n",
        "# # Perform classification with SVM, kernel=linear\n",
        "# classifier_linear = svm.SVC(kernel='linear')\n",
        "# t0 = time.time()\n",
        "# classifier_linear.fit(train_vectors, y_train)\n",
        "# t1 = time.time()\n",
        "# prediction_linear = classifier_linear.predict(test_vectors)\n",
        "# t2 = time.time()\n",
        "# time_linear_train = t1-t0\n",
        "# time_linear_predict = t2-t1\n",
        "# # results\n",
        "# print(\"Training time: %fs; Prediction time: %fs\" % (time_linear_train, time_linear_predict))\n",
        "# report = classification_report(y_test, prediction_linear, output_dict=True)\n",
        "# print('positive: ', report['positive'])\n",
        "# print('negative: ', report['negative'])\n",
        "# print('neutral: ', report['neutral'])"
      ],
      "metadata": {
        "colab": {
          "base_uri": "https://localhost:8080/"
        },
        "id": "u0AmuQFYMImK",
        "outputId": "4a789988-932b-4d65-cea2-5728a62f2cc5"
      },
      "execution_count": 33,
      "outputs": [
        {
          "output_type": "stream",
          "name": "stdout",
          "text": [
            "Training time: 0.698799s; Prediction time: 0.032552s\n",
            "positive:  {'precision': 0.7222222222222222, 'recall': 0.37142857142857144, 'f1-score': 0.490566037735849, 'support': 35}\n",
            "negative:  {'precision': 0.3181818181818182, 'recall': 0.2692307692307692, 'f1-score': 0.2916666666666667, 'support': 26}\n",
            "neutral:  {'precision': 0.6909090909090909, 'recall': 0.8539325842696629, 'f1-score': 0.763819095477387, 'support': 89}\n"
          ]
        }
      ]
    },
    {
      "cell_type": "code",
      "source": [
        "import nltk\n",
        "\n",
        "nltk.download('stopwords')"
      ],
      "metadata": {
        "colab": {
          "base_uri": "https://localhost:8080/"
        },
        "id": "AbTuwDZFQQVD",
        "outputId": "b354908a-9043-430b-8baf-7a39de31c43e"
      },
      "execution_count": 8,
      "outputs": [
        {
          "output_type": "stream",
          "name": "stdout",
          "text": [
            "[nltk_data] Downloading package stopwords to /root/nltk_data...\n",
            "[nltk_data]   Package stopwords is already up-to-date!\n"
          ]
        },
        {
          "output_type": "execute_result",
          "data": {
            "text/plain": [
              "True"
            ]
          },
          "metadata": {},
          "execution_count": 8
        }
      ]
    },
    {
      "cell_type": "code",
      "source": [
        "from sklearn.feature_extraction.text import CountVectorizer\n",
        "from nltk.stem import SnowballStemmer\n",
        "from nltk.corpus import stopwords\n",
        "from nltk.tokenize import TweetTokenizer\n",
        "\n",
        "stemmer = SnowballStemmer(\"english\")\n",
        "tweet_tokenizer = TweetTokenizer()\n",
        "\n",
        "def tokenize(input): \n",
        "    return tweet_tokenizer.tokenize(input)\n",
        "\n",
        "def stemmer(input):\n",
        "    return (stemmer.stem(word) for word in input)"
      ],
      "metadata": {
        "id": "w0DjdDZzNCt2"
      },
      "execution_count": 73,
      "outputs": []
    },
    {
      "cell_type": "code",
      "source": [
        "stemmer(df_text[0])"
      ],
      "metadata": {
        "id": "jD7rtQLml3fK"
      },
      "execution_count": null,
      "outputs": []
    },
    {
      "cell_type": "code",
      "source": [
        "vectorizer = CountVectorizer(\n",
        "    analyzer = 'char',\n",
        "    tokenizer = tokenize,\n",
        "    lowercase = True,\n",
        "    ngram_range=(1, 1),\n",
        "    stop_words = set(stopwords.words(\"english\")))"
      ],
      "metadata": {
        "id": "ebVMnA3OPgbr"
      },
      "execution_count": 150,
      "outputs": []
    },
    {
      "cell_type": "code",
      "source": [
        "df_text = vectorizer.fit_transform(df.text)"
      ],
      "metadata": {
        "id": "WhUmabzlYdhI"
      },
      "execution_count": 152,
      "outputs": []
    },
    {
      "cell_type": "code",
      "source": [
        "from sklearn.model_selection import GridSearchCV\n",
        "from sklearn.svm import SVC\n",
        "from sklearn.model_selection import StratifiedKFold, ShuffleSplit\n",
        "\n",
        "\n",
        "# kfolds = StratifiedKFold(n_splits=8, shuffle=True, random_state=1)\n",
        "kfolds = ShuffleSplit(n_splits=5, test_size=0.2, random_state=0)\n",
        "\n",
        "parameters = {\n",
        "  \"C\": [0.01, 0.1, 1],\n",
        "  \"kernel\": [\"linear\"]\n",
        "}\n",
        "\n",
        "clf = GridSearchCV(SVC(),\n",
        "                   param_grid = parameters, \n",
        "                   cv = kfolds,\n",
        "                   n_jobs=-1) "
      ],
      "metadata": {
        "id": "XczhwmdDSXI_"
      },
      "execution_count": 156,
      "outputs": []
    },
    {
      "cell_type": "code",
      "source": [
        "# from sklearn.pipeline import make_pipeline, Pipeline\n",
        "# from sklearn.model_selection import GridSearchCV\n",
        "# from sklearn.svm import SVC\n",
        "# from sklearn.model_selection import StratifiedKFold, cross_val_score\n",
        "# from sklearn.metrics import f1_score, make_scorer\n",
        "# from sklearn.model_selection import train_test_split\n",
        "\n",
        "# X_train, X_test, y_train, y_test = train_test_split(df_text, df_sentiment, test_size=0.4, random_state=409, shuffle=True)\n",
        "# kfolds = StratifiedKFold(n_splits=4, shuffle=True, random_state=1)\n",
        "\n",
        "# pipeline_svm = make_pipeline(vectorizer, \n",
        "#                             SVC(kernel=\"linear\"))\n",
        "\n",
        "# clf = GridSearchCV(pipeline_svm,\n",
        "#                     param_grid = {'svc__C': [0.01, 0.1, 1]}, \n",
        "#                     cv = kfolds,\n",
        "#                     n_jobs=-1) \n",
        "\n",
        "# clf.fit(X_train, y_train)\n",
        "# y_pred = clf.predict(X_test)\n",
        "\n",
        "# from sklearn.metrics import classification_report\n",
        "\n",
        "# result = classification_report(y_test, y_pred, output_dict=True)\n",
        "\n",
        "# print('accuracy: ', result['accuracy'])\n",
        "# print('macro avg: ', result['macro avg'])\n",
        "# print('positive: ', result['positive'])\n",
        "# print('negative: ', result['negative'])\n",
        "# print('neutral ', result['neutral'])"
      ],
      "metadata": {
        "id": "og7Uf14GUl5n"
      },
      "execution_count": 92,
      "outputs": []
    },
    {
      "cell_type": "code",
      "source": [
        ""
      ],
      "metadata": {
        "colab": {
          "base_uri": "https://localhost:8080/"
        },
        "id": "XnNRSYJ9bVD2",
        "outputId": "f8ac76f2-b31a-467e-c3d4-fb457db7153b"
      },
      "execution_count": 106,
      "outputs": [
        {
          "output_type": "stream",
          "name": "stdout",
          "text": [
            "accuracy:  0.6866666666666666\n",
            "macro avg:  {'precision': 0.6364468864468864, 'recall': 0.6044614561468493, 'f1-score': 0.6152578808316513, 'support': 150}\n",
            "positive:  {'precision': 0.7307692307692307, 'recall': 0.5428571428571428, 'f1-score': 0.6229508196721311, 'support': 35}\n",
            "negative:  {'precision': 0.42857142857142855, 'recall': 0.46153846153846156, 'f1-score': 0.4444444444444445, 'support': 26}\n",
            "neutral  {'precision': 0.75, 'recall': 0.8089887640449438, 'f1-score': 0.7783783783783783, 'support': 89}\n"
          ]
        }
      ]
    },
    {
      "cell_type": "code",
      "source": [
        "import numpy as np\n",
        "import matplotlib.pyplot as plt\n",
        "from sklearn.datasets import load_digits\n",
        "from sklearn.model_selection import learning_curve\n",
        "\n",
        "\n",
        "def plot_learning_curve(\n",
        "    estimator,\n",
        "    title,\n",
        "    X,\n",
        "    y,\n",
        "    axes=None,\n",
        "    ylim=None,\n",
        "    cv=None,\n",
        "    n_jobs=None,\n",
        "    train_sizes=np.linspace(0.1, 1.0, 4),\n",
        "):\n",
        "    if axes is None:\n",
        "        _, (ax) = plt.subplots(1, 1, figsize=(20, 5))\n",
        "\n",
        "    ax.set_title(title)\n",
        "    if ylim is not None:\n",
        "        ax.set_ylim(*ylim)\n",
        "    ax.set_xlabel(\"Training examples\")\n",
        "    ax.set_ylabel(\"Score\")\n",
        "\n",
        "    train_sizes, train_scores, test_scores, fit_times, _ = learning_curve(\n",
        "        estimator,\n",
        "        X,\n",
        "        y,\n",
        "        cv=cv,\n",
        "        n_jobs=n_jobs,\n",
        "        train_sizes=train_sizes,\n",
        "        return_times=True,\n",
        "    )\n",
        "    train_scores_mean = np.mean(train_scores, axis=1)\n",
        "    train_scores_std = np.std(train_scores, axis=1)\n",
        "    test_scores_mean = np.mean(test_scores, axis=1)\n",
        "    test_scores_std = np.std(test_scores, axis=1)\n",
        "    fit_times_mean = np.mean(fit_times, axis=1)\n",
        "    fit_times_std = np.std(fit_times, axis=1)\n",
        "\n",
        "    # Plot learning curve\n",
        "    ax.grid()\n",
        "    ax.fill_between(\n",
        "        train_sizes,\n",
        "        train_scores_mean - train_scores_std,\n",
        "        train_scores_mean + train_scores_std,\n",
        "        alpha=0.1,\n",
        "        color=\"r\",\n",
        "    )\n",
        "    ax.fill_between(\n",
        "        train_sizes,\n",
        "        test_scores_mean - test_scores_std,\n",
        "        test_scores_mean + test_scores_std,\n",
        "        alpha=0.1,\n",
        "        color=\"g\",\n",
        "    )\n",
        "    ax.plot(\n",
        "        train_sizes, train_scores_mean, \"o-\", color=\"r\", label=\"Training score\"\n",
        "    )\n",
        "    ax.plot(\n",
        "        train_sizes, test_scores_mean, \"o-\", color=\"g\", label=\"Cross-validation score\"\n",
        "    )\n",
        "    ax.legend(loc=\"best\")\n",
        "    return plt\n",
        "\n",
        "\n",
        "plot_learning_curve(\n",
        "    clf, \"LC SVC\", X=df_text, y=df_sentiment,ylim=(0.3, 1.01), cv=kfolds, n_jobs=-1\n",
        ")\n",
        "\n",
        "plt.show()"
      ],
      "metadata": {
        "colab": {
          "base_uri": "https://localhost:8080/",
          "height": 350
        },
        "id": "wMZaf2rEYMlG",
        "outputId": "af43bc71-1be9-4a52-beaf-5e0c11d183da"
      },
      "execution_count": 157,
      "outputs": [
        {
          "output_type": "display_data",
          "data": {
            "text/plain": [
              "<Figure size 1440x360 with 1 Axes>"
            ],
            "image/png": "[encoded data removed]"
          },
          "metadata": {
            "needs_background": "light"
          }
        }
      ]
    }
  ]
}